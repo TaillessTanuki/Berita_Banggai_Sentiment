{
  "nbformat": 4,
  "nbformat_minor": 0,
  "metadata": {
    "colab": {
      "provenance": [],
      "collapsed_sections": [
        "LnldCt2zkih_",
        "vZVKauuAkyDI"
      ]
    },
    "kernelspec": {
      "name": "python3",
      "display_name": "Python 3"
    },
    "language_info": {
      "name": "python"
    }
  },
  "cells": [
    {
      "cell_type": "markdown",
      "metadata": {
        "id": "Wj172v-Yd1-_"
      },
      "source": [
        "# Libraries"
      ]
    },
    {
      "cell_type": "code",
      "execution_count": null,
      "metadata": {
        "colab": {
          "base_uri": "https://localhost:8080/"
        },
        "id": "MjWHRVR5ahdx",
        "outputId": "2039f2ac-0440-4744-c58a-652ce05fa4c8"
      },
      "outputs": [
        {
          "output_type": "stream",
          "name": "stdout",
          "text": [
            "Collecting Sastrawi\n",
            "  Downloading Sastrawi-1.0.1-py2.py3-none-any.whl (209 kB)\n",
            "\u001b[?25l     \u001b[90m━━━━━━━━━━━━━━━━━━━━━━━━━━━━━━━━━━━━━━━━\u001b[0m \u001b[32m0.0/209.7 kB\u001b[0m \u001b[31m?\u001b[0m eta \u001b[36m-:--:--\u001b[0m\r\u001b[2K     \u001b[91m━━━━━━━━━━━━━\u001b[0m\u001b[91m╸\u001b[0m\u001b[90m━━━━━━━━━━━━━━━━━━━━━━━━━━\u001b[0m \u001b[32m71.7/209.7 kB\u001b[0m \u001b[31m1.9 MB/s\u001b[0m eta \u001b[36m0:00:01\u001b[0m\r\u001b[2K     \u001b[90m━━━━━━━━━━━━━━━━━━━━━━━━━━━━━━━━━━━━━━━━\u001b[0m \u001b[32m209.7/209.7 kB\u001b[0m \u001b[31m2.9 MB/s\u001b[0m eta \u001b[36m0:00:00\u001b[0m\n",
            "\u001b[?25hInstalling collected packages: Sastrawi\n",
            "Successfully installed Sastrawi-1.0.1\n",
            "Collecting clean-text\n",
            "  Downloading clean_text-0.6.0-py3-none-any.whl (11 kB)\n",
            "Collecting emoji<2.0.0,>=1.0.0 (from clean-text)\n",
            "  Downloading emoji-1.7.0.tar.gz (175 kB)\n",
            "\u001b[2K     \u001b[90m━━━━━━━━━━━━━━━━━━━━━━━━━━━━━━━━━━━━━━━━\u001b[0m \u001b[32m175.4/175.4 kB\u001b[0m \u001b[31m1.5 MB/s\u001b[0m eta \u001b[36m0:00:00\u001b[0m\n",
            "\u001b[?25h  Preparing metadata (setup.py) ... \u001b[?25l\u001b[?25hdone\n",
            "Collecting ftfy<7.0,>=6.0 (from clean-text)\n",
            "  Downloading ftfy-6.2.0-py3-none-any.whl (54 kB)\n",
            "\u001b[2K     \u001b[90m━━━━━━━━━━━━━━━━━━━━━━━━━━━━━━━━━━━━━━━━\u001b[0m \u001b[32m54.4/54.4 kB\u001b[0m \u001b[31m2.0 MB/s\u001b[0m eta \u001b[36m0:00:00\u001b[0m\n",
            "\u001b[?25hRequirement already satisfied: wcwidth<0.3.0,>=0.2.12 in /usr/local/lib/python3.10/dist-packages (from ftfy<7.0,>=6.0->clean-text) (0.2.13)\n",
            "Building wheels for collected packages: emoji\n",
            "  Building wheel for emoji (setup.py) ... \u001b[?25l\u001b[?25hdone\n",
            "  Created wheel for emoji: filename=emoji-1.7.0-py3-none-any.whl size=171034 sha256=c00e8b9bc1e172385c62533c3dbc45d60d28b74c3c662d04ee5298183a638685\n",
            "  Stored in directory: /root/.cache/pip/wheels/31/8a/8c/315c9e5d7773f74b33d5ed33f075b49c6eaeb7cedbb86e2cf8\n",
            "Successfully built emoji\n",
            "Installing collected packages: emoji, ftfy, clean-text\n",
            "Successfully installed clean-text-0.6.0 emoji-1.7.0 ftfy-6.2.0\n",
            "Collecting deep-translator\n",
            "  Downloading deep_translator-1.11.4-py3-none-any.whl (42 kB)\n",
            "\u001b[2K     \u001b[90m━━━━━━━━━━━━━━━━━━━━━━━━━━━━━━━━━━━━━━━━\u001b[0m \u001b[32m42.3/42.3 kB\u001b[0m \u001b[31m1.6 MB/s\u001b[0m eta \u001b[36m0:00:00\u001b[0m\n",
            "\u001b[?25hRequirement already satisfied: beautifulsoup4<5.0.0,>=4.9.1 in /usr/local/lib/python3.10/dist-packages (from deep-translator) (4.12.3)\n",
            "Requirement already satisfied: requests<3.0.0,>=2.23.0 in /usr/local/lib/python3.10/dist-packages (from deep-translator) (2.31.0)\n",
            "Requirement already satisfied: soupsieve>1.2 in /usr/local/lib/python3.10/dist-packages (from beautifulsoup4<5.0.0,>=4.9.1->deep-translator) (2.5)\n",
            "Requirement already satisfied: charset-normalizer<4,>=2 in /usr/local/lib/python3.10/dist-packages (from requests<3.0.0,>=2.23.0->deep-translator) (3.3.2)\n",
            "Requirement already satisfied: idna<4,>=2.5 in /usr/local/lib/python3.10/dist-packages (from requests<3.0.0,>=2.23.0->deep-translator) (3.6)\n",
            "Requirement already satisfied: urllib3<3,>=1.21.1 in /usr/local/lib/python3.10/dist-packages (from requests<3.0.0,>=2.23.0->deep-translator) (2.0.7)\n",
            "Requirement already satisfied: certifi>=2017.4.17 in /usr/local/lib/python3.10/dist-packages (from requests<3.0.0,>=2.23.0->deep-translator) (2024.2.2)\n",
            "Installing collected packages: deep-translator\n",
            "Successfully installed deep-translator-1.11.4\n"
          ]
        }
      ],
      "source": [
        "!pip install Sastrawi\n",
        "!pip install clean-text\n",
        "!pip install deep-translator"
      ]
    },
    {
      "cell_type": "code",
      "execution_count": null,
      "metadata": {
        "colab": {
          "base_uri": "https://localhost:8080/"
        },
        "id": "6Nsz9j1DEJXD",
        "outputId": "cfce119c-319c-4a0f-930e-5d139aac8eb0"
      },
      "outputs": [
        {
          "output_type": "stream",
          "name": "stderr",
          "text": [
            "[nltk_data] Downloading package stopwords to /root/nltk_data...\n",
            "[nltk_data]   Unzipping corpora/stopwords.zip.\n",
            "[nltk_data] Downloading package wordnet to /root/nltk_data...\n",
            "[nltk_data] Downloading package punkt to /root/nltk_data...\n",
            "[nltk_data]   Unzipping tokenizers/punkt.zip.\n",
            "WARNING:root:Since the GPL-licensed package `unidecode` is not installed, using Python's `unicodedata` package which yields worse results.\n"
          ]
        }
      ],
      "source": [
        "import pandas as pd\n",
        "import numpy as np\n",
        "from nltk.corpus import stopwords\n",
        "import re\n",
        "import nltk\n",
        "nltk.download('stopwords')\n",
        "nltk.download('wordnet')\n",
        "nltk.download('punkt')\n",
        "from nltk.stem import PorterStemmer\n",
        "from nltk.stem import LancasterStemmer\n",
        "from nltk.tokenize import word_tokenize\n",
        "from Sastrawi.Stemmer.StemmerFactory import StemmerFactory\n",
        "from Sastrawi.StopWordRemover.StopWordRemoverFactory import StopWordRemoverFactory, StopWordRemover, ArrayDictionary\n",
        "from cleantext import clean\n",
        "from collections import Counter"
      ]
    },
    {
      "cell_type": "code",
      "source": [
        "import sklearn"
      ],
      "metadata": {
        "id": "fSui9eOPzRQ0"
      },
      "execution_count": null,
      "outputs": []
    },
    {
      "cell_type": "code",
      "execution_count": null,
      "metadata": {
        "id": "cKKzjVp3T644"
      },
      "outputs": [],
      "source": [
        "# !pip freeze > requirements.txt"
      ]
    },
    {
      "cell_type": "markdown",
      "metadata": {
        "id": "tCl5GW_rd6yk"
      },
      "source": [
        "# Get Data from ES and prepare DF"
      ]
    },
    {
      "cell_type": "code",
      "source": [
        "import requests\n",
        "import json"
      ],
      "metadata": {
        "id": "xO6kQ22cOqRq"
      },
      "execution_count": null,
      "outputs": []
    },
    {
      "cell_type": "code",
      "source": [
        "elasticsearch_url = 'https://es-1.datanusantara.com:9201'\n",
        "username = 'adminkibana'\n",
        "password = 'kibanaPASS!@#2019'\n",
        "index_endpoint = 'news-crawl-production-v2'"
      ],
      "metadata": {
        "id": "4pn24T_0gMva"
      },
      "execution_count": null,
      "outputs": []
    },
    {
      "cell_type": "code",
      "source": [
        "query = {\n",
        "  \"_source\": [\"target\", \"title\",\"description_content\"],\n",
        "  \"size\": 600,\n",
        "  \"query\": {\n",
        "    \"bool\": {\n",
        "      \"must\": [],\n",
        "      \"filter\": [\n",
        "        {\n",
        "          \"match_all\": {}\n",
        "        },\n",
        "        {\n",
        "          \"bool\": {\n",
        "            \"should\": [\n",
        "\n",
        "\n",
        "              {\n",
        "                \"match_phrase\": {\n",
        "                  \"target\": \"banggai\"\n",
        "                }\n",
        "              }\n",
        "            ],\n",
        "            \"minimum_should_match\": 1\n",
        "\n",
        "\n",
        "          }\n",
        "        }\n",
        "      ]\n",
        "    }\n",
        "  }\n",
        "}\n",
        "search_url = f\"{elasticsearch_url}/{index_endpoint}/_search\"\n",
        "response = requests.get(search_url, json=query, auth=(username, password))\n",
        "\n",
        "search_url"
      ],
      "metadata": {
        "id": "j4AoD9uyU15U",
        "colab": {
          "base_uri": "https://localhost:8080/",
          "height": 35
        },
        "outputId": "1e1d3ee6-0503-408f-8942-53054867c2e2"
      },
      "execution_count": null,
      "outputs": [
        {
          "output_type": "execute_result",
          "data": {
            "text/plain": [
              "'https://es-1.datanusantara.com:9201/news-crawl-production-v2/_search'"
            ],
            "application/vnd.google.colaboratory.intrinsic+json": {
              "type": "string"
            }
          },
          "metadata": {},
          "execution_count": 9
        }
      ]
    },
    {
      "cell_type": "code",
      "source": [
        "search_results = response.json()\n",
        "# print(json.dumps(search_results, indent=2))\n",
        "print(len(search_results['hits']['hits']))"
      ],
      "metadata": {
        "colab": {
          "base_uri": "https://localhost:8080/"
        },
        "id": "sypB3sgkhaeM",
        "outputId": "2578bbe3-5f3a-48a6-a72c-58b0aeaae4b0"
      },
      "execution_count": null,
      "outputs": [
        {
          "output_type": "stream",
          "name": "stdout",
          "text": [
            "600\n"
          ]
        }
      ]
    },
    {
      "cell_type": "code",
      "source": [
        "# Parse the response to extract relevant data\n",
        "search_results = response.json()\n",
        "\n",
        "# Process the data and create a DataFrame\n",
        "data = []\n",
        "for hit in search_results.get(\"hits\", {}).get(\"hits\", []):\n",
        "    target = hit[\"_source\"][\"target\"]\n",
        "    title = hit[\"_source\"][\"title\"]\n",
        "    text = hit[\"_source\"][\"description_content\"]\n",
        "\n",
        "    data.append({\"target\": target,  \"title\": title, \"text\": text})\n",
        "\n",
        "# Create a DataFrame\n",
        "df = pd.DataFrame(data)\n",
        "print(df.head())"
      ],
      "metadata": {
        "colab": {
          "base_uri": "https://localhost:8080/"
        },
        "id": "yL2c5GX7QryB",
        "outputId": "2ecced3e-bec4-4ccd-c53c-4b7990bd7c71"
      },
      "execution_count": null,
      "outputs": [
        {
          "output_type": "stream",
          "name": "stdout",
          "text": [
            "    target                                              title  \\\n",
            "0  banggai  Mobil Sim Keliling Polres Banggai Meriahkan Pa...   \n",
            "1  banggai  Film Horor “Piara Mayat”,  Kreativitas Anak Mu...   \n",
            "2  banggai  Festival Malabot Tumbe 2023 Kembali Meriahkan ...   \n",
            "3  banggai  Rakor Kampanye Damai Pemilu 2024, Polres Bangg...   \n",
            "4  banggai  Bawaslu Banggai Perkuat Koordinasi dengan Panw...   \n",
            "\n",
            "                                                text  \n",
            "0  KABAR LUWUK –  Suasana Pasar Murah bersubsidi ...  \n",
            "1  KABAR LUWUK  –  Film Horor“Piara Mayat”,Kreati...  \n",
            "2  KABAR LUWUK  –Festival Malabot Tumbe 2023Kemba...  \n",
            "3  “Kerja Cepat dan Terkoordinir dalam Penerbitan...  \n",
            "4  KABAR LUWUK  –Bawaslu BanggaiPerkuat Koordinas...  \n"
          ]
        }
      ]
    },
    {
      "cell_type": "code",
      "source": [
        "# Drop Unnamed column\n",
        "df.drop(df.columns[df.columns.str.contains(\n",
        "    'unnamed', case=False)], axis=1, inplace=True)"
      ],
      "metadata": {
        "id": "H4GhSEKLRE1b"
      },
      "execution_count": null,
      "outputs": []
    },
    {
      "cell_type": "code",
      "source": [
        "df.head()"
      ],
      "metadata": {
        "id": "OnK_8zLtrQHE",
        "colab": {
          "base_uri": "https://localhost:8080/",
          "height": 206
        },
        "outputId": "95e69809-ee60-4f45-e4bf-b5d6236c5cea"
      },
      "execution_count": null,
      "outputs": [
        {
          "output_type": "execute_result",
          "data": {
            "text/plain": [
              "    target                                              title  \\\n",
              "0  banggai  Mobil Sim Keliling Polres Banggai Meriahkan Pa...   \n",
              "1  banggai  Film Horor “Piara Mayat”,  Kreativitas Anak Mu...   \n",
              "2  banggai  Festival Malabot Tumbe 2023 Kembali Meriahkan ...   \n",
              "3  banggai  Rakor Kampanye Damai Pemilu 2024, Polres Bangg...   \n",
              "4  banggai  Bawaslu Banggai Perkuat Koordinasi dengan Panw...   \n",
              "\n",
              "                                                text  \n",
              "0  KABAR LUWUK –  Suasana Pasar Murah bersubsidi ...  \n",
              "1  KABAR LUWUK  –  Film Horor“Piara Mayat”,Kreati...  \n",
              "2  KABAR LUWUK  –Festival Malabot Tumbe 2023Kemba...  \n",
              "3  “Kerja Cepat dan Terkoordinir dalam Penerbitan...  \n",
              "4  KABAR LUWUK  –Bawaslu BanggaiPerkuat Koordinas...  "
            ],
            "text/html": [
              "\n",
              "  <div id=\"df-09dc0d54-0e81-4529-84dc-bee8554d4ab1\" class=\"colab-df-container\">\n",
              "    <div>\n",
              "<style scoped>\n",
              "    .dataframe tbody tr th:only-of-type {\n",
              "        vertical-align: middle;\n",
              "    }\n",
              "\n",
              "    .dataframe tbody tr th {\n",
              "        vertical-align: top;\n",
              "    }\n",
              "\n",
              "    .dataframe thead th {\n",
              "        text-align: right;\n",
              "    }\n",
              "</style>\n",
              "<table border=\"1\" class=\"dataframe\">\n",
              "  <thead>\n",
              "    <tr style=\"text-align: right;\">\n",
              "      <th></th>\n",
              "      <th>target</th>\n",
              "      <th>title</th>\n",
              "      <th>text</th>\n",
              "    </tr>\n",
              "  </thead>\n",
              "  <tbody>\n",
              "    <tr>\n",
              "      <th>0</th>\n",
              "      <td>banggai</td>\n",
              "      <td>Mobil Sim Keliling Polres Banggai Meriahkan Pa...</td>\n",
              "      <td>KABAR LUWUK –  Suasana Pasar Murah bersubsidi ...</td>\n",
              "    </tr>\n",
              "    <tr>\n",
              "      <th>1</th>\n",
              "      <td>banggai</td>\n",
              "      <td>Film Horor “Piara Mayat”,  Kreativitas Anak Mu...</td>\n",
              "      <td>KABAR LUWUK  –  Film Horor“Piara Mayat”,Kreati...</td>\n",
              "    </tr>\n",
              "    <tr>\n",
              "      <th>2</th>\n",
              "      <td>banggai</td>\n",
              "      <td>Festival Malabot Tumbe 2023 Kembali Meriahkan ...</td>\n",
              "      <td>KABAR LUWUK  –Festival Malabot Tumbe 2023Kemba...</td>\n",
              "    </tr>\n",
              "    <tr>\n",
              "      <th>3</th>\n",
              "      <td>banggai</td>\n",
              "      <td>Rakor Kampanye Damai Pemilu 2024, Polres Bangg...</td>\n",
              "      <td>“Kerja Cepat dan Terkoordinir dalam Penerbitan...</td>\n",
              "    </tr>\n",
              "    <tr>\n",
              "      <th>4</th>\n",
              "      <td>banggai</td>\n",
              "      <td>Bawaslu Banggai Perkuat Koordinasi dengan Panw...</td>\n",
              "      <td>KABAR LUWUK  –Bawaslu BanggaiPerkuat Koordinas...</td>\n",
              "    </tr>\n",
              "  </tbody>\n",
              "</table>\n",
              "</div>\n",
              "    <div class=\"colab-df-buttons\">\n",
              "\n",
              "  <div class=\"colab-df-container\">\n",
              "    <button class=\"colab-df-convert\" onclick=\"convertToInteractive('df-09dc0d54-0e81-4529-84dc-bee8554d4ab1')\"\n",
              "            title=\"Convert this dataframe to an interactive table.\"\n",
              "            style=\"display:none;\">\n",
              "\n",
              "  <svg xmlns=\"http://www.w3.org/2000/svg\" height=\"24px\" viewBox=\"0 -960 960 960\">\n",
              "    <path d=\"M120-120v-720h720v720H120Zm60-500h600v-160H180v160Zm220 220h160v-160H400v160Zm0 220h160v-160H400v160ZM180-400h160v-160H180v160Zm440 0h160v-160H620v160ZM180-180h160v-160H180v160Zm440 0h160v-160H620v160Z\"/>\n",
              "  </svg>\n",
              "    </button>\n",
              "\n",
              "  <style>\n",
              "    .colab-df-container {\n",
              "      display:flex;\n",
              "      gap: 12px;\n",
              "    }\n",
              "\n",
              "    .colab-df-convert {\n",
              "      background-color: #E8F0FE;\n",
              "      border: none;\n",
              "      border-radius: 50%;\n",
              "      cursor: pointer;\n",
              "      display: none;\n",
              "      fill: #1967D2;\n",
              "      height: 32px;\n",
              "      padding: 0 0 0 0;\n",
              "      width: 32px;\n",
              "    }\n",
              "\n",
              "    .colab-df-convert:hover {\n",
              "      background-color: #E2EBFA;\n",
              "      box-shadow: 0px 1px 2px rgba(60, 64, 67, 0.3), 0px 1px 3px 1px rgba(60, 64, 67, 0.15);\n",
              "      fill: #174EA6;\n",
              "    }\n",
              "\n",
              "    .colab-df-buttons div {\n",
              "      margin-bottom: 4px;\n",
              "    }\n",
              "\n",
              "    [theme=dark] .colab-df-convert {\n",
              "      background-color: #3B4455;\n",
              "      fill: #D2E3FC;\n",
              "    }\n",
              "\n",
              "    [theme=dark] .colab-df-convert:hover {\n",
              "      background-color: #434B5C;\n",
              "      box-shadow: 0px 1px 3px 1px rgba(0, 0, 0, 0.15);\n",
              "      filter: drop-shadow(0px 1px 2px rgba(0, 0, 0, 0.3));\n",
              "      fill: #FFFFFF;\n",
              "    }\n",
              "  </style>\n",
              "\n",
              "    <script>\n",
              "      const buttonEl =\n",
              "        document.querySelector('#df-09dc0d54-0e81-4529-84dc-bee8554d4ab1 button.colab-df-convert');\n",
              "      buttonEl.style.display =\n",
              "        google.colab.kernel.accessAllowed ? 'block' : 'none';\n",
              "\n",
              "      async function convertToInteractive(key) {\n",
              "        const element = document.querySelector('#df-09dc0d54-0e81-4529-84dc-bee8554d4ab1');\n",
              "        const dataTable =\n",
              "          await google.colab.kernel.invokeFunction('convertToInteractive',\n",
              "                                                    [key], {});\n",
              "        if (!dataTable) return;\n",
              "\n",
              "        const docLinkHtml = 'Like what you see? Visit the ' +\n",
              "          '<a target=\"_blank\" href=https://colab.research.google.com/notebooks/data_table.ipynb>data table notebook</a>'\n",
              "          + ' to learn more about interactive tables.';\n",
              "        element.innerHTML = '';\n",
              "        dataTable['output_type'] = 'display_data';\n",
              "        await google.colab.output.renderOutput(dataTable, element);\n",
              "        const docLink = document.createElement('div');\n",
              "        docLink.innerHTML = docLinkHtml;\n",
              "        element.appendChild(docLink);\n",
              "      }\n",
              "    </script>\n",
              "  </div>\n",
              "\n",
              "\n",
              "<div id=\"df-efa92950-3ec3-42c2-9aee-7e5dd895d357\">\n",
              "  <button class=\"colab-df-quickchart\" onclick=\"quickchart('df-efa92950-3ec3-42c2-9aee-7e5dd895d357')\"\n",
              "            title=\"Suggest charts\"\n",
              "            style=\"display:none;\">\n",
              "\n",
              "<svg xmlns=\"http://www.w3.org/2000/svg\" height=\"24px\"viewBox=\"0 0 24 24\"\n",
              "     width=\"24px\">\n",
              "    <g>\n",
              "        <path d=\"M19 3H5c-1.1 0-2 .9-2 2v14c0 1.1.9 2 2 2h14c1.1 0 2-.9 2-2V5c0-1.1-.9-2-2-2zM9 17H7v-7h2v7zm4 0h-2V7h2v10zm4 0h-2v-4h2v4z\"/>\n",
              "    </g>\n",
              "</svg>\n",
              "  </button>\n",
              "\n",
              "<style>\n",
              "  .colab-df-quickchart {\n",
              "      --bg-color: #E8F0FE;\n",
              "      --fill-color: #1967D2;\n",
              "      --hover-bg-color: #E2EBFA;\n",
              "      --hover-fill-color: #174EA6;\n",
              "      --disabled-fill-color: #AAA;\n",
              "      --disabled-bg-color: #DDD;\n",
              "  }\n",
              "\n",
              "  [theme=dark] .colab-df-quickchart {\n",
              "      --bg-color: #3B4455;\n",
              "      --fill-color: #D2E3FC;\n",
              "      --hover-bg-color: #434B5C;\n",
              "      --hover-fill-color: #FFFFFF;\n",
              "      --disabled-bg-color: #3B4455;\n",
              "      --disabled-fill-color: #666;\n",
              "  }\n",
              "\n",
              "  .colab-df-quickchart {\n",
              "    background-color: var(--bg-color);\n",
              "    border: none;\n",
              "    border-radius: 50%;\n",
              "    cursor: pointer;\n",
              "    display: none;\n",
              "    fill: var(--fill-color);\n",
              "    height: 32px;\n",
              "    padding: 0;\n",
              "    width: 32px;\n",
              "  }\n",
              "\n",
              "  .colab-df-quickchart:hover {\n",
              "    background-color: var(--hover-bg-color);\n",
              "    box-shadow: 0 1px 2px rgba(60, 64, 67, 0.3), 0 1px 3px 1px rgba(60, 64, 67, 0.15);\n",
              "    fill: var(--button-hover-fill-color);\n",
              "  }\n",
              "\n",
              "  .colab-df-quickchart-complete:disabled,\n",
              "  .colab-df-quickchart-complete:disabled:hover {\n",
              "    background-color: var(--disabled-bg-color);\n",
              "    fill: var(--disabled-fill-color);\n",
              "    box-shadow: none;\n",
              "  }\n",
              "\n",
              "  .colab-df-spinner {\n",
              "    border: 2px solid var(--fill-color);\n",
              "    border-color: transparent;\n",
              "    border-bottom-color: var(--fill-color);\n",
              "    animation:\n",
              "      spin 1s steps(1) infinite;\n",
              "  }\n",
              "\n",
              "  @keyframes spin {\n",
              "    0% {\n",
              "      border-color: transparent;\n",
              "      border-bottom-color: var(--fill-color);\n",
              "      border-left-color: var(--fill-color);\n",
              "    }\n",
              "    20% {\n",
              "      border-color: transparent;\n",
              "      border-left-color: var(--fill-color);\n",
              "      border-top-color: var(--fill-color);\n",
              "    }\n",
              "    30% {\n",
              "      border-color: transparent;\n",
              "      border-left-color: var(--fill-color);\n",
              "      border-top-color: var(--fill-color);\n",
              "      border-right-color: var(--fill-color);\n",
              "    }\n",
              "    40% {\n",
              "      border-color: transparent;\n",
              "      border-right-color: var(--fill-color);\n",
              "      border-top-color: var(--fill-color);\n",
              "    }\n",
              "    60% {\n",
              "      border-color: transparent;\n",
              "      border-right-color: var(--fill-color);\n",
              "    }\n",
              "    80% {\n",
              "      border-color: transparent;\n",
              "      border-right-color: var(--fill-color);\n",
              "      border-bottom-color: var(--fill-color);\n",
              "    }\n",
              "    90% {\n",
              "      border-color: transparent;\n",
              "      border-bottom-color: var(--fill-color);\n",
              "    }\n",
              "  }\n",
              "</style>\n",
              "\n",
              "  <script>\n",
              "    async function quickchart(key) {\n",
              "      const quickchartButtonEl =\n",
              "        document.querySelector('#' + key + ' button');\n",
              "      quickchartButtonEl.disabled = true;  // To prevent multiple clicks.\n",
              "      quickchartButtonEl.classList.add('colab-df-spinner');\n",
              "      try {\n",
              "        const charts = await google.colab.kernel.invokeFunction(\n",
              "            'suggestCharts', [key], {});\n",
              "      } catch (error) {\n",
              "        console.error('Error during call to suggestCharts:', error);\n",
              "      }\n",
              "      quickchartButtonEl.classList.remove('colab-df-spinner');\n",
              "      quickchartButtonEl.classList.add('colab-df-quickchart-complete');\n",
              "    }\n",
              "    (() => {\n",
              "      let quickchartButtonEl =\n",
              "        document.querySelector('#df-efa92950-3ec3-42c2-9aee-7e5dd895d357 button');\n",
              "      quickchartButtonEl.style.display =\n",
              "        google.colab.kernel.accessAllowed ? 'block' : 'none';\n",
              "    })();\n",
              "  </script>\n",
              "</div>\n",
              "    </div>\n",
              "  </div>\n"
            ],
            "application/vnd.google.colaboratory.intrinsic+json": {
              "type": "dataframe",
              "variable_name": "df",
              "summary": "{\n  \"name\": \"df\",\n  \"rows\": 600,\n  \"fields\": [\n    {\n      \"column\": \"target\",\n      \"properties\": {\n        \"dtype\": \"category\",\n        \"num_unique_values\": 1,\n        \"samples\": [\n          \"banggai\"\n        ],\n        \"semantic_type\": \"\",\n        \"description\": \"\"\n      }\n    },\n    {\n      \"column\": \"title\",\n      \"properties\": {\n        \"dtype\": \"string\",\n        \"num_unique_values\": 586,\n        \"samples\": [\n          \"Desa Saiyong, Banggai Kepulauan, Gelar Musyawarah Desa untuk Penetapan Penerima BLT-DD Tahun 2024\"\n        ],\n        \"semantic_type\": \"\",\n        \"description\": \"\"\n      }\n    },\n    {\n      \"column\": \"text\",\n      \"properties\": {\n        \"dtype\": \"string\",\n        \"num_unique_values\": 584,\n        \"samples\": [\n          \"Gempa bumi berkekuatan 5,1 magnitudo mengguncang Kabupaten Banggai Kepulauan, Sulawesi Tengah, Minggu (7/1) petang. Getaran dirasakan pukul 17.38 WIB atau 18.38 Wita. Pusat gempa berada di 86 km barat daya Banggai Kepulauan. \\\"Kedalaman 10 km,\\\" tulis BMKG di akun X.\"\n        ],\n        \"semantic_type\": \"\",\n        \"description\": \"\"\n      }\n    }\n  ]\n}"
            }
          },
          "metadata": {},
          "execution_count": 13
        }
      ]
    },
    {
      "cell_type": "markdown",
      "metadata": {
        "id": "gUEtMZPwYsWm"
      },
      "source": [
        "# Preprocessing"
      ]
    },
    {
      "cell_type": "markdown",
      "metadata": {
        "id": "1zxQ2fH4cJsF"
      },
      "source": [
        "## Delete Duplicates"
      ]
    },
    {
      "cell_type": "code",
      "execution_count": null,
      "metadata": {
        "colab": {
          "base_uri": "https://localhost:8080/"
        },
        "id": "QTIzTCJ-cZpF",
        "outputId": "c7b43064-c5c0-47b5-c9df-7ed13582c25e"
      },
      "outputs": [
        {
          "output_type": "execute_result",
          "data": {
            "text/plain": [
              "14"
            ]
          },
          "metadata": {},
          "execution_count": 14
        }
      ],
      "source": [
        "df.duplicated(subset='title').sum()\n"
      ]
    },
    {
      "cell_type": "code",
      "execution_count": null,
      "metadata": {
        "id": "rDSvUPZIcMrK"
      },
      "outputs": [],
      "source": [
        "df = df.drop_duplicates(subset='title')"
      ]
    },
    {
      "cell_type": "markdown",
      "source": [
        "## Deleting Blank (Nan) Rows"
      ],
      "metadata": {
        "id": "TlS01RHyg-xi"
      }
    },
    {
      "cell_type": "code",
      "source": [
        "df = df[df['text'] != '']"
      ],
      "metadata": {
        "id": "HqXzRDTAhCaE"
      },
      "execution_count": null,
      "outputs": []
    },
    {
      "cell_type": "code",
      "source": [
        "len(df)"
      ],
      "metadata": {
        "colab": {
          "base_uri": "https://localhost:8080/"
        },
        "id": "TnBM1DrUh2dv",
        "outputId": "a216eddd-996b-4fa4-aa39-50fc7160ee64"
      },
      "execution_count": null,
      "outputs": [
        {
          "output_type": "execute_result",
          "data": {
            "text/plain": [
              "579"
            ]
          },
          "metadata": {},
          "execution_count": 17
        }
      ]
    },
    {
      "cell_type": "code",
      "source": [
        "#row_index = 127  # Index of the row you want to print (Python indexing starts from 0)\n",
        "#columns_to_print = ['title', 'text']  # List of column names to display\n",
        "\n",
        "# Use .loc[] to select the row by its index and specify the columns to display\n",
        "#row_data = df.loc[row_index, columns_to_print]\n",
        "\n",
        "#print(row_data)"
      ],
      "metadata": {
        "id": "FJAQFjrWhGj9"
      },
      "execution_count": null,
      "outputs": []
    },
    {
      "cell_type": "markdown",
      "metadata": {
        "id": "LJL-neuHd-ab"
      },
      "source": [
        "## Case Folding"
      ]
    },
    {
      "cell_type": "code",
      "execution_count": null,
      "metadata": {
        "id": "os3Yx3F1cC3Z"
      },
      "outputs": [],
      "source": [
        "def clean_lower(lwr):\n",
        "    lwr = lwr.lower() # lowercase text\n",
        "    return lwr"
      ]
    },
    {
      "cell_type": "code",
      "execution_count": null,
      "metadata": {
        "id": "MMU-H_NhdZHO"
      },
      "outputs": [],
      "source": [
        "# Buat kolom tambahan untuk data ulasan yang telah dicasefolding\n",
        "df['lwr'] = df['text'].apply(clean_lower)\n",
        "df['lwr']"
      ]
    },
    {
      "cell_type": "code",
      "source": [
        "df.head()"
      ],
      "metadata": {
        "id": "GDN_GKCQ09vH"
      },
      "execution_count": null,
      "outputs": []
    },
    {
      "cell_type": "code",
      "execution_count": null,
      "metadata": {
        "id": "LHYbHbrvomiW"
      },
      "outputs": [],
      "source": [
        "print(df['text'][30])\n",
        "print(\"_______________________________________________________________________________________________________________\")\n",
        "print(df['lwr'][30])"
      ]
    },
    {
      "cell_type": "markdown",
      "metadata": {
        "id": "skf-zcc5Ksrz"
      },
      "source": [
        "## Cleansing"
      ]
    },
    {
      "cell_type": "markdown",
      "metadata": {
        "id": "uqDcm6qIhpfo"
      },
      "source": [
        "### Remove Numbers"
      ]
    },
    {
      "cell_type": "code",
      "execution_count": null,
      "metadata": {
        "id": "BqdF07FkhrBN"
      },
      "outputs": [],
      "source": [
        "def remove_numbers(text):\n",
        "  text = re.sub('[0-9]+', '', text)\n",
        "  return text"
      ]
    },
    {
      "cell_type": "code",
      "execution_count": null,
      "metadata": {
        "colab": {
          "base_uri": "https://localhost:8080/"
        },
        "id": "g4JATB7_hrEu",
        "outputId": "00494895-fc90-4eae-e6ab-1e36e1b714f5"
      },
      "outputs": [
        {
          "output_type": "execute_result",
          "data": {
            "text/plain": [
              "0      kabar luwuk –  suasana pasar murah bersubsidi ...\n",
              "1      kabar luwuk  –  film horor“piara mayat”,kreati...\n",
              "2      kabar luwuk  –festival malabot tumbe kembali m...\n",
              "3      “kerja cepat dan terkoordinir dalam penerbitan...\n",
              "4      kabar luwuk  –bawaslu banggaiperkuat koordinas...\n",
              "                             ...                        \n",
              "594    banggai raya-satu gudang bahan aluminium di ja...\n",
              "595    laporan wartawan tribunpalu.com, asnawi zikri ...\n",
              "596    banggai raya-lebih  pebulutangkis dari kabupat...\n",
              "598    laporan wartawan tribunpalu.com, asnawi zikri ...\n",
              "599    laporan wartawan tribunpalu.com, asnawi zikri ...\n",
              "Name: clean_number, Length: 579, dtype: object"
            ]
          },
          "metadata": {},
          "execution_count": 23
        }
      ],
      "source": [
        "df['clean_number'] = df['lwr'].apply(remove_numbers)\n",
        "df['clean_number']"
      ]
    },
    {
      "cell_type": "code",
      "source": [
        "df.tail()"
      ],
      "metadata": {
        "id": "P7VjjWul1IIO",
        "colab": {
          "base_uri": "https://localhost:8080/",
          "height": 293
        },
        "outputId": "1ae3ec92-fcb1-4643-e12d-3791f532ff0f"
      },
      "execution_count": null,
      "outputs": [
        {
          "output_type": "execute_result",
          "data": {
            "text/plain": [
              "      target                                              title  \\\n",
              "594  banggai  Gudang Alumunium Kompleks Pertokoan Luwuk Terb...   \n",
              "595  banggai  583 Peserta Ramaikan Turnamen Badminton di Ban...   \n",
              "596  banggai  Lebih 500 Pebulutangkis Berlaga di Open Turnam...   \n",
              "598  banggai  Demi Penuhi Kehidupan Sehari-hari, Pria di Ban...   \n",
              "599  banggai  Gudang Aluminium di Pertokoan Luwuk Banggai Te...   \n",
              "\n",
              "                                                  text  \\\n",
              "594  BANGGAI RAYA-Satu gudang bahan aluminium di Ja...   \n",
              "595  Laporan Wartawan TribunPalu.com, Asnawi Zikri ...   \n",
              "596  BANGGAI RAYA-Lebih 500 pebulutangkis dari kabu...   \n",
              "598  Laporan Wartawan TribunPalu.com, Asnawi Zikri ...   \n",
              "599  Laporan Wartawan TribunPalu.com, Asnawi Zikri ...   \n",
              "\n",
              "                                                   lwr  \\\n",
              "594  banggai raya-satu gudang bahan aluminium di ja...   \n",
              "595  laporan wartawan tribunpalu.com, asnawi zikri ...   \n",
              "596  banggai raya-lebih 500 pebulutangkis dari kabu...   \n",
              "598  laporan wartawan tribunpalu.com, asnawi zikri ...   \n",
              "599  laporan wartawan tribunpalu.com, asnawi zikri ...   \n",
              "\n",
              "                                          clean_number  \n",
              "594  banggai raya-satu gudang bahan aluminium di ja...  \n",
              "595  laporan wartawan tribunpalu.com, asnawi zikri ...  \n",
              "596  banggai raya-lebih  pebulutangkis dari kabupat...  \n",
              "598  laporan wartawan tribunpalu.com, asnawi zikri ...  \n",
              "599  laporan wartawan tribunpalu.com, asnawi zikri ...  "
            ],
            "text/html": [
              "\n",
              "  <div id=\"df-6e996fb7-59e2-4b9f-ac45-ad5b87b7ac19\" class=\"colab-df-container\">\n",
              "    <div>\n",
              "<style scoped>\n",
              "    .dataframe tbody tr th:only-of-type {\n",
              "        vertical-align: middle;\n",
              "    }\n",
              "\n",
              "    .dataframe tbody tr th {\n",
              "        vertical-align: top;\n",
              "    }\n",
              "\n",
              "    .dataframe thead th {\n",
              "        text-align: right;\n",
              "    }\n",
              "</style>\n",
              "<table border=\"1\" class=\"dataframe\">\n",
              "  <thead>\n",
              "    <tr style=\"text-align: right;\">\n",
              "      <th></th>\n",
              "      <th>target</th>\n",
              "      <th>title</th>\n",
              "      <th>text</th>\n",
              "      <th>lwr</th>\n",
              "      <th>clean_number</th>\n",
              "    </tr>\n",
              "  </thead>\n",
              "  <tbody>\n",
              "    <tr>\n",
              "      <th>594</th>\n",
              "      <td>banggai</td>\n",
              "      <td>Gudang Alumunium Kompleks Pertokoan Luwuk Terb...</td>\n",
              "      <td>BANGGAI RAYA-Satu gudang bahan aluminium di Ja...</td>\n",
              "      <td>banggai raya-satu gudang bahan aluminium di ja...</td>\n",
              "      <td>banggai raya-satu gudang bahan aluminium di ja...</td>\n",
              "    </tr>\n",
              "    <tr>\n",
              "      <th>595</th>\n",
              "      <td>banggai</td>\n",
              "      <td>583 Peserta Ramaikan Turnamen Badminton di Ban...</td>\n",
              "      <td>Laporan Wartawan TribunPalu.com, Asnawi Zikri ...</td>\n",
              "      <td>laporan wartawan tribunpalu.com, asnawi zikri ...</td>\n",
              "      <td>laporan wartawan tribunpalu.com, asnawi zikri ...</td>\n",
              "    </tr>\n",
              "    <tr>\n",
              "      <th>596</th>\n",
              "      <td>banggai</td>\n",
              "      <td>Lebih 500 Pebulutangkis Berlaga di Open Turnam...</td>\n",
              "      <td>BANGGAI RAYA-Lebih 500 pebulutangkis dari kabu...</td>\n",
              "      <td>banggai raya-lebih 500 pebulutangkis dari kabu...</td>\n",
              "      <td>banggai raya-lebih  pebulutangkis dari kabupat...</td>\n",
              "    </tr>\n",
              "    <tr>\n",
              "      <th>598</th>\n",
              "      <td>banggai</td>\n",
              "      <td>Demi Penuhi Kehidupan Sehari-hari, Pria di Ban...</td>\n",
              "      <td>Laporan Wartawan TribunPalu.com, Asnawi Zikri ...</td>\n",
              "      <td>laporan wartawan tribunpalu.com, asnawi zikri ...</td>\n",
              "      <td>laporan wartawan tribunpalu.com, asnawi zikri ...</td>\n",
              "    </tr>\n",
              "    <tr>\n",
              "      <th>599</th>\n",
              "      <td>banggai</td>\n",
              "      <td>Gudang Aluminium di Pertokoan Luwuk Banggai Te...</td>\n",
              "      <td>Laporan Wartawan TribunPalu.com, Asnawi Zikri ...</td>\n",
              "      <td>laporan wartawan tribunpalu.com, asnawi zikri ...</td>\n",
              "      <td>laporan wartawan tribunpalu.com, asnawi zikri ...</td>\n",
              "    </tr>\n",
              "  </tbody>\n",
              "</table>\n",
              "</div>\n",
              "    <div class=\"colab-df-buttons\">\n",
              "\n",
              "  <div class=\"colab-df-container\">\n",
              "    <button class=\"colab-df-convert\" onclick=\"convertToInteractive('df-6e996fb7-59e2-4b9f-ac45-ad5b87b7ac19')\"\n",
              "            title=\"Convert this dataframe to an interactive table.\"\n",
              "            style=\"display:none;\">\n",
              "\n",
              "  <svg xmlns=\"http://www.w3.org/2000/svg\" height=\"24px\" viewBox=\"0 -960 960 960\">\n",
              "    <path d=\"M120-120v-720h720v720H120Zm60-500h600v-160H180v160Zm220 220h160v-160H400v160Zm0 220h160v-160H400v160ZM180-400h160v-160H180v160Zm440 0h160v-160H620v160ZM180-180h160v-160H180v160Zm440 0h160v-160H620v160Z\"/>\n",
              "  </svg>\n",
              "    </button>\n",
              "\n",
              "  <style>\n",
              "    .colab-df-container {\n",
              "      display:flex;\n",
              "      gap: 12px;\n",
              "    }\n",
              "\n",
              "    .colab-df-convert {\n",
              "      background-color: #E8F0FE;\n",
              "      border: none;\n",
              "      border-radius: 50%;\n",
              "      cursor: pointer;\n",
              "      display: none;\n",
              "      fill: #1967D2;\n",
              "      height: 32px;\n",
              "      padding: 0 0 0 0;\n",
              "      width: 32px;\n",
              "    }\n",
              "\n",
              "    .colab-df-convert:hover {\n",
              "      background-color: #E2EBFA;\n",
              "      box-shadow: 0px 1px 2px rgba(60, 64, 67, 0.3), 0px 1px 3px 1px rgba(60, 64, 67, 0.15);\n",
              "      fill: #174EA6;\n",
              "    }\n",
              "\n",
              "    .colab-df-buttons div {\n",
              "      margin-bottom: 4px;\n",
              "    }\n",
              "\n",
              "    [theme=dark] .colab-df-convert {\n",
              "      background-color: #3B4455;\n",
              "      fill: #D2E3FC;\n",
              "    }\n",
              "\n",
              "    [theme=dark] .colab-df-convert:hover {\n",
              "      background-color: #434B5C;\n",
              "      box-shadow: 0px 1px 3px 1px rgba(0, 0, 0, 0.15);\n",
              "      filter: drop-shadow(0px 1px 2px rgba(0, 0, 0, 0.3));\n",
              "      fill: #FFFFFF;\n",
              "    }\n",
              "  </style>\n",
              "\n",
              "    <script>\n",
              "      const buttonEl =\n",
              "        document.querySelector('#df-6e996fb7-59e2-4b9f-ac45-ad5b87b7ac19 button.colab-df-convert');\n",
              "      buttonEl.style.display =\n",
              "        google.colab.kernel.accessAllowed ? 'block' : 'none';\n",
              "\n",
              "      async function convertToInteractive(key) {\n",
              "        const element = document.querySelector('#df-6e996fb7-59e2-4b9f-ac45-ad5b87b7ac19');\n",
              "        const dataTable =\n",
              "          await google.colab.kernel.invokeFunction('convertToInteractive',\n",
              "                                                    [key], {});\n",
              "        if (!dataTable) return;\n",
              "\n",
              "        const docLinkHtml = 'Like what you see? Visit the ' +\n",
              "          '<a target=\"_blank\" href=https://colab.research.google.com/notebooks/data_table.ipynb>data table notebook</a>'\n",
              "          + ' to learn more about interactive tables.';\n",
              "        element.innerHTML = '';\n",
              "        dataTable['output_type'] = 'display_data';\n",
              "        await google.colab.output.renderOutput(dataTable, element);\n",
              "        const docLink = document.createElement('div');\n",
              "        docLink.innerHTML = docLinkHtml;\n",
              "        element.appendChild(docLink);\n",
              "      }\n",
              "    </script>\n",
              "  </div>\n",
              "\n",
              "\n",
              "<div id=\"df-82c53996-47a8-4b0e-93d6-e5691725811d\">\n",
              "  <button class=\"colab-df-quickchart\" onclick=\"quickchart('df-82c53996-47a8-4b0e-93d6-e5691725811d')\"\n",
              "            title=\"Suggest charts\"\n",
              "            style=\"display:none;\">\n",
              "\n",
              "<svg xmlns=\"http://www.w3.org/2000/svg\" height=\"24px\"viewBox=\"0 0 24 24\"\n",
              "     width=\"24px\">\n",
              "    <g>\n",
              "        <path d=\"M19 3H5c-1.1 0-2 .9-2 2v14c0 1.1.9 2 2 2h14c1.1 0 2-.9 2-2V5c0-1.1-.9-2-2-2zM9 17H7v-7h2v7zm4 0h-2V7h2v10zm4 0h-2v-4h2v4z\"/>\n",
              "    </g>\n",
              "</svg>\n",
              "  </button>\n",
              "\n",
              "<style>\n",
              "  .colab-df-quickchart {\n",
              "      --bg-color: #E8F0FE;\n",
              "      --fill-color: #1967D2;\n",
              "      --hover-bg-color: #E2EBFA;\n",
              "      --hover-fill-color: #174EA6;\n",
              "      --disabled-fill-color: #AAA;\n",
              "      --disabled-bg-color: #DDD;\n",
              "  }\n",
              "\n",
              "  [theme=dark] .colab-df-quickchart {\n",
              "      --bg-color: #3B4455;\n",
              "      --fill-color: #D2E3FC;\n",
              "      --hover-bg-color: #434B5C;\n",
              "      --hover-fill-color: #FFFFFF;\n",
              "      --disabled-bg-color: #3B4455;\n",
              "      --disabled-fill-color: #666;\n",
              "  }\n",
              "\n",
              "  .colab-df-quickchart {\n",
              "    background-color: var(--bg-color);\n",
              "    border: none;\n",
              "    border-radius: 50%;\n",
              "    cursor: pointer;\n",
              "    display: none;\n",
              "    fill: var(--fill-color);\n",
              "    height: 32px;\n",
              "    padding: 0;\n",
              "    width: 32px;\n",
              "  }\n",
              "\n",
              "  .colab-df-quickchart:hover {\n",
              "    background-color: var(--hover-bg-color);\n",
              "    box-shadow: 0 1px 2px rgba(60, 64, 67, 0.3), 0 1px 3px 1px rgba(60, 64, 67, 0.15);\n",
              "    fill: var(--button-hover-fill-color);\n",
              "  }\n",
              "\n",
              "  .colab-df-quickchart-complete:disabled,\n",
              "  .colab-df-quickchart-complete:disabled:hover {\n",
              "    background-color: var(--disabled-bg-color);\n",
              "    fill: var(--disabled-fill-color);\n",
              "    box-shadow: none;\n",
              "  }\n",
              "\n",
              "  .colab-df-spinner {\n",
              "    border: 2px solid var(--fill-color);\n",
              "    border-color: transparent;\n",
              "    border-bottom-color: var(--fill-color);\n",
              "    animation:\n",
              "      spin 1s steps(1) infinite;\n",
              "  }\n",
              "\n",
              "  @keyframes spin {\n",
              "    0% {\n",
              "      border-color: transparent;\n",
              "      border-bottom-color: var(--fill-color);\n",
              "      border-left-color: var(--fill-color);\n",
              "    }\n",
              "    20% {\n",
              "      border-color: transparent;\n",
              "      border-left-color: var(--fill-color);\n",
              "      border-top-color: var(--fill-color);\n",
              "    }\n",
              "    30% {\n",
              "      border-color: transparent;\n",
              "      border-left-color: var(--fill-color);\n",
              "      border-top-color: var(--fill-color);\n",
              "      border-right-color: var(--fill-color);\n",
              "    }\n",
              "    40% {\n",
              "      border-color: transparent;\n",
              "      border-right-color: var(--fill-color);\n",
              "      border-top-color: var(--fill-color);\n",
              "    }\n",
              "    60% {\n",
              "      border-color: transparent;\n",
              "      border-right-color: var(--fill-color);\n",
              "    }\n",
              "    80% {\n",
              "      border-color: transparent;\n",
              "      border-right-color: var(--fill-color);\n",
              "      border-bottom-color: var(--fill-color);\n",
              "    }\n",
              "    90% {\n",
              "      border-color: transparent;\n",
              "      border-bottom-color: var(--fill-color);\n",
              "    }\n",
              "  }\n",
              "</style>\n",
              "\n",
              "  <script>\n",
              "    async function quickchart(key) {\n",
              "      const quickchartButtonEl =\n",
              "        document.querySelector('#' + key + ' button');\n",
              "      quickchartButtonEl.disabled = true;  // To prevent multiple clicks.\n",
              "      quickchartButtonEl.classList.add('colab-df-spinner');\n",
              "      try {\n",
              "        const charts = await google.colab.kernel.invokeFunction(\n",
              "            'suggestCharts', [key], {});\n",
              "      } catch (error) {\n",
              "        console.error('Error during call to suggestCharts:', error);\n",
              "      }\n",
              "      quickchartButtonEl.classList.remove('colab-df-spinner');\n",
              "      quickchartButtonEl.classList.add('colab-df-quickchart-complete');\n",
              "    }\n",
              "    (() => {\n",
              "      let quickchartButtonEl =\n",
              "        document.querySelector('#df-82c53996-47a8-4b0e-93d6-e5691725811d button');\n",
              "      quickchartButtonEl.style.display =\n",
              "        google.colab.kernel.accessAllowed ? 'block' : 'none';\n",
              "    })();\n",
              "  </script>\n",
              "</div>\n",
              "    </div>\n",
              "  </div>\n"
            ],
            "application/vnd.google.colaboratory.intrinsic+json": {
              "type": "dataframe",
              "summary": "{\n  \"name\": \"df\",\n  \"rows\": 5,\n  \"fields\": [\n    {\n      \"column\": \"target\",\n      \"properties\": {\n        \"dtype\": \"category\",\n        \"num_unique_values\": 1,\n        \"samples\": [\n          \"banggai\"\n        ],\n        \"semantic_type\": \"\",\n        \"description\": \"\"\n      }\n    },\n    {\n      \"column\": \"title\",\n      \"properties\": {\n        \"dtype\": \"string\",\n        \"num_unique_values\": 5,\n        \"samples\": [\n          \"583 Peserta Ramaikan Turnamen Badminton di Banggai, Perebutkan Hadiah Rp 40 Juta\"\n        ],\n        \"semantic_type\": \"\",\n        \"description\": \"\"\n      }\n    },\n    {\n      \"column\": \"text\",\n      \"properties\": {\n        \"dtype\": \"string\",\n        \"num_unique_values\": 5,\n        \"samples\": [\n          \"Laporan Wartawan TribunPalu.com, Asnawi Zikri TRIBUNPALU.COM, BANGGAI - Bupati Banggai, Amirudin, membuka acara Badminton Open Tournament Bupati Cup, di GOR Kilongan, Kecamatan Luwuk Utara, KabupatenBanggai , Sulawesi Tengah, Kamis (1/2/2024). Turnamen ini menjadi ajang yang dinantikan para pecinta bulu tangkis di KabupatenBanggai , serta menjadi wadah untuk menumbuhkan semangat kompetisi dan kebersamaan dalam olahraga. \\\"Pertama saya sangat bangga dengan antusias daripada atlet pada malam hari ini luar biasa kurang lebih 500 lebih peserta,\\\" tutur Bupati Amirudin. Karena antusiasme yang cukup besar, turnamen badminton ini direncanakan akan dilaksanakan setahun dua kali. \\\"Malam hari ini adalah putaran yang pertama, dan Insya Allah putaran keduanya kita laksanakan di bulan Juli,\\\" tandas Bupati Amirudin. Bupati Amirudin mengaku turnamen sangat penting karena sebagai ajang menyiapkan atlet muda KabupatenBanggai untuk bisa mewakili Sulawesi Tengah di ajang nasional. Sebab, turnamen kali ini tk hanya melibatkan atlet Banggai, tetapi juga diikuti atlet luar daerah \\\"Ini motivasi untuk kita semua melihat para atlet-atlet berprestasi sehingga ke depan adik-adik kita bisa mengikuti jejak mereka yang sebentar akan kita saksikan bersama,\\\" jelas Bupati Amirudin. Bupati Amirudin juga menyatakan junjung tinggi sportifitas, dan menjadikan turnamen ini tidak hanya sebagai ajang kompetisi, tetapi juga sebagai sarana memperkokoh persaudaraan di antara pecinta bulu tangkis KabupatenBanggai . Pada kesempatan yang sama, Ketua Panitia Badminton Open Tournament Bupati Cup, Ridwan T. Polopa menyampaikan adapun jumlah peserta berasal dari Kabupaten/Kota se Sulawesi Tengah sebanyak 583 peserta. \\\"Waktu pelaksanaan dimulai dari tanggal 1 sampai 4 Februari 2024,\\\" kata Ridwan Polopa. Para peserta akan memperebutkan hadiah sebesar Rp 40 juta. (*) \"\n        ],\n        \"semantic_type\": \"\",\n        \"description\": \"\"\n      }\n    },\n    {\n      \"column\": \"lwr\",\n      \"properties\": {\n        \"dtype\": \"string\",\n        \"num_unique_values\": 5,\n        \"samples\": [\n          \"laporan wartawan tribunpalu.com, asnawi zikri tribunpalu.com, banggai - bupati banggai, amirudin, membuka acara badminton open tournament bupati cup, di gor kilongan, kecamatan luwuk utara, kabupatenbanggai , sulawesi tengah, kamis (1/2/2024). turnamen ini menjadi ajang yang dinantikan para pecinta bulu tangkis di kabupatenbanggai , serta menjadi wadah untuk menumbuhkan semangat kompetisi dan kebersamaan dalam olahraga. \\\"pertama saya sangat bangga dengan antusias daripada atlet pada malam hari ini luar biasa kurang lebih 500 lebih peserta,\\\" tutur bupati amirudin. karena antusiasme yang cukup besar, turnamen badminton ini direncanakan akan dilaksanakan setahun dua kali. \\\"malam hari ini adalah putaran yang pertama, dan insya allah putaran keduanya kita laksanakan di bulan juli,\\\" tandas bupati amirudin. bupati amirudin mengaku turnamen sangat penting karena sebagai ajang menyiapkan atlet muda kabupatenbanggai untuk bisa mewakili sulawesi tengah di ajang nasional. sebab, turnamen kali ini tk hanya melibatkan atlet banggai, tetapi juga diikuti atlet luar daerah \\\"ini motivasi untuk kita semua melihat para atlet-atlet berprestasi sehingga ke depan adik-adik kita bisa mengikuti jejak mereka yang sebentar akan kita saksikan bersama,\\\" jelas bupati amirudin. bupati amirudin juga menyatakan junjung tinggi sportifitas, dan menjadikan turnamen ini tidak hanya sebagai ajang kompetisi, tetapi juga sebagai sarana memperkokoh persaudaraan di antara pecinta bulu tangkis kabupatenbanggai . pada kesempatan yang sama, ketua panitia badminton open tournament bupati cup, ridwan t. polopa menyampaikan adapun jumlah peserta berasal dari kabupaten/kota se sulawesi tengah sebanyak 583 peserta. \\\"waktu pelaksanaan dimulai dari tanggal 1 sampai 4 februari 2024,\\\" kata ridwan polopa. para peserta akan memperebutkan hadiah sebesar rp 40 juta. (*) \"\n        ],\n        \"semantic_type\": \"\",\n        \"description\": \"\"\n      }\n    },\n    {\n      \"column\": \"clean_number\",\n      \"properties\": {\n        \"dtype\": \"string\",\n        \"num_unique_values\": 5,\n        \"samples\": [\n          \"laporan wartawan tribunpalu.com, asnawi zikri tribunpalu.com, banggai - bupati banggai, amirudin, membuka acara badminton open tournament bupati cup, di gor kilongan, kecamatan luwuk utara, kabupatenbanggai , sulawesi tengah, kamis (//). turnamen ini menjadi ajang yang dinantikan para pecinta bulu tangkis di kabupatenbanggai , serta menjadi wadah untuk menumbuhkan semangat kompetisi dan kebersamaan dalam olahraga. \\\"pertama saya sangat bangga dengan antusias daripada atlet pada malam hari ini luar biasa kurang lebih  lebih peserta,\\\" tutur bupati amirudin. karena antusiasme yang cukup besar, turnamen badminton ini direncanakan akan dilaksanakan setahun dua kali. \\\"malam hari ini adalah putaran yang pertama, dan insya allah putaran keduanya kita laksanakan di bulan juli,\\\" tandas bupati amirudin. bupati amirudin mengaku turnamen sangat penting karena sebagai ajang menyiapkan atlet muda kabupatenbanggai untuk bisa mewakili sulawesi tengah di ajang nasional. sebab, turnamen kali ini tk hanya melibatkan atlet banggai, tetapi juga diikuti atlet luar daerah \\\"ini motivasi untuk kita semua melihat para atlet-atlet berprestasi sehingga ke depan adik-adik kita bisa mengikuti jejak mereka yang sebentar akan kita saksikan bersama,\\\" jelas bupati amirudin. bupati amirudin juga menyatakan junjung tinggi sportifitas, dan menjadikan turnamen ini tidak hanya sebagai ajang kompetisi, tetapi juga sebagai sarana memperkokoh persaudaraan di antara pecinta bulu tangkis kabupatenbanggai . pada kesempatan yang sama, ketua panitia badminton open tournament bupati cup, ridwan t. polopa menyampaikan adapun jumlah peserta berasal dari kabupaten/kota se sulawesi tengah sebanyak  peserta. \\\"waktu pelaksanaan dimulai dari tanggal  sampai  februari ,\\\" kata ridwan polopa. para peserta akan memperebutkan hadiah sebesar rp  juta. (*) \"\n        ],\n        \"semantic_type\": \"\",\n        \"description\": \"\"\n      }\n    }\n  ]\n}"
            }
          },
          "metadata": {},
          "execution_count": 24
        }
      ]
    },
    {
      "cell_type": "markdown",
      "metadata": {
        "id": "BgnmFGgbeM4o"
      },
      "source": [
        "### Remove Punctuation"
      ]
    },
    {
      "cell_type": "code",
      "execution_count": null,
      "metadata": {
        "id": "E17l7Edmdaf3"
      },
      "outputs": [],
      "source": [
        "#Remove Puncutuation\n",
        "clean_spcl = re.compile('[/(){}\\[\\]\\|@,;]')\n",
        "clean_symbol = re.compile('[^0-9a-z]')\n",
        "def clean_punct(text):\n",
        "    text = clean_spcl.sub('', text)\n",
        "    text = clean_symbol.sub(' ', text)\n",
        "    return text"
      ]
    },
    {
      "cell_type": "code",
      "execution_count": null,
      "metadata": {
        "colab": {
          "base_uri": "https://localhost:8080/"
        },
        "id": "8f1YgOnOeHJs",
        "outputId": "9d7491d2-8891-4c33-dc22-a900a270b65d"
      },
      "outputs": [
        {
          "output_type": "execute_result",
          "data": {
            "text/plain": [
              "0      kabar luwuk    suasana pasar murah bersubsidi ...\n",
              "1      kabar luwuk     film horor piara mayat kreativ...\n",
              "2      kabar luwuk   festival malabot tumbe kembali m...\n",
              "3       kerja cepat dan terkoordinir dalam penerbitan...\n",
              "4      kabar luwuk   bawaslu banggaiperkuat koordinas...\n",
              "                             ...                        \n",
              "594    banggai raya satu gudang bahan aluminium di ja...\n",
              "595    laporan wartawan tribunpalu com asnawi zikri t...\n",
              "596    banggai raya lebih  pebulutangkis dari kabupat...\n",
              "598    laporan wartawan tribunpalu com asnawi zikri t...\n",
              "599    laporan wartawan tribunpalu com asnawi zikri t...\n",
              "Name: clean_punct, Length: 579, dtype: object"
            ]
          },
          "metadata": {},
          "execution_count": 26
        }
      ],
      "source": [
        "# Buat kolom tambahan untuk data description yang telah diremovepunctuation\n",
        "df['clean_punct'] = df['clean_number'].apply(clean_punct)\n",
        "df['clean_punct']"
      ]
    },
    {
      "cell_type": "code",
      "source": [
        "df.head()\n"
      ],
      "metadata": {
        "id": "vMKcQy2K_Jbc",
        "colab": {
          "base_uri": "https://localhost:8080/",
          "height": 293
        },
        "outputId": "52da4c03-cf53-43a8-f75b-1c56ff33d891"
      },
      "execution_count": null,
      "outputs": [
        {
          "output_type": "execute_result",
          "data": {
            "text/plain": [
              "    target                                              title  \\\n",
              "0  banggai  Mobil Sim Keliling Polres Banggai Meriahkan Pa...   \n",
              "1  banggai  Film Horor “Piara Mayat”,  Kreativitas Anak Mu...   \n",
              "2  banggai  Festival Malabot Tumbe 2023 Kembali Meriahkan ...   \n",
              "3  banggai  Rakor Kampanye Damai Pemilu 2024, Polres Bangg...   \n",
              "4  banggai  Bawaslu Banggai Perkuat Koordinasi dengan Panw...   \n",
              "\n",
              "                                                text  \\\n",
              "0  KABAR LUWUK –  Suasana Pasar Murah bersubsidi ...   \n",
              "1  KABAR LUWUK  –  Film Horor“Piara Mayat”,Kreati...   \n",
              "2  KABAR LUWUK  –Festival Malabot Tumbe 2023Kemba...   \n",
              "3  “Kerja Cepat dan Terkoordinir dalam Penerbitan...   \n",
              "4  KABAR LUWUK  –Bawaslu BanggaiPerkuat Koordinas...   \n",
              "\n",
              "                                                 lwr  \\\n",
              "0  kabar luwuk –  suasana pasar murah bersubsidi ...   \n",
              "1  kabar luwuk  –  film horor“piara mayat”,kreati...   \n",
              "2  kabar luwuk  –festival malabot tumbe 2023kemba...   \n",
              "3  “kerja cepat dan terkoordinir dalam penerbitan...   \n",
              "4  kabar luwuk  –bawaslu banggaiperkuat koordinas...   \n",
              "\n",
              "                                        clean_number  \\\n",
              "0  kabar luwuk –  suasana pasar murah bersubsidi ...   \n",
              "1  kabar luwuk  –  film horor“piara mayat”,kreati...   \n",
              "2  kabar luwuk  –festival malabot tumbe kembali m...   \n",
              "3  “kerja cepat dan terkoordinir dalam penerbitan...   \n",
              "4  kabar luwuk  –bawaslu banggaiperkuat koordinas...   \n",
              "\n",
              "                                         clean_punct  \n",
              "0  kabar luwuk    suasana pasar murah bersubsidi ...  \n",
              "1  kabar luwuk     film horor piara mayat kreativ...  \n",
              "2  kabar luwuk   festival malabot tumbe kembali m...  \n",
              "3   kerja cepat dan terkoordinir dalam penerbitan...  \n",
              "4  kabar luwuk   bawaslu banggaiperkuat koordinas...  "
            ],
            "text/html": [
              "\n",
              "  <div id=\"df-c495f0fe-ff34-4852-905d-2b657fe2eaa4\" class=\"colab-df-container\">\n",
              "    <div>\n",
              "<style scoped>\n",
              "    .dataframe tbody tr th:only-of-type {\n",
              "        vertical-align: middle;\n",
              "    }\n",
              "\n",
              "    .dataframe tbody tr th {\n",
              "        vertical-align: top;\n",
              "    }\n",
              "\n",
              "    .dataframe thead th {\n",
              "        text-align: right;\n",
              "    }\n",
              "</style>\n",
              "<table border=\"1\" class=\"dataframe\">\n",
              "  <thead>\n",
              "    <tr style=\"text-align: right;\">\n",
              "      <th></th>\n",
              "      <th>target</th>\n",
              "      <th>title</th>\n",
              "      <th>text</th>\n",
              "      <th>lwr</th>\n",
              "      <th>clean_number</th>\n",
              "      <th>clean_punct</th>\n",
              "    </tr>\n",
              "  </thead>\n",
              "  <tbody>\n",
              "    <tr>\n",
              "      <th>0</th>\n",
              "      <td>banggai</td>\n",
              "      <td>Mobil Sim Keliling Polres Banggai Meriahkan Pa...</td>\n",
              "      <td>KABAR LUWUK –  Suasana Pasar Murah bersubsidi ...</td>\n",
              "      <td>kabar luwuk –  suasana pasar murah bersubsidi ...</td>\n",
              "      <td>kabar luwuk –  suasana pasar murah bersubsidi ...</td>\n",
              "      <td>kabar luwuk    suasana pasar murah bersubsidi ...</td>\n",
              "    </tr>\n",
              "    <tr>\n",
              "      <th>1</th>\n",
              "      <td>banggai</td>\n",
              "      <td>Film Horor “Piara Mayat”,  Kreativitas Anak Mu...</td>\n",
              "      <td>KABAR LUWUK  –  Film Horor“Piara Mayat”,Kreati...</td>\n",
              "      <td>kabar luwuk  –  film horor“piara mayat”,kreati...</td>\n",
              "      <td>kabar luwuk  –  film horor“piara mayat”,kreati...</td>\n",
              "      <td>kabar luwuk     film horor piara mayat kreativ...</td>\n",
              "    </tr>\n",
              "    <tr>\n",
              "      <th>2</th>\n",
              "      <td>banggai</td>\n",
              "      <td>Festival Malabot Tumbe 2023 Kembali Meriahkan ...</td>\n",
              "      <td>KABAR LUWUK  –Festival Malabot Tumbe 2023Kemba...</td>\n",
              "      <td>kabar luwuk  –festival malabot tumbe 2023kemba...</td>\n",
              "      <td>kabar luwuk  –festival malabot tumbe kembali m...</td>\n",
              "      <td>kabar luwuk   festival malabot tumbe kembali m...</td>\n",
              "    </tr>\n",
              "    <tr>\n",
              "      <th>3</th>\n",
              "      <td>banggai</td>\n",
              "      <td>Rakor Kampanye Damai Pemilu 2024, Polres Bangg...</td>\n",
              "      <td>“Kerja Cepat dan Terkoordinir dalam Penerbitan...</td>\n",
              "      <td>“kerja cepat dan terkoordinir dalam penerbitan...</td>\n",
              "      <td>“kerja cepat dan terkoordinir dalam penerbitan...</td>\n",
              "      <td>kerja cepat dan terkoordinir dalam penerbitan...</td>\n",
              "    </tr>\n",
              "    <tr>\n",
              "      <th>4</th>\n",
              "      <td>banggai</td>\n",
              "      <td>Bawaslu Banggai Perkuat Koordinasi dengan Panw...</td>\n",
              "      <td>KABAR LUWUK  –Bawaslu BanggaiPerkuat Koordinas...</td>\n",
              "      <td>kabar luwuk  –bawaslu banggaiperkuat koordinas...</td>\n",
              "      <td>kabar luwuk  –bawaslu banggaiperkuat koordinas...</td>\n",
              "      <td>kabar luwuk   bawaslu banggaiperkuat koordinas...</td>\n",
              "    </tr>\n",
              "  </tbody>\n",
              "</table>\n",
              "</div>\n",
              "    <div class=\"colab-df-buttons\">\n",
              "\n",
              "  <div class=\"colab-df-container\">\n",
              "    <button class=\"colab-df-convert\" onclick=\"convertToInteractive('df-c495f0fe-ff34-4852-905d-2b657fe2eaa4')\"\n",
              "            title=\"Convert this dataframe to an interactive table.\"\n",
              "            style=\"display:none;\">\n",
              "\n",
              "  <svg xmlns=\"http://www.w3.org/2000/svg\" height=\"24px\" viewBox=\"0 -960 960 960\">\n",
              "    <path d=\"M120-120v-720h720v720H120Zm60-500h600v-160H180v160Zm220 220h160v-160H400v160Zm0 220h160v-160H400v160ZM180-400h160v-160H180v160Zm440 0h160v-160H620v160ZM180-180h160v-160H180v160Zm440 0h160v-160H620v160Z\"/>\n",
              "  </svg>\n",
              "    </button>\n",
              "\n",
              "  <style>\n",
              "    .colab-df-container {\n",
              "      display:flex;\n",
              "      gap: 12px;\n",
              "    }\n",
              "\n",
              "    .colab-df-convert {\n",
              "      background-color: #E8F0FE;\n",
              "      border: none;\n",
              "      border-radius: 50%;\n",
              "      cursor: pointer;\n",
              "      display: none;\n",
              "      fill: #1967D2;\n",
              "      height: 32px;\n",
              "      padding: 0 0 0 0;\n",
              "      width: 32px;\n",
              "    }\n",
              "\n",
              "    .colab-df-convert:hover {\n",
              "      background-color: #E2EBFA;\n",
              "      box-shadow: 0px 1px 2px rgba(60, 64, 67, 0.3), 0px 1px 3px 1px rgba(60, 64, 67, 0.15);\n",
              "      fill: #174EA6;\n",
              "    }\n",
              "\n",
              "    .colab-df-buttons div {\n",
              "      margin-bottom: 4px;\n",
              "    }\n",
              "\n",
              "    [theme=dark] .colab-df-convert {\n",
              "      background-color: #3B4455;\n",
              "      fill: #D2E3FC;\n",
              "    }\n",
              "\n",
              "    [theme=dark] .colab-df-convert:hover {\n",
              "      background-color: #434B5C;\n",
              "      box-shadow: 0px 1px 3px 1px rgba(0, 0, 0, 0.15);\n",
              "      filter: drop-shadow(0px 1px 2px rgba(0, 0, 0, 0.3));\n",
              "      fill: #FFFFFF;\n",
              "    }\n",
              "  </style>\n",
              "\n",
              "    <script>\n",
              "      const buttonEl =\n",
              "        document.querySelector('#df-c495f0fe-ff34-4852-905d-2b657fe2eaa4 button.colab-df-convert');\n",
              "      buttonEl.style.display =\n",
              "        google.colab.kernel.accessAllowed ? 'block' : 'none';\n",
              "\n",
              "      async function convertToInteractive(key) {\n",
              "        const element = document.querySelector('#df-c495f0fe-ff34-4852-905d-2b657fe2eaa4');\n",
              "        const dataTable =\n",
              "          await google.colab.kernel.invokeFunction('convertToInteractive',\n",
              "                                                    [key], {});\n",
              "        if (!dataTable) return;\n",
              "\n",
              "        const docLinkHtml = 'Like what you see? Visit the ' +\n",
              "          '<a target=\"_blank\" href=https://colab.research.google.com/notebooks/data_table.ipynb>data table notebook</a>'\n",
              "          + ' to learn more about interactive tables.';\n",
              "        element.innerHTML = '';\n",
              "        dataTable['output_type'] = 'display_data';\n",
              "        await google.colab.output.renderOutput(dataTable, element);\n",
              "        const docLink = document.createElement('div');\n",
              "        docLink.innerHTML = docLinkHtml;\n",
              "        element.appendChild(docLink);\n",
              "      }\n",
              "    </script>\n",
              "  </div>\n",
              "\n",
              "\n",
              "<div id=\"df-256f6eb1-4d08-46ff-b408-b0b35a5015cd\">\n",
              "  <button class=\"colab-df-quickchart\" onclick=\"quickchart('df-256f6eb1-4d08-46ff-b408-b0b35a5015cd')\"\n",
              "            title=\"Suggest charts\"\n",
              "            style=\"display:none;\">\n",
              "\n",
              "<svg xmlns=\"http://www.w3.org/2000/svg\" height=\"24px\"viewBox=\"0 0 24 24\"\n",
              "     width=\"24px\">\n",
              "    <g>\n",
              "        <path d=\"M19 3H5c-1.1 0-2 .9-2 2v14c0 1.1.9 2 2 2h14c1.1 0 2-.9 2-2V5c0-1.1-.9-2-2-2zM9 17H7v-7h2v7zm4 0h-2V7h2v10zm4 0h-2v-4h2v4z\"/>\n",
              "    </g>\n",
              "</svg>\n",
              "  </button>\n",
              "\n",
              "<style>\n",
              "  .colab-df-quickchart {\n",
              "      --bg-color: #E8F0FE;\n",
              "      --fill-color: #1967D2;\n",
              "      --hover-bg-color: #E2EBFA;\n",
              "      --hover-fill-color: #174EA6;\n",
              "      --disabled-fill-color: #AAA;\n",
              "      --disabled-bg-color: #DDD;\n",
              "  }\n",
              "\n",
              "  [theme=dark] .colab-df-quickchart {\n",
              "      --bg-color: #3B4455;\n",
              "      --fill-color: #D2E3FC;\n",
              "      --hover-bg-color: #434B5C;\n",
              "      --hover-fill-color: #FFFFFF;\n",
              "      --disabled-bg-color: #3B4455;\n",
              "      --disabled-fill-color: #666;\n",
              "  }\n",
              "\n",
              "  .colab-df-quickchart {\n",
              "    background-color: var(--bg-color);\n",
              "    border: none;\n",
              "    border-radius: 50%;\n",
              "    cursor: pointer;\n",
              "    display: none;\n",
              "    fill: var(--fill-color);\n",
              "    height: 32px;\n",
              "    padding: 0;\n",
              "    width: 32px;\n",
              "  }\n",
              "\n",
              "  .colab-df-quickchart:hover {\n",
              "    background-color: var(--hover-bg-color);\n",
              "    box-shadow: 0 1px 2px rgba(60, 64, 67, 0.3), 0 1px 3px 1px rgba(60, 64, 67, 0.15);\n",
              "    fill: var(--button-hover-fill-color);\n",
              "  }\n",
              "\n",
              "  .colab-df-quickchart-complete:disabled,\n",
              "  .colab-df-quickchart-complete:disabled:hover {\n",
              "    background-color: var(--disabled-bg-color);\n",
              "    fill: var(--disabled-fill-color);\n",
              "    box-shadow: none;\n",
              "  }\n",
              "\n",
              "  .colab-df-spinner {\n",
              "    border: 2px solid var(--fill-color);\n",
              "    border-color: transparent;\n",
              "    border-bottom-color: var(--fill-color);\n",
              "    animation:\n",
              "      spin 1s steps(1) infinite;\n",
              "  }\n",
              "\n",
              "  @keyframes spin {\n",
              "    0% {\n",
              "      border-color: transparent;\n",
              "      border-bottom-color: var(--fill-color);\n",
              "      border-left-color: var(--fill-color);\n",
              "    }\n",
              "    20% {\n",
              "      border-color: transparent;\n",
              "      border-left-color: var(--fill-color);\n",
              "      border-top-color: var(--fill-color);\n",
              "    }\n",
              "    30% {\n",
              "      border-color: transparent;\n",
              "      border-left-color: var(--fill-color);\n",
              "      border-top-color: var(--fill-color);\n",
              "      border-right-color: var(--fill-color);\n",
              "    }\n",
              "    40% {\n",
              "      border-color: transparent;\n",
              "      border-right-color: var(--fill-color);\n",
              "      border-top-color: var(--fill-color);\n",
              "    }\n",
              "    60% {\n",
              "      border-color: transparent;\n",
              "      border-right-color: var(--fill-color);\n",
              "    }\n",
              "    80% {\n",
              "      border-color: transparent;\n",
              "      border-right-color: var(--fill-color);\n",
              "      border-bottom-color: var(--fill-color);\n",
              "    }\n",
              "    90% {\n",
              "      border-color: transparent;\n",
              "      border-bottom-color: var(--fill-color);\n",
              "    }\n",
              "  }\n",
              "</style>\n",
              "\n",
              "  <script>\n",
              "    async function quickchart(key) {\n",
              "      const quickchartButtonEl =\n",
              "        document.querySelector('#' + key + ' button');\n",
              "      quickchartButtonEl.disabled = true;  // To prevent multiple clicks.\n",
              "      quickchartButtonEl.classList.add('colab-df-spinner');\n",
              "      try {\n",
              "        const charts = await google.colab.kernel.invokeFunction(\n",
              "            'suggestCharts', [key], {});\n",
              "      } catch (error) {\n",
              "        console.error('Error during call to suggestCharts:', error);\n",
              "      }\n",
              "      quickchartButtonEl.classList.remove('colab-df-spinner');\n",
              "      quickchartButtonEl.classList.add('colab-df-quickchart-complete');\n",
              "    }\n",
              "    (() => {\n",
              "      let quickchartButtonEl =\n",
              "        document.querySelector('#df-256f6eb1-4d08-46ff-b408-b0b35a5015cd button');\n",
              "      quickchartButtonEl.style.display =\n",
              "        google.colab.kernel.accessAllowed ? 'block' : 'none';\n",
              "    })();\n",
              "  </script>\n",
              "</div>\n",
              "    </div>\n",
              "  </div>\n"
            ],
            "application/vnd.google.colaboratory.intrinsic+json": {
              "type": "dataframe",
              "variable_name": "df",
              "summary": "{\n  \"name\": \"df\",\n  \"rows\": 579,\n  \"fields\": [\n    {\n      \"column\": \"target\",\n      \"properties\": {\n        \"dtype\": \"category\",\n        \"num_unique_values\": 1,\n        \"samples\": [\n          \"banggai\"\n        ],\n        \"semantic_type\": \"\",\n        \"description\": \"\"\n      }\n    },\n    {\n      \"column\": \"title\",\n      \"properties\": {\n        \"dtype\": \"string\",\n        \"num_unique_values\": 579,\n        \"samples\": [\n          \"Kades Sayambongin di Banggai Sebut Tudingan Penyimpangan Mengada-ada\"\n        ],\n        \"semantic_type\": \"\",\n        \"description\": \"\"\n      }\n    },\n    {\n      \"column\": \"text\",\n      \"properties\": {\n        \"dtype\": \"string\",\n        \"num_unique_values\": 572,\n        \"samples\": [\n          \"Polresbanggai.com\\u2013kapolres banggaiAKBP Ade Nuramdani, SH, SIK, MM menerima surat dari Pengurus Persatuan Sepak Bola Seluruh Indonesia (PSSI) terkait izin salah satu anggotanya untuk jadi wasit pada kompetisi Piala Soeratin U-17 di Jawa Timur.Izin tersebut diberikan kepada Bripka Arfandi Abdullah, selaku personel yang bertugas di Bagian SDMpolres banggai.\\u201cBripka Arfandi ditunjuk jadi wasit Piala Soeratin U-17, yang di gelar di Kota Surabaya, 20 Januari hingga 3 Februari 2024,\\u201d kata Kasi Humas Polres Banggai IPTU Al Amin S. Muda dalam keterangannya, Minggu (21/1/2024).Pada pertandingan perdana kemarin Sabtu (20/1/2024) bertempat di lapangan TOR Surabaya, Ia sukses memimpin jalannya pertandingan yang mempertemukan Provinsi Jambi melawan Provinsi Sulawesi Utara.Olahraga sepakbola bukan hal baru bagi Bripka Arfandi. Ia sudah mengenal sepakbola semenjak kecil. Bagaimana tidak, dari lingkungan keluarga sampai orang-orang disekitarnya bergelut dengan olahraga ini.Diketahui Bripka Arfandi memulai karir sebagai wasit nasional PSSI berlisensi C1 pada tahun 2018 dan beberapa event penting sudah dipercayakan kepadanya.Pada tahun 2019 lalu, ia dipilih secara langsung oleh PSSI Pusat untuk bertugas sebagai wasit di Liga satu antara PSM Makassar versus Persebaya Surabaya di Biak Papua*Humas Polres Banggai \"\n        ],\n        \"semantic_type\": \"\",\n        \"description\": \"\"\n      }\n    },\n    {\n      \"column\": \"lwr\",\n      \"properties\": {\n        \"dtype\": \"string\",\n        \"num_unique_values\": 572,\n        \"samples\": [\n          \"polresbanggai.com\\u2013kapolres banggaiakbp ade nuramdani, sh, sik, mm menerima surat dari pengurus persatuan sepak bola seluruh indonesia (pssi) terkait izin salah satu anggotanya untuk jadi wasit pada kompetisi piala soeratin u-17 di jawa timur.izin tersebut diberikan kepada bripka arfandi abdullah, selaku personel yang bertugas di bagian sdmpolres banggai.\\u201cbripka arfandi ditunjuk jadi wasit piala soeratin u-17, yang di gelar di kota surabaya, 20 januari hingga 3 februari 2024,\\u201d kata kasi humas polres banggai iptu al amin s. muda dalam keterangannya, minggu (21/1/2024).pada pertandingan perdana kemarin sabtu (20/1/2024) bertempat di lapangan tor surabaya, ia sukses memimpin jalannya pertandingan yang mempertemukan provinsi jambi melawan provinsi sulawesi utara.olahraga sepakbola bukan hal baru bagi bripka arfandi. ia sudah mengenal sepakbola semenjak kecil. bagaimana tidak, dari lingkungan keluarga sampai orang-orang disekitarnya bergelut dengan olahraga ini.diketahui bripka arfandi memulai karir sebagai wasit nasional pssi berlisensi c1 pada tahun 2018 dan beberapa event penting sudah dipercayakan kepadanya.pada tahun 2019 lalu, ia dipilih secara langsung oleh pssi pusat untuk bertugas sebagai wasit di liga satu antara psm makassar versus persebaya surabaya di biak papua*humas polres banggai \"\n        ],\n        \"semantic_type\": \"\",\n        \"description\": \"\"\n      }\n    },\n    {\n      \"column\": \"clean_number\",\n      \"properties\": {\n        \"dtype\": \"string\",\n        \"num_unique_values\": 572,\n        \"samples\": [\n          \"polresbanggai.com\\u2013kapolres banggaiakbp ade nuramdani, sh, sik, mm menerima surat dari pengurus persatuan sepak bola seluruh indonesia (pssi) terkait izin salah satu anggotanya untuk jadi wasit pada kompetisi piala soeratin u- di jawa timur.izin tersebut diberikan kepada bripka arfandi abdullah, selaku personel yang bertugas di bagian sdmpolres banggai.\\u201cbripka arfandi ditunjuk jadi wasit piala soeratin u-, yang di gelar di kota surabaya,  januari hingga  februari ,\\u201d kata kasi humas polres banggai iptu al amin s. muda dalam keterangannya, minggu (//).pada pertandingan perdana kemarin sabtu (//) bertempat di lapangan tor surabaya, ia sukses memimpin jalannya pertandingan yang mempertemukan provinsi jambi melawan provinsi sulawesi utara.olahraga sepakbola bukan hal baru bagi bripka arfandi. ia sudah mengenal sepakbola semenjak kecil. bagaimana tidak, dari lingkungan keluarga sampai orang-orang disekitarnya bergelut dengan olahraga ini.diketahui bripka arfandi memulai karir sebagai wasit nasional pssi berlisensi c pada tahun  dan beberapa event penting sudah dipercayakan kepadanya.pada tahun  lalu, ia dipilih secara langsung oleh pssi pusat untuk bertugas sebagai wasit di liga satu antara psm makassar versus persebaya surabaya di biak papua*humas polres banggai \"\n        ],\n        \"semantic_type\": \"\",\n        \"description\": \"\"\n      }\n    },\n    {\n      \"column\": \"clean_punct\",\n      \"properties\": {\n        \"dtype\": \"string\",\n        \"num_unique_values\": 572,\n        \"samples\": [\n          \"polresbanggai com kapolres banggaiakbp ade nuramdani sh sik mm menerima surat dari pengurus persatuan sepak bola seluruh indonesia pssi terkait izin salah satu anggotanya untuk jadi wasit pada kompetisi piala soeratin u  di jawa timur izin tersebut diberikan kepada bripka arfandi abdullah selaku personel yang bertugas di bagian sdmpolres banggai  bripka arfandi ditunjuk jadi wasit piala soeratin u  yang di gelar di kota surabaya  januari hingga  februari   kata kasi humas polres banggai iptu al amin s  muda dalam keterangannya minggu  pada pertandingan perdana kemarin sabtu  bertempat di lapangan tor surabaya ia sukses memimpin jalannya pertandingan yang mempertemukan provinsi jambi melawan provinsi sulawesi utara olahraga sepakbola bukan hal baru bagi bripka arfandi  ia sudah mengenal sepakbola semenjak kecil  bagaimana tidak dari lingkungan keluarga sampai orang orang disekitarnya bergelut dengan olahraga ini diketahui bripka arfandi memulai karir sebagai wasit nasional pssi berlisensi c pada tahun  dan beberapa event penting sudah dipercayakan kepadanya pada tahun  lalu ia dipilih secara langsung oleh pssi pusat untuk bertugas sebagai wasit di liga satu antara psm makassar versus persebaya surabaya di biak papua humas polres banggai \"\n        ],\n        \"semantic_type\": \"\",\n        \"description\": \"\"\n      }\n    }\n  ]\n}"
            }
          },
          "metadata": {},
          "execution_count": 27
        }
      ]
    },
    {
      "cell_type": "markdown",
      "metadata": {
        "id": "P1RGdnrreR9V"
      },
      "source": [
        "### Delete whitespaces"
      ]
    },
    {
      "cell_type": "code",
      "execution_count": null,
      "metadata": {
        "id": "t9ZjE6MleJmC"
      },
      "outputs": [],
      "source": [
        "def normalize_whitespace(text):\n",
        "    corrected = str(text)\n",
        "    corrected = re.sub(r\"//t\",r\"\\t\", corrected)\n",
        "    corrected = re.sub(r\"( )\\1+\",r\"\\1\", corrected)\n",
        "    corrected = re.sub(r\"(\\n)\\1+\",r\"\\1\", corrected)\n",
        "    corrected = re.sub(r\"(\\r)\\1+\",r\"\\1\", corrected)\n",
        "    corrected = re.sub(r\"(\\t)\\1+\",r\"\\1\", corrected)\n",
        "    return corrected.strip(\" \")"
      ]
    },
    {
      "cell_type": "code",
      "execution_count": null,
      "metadata": {
        "colab": {
          "base_uri": "https://localhost:8080/"
        },
        "id": "1T8BVqeTeZGX",
        "outputId": "2f6ce43c-2255-4d51-96d9-a5c62c99e9eb"
      },
      "outputs": [
        {
          "output_type": "execute_result",
          "data": {
            "text/plain": [
              "0      kabar luwuk suasana pasar murah bersubsidi di ...\n",
              "1      kabar luwuk film horor piara mayat kreativitas...\n",
              "2      kabar luwuk festival malabot tumbe kembali mer...\n",
              "3      kerja cepat dan terkoordinir dalam penerbitan ...\n",
              "4      kabar luwuk bawaslu banggaiperkuat koordinasi ...\n",
              "                             ...                        \n",
              "594    banggai raya satu gudang bahan aluminium di ja...\n",
              "595    laporan wartawan tribunpalu com asnawi zikri t...\n",
              "596    banggai raya lebih pebulutangkis dari kabupate...\n",
              "598    laporan wartawan tribunpalu com asnawi zikri t...\n",
              "599    laporan wartawan tribunpalu com asnawi zikri t...\n",
              "Name: clean_double_ws, Length: 579, dtype: object"
            ]
          },
          "metadata": {},
          "execution_count": 29
        }
      ],
      "source": [
        "df['clean_double_ws'] = df['clean_punct'].apply(normalize_whitespace)\n",
        "df['clean_double_ws']"
      ]
    },
    {
      "cell_type": "code",
      "source": [
        "df.tail()"
      ],
      "metadata": {
        "id": "WS12mtvVBUnS",
        "colab": {
          "base_uri": "https://localhost:8080/",
          "height": 293
        },
        "outputId": "0e742a50-d5cb-43e4-a3d0-5bfe49875a6c"
      },
      "execution_count": null,
      "outputs": [
        {
          "output_type": "execute_result",
          "data": {
            "text/plain": [
              "      target                                              title  \\\n",
              "594  banggai  Gudang Alumunium Kompleks Pertokoan Luwuk Terb...   \n",
              "595  banggai  583 Peserta Ramaikan Turnamen Badminton di Ban...   \n",
              "596  banggai  Lebih 500 Pebulutangkis Berlaga di Open Turnam...   \n",
              "598  banggai  Demi Penuhi Kehidupan Sehari-hari, Pria di Ban...   \n",
              "599  banggai  Gudang Aluminium di Pertokoan Luwuk Banggai Te...   \n",
              "\n",
              "                                                  text  \\\n",
              "594  BANGGAI RAYA-Satu gudang bahan aluminium di Ja...   \n",
              "595  Laporan Wartawan TribunPalu.com, Asnawi Zikri ...   \n",
              "596  BANGGAI RAYA-Lebih 500 pebulutangkis dari kabu...   \n",
              "598  Laporan Wartawan TribunPalu.com, Asnawi Zikri ...   \n",
              "599  Laporan Wartawan TribunPalu.com, Asnawi Zikri ...   \n",
              "\n",
              "                                                   lwr  \\\n",
              "594  banggai raya-satu gudang bahan aluminium di ja...   \n",
              "595  laporan wartawan tribunpalu.com, asnawi zikri ...   \n",
              "596  banggai raya-lebih 500 pebulutangkis dari kabu...   \n",
              "598  laporan wartawan tribunpalu.com, asnawi zikri ...   \n",
              "599  laporan wartawan tribunpalu.com, asnawi zikri ...   \n",
              "\n",
              "                                          clean_number  \\\n",
              "594  banggai raya-satu gudang bahan aluminium di ja...   \n",
              "595  laporan wartawan tribunpalu.com, asnawi zikri ...   \n",
              "596  banggai raya-lebih  pebulutangkis dari kabupat...   \n",
              "598  laporan wartawan tribunpalu.com, asnawi zikri ...   \n",
              "599  laporan wartawan tribunpalu.com, asnawi zikri ...   \n",
              "\n",
              "                                           clean_punct  \\\n",
              "594  banggai raya satu gudang bahan aluminium di ja...   \n",
              "595  laporan wartawan tribunpalu com asnawi zikri t...   \n",
              "596  banggai raya lebih  pebulutangkis dari kabupat...   \n",
              "598  laporan wartawan tribunpalu com asnawi zikri t...   \n",
              "599  laporan wartawan tribunpalu com asnawi zikri t...   \n",
              "\n",
              "                                       clean_double_ws  \n",
              "594  banggai raya satu gudang bahan aluminium di ja...  \n",
              "595  laporan wartawan tribunpalu com asnawi zikri t...  \n",
              "596  banggai raya lebih pebulutangkis dari kabupate...  \n",
              "598  laporan wartawan tribunpalu com asnawi zikri t...  \n",
              "599  laporan wartawan tribunpalu com asnawi zikri t...  "
            ],
            "text/html": [
              "\n",
              "  <div id=\"df-6e1f7cfd-4622-4dfe-bc15-0eefc8168047\" class=\"colab-df-container\">\n",
              "    <div>\n",
              "<style scoped>\n",
              "    .dataframe tbody tr th:only-of-type {\n",
              "        vertical-align: middle;\n",
              "    }\n",
              "\n",
              "    .dataframe tbody tr th {\n",
              "        vertical-align: top;\n",
              "    }\n",
              "\n",
              "    .dataframe thead th {\n",
              "        text-align: right;\n",
              "    }\n",
              "</style>\n",
              "<table border=\"1\" class=\"dataframe\">\n",
              "  <thead>\n",
              "    <tr style=\"text-align: right;\">\n",
              "      <th></th>\n",
              "      <th>target</th>\n",
              "      <th>title</th>\n",
              "      <th>text</th>\n",
              "      <th>lwr</th>\n",
              "      <th>clean_number</th>\n",
              "      <th>clean_punct</th>\n",
              "      <th>clean_double_ws</th>\n",
              "    </tr>\n",
              "  </thead>\n",
              "  <tbody>\n",
              "    <tr>\n",
              "      <th>594</th>\n",
              "      <td>banggai</td>\n",
              "      <td>Gudang Alumunium Kompleks Pertokoan Luwuk Terb...</td>\n",
              "      <td>BANGGAI RAYA-Satu gudang bahan aluminium di Ja...</td>\n",
              "      <td>banggai raya-satu gudang bahan aluminium di ja...</td>\n",
              "      <td>banggai raya-satu gudang bahan aluminium di ja...</td>\n",
              "      <td>banggai raya satu gudang bahan aluminium di ja...</td>\n",
              "      <td>banggai raya satu gudang bahan aluminium di ja...</td>\n",
              "    </tr>\n",
              "    <tr>\n",
              "      <th>595</th>\n",
              "      <td>banggai</td>\n",
              "      <td>583 Peserta Ramaikan Turnamen Badminton di Ban...</td>\n",
              "      <td>Laporan Wartawan TribunPalu.com, Asnawi Zikri ...</td>\n",
              "      <td>laporan wartawan tribunpalu.com, asnawi zikri ...</td>\n",
              "      <td>laporan wartawan tribunpalu.com, asnawi zikri ...</td>\n",
              "      <td>laporan wartawan tribunpalu com asnawi zikri t...</td>\n",
              "      <td>laporan wartawan tribunpalu com asnawi zikri t...</td>\n",
              "    </tr>\n",
              "    <tr>\n",
              "      <th>596</th>\n",
              "      <td>banggai</td>\n",
              "      <td>Lebih 500 Pebulutangkis Berlaga di Open Turnam...</td>\n",
              "      <td>BANGGAI RAYA-Lebih 500 pebulutangkis dari kabu...</td>\n",
              "      <td>banggai raya-lebih 500 pebulutangkis dari kabu...</td>\n",
              "      <td>banggai raya-lebih  pebulutangkis dari kabupat...</td>\n",
              "      <td>banggai raya lebih  pebulutangkis dari kabupat...</td>\n",
              "      <td>banggai raya lebih pebulutangkis dari kabupate...</td>\n",
              "    </tr>\n",
              "    <tr>\n",
              "      <th>598</th>\n",
              "      <td>banggai</td>\n",
              "      <td>Demi Penuhi Kehidupan Sehari-hari, Pria di Ban...</td>\n",
              "      <td>Laporan Wartawan TribunPalu.com, Asnawi Zikri ...</td>\n",
              "      <td>laporan wartawan tribunpalu.com, asnawi zikri ...</td>\n",
              "      <td>laporan wartawan tribunpalu.com, asnawi zikri ...</td>\n",
              "      <td>laporan wartawan tribunpalu com asnawi zikri t...</td>\n",
              "      <td>laporan wartawan tribunpalu com asnawi zikri t...</td>\n",
              "    </tr>\n",
              "    <tr>\n",
              "      <th>599</th>\n",
              "      <td>banggai</td>\n",
              "      <td>Gudang Aluminium di Pertokoan Luwuk Banggai Te...</td>\n",
              "      <td>Laporan Wartawan TribunPalu.com, Asnawi Zikri ...</td>\n",
              "      <td>laporan wartawan tribunpalu.com, asnawi zikri ...</td>\n",
              "      <td>laporan wartawan tribunpalu.com, asnawi zikri ...</td>\n",
              "      <td>laporan wartawan tribunpalu com asnawi zikri t...</td>\n",
              "      <td>laporan wartawan tribunpalu com asnawi zikri t...</td>\n",
              "    </tr>\n",
              "  </tbody>\n",
              "</table>\n",
              "</div>\n",
              "    <div class=\"colab-df-buttons\">\n",
              "\n",
              "  <div class=\"colab-df-container\">\n",
              "    <button class=\"colab-df-convert\" onclick=\"convertToInteractive('df-6e1f7cfd-4622-4dfe-bc15-0eefc8168047')\"\n",
              "            title=\"Convert this dataframe to an interactive table.\"\n",
              "            style=\"display:none;\">\n",
              "\n",
              "  <svg xmlns=\"http://www.w3.org/2000/svg\" height=\"24px\" viewBox=\"0 -960 960 960\">\n",
              "    <path d=\"M120-120v-720h720v720H120Zm60-500h600v-160H180v160Zm220 220h160v-160H400v160Zm0 220h160v-160H400v160ZM180-400h160v-160H180v160Zm440 0h160v-160H620v160ZM180-180h160v-160H180v160Zm440 0h160v-160H620v160Z\"/>\n",
              "  </svg>\n",
              "    </button>\n",
              "\n",
              "  <style>\n",
              "    .colab-df-container {\n",
              "      display:flex;\n",
              "      gap: 12px;\n",
              "    }\n",
              "\n",
              "    .colab-df-convert {\n",
              "      background-color: #E8F0FE;\n",
              "      border: none;\n",
              "      border-radius: 50%;\n",
              "      cursor: pointer;\n",
              "      display: none;\n",
              "      fill: #1967D2;\n",
              "      height: 32px;\n",
              "      padding: 0 0 0 0;\n",
              "      width: 32px;\n",
              "    }\n",
              "\n",
              "    .colab-df-convert:hover {\n",
              "      background-color: #E2EBFA;\n",
              "      box-shadow: 0px 1px 2px rgba(60, 64, 67, 0.3), 0px 1px 3px 1px rgba(60, 64, 67, 0.15);\n",
              "      fill: #174EA6;\n",
              "    }\n",
              "\n",
              "    .colab-df-buttons div {\n",
              "      margin-bottom: 4px;\n",
              "    }\n",
              "\n",
              "    [theme=dark] .colab-df-convert {\n",
              "      background-color: #3B4455;\n",
              "      fill: #D2E3FC;\n",
              "    }\n",
              "\n",
              "    [theme=dark] .colab-df-convert:hover {\n",
              "      background-color: #434B5C;\n",
              "      box-shadow: 0px 1px 3px 1px rgba(0, 0, 0, 0.15);\n",
              "      filter: drop-shadow(0px 1px 2px rgba(0, 0, 0, 0.3));\n",
              "      fill: #FFFFFF;\n",
              "    }\n",
              "  </style>\n",
              "\n",
              "    <script>\n",
              "      const buttonEl =\n",
              "        document.querySelector('#df-6e1f7cfd-4622-4dfe-bc15-0eefc8168047 button.colab-df-convert');\n",
              "      buttonEl.style.display =\n",
              "        google.colab.kernel.accessAllowed ? 'block' : 'none';\n",
              "\n",
              "      async function convertToInteractive(key) {\n",
              "        const element = document.querySelector('#df-6e1f7cfd-4622-4dfe-bc15-0eefc8168047');\n",
              "        const dataTable =\n",
              "          await google.colab.kernel.invokeFunction('convertToInteractive',\n",
              "                                                    [key], {});\n",
              "        if (!dataTable) return;\n",
              "\n",
              "        const docLinkHtml = 'Like what you see? Visit the ' +\n",
              "          '<a target=\"_blank\" href=https://colab.research.google.com/notebooks/data_table.ipynb>data table notebook</a>'\n",
              "          + ' to learn more about interactive tables.';\n",
              "        element.innerHTML = '';\n",
              "        dataTable['output_type'] = 'display_data';\n",
              "        await google.colab.output.renderOutput(dataTable, element);\n",
              "        const docLink = document.createElement('div');\n",
              "        docLink.innerHTML = docLinkHtml;\n",
              "        element.appendChild(docLink);\n",
              "      }\n",
              "    </script>\n",
              "  </div>\n",
              "\n",
              "\n",
              "<div id=\"df-84d21827-3b50-41dd-8728-c768443e6ed1\">\n",
              "  <button class=\"colab-df-quickchart\" onclick=\"quickchart('df-84d21827-3b50-41dd-8728-c768443e6ed1')\"\n",
              "            title=\"Suggest charts\"\n",
              "            style=\"display:none;\">\n",
              "\n",
              "<svg xmlns=\"http://www.w3.org/2000/svg\" height=\"24px\"viewBox=\"0 0 24 24\"\n",
              "     width=\"24px\">\n",
              "    <g>\n",
              "        <path d=\"M19 3H5c-1.1 0-2 .9-2 2v14c0 1.1.9 2 2 2h14c1.1 0 2-.9 2-2V5c0-1.1-.9-2-2-2zM9 17H7v-7h2v7zm4 0h-2V7h2v10zm4 0h-2v-4h2v4z\"/>\n",
              "    </g>\n",
              "</svg>\n",
              "  </button>\n",
              "\n",
              "<style>\n",
              "  .colab-df-quickchart {\n",
              "      --bg-color: #E8F0FE;\n",
              "      --fill-color: #1967D2;\n",
              "      --hover-bg-color: #E2EBFA;\n",
              "      --hover-fill-color: #174EA6;\n",
              "      --disabled-fill-color: #AAA;\n",
              "      --disabled-bg-color: #DDD;\n",
              "  }\n",
              "\n",
              "  [theme=dark] .colab-df-quickchart {\n",
              "      --bg-color: #3B4455;\n",
              "      --fill-color: #D2E3FC;\n",
              "      --hover-bg-color: #434B5C;\n",
              "      --hover-fill-color: #FFFFFF;\n",
              "      --disabled-bg-color: #3B4455;\n",
              "      --disabled-fill-color: #666;\n",
              "  }\n",
              "\n",
              "  .colab-df-quickchart {\n",
              "    background-color: var(--bg-color);\n",
              "    border: none;\n",
              "    border-radius: 50%;\n",
              "    cursor: pointer;\n",
              "    display: none;\n",
              "    fill: var(--fill-color);\n",
              "    height: 32px;\n",
              "    padding: 0;\n",
              "    width: 32px;\n",
              "  }\n",
              "\n",
              "  .colab-df-quickchart:hover {\n",
              "    background-color: var(--hover-bg-color);\n",
              "    box-shadow: 0 1px 2px rgba(60, 64, 67, 0.3), 0 1px 3px 1px rgba(60, 64, 67, 0.15);\n",
              "    fill: var(--button-hover-fill-color);\n",
              "  }\n",
              "\n",
              "  .colab-df-quickchart-complete:disabled,\n",
              "  .colab-df-quickchart-complete:disabled:hover {\n",
              "    background-color: var(--disabled-bg-color);\n",
              "    fill: var(--disabled-fill-color);\n",
              "    box-shadow: none;\n",
              "  }\n",
              "\n",
              "  .colab-df-spinner {\n",
              "    border: 2px solid var(--fill-color);\n",
              "    border-color: transparent;\n",
              "    border-bottom-color: var(--fill-color);\n",
              "    animation:\n",
              "      spin 1s steps(1) infinite;\n",
              "  }\n",
              "\n",
              "  @keyframes spin {\n",
              "    0% {\n",
              "      border-color: transparent;\n",
              "      border-bottom-color: var(--fill-color);\n",
              "      border-left-color: var(--fill-color);\n",
              "    }\n",
              "    20% {\n",
              "      border-color: transparent;\n",
              "      border-left-color: var(--fill-color);\n",
              "      border-top-color: var(--fill-color);\n",
              "    }\n",
              "    30% {\n",
              "      border-color: transparent;\n",
              "      border-left-color: var(--fill-color);\n",
              "      border-top-color: var(--fill-color);\n",
              "      border-right-color: var(--fill-color);\n",
              "    }\n",
              "    40% {\n",
              "      border-color: transparent;\n",
              "      border-right-color: var(--fill-color);\n",
              "      border-top-color: var(--fill-color);\n",
              "    }\n",
              "    60% {\n",
              "      border-color: transparent;\n",
              "      border-right-color: var(--fill-color);\n",
              "    }\n",
              "    80% {\n",
              "      border-color: transparent;\n",
              "      border-right-color: var(--fill-color);\n",
              "      border-bottom-color: var(--fill-color);\n",
              "    }\n",
              "    90% {\n",
              "      border-color: transparent;\n",
              "      border-bottom-color: var(--fill-color);\n",
              "    }\n",
              "  }\n",
              "</style>\n",
              "\n",
              "  <script>\n",
              "    async function quickchart(key) {\n",
              "      const quickchartButtonEl =\n",
              "        document.querySelector('#' + key + ' button');\n",
              "      quickchartButtonEl.disabled = true;  // To prevent multiple clicks.\n",
              "      quickchartButtonEl.classList.add('colab-df-spinner');\n",
              "      try {\n",
              "        const charts = await google.colab.kernel.invokeFunction(\n",
              "            'suggestCharts', [key], {});\n",
              "      } catch (error) {\n",
              "        console.error('Error during call to suggestCharts:', error);\n",
              "      }\n",
              "      quickchartButtonEl.classList.remove('colab-df-spinner');\n",
              "      quickchartButtonEl.classList.add('colab-df-quickchart-complete');\n",
              "    }\n",
              "    (() => {\n",
              "      let quickchartButtonEl =\n",
              "        document.querySelector('#df-84d21827-3b50-41dd-8728-c768443e6ed1 button');\n",
              "      quickchartButtonEl.style.display =\n",
              "        google.colab.kernel.accessAllowed ? 'block' : 'none';\n",
              "    })();\n",
              "  </script>\n",
              "</div>\n",
              "    </div>\n",
              "  </div>\n"
            ],
            "application/vnd.google.colaboratory.intrinsic+json": {
              "type": "dataframe",
              "summary": "{\n  \"name\": \"df\",\n  \"rows\": 5,\n  \"fields\": [\n    {\n      \"column\": \"target\",\n      \"properties\": {\n        \"dtype\": \"category\",\n        \"num_unique_values\": 1,\n        \"samples\": [\n          \"banggai\"\n        ],\n        \"semantic_type\": \"\",\n        \"description\": \"\"\n      }\n    },\n    {\n      \"column\": \"title\",\n      \"properties\": {\n        \"dtype\": \"string\",\n        \"num_unique_values\": 5,\n        \"samples\": [\n          \"583 Peserta Ramaikan Turnamen Badminton di Banggai, Perebutkan Hadiah Rp 40 Juta\"\n        ],\n        \"semantic_type\": \"\",\n        \"description\": \"\"\n      }\n    },\n    {\n      \"column\": \"text\",\n      \"properties\": {\n        \"dtype\": \"string\",\n        \"num_unique_values\": 5,\n        \"samples\": [\n          \"Laporan Wartawan TribunPalu.com, Asnawi Zikri TRIBUNPALU.COM, BANGGAI - Bupati Banggai, Amirudin, membuka acara Badminton Open Tournament Bupati Cup, di GOR Kilongan, Kecamatan Luwuk Utara, KabupatenBanggai , Sulawesi Tengah, Kamis (1/2/2024). Turnamen ini menjadi ajang yang dinantikan para pecinta bulu tangkis di KabupatenBanggai , serta menjadi wadah untuk menumbuhkan semangat kompetisi dan kebersamaan dalam olahraga. \\\"Pertama saya sangat bangga dengan antusias daripada atlet pada malam hari ini luar biasa kurang lebih 500 lebih peserta,\\\" tutur Bupati Amirudin. Karena antusiasme yang cukup besar, turnamen badminton ini direncanakan akan dilaksanakan setahun dua kali. \\\"Malam hari ini adalah putaran yang pertama, dan Insya Allah putaran keduanya kita laksanakan di bulan Juli,\\\" tandas Bupati Amirudin. Bupati Amirudin mengaku turnamen sangat penting karena sebagai ajang menyiapkan atlet muda KabupatenBanggai untuk bisa mewakili Sulawesi Tengah di ajang nasional. Sebab, turnamen kali ini tk hanya melibatkan atlet Banggai, tetapi juga diikuti atlet luar daerah \\\"Ini motivasi untuk kita semua melihat para atlet-atlet berprestasi sehingga ke depan adik-adik kita bisa mengikuti jejak mereka yang sebentar akan kita saksikan bersama,\\\" jelas Bupati Amirudin. Bupati Amirudin juga menyatakan junjung tinggi sportifitas, dan menjadikan turnamen ini tidak hanya sebagai ajang kompetisi, tetapi juga sebagai sarana memperkokoh persaudaraan di antara pecinta bulu tangkis KabupatenBanggai . Pada kesempatan yang sama, Ketua Panitia Badminton Open Tournament Bupati Cup, Ridwan T. Polopa menyampaikan adapun jumlah peserta berasal dari Kabupaten/Kota se Sulawesi Tengah sebanyak 583 peserta. \\\"Waktu pelaksanaan dimulai dari tanggal 1 sampai 4 Februari 2024,\\\" kata Ridwan Polopa. Para peserta akan memperebutkan hadiah sebesar Rp 40 juta. (*) \"\n        ],\n        \"semantic_type\": \"\",\n        \"description\": \"\"\n      }\n    },\n    {\n      \"column\": \"lwr\",\n      \"properties\": {\n        \"dtype\": \"string\",\n        \"num_unique_values\": 5,\n        \"samples\": [\n          \"laporan wartawan tribunpalu.com, asnawi zikri tribunpalu.com, banggai - bupati banggai, amirudin, membuka acara badminton open tournament bupati cup, di gor kilongan, kecamatan luwuk utara, kabupatenbanggai , sulawesi tengah, kamis (1/2/2024). turnamen ini menjadi ajang yang dinantikan para pecinta bulu tangkis di kabupatenbanggai , serta menjadi wadah untuk menumbuhkan semangat kompetisi dan kebersamaan dalam olahraga. \\\"pertama saya sangat bangga dengan antusias daripada atlet pada malam hari ini luar biasa kurang lebih 500 lebih peserta,\\\" tutur bupati amirudin. karena antusiasme yang cukup besar, turnamen badminton ini direncanakan akan dilaksanakan setahun dua kali. \\\"malam hari ini adalah putaran yang pertama, dan insya allah putaran keduanya kita laksanakan di bulan juli,\\\" tandas bupati amirudin. bupati amirudin mengaku turnamen sangat penting karena sebagai ajang menyiapkan atlet muda kabupatenbanggai untuk bisa mewakili sulawesi tengah di ajang nasional. sebab, turnamen kali ini tk hanya melibatkan atlet banggai, tetapi juga diikuti atlet luar daerah \\\"ini motivasi untuk kita semua melihat para atlet-atlet berprestasi sehingga ke depan adik-adik kita bisa mengikuti jejak mereka yang sebentar akan kita saksikan bersama,\\\" jelas bupati amirudin. bupati amirudin juga menyatakan junjung tinggi sportifitas, dan menjadikan turnamen ini tidak hanya sebagai ajang kompetisi, tetapi juga sebagai sarana memperkokoh persaudaraan di antara pecinta bulu tangkis kabupatenbanggai . pada kesempatan yang sama, ketua panitia badminton open tournament bupati cup, ridwan t. polopa menyampaikan adapun jumlah peserta berasal dari kabupaten/kota se sulawesi tengah sebanyak 583 peserta. \\\"waktu pelaksanaan dimulai dari tanggal 1 sampai 4 februari 2024,\\\" kata ridwan polopa. para peserta akan memperebutkan hadiah sebesar rp 40 juta. (*) \"\n        ],\n        \"semantic_type\": \"\",\n        \"description\": \"\"\n      }\n    },\n    {\n      \"column\": \"clean_number\",\n      \"properties\": {\n        \"dtype\": \"string\",\n        \"num_unique_values\": 5,\n        \"samples\": [\n          \"laporan wartawan tribunpalu.com, asnawi zikri tribunpalu.com, banggai - bupati banggai, amirudin, membuka acara badminton open tournament bupati cup, di gor kilongan, kecamatan luwuk utara, kabupatenbanggai , sulawesi tengah, kamis (//). turnamen ini menjadi ajang yang dinantikan para pecinta bulu tangkis di kabupatenbanggai , serta menjadi wadah untuk menumbuhkan semangat kompetisi dan kebersamaan dalam olahraga. \\\"pertama saya sangat bangga dengan antusias daripada atlet pada malam hari ini luar biasa kurang lebih  lebih peserta,\\\" tutur bupati amirudin. karena antusiasme yang cukup besar, turnamen badminton ini direncanakan akan dilaksanakan setahun dua kali. \\\"malam hari ini adalah putaran yang pertama, dan insya allah putaran keduanya kita laksanakan di bulan juli,\\\" tandas bupati amirudin. bupati amirudin mengaku turnamen sangat penting karena sebagai ajang menyiapkan atlet muda kabupatenbanggai untuk bisa mewakili sulawesi tengah di ajang nasional. sebab, turnamen kali ini tk hanya melibatkan atlet banggai, tetapi juga diikuti atlet luar daerah \\\"ini motivasi untuk kita semua melihat para atlet-atlet berprestasi sehingga ke depan adik-adik kita bisa mengikuti jejak mereka yang sebentar akan kita saksikan bersama,\\\" jelas bupati amirudin. bupati amirudin juga menyatakan junjung tinggi sportifitas, dan menjadikan turnamen ini tidak hanya sebagai ajang kompetisi, tetapi juga sebagai sarana memperkokoh persaudaraan di antara pecinta bulu tangkis kabupatenbanggai . pada kesempatan yang sama, ketua panitia badminton open tournament bupati cup, ridwan t. polopa menyampaikan adapun jumlah peserta berasal dari kabupaten/kota se sulawesi tengah sebanyak  peserta. \\\"waktu pelaksanaan dimulai dari tanggal  sampai  februari ,\\\" kata ridwan polopa. para peserta akan memperebutkan hadiah sebesar rp  juta. (*) \"\n        ],\n        \"semantic_type\": \"\",\n        \"description\": \"\"\n      }\n    },\n    {\n      \"column\": \"clean_punct\",\n      \"properties\": {\n        \"dtype\": \"string\",\n        \"num_unique_values\": 5,\n        \"samples\": [\n          \"laporan wartawan tribunpalu com asnawi zikri tribunpalu com banggai   bupati banggai amirudin membuka acara badminton open tournament bupati cup di gor kilongan kecamatan luwuk utara kabupatenbanggai  sulawesi tengah kamis   turnamen ini menjadi ajang yang dinantikan para pecinta bulu tangkis di kabupatenbanggai  serta menjadi wadah untuk menumbuhkan semangat kompetisi dan kebersamaan dalam olahraga   pertama saya sangat bangga dengan antusias daripada atlet pada malam hari ini luar biasa kurang lebih  lebih peserta  tutur bupati amirudin  karena antusiasme yang cukup besar turnamen badminton ini direncanakan akan dilaksanakan setahun dua kali   malam hari ini adalah putaran yang pertama dan insya allah putaran keduanya kita laksanakan di bulan juli  tandas bupati amirudin  bupati amirudin mengaku turnamen sangat penting karena sebagai ajang menyiapkan atlet muda kabupatenbanggai untuk bisa mewakili sulawesi tengah di ajang nasional  sebab turnamen kali ini tk hanya melibatkan atlet banggai tetapi juga diikuti atlet luar daerah  ini motivasi untuk kita semua melihat para atlet atlet berprestasi sehingga ke depan adik adik kita bisa mengikuti jejak mereka yang sebentar akan kita saksikan bersama  jelas bupati amirudin  bupati amirudin juga menyatakan junjung tinggi sportifitas dan menjadikan turnamen ini tidak hanya sebagai ajang kompetisi tetapi juga sebagai sarana memperkokoh persaudaraan di antara pecinta bulu tangkis kabupatenbanggai   pada kesempatan yang sama ketua panitia badminton open tournament bupati cup ridwan t  polopa menyampaikan adapun jumlah peserta berasal dari kabupatenkota se sulawesi tengah sebanyak  peserta   waktu pelaksanaan dimulai dari tanggal  sampai  februari   kata ridwan polopa  para peserta akan memperebutkan hadiah sebesar rp  juta    \"\n        ],\n        \"semantic_type\": \"\",\n        \"description\": \"\"\n      }\n    },\n    {\n      \"column\": \"clean_double_ws\",\n      \"properties\": {\n        \"dtype\": \"string\",\n        \"num_unique_values\": 5,\n        \"samples\": [\n          \"laporan wartawan tribunpalu com asnawi zikri tribunpalu com banggai bupati banggai amirudin membuka acara badminton open tournament bupati cup di gor kilongan kecamatan luwuk utara kabupatenbanggai sulawesi tengah kamis turnamen ini menjadi ajang yang dinantikan para pecinta bulu tangkis di kabupatenbanggai serta menjadi wadah untuk menumbuhkan semangat kompetisi dan kebersamaan dalam olahraga pertama saya sangat bangga dengan antusias daripada atlet pada malam hari ini luar biasa kurang lebih lebih peserta tutur bupati amirudin karena antusiasme yang cukup besar turnamen badminton ini direncanakan akan dilaksanakan setahun dua kali malam hari ini adalah putaran yang pertama dan insya allah putaran keduanya kita laksanakan di bulan juli tandas bupati amirudin bupati amirudin mengaku turnamen sangat penting karena sebagai ajang menyiapkan atlet muda kabupatenbanggai untuk bisa mewakili sulawesi tengah di ajang nasional sebab turnamen kali ini tk hanya melibatkan atlet banggai tetapi juga diikuti atlet luar daerah ini motivasi untuk kita semua melihat para atlet atlet berprestasi sehingga ke depan adik adik kita bisa mengikuti jejak mereka yang sebentar akan kita saksikan bersama jelas bupati amirudin bupati amirudin juga menyatakan junjung tinggi sportifitas dan menjadikan turnamen ini tidak hanya sebagai ajang kompetisi tetapi juga sebagai sarana memperkokoh persaudaraan di antara pecinta bulu tangkis kabupatenbanggai pada kesempatan yang sama ketua panitia badminton open tournament bupati cup ridwan t polopa menyampaikan adapun jumlah peserta berasal dari kabupatenkota se sulawesi tengah sebanyak peserta waktu pelaksanaan dimulai dari tanggal sampai februari kata ridwan polopa para peserta akan memperebutkan hadiah sebesar rp juta\"\n        ],\n        \"semantic_type\": \"\",\n        \"description\": \"\"\n      }\n    }\n  ]\n}"
            }
          },
          "metadata": {},
          "execution_count": 30
        }
      ]
    },
    {
      "cell_type": "markdown",
      "metadata": {
        "id": "akyZhgQzeZ8I"
      },
      "source": [
        "## Stopword Removal"
      ]
    },
    {
      "cell_type": "markdown",
      "metadata": {
        "id": "K4wdQI-SitWH"
      },
      "source": [
        "### Get custom stopwords"
      ]
    },
    {
      "cell_type": "code",
      "source": [
        "url1 = 'https://raw.githubusercontent.com/TaillessTanuki/Berita_Banggai/main/ID-stopwords_banggai_addedwords.csv'\n",
        "df_stopword1 = pd.read_csv(url1, delimiter = \";\",encoding='cp1252')"
      ],
      "metadata": {
        "id": "s67SS5SuKOxZ"
      },
      "execution_count": null,
      "outputs": []
    },
    {
      "cell_type": "code",
      "source": [
        "url2 = 'https://raw.githubusercontent.com/TaillessTanuki/Berita_Banggai/main/ID-Stopwords(MasDevid).csv'\n",
        "df_stopword2 = pd.read_csv(url2, delimiter = \";\",encoding='cp1252')"
      ],
      "metadata": {
        "id": "hAUiXJwX3wK6"
      },
      "execution_count": null,
      "outputs": []
    },
    {
      "cell_type": "code",
      "execution_count": null,
      "metadata": {
        "id": "2K7pfU2Hh9_A"
      },
      "outputs": [],
      "source": [
        "df_stopword.info()"
      ]
    },
    {
      "cell_type": "code",
      "source": [
        "df_stopword"
      ],
      "metadata": {
        "id": "-Z9dEyx8IMV9"
      },
      "execution_count": null,
      "outputs": []
    },
    {
      "cell_type": "code",
      "source": [
        "df.head()"
      ],
      "metadata": {
        "id": "l4WBm9IpPvA7"
      },
      "execution_count": null,
      "outputs": []
    },
    {
      "cell_type": "code",
      "execution_count": null,
      "metadata": {
        "id": "Ubey61YNimwt"
      },
      "outputs": [],
      "source": [
        "custom_stopword1 = list(df_stopword1['stopword'])\n",
        "custom_stopword2 = list(df_stopword2['Stopwords'])"
      ]
    },
    {
      "cell_type": "markdown",
      "metadata": {
        "id": "qjt7FLMViwiU"
      },
      "source": [
        "### Removal"
      ]
    },
    {
      "cell_type": "code",
      "execution_count": null,
      "metadata": {
        "id": "OMhxvMrpef4X"
      },
      "outputs": [],
      "source": [
        "# Prepare stopword remover\n",
        "#factory = StopWordRemoverFactory()\n",
        "#stopwords = factory.get_stop_words() + custom_stopword\n",
        "#print(stopwords)"
      ]
    },
    {
      "cell_type": "code",
      "source": [
        "# using only sastrawy\n",
        "from Sastrawi.StopWordRemover.StopWordRemoverFactory import StopWordRemoverFactory\n",
        "\n",
        "factory = StopWordRemoverFactory()\n",
        "stopwords = factory.get_stop_words() + custom_stopword1 + custom_stopword2"
      ],
      "metadata": {
        "id": "GNEVmdBq8bDz"
      },
      "execution_count": null,
      "outputs": []
    },
    {
      "cell_type": "code",
      "source": [
        "len(stopwords)"
      ],
      "metadata": {
        "colab": {
          "base_uri": "https://localhost:8080/"
        },
        "id": "j6qNtOJbuN05",
        "outputId": "4b3e90f9-80db-4ca5-c35b-baede4383fdd"
      },
      "execution_count": null,
      "outputs": [
        {
          "output_type": "execute_result",
          "data": {
            "text/plain": [
              "946"
            ]
          },
          "metadata": {},
          "execution_count": 35
        }
      ]
    },
    {
      "cell_type": "code",
      "execution_count": null,
      "metadata": {
        "id": "ClUNuzeyjDEt"
      },
      "outputs": [],
      "source": [
        "dictionary = ArrayDictionary(stopwords)\n",
        "stopword = StopWordRemover(dictionary)\n"
      ]
    },
    {
      "cell_type": "code",
      "source": [
        "stopwords"
      ],
      "metadata": {
        "id": "FsxBlFiyPWye"
      },
      "execution_count": null,
      "outputs": []
    },
    {
      "cell_type": "code",
      "execution_count": null,
      "metadata": {
        "id": "OCny9HuTc2UR"
      },
      "outputs": [],
      "source": [
        "def filtering(text):\n",
        "  stop = stopword.remove(text)\n",
        "  return stop"
      ]
    },
    {
      "cell_type": "code",
      "source": [
        "df.head()"
      ],
      "metadata": {
        "id": "obxTS5DcMNWz"
      },
      "execution_count": null,
      "outputs": []
    },
    {
      "cell_type": "code",
      "source": [
        "#df.drop(['filtered'], axis=1, inplace=True)"
      ],
      "metadata": {
        "id": "V5pOuXg_ShOl"
      },
      "execution_count": null,
      "outputs": []
    },
    {
      "cell_type": "code",
      "execution_count": null,
      "metadata": {
        "colab": {
          "base_uri": "https://localhost:8080/"
        },
        "id": "mvjR5IBOjjq6",
        "outputId": "ae821a95-964f-4394-8fb2-9d6be532e563"
      },
      "outputs": [
        {
          "output_type": "execute_result",
          "data": {
            "text/plain": [
              "0      luwuk suasana pasar murah bersubsidi semarak k...\n",
              "1      luwuk film horor piara mayat kreativitasanak m...\n",
              "2      luwuk festival malabot tumbe meriahkankabupate...\n",
              "3      kerja cepat terkoordinir penerbitan sttp luwuk...\n",
              "4      luwuk bawaslu banggaiperkuat koordinasi dengan...\n",
              "                             ...                        \n",
              "594    raya gudang bahan aluminium jalan teuku umar k...\n",
              "595    wartawan asnawi tribunpalu com banggai membuka...\n",
              "596    raya pebulutangkis kabupatenkota sulawesi berl...\n",
              "598    wartawan asnawi tribunpalu com banggai pria ne...\n",
              "599    wartawan asnawi tribunpalu com banggai gudang ...\n",
              "Name: filtered, Length: 579, dtype: object"
            ]
          },
          "metadata": {},
          "execution_count": 39
        }
      ],
      "source": [
        "df['filtered'] = df['clean_double_ws'].apply(filtering)\n",
        "df['filtered']"
      ]
    },
    {
      "cell_type": "code",
      "source": [
        "df.head()"
      ],
      "metadata": {
        "id": "zzG-hnrhM1zj"
      },
      "execution_count": null,
      "outputs": []
    },
    {
      "cell_type": "code",
      "source": [
        "len(df)"
      ],
      "metadata": {
        "colab": {
          "base_uri": "https://localhost:8080/"
        },
        "id": "eTJ50j30NVy_",
        "outputId": "d58e040d-0561-4b79-840c-c1dbffc79572"
      },
      "execution_count": null,
      "outputs": [
        {
          "output_type": "execute_result",
          "data": {
            "text/plain": [
              "579"
            ]
          },
          "metadata": {},
          "execution_count": 41
        }
      ]
    },
    {
      "cell_type": "code",
      "execution_count": null,
      "metadata": {
        "id": "oGkf3aEF1P0G"
      },
      "outputs": [],
      "source": [
        "print(df['clean_double_ws'][55])\n",
        "print(df['filtered'][55])"
      ]
    },
    {
      "cell_type": "markdown",
      "metadata": {
        "id": "csdn5fHWjv2W"
      },
      "source": [
        "## Stemming"
      ]
    },
    {
      "cell_type": "code",
      "source": [
        "from Sastrawi.Stemmer.StemmerFactory import StemmerFactory\n",
        "stem_factory = StemmerFactory()\n",
        "stemmer = stem_factory.create_stemmer()"
      ],
      "metadata": {
        "id": "SWezdKP7CWwi"
      },
      "execution_count": null,
      "outputs": []
    },
    {
      "cell_type": "code",
      "execution_count": null,
      "metadata": {
        "id": "xFrbJG4hj6Ug"
      },
      "outputs": [],
      "source": [
        "#factory = StemmerFactory()\n",
        "#stemmer = factory.create_stemmer()"
      ]
    },
    {
      "cell_type": "code",
      "execution_count": null,
      "metadata": {
        "id": "K6yEDY8TkBDG"
      },
      "outputs": [],
      "source": [
        "def stem(text):\n",
        "  return stemmer.stem(text)"
      ]
    },
    {
      "cell_type": "code",
      "source": [
        "df.head()"
      ],
      "metadata": {
        "id": "YbGrSQ2PtpCY"
      },
      "execution_count": null,
      "outputs": []
    },
    {
      "cell_type": "code",
      "execution_count": null,
      "metadata": {
        "colab": {
          "base_uri": "https://localhost:8080/"
        },
        "id": "6dY5qzIEkGZ5",
        "outputId": "670fc6f7-9d70-4d71-e24a-002decd5f9ce"
      },
      "outputs": [
        {
          "output_type": "execute_result",
          "data": {
            "text/plain": [
              "0      luwuk suasana pasar murah subsidi semarak hadi...\n",
              "1      luwuk film horor piara mayat kreativitasanak m...\n",
              "2      luwuk festival malabot tumbe meriahkankabupate...\n",
              "3      kerja cepat terkoordinir terbit sttp luwuk rak...\n",
              "4      luwuk bawaslu banggaiperkuat koordinasi dengan...\n",
              "                             ...                        \n",
              "594    raya gudang bahan aluminium jalan teuku umar k...\n",
              "595    wartawan asnawi tribunpalu com bangga buka aca...\n",
              "596    raya pebulutangkis kabupatenkota sulawesi laga...\n",
              "598    wartawan asnawi tribunpalu com bangga pria nek...\n",
              "599    wartawan asnawi tribunpalu com bangga gudang b...\n",
              "Name: stemmed, Length: 579, dtype: object"
            ]
          },
          "metadata": {},
          "execution_count": 45
        }
      ],
      "source": [
        "df['stemmed'] = df['filtered'].apply(stem)\n",
        "df['stemmed']"
      ]
    },
    {
      "cell_type": "code",
      "source": [
        "df.head()"
      ],
      "metadata": {
        "id": "8ZrWk5PI6PPH"
      },
      "execution_count": null,
      "outputs": []
    },
    {
      "cell_type": "markdown",
      "source": [
        "## Export df to csv (to cutting time if we want to stepback process)"
      ],
      "metadata": {
        "id": "LnldCt2zkih_"
      }
    },
    {
      "cell_type": "code",
      "execution_count": null,
      "metadata": {
        "id": "pk7M4kT2B-tx"
      },
      "outputs": [],
      "source": [
        "df.to_csv(\"stemmed_words_sentiment1.csv\", index=False)"
      ]
    },
    {
      "cell_type": "markdown",
      "source": [
        "## Importing df rom csv (cutting time if we want to stepback process)"
      ],
      "metadata": {
        "id": "vZVKauuAkyDI"
      }
    },
    {
      "cell_type": "code",
      "source": [
        "# to skip stemming process\n",
        "stemmed_url= 'https://raw.githubusercontent.com/TaillessTanuki/Berita_Banggai/main/stemmed_words2_tanpa_token_stopwordk2.csv'\n",
        "\n",
        "df = pd.read_csv(stemmed_url,encoding='utf-8')\n",
        "\n",
        "df = df.astype(str)"
      ],
      "metadata": {
        "id": "fD_AgotLLULN"
      },
      "execution_count": null,
      "outputs": []
    },
    {
      "cell_type": "code",
      "source": [
        "df.head()\n"
      ],
      "metadata": {
        "id": "rnJ5jbNFL27n"
      },
      "execution_count": null,
      "outputs": []
    },
    {
      "cell_type": "code",
      "source": [
        "len(df)"
      ],
      "metadata": {
        "colab": {
          "base_uri": "https://localhost:8080/"
        },
        "id": "l-8H5udHaw3C",
        "outputId": "66bff75a-1767-4ef0-ce88-10cc25b533a3"
      },
      "execution_count": null,
      "outputs": [
        {
          "output_type": "execute_result",
          "data": {
            "text/plain": [
              "149"
            ]
          },
          "metadata": {},
          "execution_count": 40
        }
      ]
    },
    {
      "cell_type": "code",
      "execution_count": null,
      "metadata": {
        "colab": {
          "base_uri": "https://localhost:8080/"
        },
        "id": "EqJ4dCX42R0u",
        "outputId": "bea85e44-ac77-4067-8c04-f8e78f47c145"
      },
      "outputs": [
        {
          "output_type": "stream",
          "name": "stdout",
          "text": [
            "tim inafis polres banggaiselidiki pencurian desa bubung kerugian rp juta tim indonesianautomatic fingerprints identification system inafissatreskrimpolres banggaitengah intensif penyelidikan terkait pencurian terjadi didesa bubungkecamatan luwuk selatan kejadian diketahui kamis wita dilaporkan nomor polisi lpbxiispktres banggaipolda sulteng kamis desember keterangankasat reskrim polres akp tondytim inafis olah kejadian perkara tkp mengumpulkan bukti petunjuk terkait kejadian korban nama arifin morintoh melaporkan kejadian pada pukul wita menemukan rumahnya telah dirusak pencuri saksi saksi terlibat kejadian seperti indah permata sari morintoh keterangan saat rumahnya di desa bubung menemukan rumah berantakan ditemukannya jendela rumah samping dirusak cara dicungkil akp anjas suyono penjaga rumah menjelaskan pada rabu pukul wita meninggalkan rumah dalam keadaan terkunci ia terkejut indah memberitahu rumah telah sasaran pencurian akibat kejadian hilang unit keyboard merk yamaha kg kemiri total kerugian lebih rp juta kasat pihak kepolisian terus melakukan penyelidikan mengidentifikasi pelaku memulihkan barang barang hilang masyarakat informasi apapun dapat membantu penyelesaian pihak berwajib pencurian ini menjadi perhatian serius tim inafis untuk mengungkap keberadaan pelaku memanfaatkan teknologi canggih analisis forensik\n",
            "tim inafis polres banggaiselidiki curi desa bubung rugi rp juta tim indonesianautomatic fingerprints identification system inafissatreskrimpolres banggaitengah intensif lidi kait curi jadi desa bubungkecamatan luwuk selatan jadi tahu kamis wita lapor nomor polisi lpbxiispktres banggaipolda sulteng kamis desember keterangankasat reskrim polres akp tondytim inafis olah jadi perkara tkp kumpul bukti tunjuk kait jadi korban nama arifin morintoh lapor jadi pada pukul wita temu rumah telah rusak curi saksi saksi libat jadi seperti indah permata sari morintoh terang saat rumah di desa bubung temu rumah beranta temu jendela rumah samping rusak cara cungkil akp anjas suyono jaga rumah jelas pada rabu pukul wita tinggal rumah dalam ada kunci ia kejut indah memberitahu rumah telah sasar curi akibat jadi hilang unit keyboard merk yamaha kg kemiri total rugi lebih rp juta kasat pihak polisi terus laku lidi identifikasi laku pulih barang barang hilang masyarakat informasi apa dapat bantu selesai pihak wajib curi ini jadi perhati serius tim inafis untuk ungkap ada laku manfaat teknologi canggih analisis forensik\n"
          ]
        }
      ],
      "source": [
        "print(df['filtered'][55])\n",
        "print(df['stemmed'][55])"
      ]
    },
    {
      "cell_type": "code",
      "source": [
        "print(len(df['filtered'][796]))\n",
        "print(len(df['stemmed'][796]))"
      ],
      "metadata": {
        "colab": {
          "base_uri": "https://localhost:8080/"
        },
        "id": "rKFwM57jdMCK",
        "outputId": "38065d9b-2a7f-46ce-ea57-786c3ce22e95"
      },
      "execution_count": null,
      "outputs": [
        {
          "output_type": "stream",
          "name": "stdout",
          "text": [
            "1167\n",
            "990\n"
          ]
        }
      ]
    },
    {
      "cell_type": "markdown",
      "metadata": {
        "id": "KyujIEiSK3YT"
      },
      "source": [
        "## Tokenizing"
      ]
    },
    {
      "cell_type": "code",
      "execution_count": null,
      "metadata": {
        "id": "7tvlHHYOzWga"
      },
      "outputs": [],
      "source": [
        "def tokenize(text):\n",
        "  tokens = nltk.tokenize.word_tokenize(text)\n",
        "  return tokens"
      ]
    },
    {
      "cell_type": "code",
      "source": [
        "df.head()"
      ],
      "metadata": {
        "id": "edy1ud6vStPy"
      },
      "execution_count": null,
      "outputs": []
    },
    {
      "cell_type": "code",
      "execution_count": null,
      "metadata": {
        "colab": {
          "base_uri": "https://localhost:8080/"
        },
        "id": "HoQt8hoIz_v7",
        "outputId": "04b570e0-585e-4bc7-ab93-4f1f4d320331"
      },
      "outputs": [
        {
          "output_type": "execute_result",
          "data": {
            "text/plain": [
              "0      [luwuk, suasana, pasar, murah, subsidi, semara...\n",
              "1      [luwuk, film, horor, piara, mayat, kreativitas...\n",
              "2      [luwuk, festival, malabot, tumbe, meriahkankab...\n",
              "3      [kerja, cepat, terkoordinir, terbit, sttp, luw...\n",
              "4      [luwuk, bawaslu, banggaiperkuat, koordinasi, d...\n",
              "                             ...                        \n",
              "594    [raya, gudang, bahan, aluminium, jalan, teuku,...\n",
              "595    [wartawan, asnawi, tribunpalu, com, bangga, bu...\n",
              "596    [raya, pebulutangkis, kabupatenkota, sulawesi,...\n",
              "598    [wartawan, asnawi, tribunpalu, com, bangga, pr...\n",
              "599    [wartawan, asnawi, tribunpalu, com, bangga, gu...\n",
              "Name: tokenized, Length: 579, dtype: object"
            ]
          },
          "metadata": {},
          "execution_count": 49
        }
      ],
      "source": [
        "df['tokenized'] = df['stemmed'].apply(tokenize)\n",
        "df['tokenized']"
      ]
    },
    {
      "cell_type": "code",
      "execution_count": null,
      "metadata": {
        "colab": {
          "base_uri": "https://localhost:8080/"
        },
        "id": "CBMRdRdiK8vz",
        "outputId": "1ee95739-e77b-4aef-de1a-2cafa3581ccb"
      },
      "outputs": [
        {
          "output_type": "stream",
          "name": "stdout",
          "text": [
            "dinas sosial banggaisegera salurkan miliarprogram gercep gaskan berdaya dinas sosial banggaimenerima bantuan miliar rupiah program gerak cepat pengentasan kemiskinan berbasis pemberdayaan masyarakat gercep gaskan berdaya bantuan ditujukan keluarga penerima manfaat lima kecamatan harapan warga kecamatan kpm luwuk selatan kpm pagimana kpm bunta kpm nuhon kpm selasa kepala dinas sosial irpan poma kepala bidang fakir miskisronald putjemenyampaikan media dana bantuan sumbangan langsung pemerintah provinsi sulawesi dinas sosial bertanggung memfasilitasi distribusi bantuan ikut pengawasan ketat dana sampai penerima manfaat tepat data tersedia keluarga penerima manfaat terdiri lima kecamatan memenuhi kriteria menerima bantuan dinas sosial berharap bantuan bantuan nyata meringankan beban masyarakat membutuhkan bantuan sekadar alokasi dana merupakan upaya konkret upaya mengentaskan kemiskinan pemberdayaan masyarakat semoga kuncuran dana masyarakat penerima manfaat merasakan dampak positifnya membuka peluang mengurangi tingkat kemiskinan wilayah aksi bukti komitmen membangun kesejahteraan keadilan sosial kabupaten banggai pemberian bantuan menjadi langkah strategis mendukung pembangunan berkelanjutan kabupaten banggai melalui program gercep gaskan berdaya pemerintah berusaha meningkatkan kesejahteraan masyarakat cara berkelanjutan berbasis pemberdayaan dalam penyampaiannya ronald putje menekankan sinergi pemerintah pusat provinsi kabupaten mencapai hasil optimal berupaya bantuan tidak bersifat waktu juga menciptakan dampak positif jangka adanya koordinasi dalam pelaksanaan program ujarnya bantuan diharapkan tidak hanya menjadi solusi tetapi juga menciptakan perubahan struktural mampu meningkatkan kapasitas masyarakat penerima manfaat oleh karena itu dinas sosial kabupaten banggai akan terus pemantauan evaluasi berkala memastikan bahwa bantuan benar benar memberikan dampak positif bagian upaya mengatasi kemiskinan bantuan mencerminkan komitmen pemerintah dalam menciptakan inklusivitas sosial kesetaraan akses sumber daya adanya bantuan diharapkan masyarakat kabupaten banggai dapat membangun kehidupan lebih baik mandiri dan berdaya penulis imam muslik jurnalis\n",
            "['dinas', 'sosial', 'banggaisegera', 'salur', 'miliarprogram', 'gercep', 'gas', 'daya', 'dinas', 'sosial', 'banggaimenerima', 'bantu', 'miliar', 'rupiah', 'program', 'gerak', 'cepat', 'entas', 'miskin', 'bas', 'daya', 'masyarakat', 'gercep', 'gas', 'daya', 'bantu', 'tuju', 'keluarga', 'terima', 'manfaat', 'lima', 'camat', 'harap', 'warga', 'camat', 'kpm', 'luwuk', 'selatan', 'kpm', 'pagimana', 'kpm', 'bunta', 'kpm', 'nuhon', 'kpm', 'selasa', 'kepala', 'dinas', 'sosial', 'irpan', 'poma', 'kepala', 'bidang', 'fakir', 'miskisronald', 'putjemenyampaikan', 'media', 'dana', 'bantu', 'sumbang', 'langsung', 'perintah', 'provinsi', 'sulawesi', 'dinas', 'sosial', 'tanggung', 'fasilitas', 'distribusi', 'bantu', 'ikut', 'awas', 'ketat', 'dana', 'sampai', 'terima', 'manfaat', 'tepat', 'data', 'sedia', 'keluarga', 'terima', 'manfaat', 'diri', 'lima', 'camat', 'penuh', 'kriteria', 'terima', 'bantu', 'dinas', 'sosial', 'harap', 'bantu', 'bantu', 'nyata', 'ringan', 'beban', 'masyarakat', 'butuh', 'bantu', 'sekadar', 'alokasi', 'dana', 'rupa', 'upaya', 'konkret', 'upaya', 'entas', 'miskin', 'daya', 'masyarakat', 'moga', 'kuncuran', 'dana', 'masyarakat', 'terima', 'manfaat', 'rasa', 'dampak', 'positif', 'buka', 'peluang', 'kurang', 'tingkat', 'miskin', 'wilayah', 'aksi', 'bukti', 'komitmen', 'bangun', 'sejahtera', 'adil', 'sosial', 'kabupaten', 'bangga', 'beri', 'bantu', 'jadi', 'langkah', 'strategis', 'dukung', 'bangun', 'lanjut', 'kabupaten', 'bangga', 'lalu', 'program', 'gercep', 'gas', 'daya', 'perintah', 'usaha', 'tingkat', 'sejahtera', 'masyarakat', 'cara', 'lanjut', 'bas', 'daya', 'dalam', 'sampai', 'ronald', 'putje', 'tekan', 'sinergi', 'perintah', 'pusat', 'provinsi', 'kabupaten', 'capai', 'hasil', 'optimal', 'upaya', 'bantu', 'tidak', 'sifat', 'waktu', 'juga', 'cipta', 'dampak', 'positif', 'jangka', 'ada', 'koordinasi', 'dalam', 'laksana', 'program', 'ujar', 'bantu', 'harap', 'tidak', 'hanya', 'jadi', 'solusi', 'tetapi', 'juga', 'cipta', 'ubah', 'struktural', 'mampu', 'tingkat', 'kapasitas', 'masyarakat', 'terima', 'manfaat', 'oleh', 'karena', 'itu', 'dinas', 'sosial', 'kabupaten', 'bangga', 'akan', 'terus', 'pantau', 'evaluasi', 'kala', 'pasti', 'bahwa', 'bantu', 'benar', 'benar', 'beri', 'dampak', 'positif', 'bagi', 'upaya', 'atas', 'miskin', 'bantu', 'cermin', 'komitmen', 'perintah', 'dalam', 'cipta', 'inklusivitas', 'sosial', 'tara', 'akses', 'sumber', 'daya', 'ada', 'bantu', 'harap', 'masyarakat', 'kabupaten', 'bangga', 'dapat', 'bangun', 'hidup', 'lebih', 'baik', 'mandiri', 'dan', 'daya', 'tulis', 'imam', 'muslik', 'jurnalis']\n"
          ]
        }
      ],
      "source": [
        "print(df['filtered'][30])\n",
        "print(df['tokenized'][30])"
      ]
    },
    {
      "cell_type": "code",
      "source": [
        "print(len(df['stemmed'][30]))\n",
        "print(len(df['tokenized'][30]))"
      ],
      "metadata": {
        "id": "cKxfF4GhdjLa",
        "outputId": "9560b207-aee0-46b0-edcd-883bb4eab28c",
        "colab": {
          "base_uri": "https://localhost:8080/"
        }
      },
      "execution_count": null,
      "outputs": [
        {
          "output_type": "stream",
          "name": "stdout",
          "text": [
            "1788\n",
            "260\n"
          ]
        }
      ]
    },
    {
      "cell_type": "markdown",
      "source": [
        "##Second Stopwords"
      ],
      "metadata": {
        "id": "OqDFduCP47A2"
      }
    },
    {
      "cell_type": "code",
      "source": [
        "df.head()"
      ],
      "metadata": {
        "id": "Aw3zSYeJqjFs"
      },
      "execution_count": null,
      "outputs": []
    },
    {
      "cell_type": "code",
      "source": [
        "# Define a function to remove stopwords from a list of tokens\n",
        "def remove_stopwords(tokens):\n",
        "    return [word for word in tokens if word not in stopwords]\n",
        "\n",
        "# Apply the remove_stopwords function to each row in the 'tokenized' column\n",
        "df['filtered2'] = df['tokenized'].apply(lambda tokens: remove_stopwords(tokens))\n",
        "\n",
        "# Display the updated DataFrame\n",
        "print(df.head())"
      ],
      "metadata": {
        "id": "sH3TSo9o3Q-p"
      },
      "execution_count": null,
      "outputs": []
    },
    {
      "cell_type": "code",
      "source": [
        "#df.drop(columns=['tokenized'], inplace=True)"
      ],
      "metadata": {
        "id": "7Hp-bXYa6zt3"
      },
      "execution_count": null,
      "outputs": []
    },
    {
      "cell_type": "code",
      "source": [
        "len(stopwords)"
      ],
      "metadata": {
        "colab": {
          "base_uri": "https://localhost:8080/"
        },
        "id": "rRogv2OAAmP_",
        "outputId": "6711464d-01d7-486a-8d90-015cd7fd11cf"
      },
      "execution_count": null,
      "outputs": [
        {
          "output_type": "execute_result",
          "data": {
            "text/plain": [
              "946"
            ]
          },
          "metadata": {},
          "execution_count": 53
        }
      ]
    },
    {
      "cell_type": "code",
      "source": [
        "df.head()"
      ],
      "metadata": {
        "id": "zHRIWaHa6rA2"
      },
      "execution_count": null,
      "outputs": []
    },
    {
      "cell_type": "code",
      "source": [
        "print(df['tokenized'][594])\n",
        "print(df['filtered2'][594])"
      ],
      "metadata": {
        "colab": {
          "base_uri": "https://localhost:8080/"
        },
        "id": "NiVe2d298O_r",
        "outputId": "40aab7ab-9f11-4f49-d850-b5b0904a31d8"
      },
      "execution_count": null,
      "outputs": [
        {
          "output_type": "stream",
          "name": "stdout",
          "text": [
            "['raya', 'gudang', 'bahan', 'aluminium', 'jalan', 'teuku', 'umar', 'kompleks', 'toko', 'lurah', 'kabupaten', 'alami', 'bakar', 'jumat', 'pukul', 'wita', 'plt', 'kapolsek', 'akp', 'steven', 'lewaherillah', 'terang', 'saksi', 'andui', 'muncul', 'titik', 'api', 'bagi', 'samping', 'bangun', 'gudang', 'milik', 'donal', 'dusia', 'warga', 'jalan', 'jendral', 'ahmad', 'yani', 'toko', 'mas', 'jawa', 'baca', 'truk', 'angkut', 'ton', 'raskin', 'perosok', 'selokan', 'pagimana', 'titik', 'api', 'muncul', 'dari', 'tumpu', 'gabus', 'ikan', 'samping', 'bangun', 'gudang', 'milik', 'handies', 'umaiyer', 'baca', 'ihk', 'kota', 'alami', 'inflasi', 'rilis', 'lengkap', 'bpssementara', 'kata', 'steven', 'bahwa', 'itu', 'saksi', 'dengar', 'ria', 'keluar', 'api', 'besar', 'bagi', 'samping', 'gudang', 'langsung', 'hubung', 'madam', 'bakar', 'api', 'cepat', 'padam', 'tidak', 'luas', 'bagi', 'samping', 'yang', 'bakar', 'baca', 'curi', 'receiver', 'cctv', 'wifi', 'pria', 'maahas', 'bekuk', 'polisiia', 'rugi', 'material', 'peristiwa', 'belum', 'pasti', 'tidak', 'korban', 'jiwa', 'duga', 'bakar', 'belum', 'pasti', 'akan', 'sampai', 'lepas', 'anggota', 'periksa', 'saksi', 'pungkas']\n",
            "['gudang', 'bahan', 'aluminium', 'jalan', 'teuku', 'umar', 'kompleks', 'toko', 'lurah', 'alami', 'bakar', 'jumat', 'wita', 'plt', 'kapolsek', 'akp', 'steven', 'lewaherillah', 'terang', 'saksi', 'andui', 'muncul', 'titik', 'api', 'samping', 'bangun', 'gudang', 'milik', 'donal', 'dusia', 'warga', 'jalan', 'jendral', 'ahmad', 'yani', 'toko', 'mas', 'jawa', 'baca', 'truk', 'angkut', 'ton', 'raskin', 'perosok', 'selokan', 'pagimana', 'titik', 'api', 'muncul', 'tumpu', 'gabus', 'ikan', 'samping', 'bangun', 'gudang', 'milik', 'handies', 'umaiyer', 'baca', 'ihk', 'kota', 'alami', 'inflasi', 'rilis', 'lengkap', 'bpssementara', 'steven', 'saksi', 'dengar', 'ria', 'api', 'samping', 'gudang', 'langsung', 'hubung', 'madam', 'bakar', 'api', 'cepat', 'padam', 'luas', 'samping', 'bakar', 'baca', 'curi', 'receiver', 'cctv', 'wifi', 'pria', 'maahas', 'bekuk', 'polisiia', 'rugi', 'material', 'peristiwa', 'korban', 'jiwa', 'duga', 'bakar', 'lepas', 'anggota', 'periksa', 'saksi', 'pungkas']\n"
          ]
        }
      ]
    },
    {
      "cell_type": "markdown",
      "source": [
        "# Text Classification"
      ],
      "metadata": {
        "id": "C1kdSoKuOwTU"
      }
    },
    {
      "cell_type": "code",
      "source": [
        "# For manual Review\n",
        "#import random\n",
        "\n",
        "# Set the number of random samples you want to select\n",
        "#num_samples = 100  # Adjust this number as needed\n",
        "\n",
        "# Select random samples from the DataFrame\n",
        "#random_indices = random.sample(range(len(df)), num_samples)\n",
        "#random_data = df.iloc[random_indices][[\"title\", \"text\"]]\n",
        "\n",
        "# Save random data to a CSV file\n",
        "#random_data.to_csv(\"random_data.csv\")\n"
      ],
      "metadata": {
        "id": "eGNyh7EV1b5f"
      },
      "execution_count": null,
      "outputs": []
    },
    {
      "cell_type": "code",
      "source": [
        "df.info()"
      ],
      "metadata": {
        "id": "CdinjW6N7dUR"
      },
      "execution_count": null,
      "outputs": []
    },
    {
      "cell_type": "markdown",
      "source": [
        "## Preprocessing (Text Classification)"
      ],
      "metadata": {
        "id": "noVBc6ad72p_"
      }
    },
    {
      "cell_type": "code",
      "source": [
        "df.head()"
      ],
      "metadata": {
        "id": "OJ9PEx6Orzlf"
      },
      "execution_count": null,
      "outputs": []
    },
    {
      "cell_type": "code",
      "source": [
        "# Spliting database to train_set and test_set\n",
        "from sklearn.model_selection import train_test_split\n",
        "\n",
        "X = df['filtered2']\n",
        "y = df['topic']\n",
        "\n",
        "X_train, X_test, y_train, y_test = train_test_split(X,y,test_size=0.33, random_state=42)"
      ],
      "metadata": {
        "id": "yK4iUNuC8Ce_"
      },
      "execution_count": null,
      "outputs": []
    },
    {
      "cell_type": "code",
      "source": [
        "X_train.head()"
      ],
      "metadata": {
        "colab": {
          "base_uri": "https://localhost:8080/"
        },
        "id": "t_yzs0h8uLT5",
        "outputId": "796805ed-1b66-4c32-93f9-296449187b3f"
      },
      "execution_count": null,
      "outputs": [
        {
          "output_type": "execute_result",
          "data": {
            "text/plain": [
              "95     [lembaga, jamin, mutu, kembang, didik, lpmpp, ...\n",
              "104    [program, studi, prodi, manajemen, fakultas, e...\n",
              "66     [juni, inflasi, year, on, year, yoy, kota, cat...\n",
              "0      [warga, jaring, utara, nama, josua, bangun, in...\n",
              "141    [anggota, satlantaspolres, banggaimelaksanakan...\n",
              "Name: filtered2, dtype: object"
            ]
          },
          "metadata": {},
          "execution_count": 72
        }
      ]
    },
    {
      "cell_type": "code",
      "source": [
        "print(y_test.unique())\n",
        "\n",
        "\n",
        "#df['Topic'].nunique()"
      ],
      "metadata": {
        "id": "7THnmOhCuQQO"
      },
      "execution_count": null,
      "outputs": []
    },
    {
      "cell_type": "code",
      "source": [
        "# CountVectorizer\n",
        "from sklearn.feature_extraction.text import CountVectorizer\n",
        "count_vect = CountVectorizer()\n",
        "\n",
        "# Fit Vectorizer to the data (build a vocab, count the number of words..)\n",
        "# and transfrom the original text message to ---> Vector\n",
        "\n",
        "from itertools import chain\n",
        "\n",
        "# Assuming X_train is a list of lists or a list of tokens\n",
        "flattened_X_train = list(chain.from_iterable(X_train))\n",
        "flattened_X_test = list(chain.from_iterable(X_test))\n",
        "\n",
        "# Assuming X_train is a list of tokens\n",
        "X_train = [' '.join(tokens) for tokens in X_train]\n",
        "X_test = [' '.join(tokens) for tokens in X_test]\n",
        "\n",
        "X_train_counts = count_vect.fit_transform(X_train)\n"
      ],
      "metadata": {
        "id": "D6nBa7pi810R"
      },
      "execution_count": null,
      "outputs": []
    },
    {
      "cell_type": "code",
      "source": [
        "X_train_counts"
      ],
      "metadata": {
        "colab": {
          "base_uri": "https://localhost:8080/"
        },
        "id": "XOBDrAK69uA1",
        "outputId": "6585a105-0454-44a5-f25c-e622b4b93ce3"
      },
      "execution_count": null,
      "outputs": [
        {
          "output_type": "execute_result",
          "data": {
            "text/plain": [
              "<99x3291 sparse matrix of type '<class 'numpy.int64'>'\n",
              "\twith 8942 stored elements in Compressed Sparse Row format>"
            ]
          },
          "metadata": {},
          "execution_count": 75
        }
      ]
    },
    {
      "cell_type": "code",
      "source": [
        "X_train.shape"
      ],
      "metadata": {
        "colab": {
          "base_uri": "https://localhost:8080/"
        },
        "id": "8LM0Ff5V9w-G",
        "outputId": "8db3621c-8eac-43c0-c442-e9d2b8fb7858"
      },
      "execution_count": null,
      "outputs": [
        {
          "output_type": "execute_result",
          "data": {
            "text/plain": [
              "(99,)"
            ]
          },
          "metadata": {},
          "execution_count": 81
        }
      ]
    },
    {
      "cell_type": "code",
      "source": [
        "X_train_counts.shape"
      ],
      "metadata": {
        "colab": {
          "base_uri": "https://localhost:8080/"
        },
        "id": "D0uBSd2O98zu",
        "outputId": "e4bf04c0-0356-4901-b372-9e6ecc9d0301"
      },
      "execution_count": null,
      "outputs": [
        {
          "output_type": "execute_result",
          "data": {
            "text/plain": [
              "(99, 3291)"
            ]
          },
          "metadata": {},
          "execution_count": 76
        }
      ]
    },
    {
      "cell_type": "code",
      "source": [
        "# TFIDFVectorizer and LinearSVC with pipeline\n",
        "from sklearn.feature_extraction.text import TfidfVectorizer\n",
        "from sklearn.svm import LinearSVC\n",
        "from sklearn.pipeline import Pipeline\n",
        "\n",
        "text_clf = Pipeline([('tfidf', TfidfVectorizer()),('clf',LinearSVC())])\n",
        "text_clf.fit(X_train, y_train)\n",
        "\n"
      ],
      "metadata": {
        "colab": {
          "base_uri": "https://localhost:8080/",
          "height": 126
        },
        "id": "n3AylBPk9_rA",
        "outputId": "50bbe9f4-1691-4c48-847e-90dca4fd0a34"
      },
      "execution_count": null,
      "outputs": [
        {
          "output_type": "execute_result",
          "data": {
            "text/plain": [
              "Pipeline(steps=[('tfidf', TfidfVectorizer()), ('clf', LinearSVC())])"
            ],
            "text/html": [
              "<style>#sk-container-id-1 {color: black;background-color: white;}#sk-container-id-1 pre{padding: 0;}#sk-container-id-1 div.sk-toggleable {background-color: white;}#sk-container-id-1 label.sk-toggleable__label {cursor: pointer;display: block;width: 100%;margin-bottom: 0;padding: 0.3em;box-sizing: border-box;text-align: center;}#sk-container-id-1 label.sk-toggleable__label-arrow:before {content: \"▸\";float: left;margin-right: 0.25em;color: #696969;}#sk-container-id-1 label.sk-toggleable__label-arrow:hover:before {color: black;}#sk-container-id-1 div.sk-estimator:hover label.sk-toggleable__label-arrow:before {color: black;}#sk-container-id-1 div.sk-toggleable__content {max-height: 0;max-width: 0;overflow: hidden;text-align: left;background-color: #f0f8ff;}#sk-container-id-1 div.sk-toggleable__content pre {margin: 0.2em;color: black;border-radius: 0.25em;background-color: #f0f8ff;}#sk-container-id-1 input.sk-toggleable__control:checked~div.sk-toggleable__content {max-height: 200px;max-width: 100%;overflow: auto;}#sk-container-id-1 input.sk-toggleable__control:checked~label.sk-toggleable__label-arrow:before {content: \"▾\";}#sk-container-id-1 div.sk-estimator input.sk-toggleable__control:checked~label.sk-toggleable__label {background-color: #d4ebff;}#sk-container-id-1 div.sk-label input.sk-toggleable__control:checked~label.sk-toggleable__label {background-color: #d4ebff;}#sk-container-id-1 input.sk-hidden--visually {border: 0;clip: rect(1px 1px 1px 1px);clip: rect(1px, 1px, 1px, 1px);height: 1px;margin: -1px;overflow: hidden;padding: 0;position: absolute;width: 1px;}#sk-container-id-1 div.sk-estimator {font-family: monospace;background-color: #f0f8ff;border: 1px dotted black;border-radius: 0.25em;box-sizing: border-box;margin-bottom: 0.5em;}#sk-container-id-1 div.sk-estimator:hover {background-color: #d4ebff;}#sk-container-id-1 div.sk-parallel-item::after {content: \"\";width: 100%;border-bottom: 1px solid gray;flex-grow: 1;}#sk-container-id-1 div.sk-label:hover label.sk-toggleable__label {background-color: #d4ebff;}#sk-container-id-1 div.sk-serial::before {content: \"\";position: absolute;border-left: 1px solid gray;box-sizing: border-box;top: 0;bottom: 0;left: 50%;z-index: 0;}#sk-container-id-1 div.sk-serial {display: flex;flex-direction: column;align-items: center;background-color: white;padding-right: 0.2em;padding-left: 0.2em;position: relative;}#sk-container-id-1 div.sk-item {position: relative;z-index: 1;}#sk-container-id-1 div.sk-parallel {display: flex;align-items: stretch;justify-content: center;background-color: white;position: relative;}#sk-container-id-1 div.sk-item::before, #sk-container-id-1 div.sk-parallel-item::before {content: \"\";position: absolute;border-left: 1px solid gray;box-sizing: border-box;top: 0;bottom: 0;left: 50%;z-index: -1;}#sk-container-id-1 div.sk-parallel-item {display: flex;flex-direction: column;z-index: 1;position: relative;background-color: white;}#sk-container-id-1 div.sk-parallel-item:first-child::after {align-self: flex-end;width: 50%;}#sk-container-id-1 div.sk-parallel-item:last-child::after {align-self: flex-start;width: 50%;}#sk-container-id-1 div.sk-parallel-item:only-child::after {width: 0;}#sk-container-id-1 div.sk-dashed-wrapped {border: 1px dashed gray;margin: 0 0.4em 0.5em 0.4em;box-sizing: border-box;padding-bottom: 0.4em;background-color: white;}#sk-container-id-1 div.sk-label label {font-family: monospace;font-weight: bold;display: inline-block;line-height: 1.2em;}#sk-container-id-1 div.sk-label-container {text-align: center;}#sk-container-id-1 div.sk-container {/* jupyter's `normalize.less` sets `[hidden] { display: none; }` but bootstrap.min.css set `[hidden] { display: none !important; }` so we also need the `!important` here to be able to override the default hidden behavior on the sphinx rendered scikit-learn.org. See: https://github.com/scikit-learn/scikit-learn/issues/21755 */display: inline-block !important;position: relative;}#sk-container-id-1 div.sk-text-repr-fallback {display: none;}</style><div id=\"sk-container-id-1\" class=\"sk-top-container\"><div class=\"sk-text-repr-fallback\"><pre>Pipeline(steps=[(&#x27;tfidf&#x27;, TfidfVectorizer()), (&#x27;clf&#x27;, LinearSVC())])</pre><b>In a Jupyter environment, please rerun this cell to show the HTML representation or trust the notebook. <br />On GitHub, the HTML representation is unable to render, please try loading this page with nbviewer.org.</b></div><div class=\"sk-container\" hidden><div class=\"sk-item sk-dashed-wrapped\"><div class=\"sk-label-container\"><div class=\"sk-label sk-toggleable\"><input class=\"sk-toggleable__control sk-hidden--visually\" id=\"sk-estimator-id-1\" type=\"checkbox\" ><label for=\"sk-estimator-id-1\" class=\"sk-toggleable__label sk-toggleable__label-arrow\">Pipeline</label><div class=\"sk-toggleable__content\"><pre>Pipeline(steps=[(&#x27;tfidf&#x27;, TfidfVectorizer()), (&#x27;clf&#x27;, LinearSVC())])</pre></div></div></div><div class=\"sk-serial\"><div class=\"sk-item\"><div class=\"sk-estimator sk-toggleable\"><input class=\"sk-toggleable__control sk-hidden--visually\" id=\"sk-estimator-id-2\" type=\"checkbox\" ><label for=\"sk-estimator-id-2\" class=\"sk-toggleable__label sk-toggleable__label-arrow\">TfidfVectorizer</label><div class=\"sk-toggleable__content\"><pre>TfidfVectorizer()</pre></div></div></div><div class=\"sk-item\"><div class=\"sk-estimator sk-toggleable\"><input class=\"sk-toggleable__control sk-hidden--visually\" id=\"sk-estimator-id-3\" type=\"checkbox\" ><label for=\"sk-estimator-id-3\" class=\"sk-toggleable__label sk-toggleable__label-arrow\">LinearSVC</label><div class=\"sk-toggleable__content\"><pre>LinearSVC()</pre></div></div></div></div></div></div></div>"
            ]
          },
          "metadata": {},
          "execution_count": 77
        }
      ]
    },
    {
      "cell_type": "code",
      "source": [
        "predictions = text_clf.predict(X_test)"
      ],
      "metadata": {
        "id": "_0uXjSqXAbPW"
      },
      "execution_count": null,
      "outputs": []
    },
    {
      "cell_type": "code",
      "source": [
        "# Checking performance using confusion matrix\n",
        "from sklearn.metrics import confusion_matrix, classification_report\n",
        "from sklearn import metrics\n",
        "print(confusion_matrix(y_test, predictions))\n",
        "print(classification_report(y_test, predictions))\n",
        "print(f\"Accuracy {metrics.accuracy_score(y_test, predictions)}\")"
      ],
      "metadata": {
        "colab": {
          "base_uri": "https://localhost:8080/"
        },
        "id": "YzxATtYOApNg",
        "outputId": "338f50c7-de0e-4209-ae59-6628d5003a5a"
      },
      "execution_count": null,
      "outputs": [
        {
          "output_type": "stream",
          "name": "stdout",
          "text": [
            "[[ 4  0  0  0  0  0  0  0]\n",
            " [ 0  3  0  0  0  0  0  0]\n",
            " [ 0  0 16  0  1  1  0  0]\n",
            " [ 1  0  0  4  0  0  0  0]\n",
            " [ 3  0  2  0  5  1  0  0]\n",
            " [ 0  0  0  0  0  4  0  0]\n",
            " [ 0  0  2  0  0  0  0  0]\n",
            " [ 0  2  1  0  0  0  0  0]]\n",
            "                                          precision    recall  f1-score   support\n",
            "\n",
            "                           Ekonomi Lokal       0.50      1.00      0.67         4\n",
            "Infrastruktur, Pembangunan dan Perumahan       0.60      1.00      0.75         3\n",
            "             Keamanan dan Layanan Publik       0.76      0.89      0.82        18\n",
            "                        Kesehatan Publik       1.00      0.80      0.89         5\n",
            "        Lingkungan dan Partisipasi Warga       0.83      0.45      0.59        11\n",
            "                              Pendidikan       0.67      1.00      0.80         4\n",
            "                                 Politik       0.00      0.00      0.00         2\n",
            "                            Transportasi       0.00      0.00      0.00         3\n",
            "\n",
            "                                accuracy                           0.72        50\n",
            "                               macro avg       0.55      0.64      0.56        50\n",
            "                            weighted avg       0.69      0.72      0.68        50\n",
            "\n",
            "Accuracy 0.72\n"
          ]
        },
        {
          "output_type": "stream",
          "name": "stderr",
          "text": [
            "/usr/local/lib/python3.10/dist-packages/sklearn/metrics/_classification.py:1344: UndefinedMetricWarning: Precision and F-score are ill-defined and being set to 0.0 in labels with no predicted samples. Use `zero_division` parameter to control this behavior.\n",
            "  _warn_prf(average, modifier, msg_start, len(result))\n",
            "/usr/local/lib/python3.10/dist-packages/sklearn/metrics/_classification.py:1344: UndefinedMetricWarning: Precision and F-score are ill-defined and being set to 0.0 in labels with no predicted samples. Use `zero_division` parameter to control this behavior.\n",
            "  _warn_prf(average, modifier, msg_start, len(result))\n",
            "/usr/local/lib/python3.10/dist-packages/sklearn/metrics/_classification.py:1344: UndefinedMetricWarning: Precision and F-score are ill-defined and being set to 0.0 in labels with no predicted samples. Use `zero_division` parameter to control this behavior.\n",
            "  _warn_prf(average, modifier, msg_start, len(result))\n"
          ]
        }
      ]
    },
    {
      "cell_type": "markdown",
      "source": [
        "# Input Data"
      ],
      "metadata": {
        "id": "Y7RB23lXm393"
      }
    },
    {
      "cell_type": "code",
      "source": [
        "# Input\n",
        "text_url = 'https://raw.githubusercontent.com/TaillessTanuki/Berita_Banggai/main/input_text.csv'\n",
        "\n",
        "# Read CSV file with 'latin-1' encoding\n",
        "input_df = pd.read_csv(text_url, encoding='utf-8')\n",
        "\n",
        "# Convert all columns to string\n",
        "input_df = input_df.astype(str)"
      ],
      "metadata": {
        "id": "ZmVoxpgYjK49"
      },
      "execution_count": null,
      "outputs": []
    },
    {
      "cell_type": "code",
      "source": [
        "input_df.head()"
      ],
      "metadata": {
        "id": "SEWU_WUDt98k"
      },
      "execution_count": null,
      "outputs": []
    },
    {
      "cell_type": "markdown",
      "source": [
        "## Preprocessing"
      ],
      "metadata": {
        "id": "ypMTFDakovXo"
      }
    },
    {
      "cell_type": "code",
      "source": [
        "# Delete Duplicates\n",
        "input_df.duplicated(subset='title').sum()\n",
        "input_df = input_df.drop_duplicates(subset='title')\n",
        "\n",
        "# Delete Blank text (Nan) Rows\n",
        "input_df = input_df[input_df['text'] != '']\n",
        "\n",
        "# Case Folding\n",
        "def clean_lower(lwr):\n",
        "    lwr = lwr.lower() # lowercase text\n",
        "    return lwr\n",
        "\n",
        "input_df['lwr'] = input_df['text'].apply(clean_lower)\n",
        "input_df['lwr']\n",
        "\n",
        "\n",
        "# Remove Numbers\n",
        "def remove_numbers(text):\n",
        "  text = re.sub('[0-9]+', '', text)\n",
        "  return text\n",
        "\n",
        "input_df['clean_number'] = input_df['lwr'].apply(remove_numbers)\n",
        "input_df['clean_number']\n",
        "\n",
        "\n",
        "# Remove Punctuation\n",
        "clean_spcl = re.compile('[/(){}\\[\\]\\|@,;]')\n",
        "clean_symbol = re.compile('[^0-9a-z]')\n",
        "def clean_punct(text):\n",
        "    text = clean_spcl.sub('', text)\n",
        "    text = clean_symbol.sub(' ', text)\n",
        "    return text\n",
        "\n",
        "input_df['clean_punct'] = input_df['clean_number'].apply(clean_punct)\n",
        "input_df['clean_punct']\n",
        "\n",
        "\n",
        "# Delete Whitespaces\n",
        "def normalize_whitespace(text):\n",
        "    corrected = str(text)\n",
        "    corrected = re.sub(r\"//t\",r\"\\t\", corrected)\n",
        "    corrected = re.sub(r\"( )\\1+\",r\"\\1\", corrected)\n",
        "    corrected = re.sub(r\"(\\n)\\1+\",r\"\\1\", corrected)\n",
        "    corrected = re.sub(r\"(\\r)\\1+\",r\"\\1\", corrected)\n",
        "    corrected = re.sub(r\"(\\t)\\1+\",r\"\\1\", corrected)\n",
        "    return corrected.strip(\" \")\n",
        "\n",
        "input_df['clean_double_ws'] = input_df['clean_punct'].apply(normalize_whitespace)\n",
        "input_df['clean_double_ws']\n"
      ],
      "metadata": {
        "id": "VbX305x1oywh"
      },
      "execution_count": null,
      "outputs": []
    },
    {
      "cell_type": "code",
      "source": [
        "len(input_df)"
      ],
      "metadata": {
        "id": "SWMa0q52qfy4"
      },
      "execution_count": null,
      "outputs": []
    },
    {
      "cell_type": "code",
      "source": [
        "input_df.head()"
      ],
      "metadata": {
        "id": "3WGgr4UyqaNX"
      },
      "execution_count": null,
      "outputs": []
    },
    {
      "cell_type": "code",
      "source": [
        "# Adding Stopwords\n",
        "url1 = 'https://raw.githubusercontent.com/TaillessTanuki/Berita_Banggai/main/ID-stopwords_banggai_addedwords.csv'\n",
        "df_stopword1 = pd.read_csv(url1, delimiter = \";\",encoding='cp1252')\n",
        "\n",
        "url2 = 'https://raw.githubusercontent.com/TaillessTanuki/Berita_Banggai/main/ID-Stopwords(MasDevid).csv'\n",
        "df_stopword2 = pd.read_csv(url2, delimiter = \";\",encoding='cp1252')\n",
        "\n",
        "custom_stopword1 = list(df_stopword1['stopword'])\n",
        "custom_stopword2 = list(df_stopword2['Stopwords'])\n",
        "\n",
        "factory = StopWordRemoverFactory()\n",
        "stopwords = factory.get_stop_words() + custom_stopword1 + custom_stopword2\n",
        "\n",
        "\n",
        "# 1st Stopwords Removal\n",
        "def filtering(text):\n",
        "  stop = stopword.remove(text)\n",
        "  return stop\n",
        "\n",
        "input_df['filtered'] = input_df['clean_double_ws'].apply(filtering)\n",
        "input_df['filtered']\n",
        "\n",
        "\n",
        "# Stemming\n",
        "from Sastrawi.Stemmer.StemmerFactory import StemmerFactory\n",
        "stem_factory = StemmerFactory()\n",
        "stemmer = stem_factory.create_stemmer()\n",
        "\n",
        "def stem(text):\n",
        "  return stemmer.stem(text)\n",
        "\n",
        "input_df['stemmed'] = input_df['filtered'].apply(stem)\n",
        "input_df['stemmed']\n",
        "\n",
        "\n",
        "# Tokenizing\n",
        "def tokenize(text):\n",
        "  tokens = nltk.tokenize.word_tokenize(text)\n",
        "  return tokens\n",
        "\n",
        "input_df['tokenized'] = input_df['stemmed'].apply(tokenize)\n",
        "input_df['tokenized']\n",
        "\n",
        "\n",
        "# 2nd Stopwords Removal\n",
        "# Define a function to remove stopwords from a list of tokens\n",
        "def remove_stopwords(tokens):\n",
        "    return [word for word in tokens if word not in stopwords]\n",
        "\n",
        "# Apply the remove_stopwords function to each row in the 'tokenized' column\n",
        "input_df['filtered2'] = input_df['tokenized'].apply(lambda tokens: remove_stopwords(tokens))"
      ],
      "metadata": {
        "id": "06iX4I5RkRQF"
      },
      "execution_count": null,
      "outputs": []
    },
    {
      "cell_type": "code",
      "source": [
        "input_df.head()"
      ],
      "metadata": {
        "id": "OUYdUqXHs83w"
      },
      "execution_count": null,
      "outputs": []
    },
    {
      "cell_type": "code",
      "source": [
        "#input_df.drop(columns=['predictions'], inplace=True)"
      ],
      "metadata": {
        "id": "ANhUfqmMzZtH"
      },
      "execution_count": null,
      "outputs": []
    },
    {
      "cell_type": "code",
      "source": [
        "# Convert tokenized text to string representation\n",
        "#text_strings = [' '.join(doc) for doc in df['tokenized']]\n",
        "input_df['text2'] = input_df['tokenized'].apply(lambda x: ' '.join(x))\n"
      ],
      "metadata": {
        "id": "snJSk_5ULzDL"
      },
      "execution_count": null,
      "outputs": []
    },
    {
      "cell_type": "code",
      "source": [
        "input_df.head()"
      ],
      "metadata": {
        "id": "pbEpcDfOzCw4"
      },
      "execution_count": null,
      "outputs": []
    },
    {
      "cell_type": "markdown",
      "source": [
        "# Predicting Input Data"
      ],
      "metadata": {
        "id": "RTE8VdSp0jM0"
      }
    },
    {
      "cell_type": "code",
      "source": [
        "\n",
        "# Assuming 'selected_features' is a list of feature names used during model training\n",
        "X_input = input_df['text2']\n",
        "\n",
        "# 3. Predict using the model\n",
        "predictions = text_clf.predict(X_input)\n",
        "\n",
        "# 4. Add predictions to a new column in the DataFrame\n",
        "input_df['topic'] = predictions"
      ],
      "metadata": {
        "id": "VMWEUJw60mtW"
      },
      "execution_count": null,
      "outputs": []
    },
    {
      "cell_type": "code",
      "source": [
        "input_df.head()"
      ],
      "metadata": {
        "id": "zicdjt5XL6AT"
      },
      "execution_count": null,
      "outputs": []
    },
    {
      "cell_type": "markdown",
      "source": [
        "\n",
        "\n",
        "```\n",
        "# This is formatted as code\n",
        "```\n",
        "\n",
        "## Convert input_df to csv"
      ],
      "metadata": {
        "id": "2opI8g0QULEZ"
      }
    },
    {
      "cell_type": "code",
      "source": [
        "# Assuming 'df' is your existing DataFrame and 'columns_to_keep' is a list of column names you want to keep\n",
        "columns_to_keep = ['title', 'text', 'topic']  # Adjust with your desired column names\n",
        "\n",
        "# Create a new DataFrame with only the selected columns\n",
        "final_text = input_df[columns_to_keep].copy()\n",
        "\n",
        "final_text.to_csv('final_text.csv', index=False)"
      ],
      "metadata": {
        "id": "XZdWBF5DMVUg"
      },
      "execution_count": null,
      "outputs": []
    },
    {
      "cell_type": "code",
      "source": [
        "import pickle\n",
        "#pickle.dump(model, open('model_name_you_want_to_save_as.sav', 'wb'))\n",
        "pickle.dump(text_clf, open('text_classifier.sav', 'wb'))"
      ],
      "metadata": {
        "id": "oLNqsi_i_hpT"
      },
      "execution_count": null,
      "outputs": []
    }
  ]
}