{
  "nbformat": 4,
  "nbformat_minor": 0,
  "metadata": {
    "colab": {
      "provenance": [],
      "collapsed_sections": [
        "LnldCt2zkih_",
        "vZVKauuAkyDI"
      ],
      "toc_visible": true
    },
    "kernelspec": {
      "name": "python3",
      "display_name": "Python 3"
    },
    "language_info": {
      "name": "python"
    }
  },
  "cells": [
    {
      "cell_type": "markdown",
      "source": [
        "This Note is using english/vander method"
      ],
      "metadata": {
        "id": "Kl689HjLdy-W"
      }
    },
    {
      "cell_type": "markdown",
      "metadata": {
        "id": "Wj172v-Yd1-_"
      },
      "source": [
        "# Libraries"
      ]
    },
    {
      "cell_type": "code",
      "execution_count": null,
      "metadata": {
        "id": "MjWHRVR5ahdx"
      },
      "outputs": [],
      "source": [
        "!pip install Sastrawi\n",
        "!pip install clean-text\n",
        "!pip install deep-translator"
      ]
    },
    {
      "cell_type": "code",
      "execution_count": null,
      "metadata": {
        "colab": {
          "base_uri": "https://localhost:8080/"
        },
        "id": "6Nsz9j1DEJXD",
        "outputId": "fc15747f-63c6-47bf-9bff-5651a4cf7572"
      },
      "outputs": [
        {
          "output_type": "stream",
          "name": "stderr",
          "text": [
            "[nltk_data] Downloading package stopwords to /root/nltk_data...\n",
            "[nltk_data]   Unzipping corpora/stopwords.zip.\n",
            "[nltk_data] Downloading package wordnet to /root/nltk_data...\n",
            "[nltk_data] Downloading package punkt to /root/nltk_data...\n",
            "[nltk_data]   Unzipping tokenizers/punkt.zip.\n",
            "WARNING:root:Since the GPL-licensed package `unidecode` is not installed, using Python's `unicodedata` package which yields worse results.\n"
          ]
        }
      ],
      "source": [
        "import pandas as pd\n",
        "import numpy as np\n",
        "from nltk.corpus import stopwords\n",
        "import re\n",
        "import nltk\n",
        "nltk.download('stopwords')\n",
        "nltk.download('wordnet')\n",
        "nltk.download('punkt')\n",
        "from nltk.stem import PorterStemmer\n",
        "from nltk.stem import LancasterStemmer\n",
        "from nltk.tokenize import word_tokenize\n",
        "from Sastrawi.Stemmer.StemmerFactory import StemmerFactory\n",
        "from Sastrawi.StopWordRemover.StopWordRemoverFactory import StopWordRemoverFactory, StopWordRemover, ArrayDictionary\n",
        "from cleantext import clean\n",
        "from collections import Counter"
      ]
    },
    {
      "cell_type": "code",
      "source": [
        "import sklearn"
      ],
      "metadata": {
        "id": "fSui9eOPzRQ0"
      },
      "execution_count": null,
      "outputs": []
    },
    {
      "cell_type": "code",
      "execution_count": null,
      "metadata": {
        "id": "cKKzjVp3T644"
      },
      "outputs": [],
      "source": [
        "# !pip freeze > requirements.txt"
      ]
    },
    {
      "cell_type": "markdown",
      "metadata": {
        "id": "tCl5GW_rd6yk"
      },
      "source": [
        "# Get Data from ES and prepare DF"
      ]
    },
    {
      "cell_type": "code",
      "source": [
        "import requests\n",
        "import json"
      ],
      "metadata": {
        "id": "xO6kQ22cOqRq"
      },
      "execution_count": null,
      "outputs": []
    },
    {
      "cell_type": "code",
      "source": [
        "elasticsearch_url = 'https://es-1.datanusantara.com:9201'\n",
        "username = 'adminkibana'\n",
        "password = 'kibanaPASS!@#2019'\n",
        "index_endpoint = 'news-crawl-production-v2'"
      ],
      "metadata": {
        "id": "4pn24T_0gMva"
      },
      "execution_count": null,
      "outputs": []
    },
    {
      "cell_type": "code",
      "source": [
        "query = {\n",
        "  \"_source\": [\"target\", \"title\",\"description_content\"],\n",
        "  \"size\": 600,\n",
        "  \"query\": {\n",
        "    \"bool\": {\n",
        "      \"must\": [],\n",
        "      \"filter\": [\n",
        "        {\n",
        "          \"match_all\": {}\n",
        "        },\n",
        "        {\n",
        "          \"bool\": {\n",
        "            \"should\": [\n",
        "\n",
        "\n",
        "              {\n",
        "                \"match_phrase\": {\n",
        "                  \"target\": \"banggai\"\n",
        "                }\n",
        "              }\n",
        "            ],\n",
        "            \"minimum_should_match\": 1\n",
        "\n",
        "\n",
        "          }\n",
        "        }\n",
        "      ]\n",
        "    }\n",
        "  }\n",
        "}\n",
        "search_url = f\"{elasticsearch_url}/{index_endpoint}/_search\"\n",
        "response = requests.get(search_url, json=query, auth=(username, password))\n",
        "\n",
        "search_url"
      ],
      "metadata": {
        "id": "j4AoD9uyU15U",
        "colab": {
          "base_uri": "https://localhost:8080/",
          "height": 36
        },
        "outputId": "e656b6ad-e60b-4a76-8d27-d1013f4b0b74"
      },
      "execution_count": null,
      "outputs": [
        {
          "output_type": "execute_result",
          "data": {
            "text/plain": [
              "'https://es-1.datanusantara.com:9201/news-crawl-production-v2/_search'"
            ],
            "application/vnd.google.colaboratory.intrinsic+json": {
              "type": "string"
            }
          },
          "metadata": {},
          "execution_count": 6
        }
      ]
    },
    {
      "cell_type": "code",
      "source": [
        "search_results = response.json()\n",
        "# print(json.dumps(search_results, indent=2))\n",
        "print(len(search_results['hits']['hits']))"
      ],
      "metadata": {
        "colab": {
          "base_uri": "https://localhost:8080/"
        },
        "id": "sypB3sgkhaeM",
        "outputId": "5d67adc1-e081-4641-c240-30e0bf998761"
      },
      "execution_count": null,
      "outputs": [
        {
          "output_type": "stream",
          "name": "stdout",
          "text": [
            "600\n"
          ]
        }
      ]
    },
    {
      "cell_type": "code",
      "source": [
        "# Parse the response to extract relevant data\n",
        "search_results = response.json()\n",
        "\n",
        "# Process the data and create a DataFrame\n",
        "data = []\n",
        "for hit in search_results.get(\"hits\", {}).get(\"hits\", []):\n",
        "    target = hit[\"_source\"][\"target\"]\n",
        "    title = hit[\"_source\"][\"title\"]\n",
        "    text = hit[\"_source\"][\"description_content\"]\n",
        "\n",
        "    data.append({\"target\": target,  \"title\": title, \"text\": text})\n",
        "\n",
        "# Create a DataFrame\n",
        "df = pd.DataFrame(data)\n",
        "print(df.head())"
      ],
      "metadata": {
        "colab": {
          "base_uri": "https://localhost:8080/"
        },
        "id": "yL2c5GX7QryB",
        "outputId": "f229b2b9-1319-4b98-efdc-740e36c8472e"
      },
      "execution_count": null,
      "outputs": [
        {
          "output_type": "stream",
          "name": "stdout",
          "text": [
            "    target                                              title  \\\n",
            "0  banggai  Mobil Sim Keliling Polres Banggai Meriahkan Pa...   \n",
            "1  banggai  Film Horor “Piara Mayat”,  Kreativitas Anak Mu...   \n",
            "2  banggai  Festival Malabot Tumbe 2023 Kembali Meriahkan ...   \n",
            "3  banggai  Rakor Kampanye Damai Pemilu 2024, Polres Bangg...   \n",
            "4  banggai  Bawaslu Banggai Perkuat Koordinasi dengan Panw...   \n",
            "\n",
            "                                                text  \n",
            "0  KABAR LUWUK –  Suasana Pasar Murah bersubsidi ...  \n",
            "1  KABAR LUWUK  –  Film Horor“Piara Mayat”,Kreati...  \n",
            "2  KABAR LUWUK  –Festival Malabot Tumbe 2023Kemba...  \n",
            "3  “Kerja Cepat dan Terkoordinir dalam Penerbitan...  \n",
            "4  KABAR LUWUK  –Bawaslu BanggaiPerkuat Koordinas...  \n"
          ]
        }
      ]
    },
    {
      "cell_type": "code",
      "source": [
        "# Drop Unnamed column\n",
        "df.drop(df.columns[df.columns.str.contains(\n",
        "    'unnamed', case=False)], axis=1, inplace=True)"
      ],
      "metadata": {
        "id": "H4GhSEKLRE1b"
      },
      "execution_count": null,
      "outputs": []
    },
    {
      "cell_type": "code",
      "source": [
        "df.head()"
      ],
      "metadata": {
        "id": "OnK_8zLtrQHE",
        "colab": {
          "base_uri": "https://localhost:8080/",
          "height": 206
        },
        "outputId": "95e69809-ee60-4f45-e4bf-b5d6236c5cea"
      },
      "execution_count": null,
      "outputs": [
        {
          "output_type": "execute_result",
          "data": {
            "text/plain": [
              "    target                                              title  \\\n",
              "0  banggai  Mobil Sim Keliling Polres Banggai Meriahkan Pa...   \n",
              "1  banggai  Film Horor “Piara Mayat”,  Kreativitas Anak Mu...   \n",
              "2  banggai  Festival Malabot Tumbe 2023 Kembali Meriahkan ...   \n",
              "3  banggai  Rakor Kampanye Damai Pemilu 2024, Polres Bangg...   \n",
              "4  banggai  Bawaslu Banggai Perkuat Koordinasi dengan Panw...   \n",
              "\n",
              "                                                text  \n",
              "0  KABAR LUWUK –  Suasana Pasar Murah bersubsidi ...  \n",
              "1  KABAR LUWUK  –  Film Horor“Piara Mayat”,Kreati...  \n",
              "2  KABAR LUWUK  –Festival Malabot Tumbe 2023Kemba...  \n",
              "3  “Kerja Cepat dan Terkoordinir dalam Penerbitan...  \n",
              "4  KABAR LUWUK  –Bawaslu BanggaiPerkuat Koordinas...  "
            ],
            "text/html": [
              "\n",
              "  <div id=\"df-09dc0d54-0e81-4529-84dc-bee8554d4ab1\" class=\"colab-df-container\">\n",
              "    <div>\n",
              "<style scoped>\n",
              "    .dataframe tbody tr th:only-of-type {\n",
              "        vertical-align: middle;\n",
              "    }\n",
              "\n",
              "    .dataframe tbody tr th {\n",
              "        vertical-align: top;\n",
              "    }\n",
              "\n",
              "    .dataframe thead th {\n",
              "        text-align: right;\n",
              "    }\n",
              "</style>\n",
              "<table border=\"1\" class=\"dataframe\">\n",
              "  <thead>\n",
              "    <tr style=\"text-align: right;\">\n",
              "      <th></th>\n",
              "      <th>target</th>\n",
              "      <th>title</th>\n",
              "      <th>text</th>\n",
              "    </tr>\n",
              "  </thead>\n",
              "  <tbody>\n",
              "    <tr>\n",
              "      <th>0</th>\n",
              "      <td>banggai</td>\n",
              "      <td>Mobil Sim Keliling Polres Banggai Meriahkan Pa...</td>\n",
              "      <td>KABAR LUWUK –  Suasana Pasar Murah bersubsidi ...</td>\n",
              "    </tr>\n",
              "    <tr>\n",
              "      <th>1</th>\n",
              "      <td>banggai</td>\n",
              "      <td>Film Horor “Piara Mayat”,  Kreativitas Anak Mu...</td>\n",
              "      <td>KABAR LUWUK  –  Film Horor“Piara Mayat”,Kreati...</td>\n",
              "    </tr>\n",
              "    <tr>\n",
              "      <th>2</th>\n",
              "      <td>banggai</td>\n",
              "      <td>Festival Malabot Tumbe 2023 Kembali Meriahkan ...</td>\n",
              "      <td>KABAR LUWUK  –Festival Malabot Tumbe 2023Kemba...</td>\n",
              "    </tr>\n",
              "    <tr>\n",
              "      <th>3</th>\n",
              "      <td>banggai</td>\n",
              "      <td>Rakor Kampanye Damai Pemilu 2024, Polres Bangg...</td>\n",
              "      <td>“Kerja Cepat dan Terkoordinir dalam Penerbitan...</td>\n",
              "    </tr>\n",
              "    <tr>\n",
              "      <th>4</th>\n",
              "      <td>banggai</td>\n",
              "      <td>Bawaslu Banggai Perkuat Koordinasi dengan Panw...</td>\n",
              "      <td>KABAR LUWUK  –Bawaslu BanggaiPerkuat Koordinas...</td>\n",
              "    </tr>\n",
              "  </tbody>\n",
              "</table>\n",
              "</div>\n",
              "    <div class=\"colab-df-buttons\">\n",
              "\n",
              "  <div class=\"colab-df-container\">\n",
              "    <button class=\"colab-df-convert\" onclick=\"convertToInteractive('df-09dc0d54-0e81-4529-84dc-bee8554d4ab1')\"\n",
              "            title=\"Convert this dataframe to an interactive table.\"\n",
              "            style=\"display:none;\">\n",
              "\n",
              "  <svg xmlns=\"http://www.w3.org/2000/svg\" height=\"24px\" viewBox=\"0 -960 960 960\">\n",
              "    <path d=\"M120-120v-720h720v720H120Zm60-500h600v-160H180v160Zm220 220h160v-160H400v160Zm0 220h160v-160H400v160ZM180-400h160v-160H180v160Zm440 0h160v-160H620v160ZM180-180h160v-160H180v160Zm440 0h160v-160H620v160Z\"/>\n",
              "  </svg>\n",
              "    </button>\n",
              "\n",
              "  <style>\n",
              "    .colab-df-container {\n",
              "      display:flex;\n",
              "      gap: 12px;\n",
              "    }\n",
              "\n",
              "    .colab-df-convert {\n",
              "      background-color: #E8F0FE;\n",
              "      border: none;\n",
              "      border-radius: 50%;\n",
              "      cursor: pointer;\n",
              "      display: none;\n",
              "      fill: #1967D2;\n",
              "      height: 32px;\n",
              "      padding: 0 0 0 0;\n",
              "      width: 32px;\n",
              "    }\n",
              "\n",
              "    .colab-df-convert:hover {\n",
              "      background-color: #E2EBFA;\n",
              "      box-shadow: 0px 1px 2px rgba(60, 64, 67, 0.3), 0px 1px 3px 1px rgba(60, 64, 67, 0.15);\n",
              "      fill: #174EA6;\n",
              "    }\n",
              "\n",
              "    .colab-df-buttons div {\n",
              "      margin-bottom: 4px;\n",
              "    }\n",
              "\n",
              "    [theme=dark] .colab-df-convert {\n",
              "      background-color: #3B4455;\n",
              "      fill: #D2E3FC;\n",
              "    }\n",
              "\n",
              "    [theme=dark] .colab-df-convert:hover {\n",
              "      background-color: #434B5C;\n",
              "      box-shadow: 0px 1px 3px 1px rgba(0, 0, 0, 0.15);\n",
              "      filter: drop-shadow(0px 1px 2px rgba(0, 0, 0, 0.3));\n",
              "      fill: #FFFFFF;\n",
              "    }\n",
              "  </style>\n",
              "\n",
              "    <script>\n",
              "      const buttonEl =\n",
              "        document.querySelector('#df-09dc0d54-0e81-4529-84dc-bee8554d4ab1 button.colab-df-convert');\n",
              "      buttonEl.style.display =\n",
              "        google.colab.kernel.accessAllowed ? 'block' : 'none';\n",
              "\n",
              "      async function convertToInteractive(key) {\n",
              "        const element = document.querySelector('#df-09dc0d54-0e81-4529-84dc-bee8554d4ab1');\n",
              "        const dataTable =\n",
              "          await google.colab.kernel.invokeFunction('convertToInteractive',\n",
              "                                                    [key], {});\n",
              "        if (!dataTable) return;\n",
              "\n",
              "        const docLinkHtml = 'Like what you see? Visit the ' +\n",
              "          '<a target=\"_blank\" href=https://colab.research.google.com/notebooks/data_table.ipynb>data table notebook</a>'\n",
              "          + ' to learn more about interactive tables.';\n",
              "        element.innerHTML = '';\n",
              "        dataTable['output_type'] = 'display_data';\n",
              "        await google.colab.output.renderOutput(dataTable, element);\n",
              "        const docLink = document.createElement('div');\n",
              "        docLink.innerHTML = docLinkHtml;\n",
              "        element.appendChild(docLink);\n",
              "      }\n",
              "    </script>\n",
              "  </div>\n",
              "\n",
              "\n",
              "<div id=\"df-efa92950-3ec3-42c2-9aee-7e5dd895d357\">\n",
              "  <button class=\"colab-df-quickchart\" onclick=\"quickchart('df-efa92950-3ec3-42c2-9aee-7e5dd895d357')\"\n",
              "            title=\"Suggest charts\"\n",
              "            style=\"display:none;\">\n",
              "\n",
              "<svg xmlns=\"http://www.w3.org/2000/svg\" height=\"24px\"viewBox=\"0 0 24 24\"\n",
              "     width=\"24px\">\n",
              "    <g>\n",
              "        <path d=\"M19 3H5c-1.1 0-2 .9-2 2v14c0 1.1.9 2 2 2h14c1.1 0 2-.9 2-2V5c0-1.1-.9-2-2-2zM9 17H7v-7h2v7zm4 0h-2V7h2v10zm4 0h-2v-4h2v4z\"/>\n",
              "    </g>\n",
              "</svg>\n",
              "  </button>\n",
              "\n",
              "<style>\n",
              "  .colab-df-quickchart {\n",
              "      --bg-color: #E8F0FE;\n",
              "      --fill-color: #1967D2;\n",
              "      --hover-bg-color: #E2EBFA;\n",
              "      --hover-fill-color: #174EA6;\n",
              "      --disabled-fill-color: #AAA;\n",
              "      --disabled-bg-color: #DDD;\n",
              "  }\n",
              "\n",
              "  [theme=dark] .colab-df-quickchart {\n",
              "      --bg-color: #3B4455;\n",
              "      --fill-color: #D2E3FC;\n",
              "      --hover-bg-color: #434B5C;\n",
              "      --hover-fill-color: #FFFFFF;\n",
              "      --disabled-bg-color: #3B4455;\n",
              "      --disabled-fill-color: #666;\n",
              "  }\n",
              "\n",
              "  .colab-df-quickchart {\n",
              "    background-color: var(--bg-color);\n",
              "    border: none;\n",
              "    border-radius: 50%;\n",
              "    cursor: pointer;\n",
              "    display: none;\n",
              "    fill: var(--fill-color);\n",
              "    height: 32px;\n",
              "    padding: 0;\n",
              "    width: 32px;\n",
              "  }\n",
              "\n",
              "  .colab-df-quickchart:hover {\n",
              "    background-color: var(--hover-bg-color);\n",
              "    box-shadow: 0 1px 2px rgba(60, 64, 67, 0.3), 0 1px 3px 1px rgba(60, 64, 67, 0.15);\n",
              "    fill: var(--button-hover-fill-color);\n",
              "  }\n",
              "\n",
              "  .colab-df-quickchart-complete:disabled,\n",
              "  .colab-df-quickchart-complete:disabled:hover {\n",
              "    background-color: var(--disabled-bg-color);\n",
              "    fill: var(--disabled-fill-color);\n",
              "    box-shadow: none;\n",
              "  }\n",
              "\n",
              "  .colab-df-spinner {\n",
              "    border: 2px solid var(--fill-color);\n",
              "    border-color: transparent;\n",
              "    border-bottom-color: var(--fill-color);\n",
              "    animation:\n",
              "      spin 1s steps(1) infinite;\n",
              "  }\n",
              "\n",
              "  @keyframes spin {\n",
              "    0% {\n",
              "      border-color: transparent;\n",
              "      border-bottom-color: var(--fill-color);\n",
              "      border-left-color: var(--fill-color);\n",
              "    }\n",
              "    20% {\n",
              "      border-color: transparent;\n",
              "      border-left-color: var(--fill-color);\n",
              "      border-top-color: var(--fill-color);\n",
              "    }\n",
              "    30% {\n",
              "      border-color: transparent;\n",
              "      border-left-color: var(--fill-color);\n",
              "      border-top-color: var(--fill-color);\n",
              "      border-right-color: var(--fill-color);\n",
              "    }\n",
              "    40% {\n",
              "      border-color: transparent;\n",
              "      border-right-color: var(--fill-color);\n",
              "      border-top-color: var(--fill-color);\n",
              "    }\n",
              "    60% {\n",
              "      border-color: transparent;\n",
              "      border-right-color: var(--fill-color);\n",
              "    }\n",
              "    80% {\n",
              "      border-color: transparent;\n",
              "      border-right-color: var(--fill-color);\n",
              "      border-bottom-color: var(--fill-color);\n",
              "    }\n",
              "    90% {\n",
              "      border-color: transparent;\n",
              "      border-bottom-color: var(--fill-color);\n",
              "    }\n",
              "  }\n",
              "</style>\n",
              "\n",
              "  <script>\n",
              "    async function quickchart(key) {\n",
              "      const quickchartButtonEl =\n",
              "        document.querySelector('#' + key + ' button');\n",
              "      quickchartButtonEl.disabled = true;  // To prevent multiple clicks.\n",
              "      quickchartButtonEl.classList.add('colab-df-spinner');\n",
              "      try {\n",
              "        const charts = await google.colab.kernel.invokeFunction(\n",
              "            'suggestCharts', [key], {});\n",
              "      } catch (error) {\n",
              "        console.error('Error during call to suggestCharts:', error);\n",
              "      }\n",
              "      quickchartButtonEl.classList.remove('colab-df-spinner');\n",
              "      quickchartButtonEl.classList.add('colab-df-quickchart-complete');\n",
              "    }\n",
              "    (() => {\n",
              "      let quickchartButtonEl =\n",
              "        document.querySelector('#df-efa92950-3ec3-42c2-9aee-7e5dd895d357 button');\n",
              "      quickchartButtonEl.style.display =\n",
              "        google.colab.kernel.accessAllowed ? 'block' : 'none';\n",
              "    })();\n",
              "  </script>\n",
              "</div>\n",
              "    </div>\n",
              "  </div>\n"
            ],
            "application/vnd.google.colaboratory.intrinsic+json": {
              "type": "dataframe",
              "variable_name": "df",
              "summary": "{\n  \"name\": \"df\",\n  \"rows\": 600,\n  \"fields\": [\n    {\n      \"column\": \"target\",\n      \"properties\": {\n        \"dtype\": \"category\",\n        \"num_unique_values\": 1,\n        \"samples\": [\n          \"banggai\"\n        ],\n        \"semantic_type\": \"\",\n        \"description\": \"\"\n      }\n    },\n    {\n      \"column\": \"title\",\n      \"properties\": {\n        \"dtype\": \"string\",\n        \"num_unique_values\": 586,\n        \"samples\": [\n          \"Desa Saiyong, Banggai Kepulauan, Gelar Musyawarah Desa untuk Penetapan Penerima BLT-DD Tahun 2024\"\n        ],\n        \"semantic_type\": \"\",\n        \"description\": \"\"\n      }\n    },\n    {\n      \"column\": \"text\",\n      \"properties\": {\n        \"dtype\": \"string\",\n        \"num_unique_values\": 584,\n        \"samples\": [\n          \"Gempa bumi berkekuatan 5,1 magnitudo mengguncang Kabupaten Banggai Kepulauan, Sulawesi Tengah, Minggu (7/1) petang. Getaran dirasakan pukul 17.38 WIB atau 18.38 Wita. Pusat gempa berada di 86 km barat daya Banggai Kepulauan. \\\"Kedalaman 10 km,\\\" tulis BMKG di akun X.\"\n        ],\n        \"semantic_type\": \"\",\n        \"description\": \"\"\n      }\n    }\n  ]\n}"
            }
          },
          "metadata": {},
          "execution_count": 13
        }
      ]
    },
    {
      "cell_type": "markdown",
      "metadata": {
        "id": "gUEtMZPwYsWm"
      },
      "source": [
        "# Preprocessing"
      ]
    },
    {
      "cell_type": "markdown",
      "metadata": {
        "id": "1zxQ2fH4cJsF"
      },
      "source": [
        "## Delete Duplicates"
      ]
    },
    {
      "cell_type": "code",
      "execution_count": null,
      "metadata": {
        "colab": {
          "base_uri": "https://localhost:8080/"
        },
        "id": "QTIzTCJ-cZpF",
        "outputId": "512b229b-5cff-4764-c1d9-0547917808a2"
      },
      "outputs": [
        {
          "output_type": "execute_result",
          "data": {
            "text/plain": [
              "14"
            ]
          },
          "metadata": {},
          "execution_count": 10
        }
      ],
      "source": [
        "df.duplicated(subset='title').sum()\n"
      ]
    },
    {
      "cell_type": "code",
      "execution_count": null,
      "metadata": {
        "id": "rDSvUPZIcMrK"
      },
      "outputs": [],
      "source": [
        "df = df.drop_duplicates(subset='title')"
      ]
    },
    {
      "cell_type": "markdown",
      "source": [
        "## Deleting Blank (Nan) Rows"
      ],
      "metadata": {
        "id": "TlS01RHyg-xi"
      }
    },
    {
      "cell_type": "code",
      "source": [
        "df = df[df['text'] != '']"
      ],
      "metadata": {
        "id": "HqXzRDTAhCaE"
      },
      "execution_count": null,
      "outputs": []
    },
    {
      "cell_type": "code",
      "source": [
        "len(df)"
      ],
      "metadata": {
        "colab": {
          "base_uri": "https://localhost:8080/"
        },
        "id": "TnBM1DrUh2dv",
        "outputId": "d226613c-17a1-45fe-ba2b-e9a1bccc1802"
      },
      "execution_count": null,
      "outputs": [
        {
          "output_type": "execute_result",
          "data": {
            "text/plain": [
              "579"
            ]
          },
          "metadata": {},
          "execution_count": 13
        }
      ]
    },
    {
      "cell_type": "code",
      "source": [
        "#row_index = 127  # Index of the row you want to print (Python indexing starts from 0)\n",
        "#columns_to_print = ['title', 'text']  # List of column names to display\n",
        "\n",
        "# Use .loc[] to select the row by its index and specify the columns to display\n",
        "#row_data = df.loc[row_index, columns_to_print]\n",
        "\n",
        "#print(row_data)"
      ],
      "metadata": {
        "id": "FJAQFjrWhGj9"
      },
      "execution_count": null,
      "outputs": []
    },
    {
      "cell_type": "markdown",
      "source": [
        "## Translate to English"
      ],
      "metadata": {
        "id": "oYbhb3DUO9M0"
      }
    },
    {
      "cell_type": "code",
      "source": [
        "df = df.drop(columns=['lwr'])"
      ],
      "metadata": {
        "id": "GlKI7DEfPhIV"
      },
      "execution_count": null,
      "outputs": []
    },
    {
      "cell_type": "code",
      "source": [
        "df.head()"
      ],
      "metadata": {
        "colab": {
          "base_uri": "https://localhost:8080/",
          "height": 206
        },
        "id": "d7hDDrbZPeXn",
        "outputId": "4afe9fa3-efa8-43ac-a3f5-6f52c1162bdf"
      },
      "execution_count": null,
      "outputs": [
        {
          "output_type": "execute_result",
          "data": {
            "text/plain": [
              "    target                                              title  \\\n",
              "0  banggai  Mobil Sim Keliling Polres Banggai Meriahkan Pa...   \n",
              "1  banggai  Film Horor “Piara Mayat”,  Kreativitas Anak Mu...   \n",
              "2  banggai  Festival Malabot Tumbe 2023 Kembali Meriahkan ...   \n",
              "3  banggai  Rakor Kampanye Damai Pemilu 2024, Polres Bangg...   \n",
              "4  banggai  Bawaslu Banggai Perkuat Koordinasi dengan Panw...   \n",
              "\n",
              "                                                text  \n",
              "0  KABAR LUWUK –  Suasana Pasar Murah bersubsidi ...  \n",
              "1  KABAR LUWUK  –  Film Horor“Piara Mayat”,Kreati...  \n",
              "2  KABAR LUWUK  –Festival Malabot Tumbe 2023Kemba...  \n",
              "3  “Kerja Cepat dan Terkoordinir dalam Penerbitan...  \n",
              "4  KABAR LUWUK  –Bawaslu BanggaiPerkuat Koordinas...  "
            ],
            "text/html": [
              "\n",
              "  <div id=\"df-0d2990c4-3c67-4b5d-92f7-8772a043489c\" class=\"colab-df-container\">\n",
              "    <div>\n",
              "<style scoped>\n",
              "    .dataframe tbody tr th:only-of-type {\n",
              "        vertical-align: middle;\n",
              "    }\n",
              "\n",
              "    .dataframe tbody tr th {\n",
              "        vertical-align: top;\n",
              "    }\n",
              "\n",
              "    .dataframe thead th {\n",
              "        text-align: right;\n",
              "    }\n",
              "</style>\n",
              "<table border=\"1\" class=\"dataframe\">\n",
              "  <thead>\n",
              "    <tr style=\"text-align: right;\">\n",
              "      <th></th>\n",
              "      <th>target</th>\n",
              "      <th>title</th>\n",
              "      <th>text</th>\n",
              "    </tr>\n",
              "  </thead>\n",
              "  <tbody>\n",
              "    <tr>\n",
              "      <th>0</th>\n",
              "      <td>banggai</td>\n",
              "      <td>Mobil Sim Keliling Polres Banggai Meriahkan Pa...</td>\n",
              "      <td>KABAR LUWUK –  Suasana Pasar Murah bersubsidi ...</td>\n",
              "    </tr>\n",
              "    <tr>\n",
              "      <th>1</th>\n",
              "      <td>banggai</td>\n",
              "      <td>Film Horor “Piara Mayat”,  Kreativitas Anak Mu...</td>\n",
              "      <td>KABAR LUWUK  –  Film Horor“Piara Mayat”,Kreati...</td>\n",
              "    </tr>\n",
              "    <tr>\n",
              "      <th>2</th>\n",
              "      <td>banggai</td>\n",
              "      <td>Festival Malabot Tumbe 2023 Kembali Meriahkan ...</td>\n",
              "      <td>KABAR LUWUK  –Festival Malabot Tumbe 2023Kemba...</td>\n",
              "    </tr>\n",
              "    <tr>\n",
              "      <th>3</th>\n",
              "      <td>banggai</td>\n",
              "      <td>Rakor Kampanye Damai Pemilu 2024, Polres Bangg...</td>\n",
              "      <td>“Kerja Cepat dan Terkoordinir dalam Penerbitan...</td>\n",
              "    </tr>\n",
              "    <tr>\n",
              "      <th>4</th>\n",
              "      <td>banggai</td>\n",
              "      <td>Bawaslu Banggai Perkuat Koordinasi dengan Panw...</td>\n",
              "      <td>KABAR LUWUK  –Bawaslu BanggaiPerkuat Koordinas...</td>\n",
              "    </tr>\n",
              "  </tbody>\n",
              "</table>\n",
              "</div>\n",
              "    <div class=\"colab-df-buttons\">\n",
              "\n",
              "  <div class=\"colab-df-container\">\n",
              "    <button class=\"colab-df-convert\" onclick=\"convertToInteractive('df-0d2990c4-3c67-4b5d-92f7-8772a043489c')\"\n",
              "            title=\"Convert this dataframe to an interactive table.\"\n",
              "            style=\"display:none;\">\n",
              "\n",
              "  <svg xmlns=\"http://www.w3.org/2000/svg\" height=\"24px\" viewBox=\"0 -960 960 960\">\n",
              "    <path d=\"M120-120v-720h720v720H120Zm60-500h600v-160H180v160Zm220 220h160v-160H400v160Zm0 220h160v-160H400v160ZM180-400h160v-160H180v160Zm440 0h160v-160H620v160ZM180-180h160v-160H180v160Zm440 0h160v-160H620v160Z\"/>\n",
              "  </svg>\n",
              "    </button>\n",
              "\n",
              "  <style>\n",
              "    .colab-df-container {\n",
              "      display:flex;\n",
              "      gap: 12px;\n",
              "    }\n",
              "\n",
              "    .colab-df-convert {\n",
              "      background-color: #E8F0FE;\n",
              "      border: none;\n",
              "      border-radius: 50%;\n",
              "      cursor: pointer;\n",
              "      display: none;\n",
              "      fill: #1967D2;\n",
              "      height: 32px;\n",
              "      padding: 0 0 0 0;\n",
              "      width: 32px;\n",
              "    }\n",
              "\n",
              "    .colab-df-convert:hover {\n",
              "      background-color: #E2EBFA;\n",
              "      box-shadow: 0px 1px 2px rgba(60, 64, 67, 0.3), 0px 1px 3px 1px rgba(60, 64, 67, 0.15);\n",
              "      fill: #174EA6;\n",
              "    }\n",
              "\n",
              "    .colab-df-buttons div {\n",
              "      margin-bottom: 4px;\n",
              "    }\n",
              "\n",
              "    [theme=dark] .colab-df-convert {\n",
              "      background-color: #3B4455;\n",
              "      fill: #D2E3FC;\n",
              "    }\n",
              "\n",
              "    [theme=dark] .colab-df-convert:hover {\n",
              "      background-color: #434B5C;\n",
              "      box-shadow: 0px 1px 3px 1px rgba(0, 0, 0, 0.15);\n",
              "      filter: drop-shadow(0px 1px 2px rgba(0, 0, 0, 0.3));\n",
              "      fill: #FFFFFF;\n",
              "    }\n",
              "  </style>\n",
              "\n",
              "    <script>\n",
              "      const buttonEl =\n",
              "        document.querySelector('#df-0d2990c4-3c67-4b5d-92f7-8772a043489c button.colab-df-convert');\n",
              "      buttonEl.style.display =\n",
              "        google.colab.kernel.accessAllowed ? 'block' : 'none';\n",
              "\n",
              "      async function convertToInteractive(key) {\n",
              "        const element = document.querySelector('#df-0d2990c4-3c67-4b5d-92f7-8772a043489c');\n",
              "        const dataTable =\n",
              "          await google.colab.kernel.invokeFunction('convertToInteractive',\n",
              "                                                    [key], {});\n",
              "        if (!dataTable) return;\n",
              "\n",
              "        const docLinkHtml = 'Like what you see? Visit the ' +\n",
              "          '<a target=\"_blank\" href=https://colab.research.google.com/notebooks/data_table.ipynb>data table notebook</a>'\n",
              "          + ' to learn more about interactive tables.';\n",
              "        element.innerHTML = '';\n",
              "        dataTable['output_type'] = 'display_data';\n",
              "        await google.colab.output.renderOutput(dataTable, element);\n",
              "        const docLink = document.createElement('div');\n",
              "        docLink.innerHTML = docLinkHtml;\n",
              "        element.appendChild(docLink);\n",
              "      }\n",
              "    </script>\n",
              "  </div>\n",
              "\n",
              "\n",
              "<div id=\"df-9956981d-f504-4424-8788-be0c57c15bc6\">\n",
              "  <button class=\"colab-df-quickchart\" onclick=\"quickchart('df-9956981d-f504-4424-8788-be0c57c15bc6')\"\n",
              "            title=\"Suggest charts\"\n",
              "            style=\"display:none;\">\n",
              "\n",
              "<svg xmlns=\"http://www.w3.org/2000/svg\" height=\"24px\"viewBox=\"0 0 24 24\"\n",
              "     width=\"24px\">\n",
              "    <g>\n",
              "        <path d=\"M19 3H5c-1.1 0-2 .9-2 2v14c0 1.1.9 2 2 2h14c1.1 0 2-.9 2-2V5c0-1.1-.9-2-2-2zM9 17H7v-7h2v7zm4 0h-2V7h2v10zm4 0h-2v-4h2v4z\"/>\n",
              "    </g>\n",
              "</svg>\n",
              "  </button>\n",
              "\n",
              "<style>\n",
              "  .colab-df-quickchart {\n",
              "      --bg-color: #E8F0FE;\n",
              "      --fill-color: #1967D2;\n",
              "      --hover-bg-color: #E2EBFA;\n",
              "      --hover-fill-color: #174EA6;\n",
              "      --disabled-fill-color: #AAA;\n",
              "      --disabled-bg-color: #DDD;\n",
              "  }\n",
              "\n",
              "  [theme=dark] .colab-df-quickchart {\n",
              "      --bg-color: #3B4455;\n",
              "      --fill-color: #D2E3FC;\n",
              "      --hover-bg-color: #434B5C;\n",
              "      --hover-fill-color: #FFFFFF;\n",
              "      --disabled-bg-color: #3B4455;\n",
              "      --disabled-fill-color: #666;\n",
              "  }\n",
              "\n",
              "  .colab-df-quickchart {\n",
              "    background-color: var(--bg-color);\n",
              "    border: none;\n",
              "    border-radius: 50%;\n",
              "    cursor: pointer;\n",
              "    display: none;\n",
              "    fill: var(--fill-color);\n",
              "    height: 32px;\n",
              "    padding: 0;\n",
              "    width: 32px;\n",
              "  }\n",
              "\n",
              "  .colab-df-quickchart:hover {\n",
              "    background-color: var(--hover-bg-color);\n",
              "    box-shadow: 0 1px 2px rgba(60, 64, 67, 0.3), 0 1px 3px 1px rgba(60, 64, 67, 0.15);\n",
              "    fill: var(--button-hover-fill-color);\n",
              "  }\n",
              "\n",
              "  .colab-df-quickchart-complete:disabled,\n",
              "  .colab-df-quickchart-complete:disabled:hover {\n",
              "    background-color: var(--disabled-bg-color);\n",
              "    fill: var(--disabled-fill-color);\n",
              "    box-shadow: none;\n",
              "  }\n",
              "\n",
              "  .colab-df-spinner {\n",
              "    border: 2px solid var(--fill-color);\n",
              "    border-color: transparent;\n",
              "    border-bottom-color: var(--fill-color);\n",
              "    animation:\n",
              "      spin 1s steps(1) infinite;\n",
              "  }\n",
              "\n",
              "  @keyframes spin {\n",
              "    0% {\n",
              "      border-color: transparent;\n",
              "      border-bottom-color: var(--fill-color);\n",
              "      border-left-color: var(--fill-color);\n",
              "    }\n",
              "    20% {\n",
              "      border-color: transparent;\n",
              "      border-left-color: var(--fill-color);\n",
              "      border-top-color: var(--fill-color);\n",
              "    }\n",
              "    30% {\n",
              "      border-color: transparent;\n",
              "      border-left-color: var(--fill-color);\n",
              "      border-top-color: var(--fill-color);\n",
              "      border-right-color: var(--fill-color);\n",
              "    }\n",
              "    40% {\n",
              "      border-color: transparent;\n",
              "      border-right-color: var(--fill-color);\n",
              "      border-top-color: var(--fill-color);\n",
              "    }\n",
              "    60% {\n",
              "      border-color: transparent;\n",
              "      border-right-color: var(--fill-color);\n",
              "    }\n",
              "    80% {\n",
              "      border-color: transparent;\n",
              "      border-right-color: var(--fill-color);\n",
              "      border-bottom-color: var(--fill-color);\n",
              "    }\n",
              "    90% {\n",
              "      border-color: transparent;\n",
              "      border-bottom-color: var(--fill-color);\n",
              "    }\n",
              "  }\n",
              "</style>\n",
              "\n",
              "  <script>\n",
              "    async function quickchart(key) {\n",
              "      const quickchartButtonEl =\n",
              "        document.querySelector('#' + key + ' button');\n",
              "      quickchartButtonEl.disabled = true;  // To prevent multiple clicks.\n",
              "      quickchartButtonEl.classList.add('colab-df-spinner');\n",
              "      try {\n",
              "        const charts = await google.colab.kernel.invokeFunction(\n",
              "            'suggestCharts', [key], {});\n",
              "      } catch (error) {\n",
              "        console.error('Error during call to suggestCharts:', error);\n",
              "      }\n",
              "      quickchartButtonEl.classList.remove('colab-df-spinner');\n",
              "      quickchartButtonEl.classList.add('colab-df-quickchart-complete');\n",
              "    }\n",
              "    (() => {\n",
              "      let quickchartButtonEl =\n",
              "        document.querySelector('#df-9956981d-f504-4424-8788-be0c57c15bc6 button');\n",
              "      quickchartButtonEl.style.display =\n",
              "        google.colab.kernel.accessAllowed ? 'block' : 'none';\n",
              "    })();\n",
              "  </script>\n",
              "</div>\n",
              "    </div>\n",
              "  </div>\n"
            ],
            "application/vnd.google.colaboratory.intrinsic+json": {
              "type": "dataframe",
              "variable_name": "df",
              "summary": "{\n  \"name\": \"df\",\n  \"rows\": 579,\n  \"fields\": [\n    {\n      \"column\": \"target\",\n      \"properties\": {\n        \"dtype\": \"category\",\n        \"num_unique_values\": 1,\n        \"samples\": [\n          \"banggai\"\n        ],\n        \"semantic_type\": \"\",\n        \"description\": \"\"\n      }\n    },\n    {\n      \"column\": \"title\",\n      \"properties\": {\n        \"dtype\": \"string\",\n        \"num_unique_values\": 579,\n        \"samples\": [\n          \"Kades Sayambongin di Banggai Sebut Tudingan Penyimpangan Mengada-ada\"\n        ],\n        \"semantic_type\": \"\",\n        \"description\": \"\"\n      }\n    },\n    {\n      \"column\": \"text\",\n      \"properties\": {\n        \"dtype\": \"string\",\n        \"num_unique_values\": 572,\n        \"samples\": [\n          \"Polresbanggai.com\\u2013kapolres banggaiAKBP Ade Nuramdani, SH, SIK, MM menerima surat dari Pengurus Persatuan Sepak Bola Seluruh Indonesia (PSSI) terkait izin salah satu anggotanya untuk jadi wasit pada kompetisi Piala Soeratin U-17 di Jawa Timur.Izin tersebut diberikan kepada Bripka Arfandi Abdullah, selaku personel yang bertugas di Bagian SDMpolres banggai.\\u201cBripka Arfandi ditunjuk jadi wasit Piala Soeratin U-17, yang di gelar di Kota Surabaya, 20 Januari hingga 3 Februari 2024,\\u201d kata Kasi Humas Polres Banggai IPTU Al Amin S. Muda dalam keterangannya, Minggu (21/1/2024).Pada pertandingan perdana kemarin Sabtu (20/1/2024) bertempat di lapangan TOR Surabaya, Ia sukses memimpin jalannya pertandingan yang mempertemukan Provinsi Jambi melawan Provinsi Sulawesi Utara.Olahraga sepakbola bukan hal baru bagi Bripka Arfandi. Ia sudah mengenal sepakbola semenjak kecil. Bagaimana tidak, dari lingkungan keluarga sampai orang-orang disekitarnya bergelut dengan olahraga ini.Diketahui Bripka Arfandi memulai karir sebagai wasit nasional PSSI berlisensi C1 pada tahun 2018 dan beberapa event penting sudah dipercayakan kepadanya.Pada tahun 2019 lalu, ia dipilih secara langsung oleh PSSI Pusat untuk bertugas sebagai wasit di Liga satu antara PSM Makassar versus Persebaya Surabaya di Biak Papua*Humas Polres Banggai \"\n        ],\n        \"semantic_type\": \"\",\n        \"description\": \"\"\n      }\n    }\n  ]\n}"
            }
          },
          "metadata": {},
          "execution_count": 35
        }
      ]
    },
    {
      "cell_type": "code",
      "source": [
        "from deep_translator import GoogleTranslator\n",
        "\n",
        "def en_translate (eng):\n",
        "  eng = GoogleTranslator(source='id', target='en').translate(eng)\n",
        "  return eng"
      ],
      "metadata": {
        "id": "B2RuA_c6UYHd"
      },
      "execution_count": null,
      "outputs": []
    },
    {
      "cell_type": "code",
      "source": [
        "# Buat kolom tambahan untuk data ulasan yang telah di-translate\n",
        "df['eng'] = en_translate(df['text'])\n",
        "df['eng']"
      ],
      "metadata": {
        "colab": {
          "base_uri": "https://localhost:8080/",
          "height": 535
        },
        "id": "Id9BDsloVCbg",
        "outputId": "1ce76539-6ba5-4c74-eb31-3c4e029ad300"
      },
      "execution_count": null,
      "outputs": [
        {
          "output_type": "error",
          "ename": "NotValidPayload",
          "evalue": "0      KABAR LUWUK –  Suasana Pasar Murah bersubsidi ...\n1      KABAR LUWUK  –  Film Horor“Piara Mayat”,Kreati...\n2      KABAR LUWUK  –Festival Malabot Tumbe 2023Kemba...\n3      “Kerja Cepat dan Terkoordinir dalam Penerbitan...\n4      KABAR LUWUK  –Bawaslu BanggaiPerkuat Koordinas...\n                             ...                        \n594    BANGGAI RAYA-Satu gudang bahan aluminium di Ja...\n595    Laporan Wartawan TribunPalu.com, Asnawi Zikri ...\n596    BANGGAI RAYA-Lebih 500 pebulutangkis dari kabu...\n598    Laporan Wartawan TribunPalu.com, Asnawi Zikri ...\n599    Laporan Wartawan TribunPalu.com, Asnawi Zikri ...\nName: text, Length: 579, dtype: object --> text must be a valid text with maximum 5000 character,otherwise it cannot be translated",
          "traceback": [
            "\u001b[0;31m---------------------------------------------------------------------------\u001b[0m",
            "\u001b[0;31mNotValidPayload\u001b[0m                           Traceback (most recent call last)",
            "\u001b[0;32m<ipython-input-34-f1ad6509e9d6>\u001b[0m in \u001b[0;36m<cell line: 2>\u001b[0;34m()\u001b[0m\n\u001b[1;32m      1\u001b[0m \u001b[0;31m# Buat kolom tambahan untuk data ulasan yang telah di-translate\u001b[0m\u001b[0;34m\u001b[0m\u001b[0;34m\u001b[0m\u001b[0m\n\u001b[0;32m----> 2\u001b[0;31m \u001b[0mdf\u001b[0m\u001b[0;34m[\u001b[0m\u001b[0;34m'eng'\u001b[0m\u001b[0;34m]\u001b[0m \u001b[0;34m=\u001b[0m \u001b[0men_translate\u001b[0m\u001b[0;34m(\u001b[0m\u001b[0mdf\u001b[0m\u001b[0;34m[\u001b[0m\u001b[0;34m'text'\u001b[0m\u001b[0;34m]\u001b[0m\u001b[0;34m)\u001b[0m\u001b[0;34m\u001b[0m\u001b[0;34m\u001b[0m\u001b[0m\n\u001b[0m\u001b[1;32m      3\u001b[0m \u001b[0mdf\u001b[0m\u001b[0;34m[\u001b[0m\u001b[0;34m'eng'\u001b[0m\u001b[0;34m]\u001b[0m\u001b[0;34m\u001b[0m\u001b[0;34m\u001b[0m\u001b[0m\n",
            "\u001b[0;32m<ipython-input-33-dc7ad25f168d>\u001b[0m in \u001b[0;36men_translate\u001b[0;34m(eng)\u001b[0m\n\u001b[1;32m      1\u001b[0m \u001b[0;31m# Define the translation function\u001b[0m\u001b[0;34m\u001b[0m\u001b[0;34m\u001b[0m\u001b[0m\n\u001b[1;32m      2\u001b[0m \u001b[0;32mdef\u001b[0m \u001b[0men_translate\u001b[0m\u001b[0;34m(\u001b[0m\u001b[0meng\u001b[0m\u001b[0;34m)\u001b[0m\u001b[0;34m:\u001b[0m\u001b[0;34m\u001b[0m\u001b[0;34m\u001b[0m\u001b[0m\n\u001b[0;32m----> 3\u001b[0;31m     \u001b[0meng\u001b[0m \u001b[0;34m=\u001b[0m \u001b[0mGoogleTranslator\u001b[0m\u001b[0;34m(\u001b[0m\u001b[0msource\u001b[0m\u001b[0;34m=\u001b[0m\u001b[0;34m'id'\u001b[0m\u001b[0;34m,\u001b[0m \u001b[0mtarget\u001b[0m\u001b[0;34m=\u001b[0m\u001b[0;34m'en'\u001b[0m\u001b[0;34m)\u001b[0m\u001b[0;34m.\u001b[0m\u001b[0mtranslate\u001b[0m\u001b[0;34m(\u001b[0m\u001b[0meng\u001b[0m\u001b[0;34m)\u001b[0m\u001b[0;34m\u001b[0m\u001b[0;34m\u001b[0m\u001b[0m\n\u001b[0m\u001b[1;32m      4\u001b[0m     \u001b[0;32mreturn\u001b[0m \u001b[0meng\u001b[0m\u001b[0;34m\u001b[0m\u001b[0;34m\u001b[0m\u001b[0m\n\u001b[1;32m      5\u001b[0m \u001b[0;34m\u001b[0m\u001b[0m\n",
            "\u001b[0;32m/usr/local/lib/python3.10/dist-packages/deep_translator/google.py\u001b[0m in \u001b[0;36mtranslate\u001b[0;34m(self, text, **kwargs)\u001b[0m\n\u001b[1;32m     55\u001b[0m         \u001b[0;34m@\u001b[0m\u001b[0;32mreturn\u001b[0m\u001b[0;34m:\u001b[0m \u001b[0mstr\u001b[0m\u001b[0;34m:\u001b[0m \u001b[0mtranslated\u001b[0m \u001b[0mtext\u001b[0m\u001b[0;34m\u001b[0m\u001b[0;34m\u001b[0m\u001b[0m\n\u001b[1;32m     56\u001b[0m         \"\"\"\n\u001b[0;32m---> 57\u001b[0;31m         \u001b[0;32mif\u001b[0m \u001b[0mis_input_valid\u001b[0m\u001b[0;34m(\u001b[0m\u001b[0mtext\u001b[0m\u001b[0;34m,\u001b[0m \u001b[0mmax_chars\u001b[0m\u001b[0;34m=\u001b[0m\u001b[0;36m5000\u001b[0m\u001b[0;34m)\u001b[0m\u001b[0;34m:\u001b[0m\u001b[0;34m\u001b[0m\u001b[0;34m\u001b[0m\u001b[0m\n\u001b[0m\u001b[1;32m     58\u001b[0m             \u001b[0mtext\u001b[0m \u001b[0;34m=\u001b[0m \u001b[0mtext\u001b[0m\u001b[0;34m.\u001b[0m\u001b[0mstrip\u001b[0m\u001b[0;34m(\u001b[0m\u001b[0;34m)\u001b[0m\u001b[0;34m\u001b[0m\u001b[0;34m\u001b[0m\u001b[0m\n\u001b[1;32m     59\u001b[0m             \u001b[0;32mif\u001b[0m \u001b[0mself\u001b[0m\u001b[0;34m.\u001b[0m\u001b[0m_same_source_target\u001b[0m\u001b[0;34m(\u001b[0m\u001b[0;34m)\u001b[0m \u001b[0;32mor\u001b[0m \u001b[0mis_empty\u001b[0m\u001b[0;34m(\u001b[0m\u001b[0mtext\u001b[0m\u001b[0;34m)\u001b[0m\u001b[0;34m:\u001b[0m\u001b[0;34m\u001b[0m\u001b[0;34m\u001b[0m\u001b[0m\n",
            "\u001b[0;32m/usr/local/lib/python3.10/dist-packages/deep_translator/validate.py\u001b[0m in \u001b[0;36mis_input_valid\u001b[0;34m(text, min_chars, max_chars)\u001b[0m\n\u001b[1;32m     37\u001b[0m \u001b[0;34m\u001b[0m\u001b[0m\n\u001b[1;32m     38\u001b[0m     \u001b[0;32mif\u001b[0m \u001b[0;32mnot\u001b[0m \u001b[0misinstance\u001b[0m\u001b[0;34m(\u001b[0m\u001b[0mtext\u001b[0m\u001b[0;34m,\u001b[0m \u001b[0mstr\u001b[0m\u001b[0;34m)\u001b[0m\u001b[0;34m:\u001b[0m\u001b[0;34m\u001b[0m\u001b[0;34m\u001b[0m\u001b[0m\n\u001b[0;32m---> 39\u001b[0;31m         \u001b[0;32mraise\u001b[0m \u001b[0mNotValidPayload\u001b[0m\u001b[0;34m(\u001b[0m\u001b[0mtext\u001b[0m\u001b[0;34m)\u001b[0m\u001b[0;34m\u001b[0m\u001b[0;34m\u001b[0m\u001b[0m\n\u001b[0m\u001b[1;32m     40\u001b[0m     \u001b[0;32mif\u001b[0m \u001b[0mmax_chars\u001b[0m \u001b[0;32mand\u001b[0m \u001b[0;34m(\u001b[0m\u001b[0;32mnot\u001b[0m \u001b[0mmin_chars\u001b[0m \u001b[0;34m<=\u001b[0m \u001b[0mlen\u001b[0m\u001b[0;34m(\u001b[0m\u001b[0mtext\u001b[0m\u001b[0;34m)\u001b[0m \u001b[0;34m<\u001b[0m \u001b[0mmax_chars\u001b[0m\u001b[0;34m)\u001b[0m\u001b[0;34m:\u001b[0m\u001b[0;34m\u001b[0m\u001b[0;34m\u001b[0m\u001b[0m\n\u001b[1;32m     41\u001b[0m         \u001b[0;32mraise\u001b[0m \u001b[0mNotValidLength\u001b[0m\u001b[0;34m(\u001b[0m\u001b[0mtext\u001b[0m\u001b[0;34m,\u001b[0m \u001b[0mmin_chars\u001b[0m\u001b[0;34m,\u001b[0m \u001b[0mmax_chars\u001b[0m\u001b[0;34m)\u001b[0m\u001b[0;34m\u001b[0m\u001b[0;34m\u001b[0m\u001b[0m\n",
            "\u001b[0;31mNotValidPayload\u001b[0m: 0      KABAR LUWUK –  Suasana Pasar Murah bersubsidi ...\n1      KABAR LUWUK  –  Film Horor“Piara Mayat”,Kreati...\n2      KABAR LUWUK  –Festival Malabot Tumbe 2023Kemba...\n3      “Kerja Cepat dan Terkoordinir dalam Penerbitan...\n4      KABAR LUWUK  –Bawaslu BanggaiPerkuat Koordinas...\n                             ...                        \n594    BANGGAI RAYA-Satu gudang bahan aluminium di Ja...\n595    Laporan Wartawan TribunPalu.com, Asnawi Zikri ...\n596    BANGGAI RAYA-Lebih 500 pebulutangkis dari kabu...\n598    Laporan Wartawan TribunPalu.com, Asnawi Zikri ...\n599    Laporan Wartawan TribunPalu.com, Asnawi Zikri ...\nName: text, Length: 579, dtype: object --> text must be a valid text with maximum 5000 character,otherwise it cannot be translated"
          ]
        }
      ]
    },
    {
      "cell_type": "code",
      "source": [
        "# Define the translation function\n",
        "def en_translate(eng):\n",
        "    eng = GoogleTranslator(source='id', target='en').translate(eng)\n",
        "    return eng\n",
        "\n",
        "# Apply the translation function to the text at index 1\n",
        "translated_text = en_translate(df['text'][1])\n",
        "\n",
        "print(translated_text)"
      ],
      "metadata": {
        "colab": {
          "base_uri": "https://localhost:8080/"
        },
        "id": "H6RerkxmZeeJ",
        "outputId": "9cac25ce-7a48-4b40-fa74-0426c60181c2"
      },
      "execution_count": null,
      "outputs": [
        {
          "output_type": "stream",
          "name": "stdout",
          "text": [
            "KABAR LUWUK – Horror film “Piara Corpse”, Creativity of Banggai Young People Makes a Footprint in the World of Cinematography. Banggai Regency, Central Sulawesi, is back in the spotlight with the latest original film produced by the creativity of its young people. Titled \"Piara Corpse,\" this film was produced by Tosca Creativepreneur and is planned to be broadcast in mid-January. Tuesday 12/12/2023. Promotional process This film has started by releasing a video trailer via the official Instagram account @filmpiaramayat on February 11 2023, as well as the social media platforms of the crew involved in the production. The film producer, Iqbal Mustatim, explained that launching the video trailer is an important step in the process of making the film, indicating that the film will be broadcast soon. Previously, the Piara Mayat team had gone through various stages of pre-production and production, including script writing, casting, rehearsals and shooting. Tosca Creativepreneur collaborated with the Athena Theater Studio in making this film, with Ikbal Maulana Aziz and Abdy Gunawan as directors and scriptwriters. Puput Oktaviani, a member of Athena who is active on the theater stage, participated as an actor. The actors in the film Piara Mayat come from various professional backgrounds and ages, including several high school students such as Dani Subagio, Azzahra Sudehon , and Saskia Andira Putri. Apart from that, several arts activists and senior content creators also participated in the production of this film. Iqbal emphasized that the aim of making this film was to create a forum for young Banggai children to learn acting, write scripts and work on films. He hopes that this film can create a good film climate in Banggai Regency and provide wider appreciation for local works. Regarding screenings, Iqbal said that live film screenings will be held in different places and times. The Gala Premiere remains part of the screening plan, with further information you can follow them via their official Instagram account.**\n"
          ]
        }
      ]
    },
    {
      "cell_type": "code",
      "source": [
        "from deep_translator import GoogleTranslator\n",
        "\n",
        "text = df['text'][0]\n",
        "print(\"og: \", text)\n",
        "translated = GoogleTranslator(source='id', target='en').translate(text)\n",
        "print(\"translated: \", translated)\n",
        "back_translated = GoogleTranslator(source='en', target='id').translate(translated)\n",
        "print(\"back translated: \", back_translated)"
      ],
      "metadata": {
        "colab": {
          "base_uri": "https://localhost:8080/"
        },
        "id": "InGuEk3OO_cP",
        "outputId": "758086c1-88cb-4280-9179-2b9756d61752"
      },
      "execution_count": null,
      "outputs": [
        {
          "output_type": "stream",
          "name": "stdout",
          "text": [
            "og:  KABAR LUWUK –  Suasana Pasar Murah bersubsidi di Kabupaten Banggai menjadi lebih semarak dengan kehadiran Satuan Lalulintas Polres Banggai yang membawa Mobil Sim Keliling. Senin 11/12/2023.Keberadaan ini bukan hanya sekadar pelayanan, melainkan juga menandai sinergi antara Polres Banggai dan Kejaksaan Negeri Banggai yang terjalin kuat.Kepala Satuan Lalu Lintas Polres Banggai, AKP I Made Bagus Aditya,melalui Kanit Regiden, Ipda Suparjan, memimpin stand pameran Sim Keliling di Pasar Murah bersubsidi.Suparjan menjelaskan bahwa kegiatan ini merupakan upaya konkret dalam mendekatkan diri kepada masyarakat, terutama dalam pengurusan perpanjangan Surat Izin Mengemudi (SIM).Masyarakat Kabupaten Banggai dapat dengan mudah mengurus perpanjangan SIM tanpa harus repot datang ke Kantor Satpas Polres Banggai dihalimun.Cukup dengan mendatangi Mobil Sim Keliling yang telah disediakan oleh tim, pelayanan pun siap dilayani. Ujarnya.Dalam suasana yang ramai, Ipda Suparjan menekankan bahwa kehadiran Mobil Sim Keliling adalah bentuk inovatif untuk memudahkan akses masyarakat dalam administrasi SIM.Tim di dalam mobil siap memberikan pelayanan terbaik untuk memastikan proses perpanjangan SIM berjalan lancar dan efisien.Hal ini tidak hanya memudahkan, tetapi juga memperkuat ikatan antara institusi kepolisian dan kejaksaan dengan masyarakat.Pasar Murah bersubsidi yang diselenggarakan oleh Kejaksaan Negeri Banggai bukan hanya sebagai ajang ekonomi, tetapi juga sebagai platform untuk mendekatkan diri dengan masyarakat.Keberadaan Mobil Sim Keliling menjadi tambahan nilai positif dalam kegiatan tersebut, menciptakan hubungan yang lebih erat antara penegak hukum dan warga Kabupaten Banggai.**\n",
            "translated:  LUWUK NEWS – The atmosphere of the subsidized cheap market in Banggai Regency became more lively with the presence of the Banggai Police Traffic Unit which brought a Mobile Sim Car. Monday 11/12/2023. This existence is not just a service, but also marks a strong synergy between the Banggai Police and the Banggai District Prosecutor's Office. Head of the Banggai Police Traffic Unit, AKP I Made Bagus Aditya, through the Head of the Regional Head Unit, Ipda Suparjan, leads the Mobile Sim exhibition stand at the Subsidized Cheap Market. Suparjan explained that this activity was a concrete effort to get closer to the community, especially in processing the extension of the Driving License (SIM). The people of Banggai Regency can easily process the SIM extension without having to bother coming to the Satpas Office. Banggai Police Station was stopped. Just go to the Mobile Sim Car which has been provided by the team, the service is ready to be served. He said. In a busy atmosphere, Ipda Suparjan emphasized that the presence of the Mobile SIM Car is an innovative form of facilitating public access to SIM administration. The team in the car is ready to provide the best service to ensure the SIM renewal process runs smoothly and efficiently. This not only makes it easier, but also strengthens ties between the police and prosecutor's institutions and the community. The subsidized cheap market organized by the Banggai District Attorney's Office is not only an economic event, but also as a platform to get closer to the community. The existence of Mobile Sim Cars adds positive value to these activities, creating closer relationship between law enforcers and Banggai Regency residents.**\n",
            "back translated:  BERITA LUWUK – Suasana pasar murah bersubsidi di Kabupaten Banggai semakin semarak dengan hadirnya Satlantas Polres Banggai yang membawa Mobil Sim Keliling. Senin 11/12/2023. Keberadaannya tidak hanya sekedar pengabdian, namun juga menandai sinergi yang kuat antara Polres Banggai dan Kejaksaan Negeri Banggai. Kasatlantas Polres Banggai AKP I Made Bagus Aditya melalui Kanit Lantas Ipda Suparjan memimpin stand pameran Mobile Sim di Pasar Murah Bersubsidi. Suparjan menjelaskan, kegiatan ini merupakan upaya konkrit mendekatkan diri kepada masyarakat khususnya dalam pengurusan perpanjangan Surat Izin Mengemudi (SIM). Masyarakat Kabupaten Banggai dapat dengan mudah melakukan proses perpanjangan SIM tanpa harus repot datang ke Kantor Satpas. Polres Banggai dihentikan. Tinggal masuk ke Mobile Sim Car yang sudah disediakan tim, layanan siap dilayani. Dia berkata. Di tengah suasana ramai, Ipda Suparjan menegaskan, kehadiran Mobil SIM Keliling merupakan bentuk inovasi dalam mempermudah akses masyarakat terhadap pengurusan SIM. Tim yang berada di dalam mobil siap memberikan pelayanan terbaik untuk memastikan proses perpanjangan SIM berjalan lancar dan efisien. Hal ini selain memudahkan, juga mempererat tali silaturahmi antara kepolisian, kejaksaan, dan masyarakat. Pasar murah bersubsidi yang diselenggarakan Kejaksaan Negeri Banggai ini tidak hanya sekedar ajang ekonomi, namun juga sebagai wadah mendekatkan diri kepada masyarakat. Keberadaan Mobil Sim Keliling menambah nilai positif kegiatan tersebut, sehingga semakin mendekatkan hubungan antara aparat penegak hukum dengan warga Kabupaten Banggai.**\n"
          ]
        }
      ]
    },
    {
      "cell_type": "markdown",
      "metadata": {
        "id": "LJL-neuHd-ab"
      },
      "source": [
        "## Case Folding"
      ]
    },
    {
      "cell_type": "code",
      "execution_count": null,
      "metadata": {
        "id": "os3Yx3F1cC3Z"
      },
      "outputs": [],
      "source": [
        "def clean_lower(lwr):\n",
        "    lwr = lwr.lower() # lowercase text\n",
        "    return lwr"
      ]
    },
    {
      "cell_type": "code",
      "execution_count": null,
      "metadata": {
        "id": "MMU-H_NhdZHO"
      },
      "outputs": [],
      "source": [
        "# Buat kolom tambahan untuk data ulasan yang telah dicasefolding\n",
        "df['lwr'] = df['text'].apply(clean_lower)\n",
        "df['lwr']"
      ]
    },
    {
      "cell_type": "code",
      "source": [
        "df.head()"
      ],
      "metadata": {
        "id": "GDN_GKCQ09vH"
      },
      "execution_count": null,
      "outputs": []
    },
    {
      "cell_type": "code",
      "execution_count": null,
      "metadata": {
        "id": "LHYbHbrvomiW",
        "colab": {
          "base_uri": "https://localhost:8080/"
        },
        "outputId": "4619e113-2dbc-420d-bfa0-fdbefed4ad1c"
      },
      "outputs": [
        {
          "output_type": "stream",
          "name": "stdout",
          "text": [
            "KABAR LUWUK  –Dinas Sosial BanggaiSegera Salurkan 2.42 MiliarProgram Gercep Gaskan Berdaya2023.Dinas Sosial Kabupaten Banggaimenerima bantuan sebesar 2.42 miliar rupiah dalam program Gerak Cepat Pengentasan Kemiskinan Berbasis Pemberdayaan Masyarakat (GERCEP GASKAN BERDAYA).Bantuan ini ditujukan untuk 242 keluarga penerima manfaat di lima kecamatan, memberikan harapan bagi warga di Kecamatan Luwuk (35 KPM), Luwuk Selatan (28 KPM), Pagimana (95 KPM), Bunta (47 KPM), dan Nuhon (37 KPM). Selasa 28/11/2023.Kepala Dinas Sosial Kabupaten Banggai, Irpan Poma melalui Kepala Bidang Fakir Miskis,Ronald Putje,menyampaikan kepada media bahwa dana bantuan ini merupakan sumbangan langsung dari Pemerintah Provinsi Sulawesi Tengah.Dinas Sosial Kabupaten Banggai bertanggung jawab dalam memfasilitasi distribusi bantuan dan ikut serta dalam pengawasan ketat agar dana tersebut benar-benar sampai kepada penerima manfaat yang tepat.Data yang tersedia menunjukkan bahwa 242 Keluarga Penerima Manfaat yang terdiri dari Lima kecamatan di Kabupaten Banggai memenuhi kriteria untuk menerima bantuan ini.Dinas Sosial Kabupaten Banggai berharap bahwa bantuan ini akan memberikan bantuan nyata dan meringankan beban masyarakat yang membutuhkan.Bantuan ini tidak hanya sekadar alokasi dana, tetapi juga merupakan upaya konkret dalam upaya mengentaskan kemiskinan melalui pemberdayaan masyarakat.Semoga, dengan kuncuran dana ini, masyarakat penerima manfaat dapat merasakan dampak positifnya, membuka peluang baru, dan mengurangi tingkat kemiskinan di wilayah tersebut. Aksi ini menjadi bukti komitmen bersama dalam membangun kesejahteraan dan keadilan sosial di Kabupaten Banggai.Pemberian bantuan ini menjadi langkah strategis dalam mendukung pembangunan berkelanjutan di Kabupaten Banggai. Melalui program GERCEP GASKAN BERDAYA, pemerintah berusaha meningkatkan kesejahteraan masyarakat dengan cara yang berkelanjutan dan berbasis pada pemberdayaan.Dalam penyampaiannya,  Ronald Putje menekankan pentingnya sinergi antara pemerintah pusat, provinsi, dan kabupaten untuk mencapai hasil yang optimal.“Kami berupaya agar bantuan ini tidak hanya bersifat sekali waktu, tetapi juga mampu menciptakan dampak positif jangka panjang. Oleh karena itu, perlu adanya koordinasi yang baik dalam pelaksanaan program ini,” ujarnya.Bantuan ini diharapkan tidak hanya menjadi solusi sesaat, tetapi juga menciptakan perubahan struktural yang mampu meningkatkan kapasitas masyarakat penerima manfaat.Oleh karena itu, Dinas Sosial Kabupaten Banggai akan terus melakukan pemantauan dan evaluasi secara berkala guna memastikan bahwa bantuan tersebut benar-benar memberikan dampak yang positif.Sebagai bagian dari upaya bersama mengatasi kemiskinan, bantuan ini mencerminkan komitmen pemerintah dalam menciptakan inklusivitas sosial dan kesetaraan akses terhadap sumber daya.Dengan adanya bantuan ini, diharapkan masyarakat di Kabupaten Banggai dapat membangun kehidupan yang lebih baik, mandiri, dan berdaya.**Penulis : Imam Muslik ( Jurnalis )\n",
            "_______________________________________________________________________________________________________________\n",
            "kabar luwuk  –dinas sosial banggaisegera salurkan 2.42 miliarprogram gercep gaskan berdaya2023.dinas sosial kabupaten banggaimenerima bantuan sebesar 2.42 miliar rupiah dalam program gerak cepat pengentasan kemiskinan berbasis pemberdayaan masyarakat (gercep gaskan berdaya).bantuan ini ditujukan untuk 242 keluarga penerima manfaat di lima kecamatan, memberikan harapan bagi warga di kecamatan luwuk (35 kpm), luwuk selatan (28 kpm), pagimana (95 kpm), bunta (47 kpm), dan nuhon (37 kpm). selasa 28/11/2023.kepala dinas sosial kabupaten banggai, irpan poma melalui kepala bidang fakir miskis,ronald putje,menyampaikan kepada media bahwa dana bantuan ini merupakan sumbangan langsung dari pemerintah provinsi sulawesi tengah.dinas sosial kabupaten banggai bertanggung jawab dalam memfasilitasi distribusi bantuan dan ikut serta dalam pengawasan ketat agar dana tersebut benar-benar sampai kepada penerima manfaat yang tepat.data yang tersedia menunjukkan bahwa 242 keluarga penerima manfaat yang terdiri dari lima kecamatan di kabupaten banggai memenuhi kriteria untuk menerima bantuan ini.dinas sosial kabupaten banggai berharap bahwa bantuan ini akan memberikan bantuan nyata dan meringankan beban masyarakat yang membutuhkan.bantuan ini tidak hanya sekadar alokasi dana, tetapi juga merupakan upaya konkret dalam upaya mengentaskan kemiskinan melalui pemberdayaan masyarakat.semoga, dengan kuncuran dana ini, masyarakat penerima manfaat dapat merasakan dampak positifnya, membuka peluang baru, dan mengurangi tingkat kemiskinan di wilayah tersebut. aksi ini menjadi bukti komitmen bersama dalam membangun kesejahteraan dan keadilan sosial di kabupaten banggai.pemberian bantuan ini menjadi langkah strategis dalam mendukung pembangunan berkelanjutan di kabupaten banggai. melalui program gercep gaskan berdaya, pemerintah berusaha meningkatkan kesejahteraan masyarakat dengan cara yang berkelanjutan dan berbasis pada pemberdayaan.dalam penyampaiannya,  ronald putje menekankan pentingnya sinergi antara pemerintah pusat, provinsi, dan kabupaten untuk mencapai hasil yang optimal.“kami berupaya agar bantuan ini tidak hanya bersifat sekali waktu, tetapi juga mampu menciptakan dampak positif jangka panjang. oleh karena itu, perlu adanya koordinasi yang baik dalam pelaksanaan program ini,” ujarnya.bantuan ini diharapkan tidak hanya menjadi solusi sesaat, tetapi juga menciptakan perubahan struktural yang mampu meningkatkan kapasitas masyarakat penerima manfaat.oleh karena itu, dinas sosial kabupaten banggai akan terus melakukan pemantauan dan evaluasi secara berkala guna memastikan bahwa bantuan tersebut benar-benar memberikan dampak yang positif.sebagai bagian dari upaya bersama mengatasi kemiskinan, bantuan ini mencerminkan komitmen pemerintah dalam menciptakan inklusivitas sosial dan kesetaraan akses terhadap sumber daya.dengan adanya bantuan ini, diharapkan masyarakat di kabupaten banggai dapat membangun kehidupan yang lebih baik, mandiri, dan berdaya.**penulis : imam muslik ( jurnalis )\n"
          ]
        }
      ],
      "source": [
        "print(df['text'][30])\n",
        "print(\"_______________________________________________________________________________________________________________\")\n",
        "print(df['lwr'][30])"
      ]
    },
    {
      "cell_type": "markdown",
      "metadata": {
        "id": "skf-zcc5Ksrz"
      },
      "source": [
        "## Cleansing"
      ]
    },
    {
      "cell_type": "markdown",
      "metadata": {
        "id": "uqDcm6qIhpfo"
      },
      "source": [
        "### Remove Numbers"
      ]
    },
    {
      "cell_type": "code",
      "execution_count": null,
      "metadata": {
        "id": "BqdF07FkhrBN"
      },
      "outputs": [],
      "source": [
        "def remove_numbers(text):\n",
        "  text = re.sub('[0-9]+', '', text)\n",
        "  return text"
      ]
    },
    {
      "cell_type": "code",
      "execution_count": null,
      "metadata": {
        "colab": {
          "base_uri": "https://localhost:8080/"
        },
        "id": "g4JATB7_hrEu",
        "outputId": "00494895-fc90-4eae-e6ab-1e36e1b714f5"
      },
      "outputs": [
        {
          "output_type": "execute_result",
          "data": {
            "text/plain": [
              "0      kabar luwuk –  suasana pasar murah bersubsidi ...\n",
              "1      kabar luwuk  –  film horor“piara mayat”,kreati...\n",
              "2      kabar luwuk  –festival malabot tumbe kembali m...\n",
              "3      “kerja cepat dan terkoordinir dalam penerbitan...\n",
              "4      kabar luwuk  –bawaslu banggaiperkuat koordinas...\n",
              "                             ...                        \n",
              "594    banggai raya-satu gudang bahan aluminium di ja...\n",
              "595    laporan wartawan tribunpalu.com, asnawi zikri ...\n",
              "596    banggai raya-lebih  pebulutangkis dari kabupat...\n",
              "598    laporan wartawan tribunpalu.com, asnawi zikri ...\n",
              "599    laporan wartawan tribunpalu.com, asnawi zikri ...\n",
              "Name: clean_number, Length: 579, dtype: object"
            ]
          },
          "metadata": {},
          "execution_count": 23
        }
      ],
      "source": [
        "df['clean_number'] = df['lwr'].apply(remove_numbers)\n",
        "df['clean_number']"
      ]
    },
    {
      "cell_type": "code",
      "source": [
        "df.tail()"
      ],
      "metadata": {
        "id": "P7VjjWul1IIO",
        "colab": {
          "base_uri": "https://localhost:8080/",
          "height": 293
        },
        "outputId": "1ae3ec92-fcb1-4643-e12d-3791f532ff0f"
      },
      "execution_count": null,
      "outputs": [
        {
          "output_type": "execute_result",
          "data": {
            "text/plain": [
              "      target                                              title  \\\n",
              "594  banggai  Gudang Alumunium Kompleks Pertokoan Luwuk Terb...   \n",
              "595  banggai  583 Peserta Ramaikan Turnamen Badminton di Ban...   \n",
              "596  banggai  Lebih 500 Pebulutangkis Berlaga di Open Turnam...   \n",
              "598  banggai  Demi Penuhi Kehidupan Sehari-hari, Pria di Ban...   \n",
              "599  banggai  Gudang Aluminium di Pertokoan Luwuk Banggai Te...   \n",
              "\n",
              "                                                  text  \\\n",
              "594  BANGGAI RAYA-Satu gudang bahan aluminium di Ja...   \n",
              "595  Laporan Wartawan TribunPalu.com, Asnawi Zikri ...   \n",
              "596  BANGGAI RAYA-Lebih 500 pebulutangkis dari kabu...   \n",
              "598  Laporan Wartawan TribunPalu.com, Asnawi Zikri ...   \n",
              "599  Laporan Wartawan TribunPalu.com, Asnawi Zikri ...   \n",
              "\n",
              "                                                   lwr  \\\n",
              "594  banggai raya-satu gudang bahan aluminium di ja...   \n",
              "595  laporan wartawan tribunpalu.com, asnawi zikri ...   \n",
              "596  banggai raya-lebih 500 pebulutangkis dari kabu...   \n",
              "598  laporan wartawan tribunpalu.com, asnawi zikri ...   \n",
              "599  laporan wartawan tribunpalu.com, asnawi zikri ...   \n",
              "\n",
              "                                          clean_number  \n",
              "594  banggai raya-satu gudang bahan aluminium di ja...  \n",
              "595  laporan wartawan tribunpalu.com, asnawi zikri ...  \n",
              "596  banggai raya-lebih  pebulutangkis dari kabupat...  \n",
              "598  laporan wartawan tribunpalu.com, asnawi zikri ...  \n",
              "599  laporan wartawan tribunpalu.com, asnawi zikri ...  "
            ],
            "text/html": [
              "\n",
              "  <div id=\"df-6e996fb7-59e2-4b9f-ac45-ad5b87b7ac19\" class=\"colab-df-container\">\n",
              "    <div>\n",
              "<style scoped>\n",
              "    .dataframe tbody tr th:only-of-type {\n",
              "        vertical-align: middle;\n",
              "    }\n",
              "\n",
              "    .dataframe tbody tr th {\n",
              "        vertical-align: top;\n",
              "    }\n",
              "\n",
              "    .dataframe thead th {\n",
              "        text-align: right;\n",
              "    }\n",
              "</style>\n",
              "<table border=\"1\" class=\"dataframe\">\n",
              "  <thead>\n",
              "    <tr style=\"text-align: right;\">\n",
              "      <th></th>\n",
              "      <th>target</th>\n",
              "      <th>title</th>\n",
              "      <th>text</th>\n",
              "      <th>lwr</th>\n",
              "      <th>clean_number</th>\n",
              "    </tr>\n",
              "  </thead>\n",
              "  <tbody>\n",
              "    <tr>\n",
              "      <th>594</th>\n",
              "      <td>banggai</td>\n",
              "      <td>Gudang Alumunium Kompleks Pertokoan Luwuk Terb...</td>\n",
              "      <td>BANGGAI RAYA-Satu gudang bahan aluminium di Ja...</td>\n",
              "      <td>banggai raya-satu gudang bahan aluminium di ja...</td>\n",
              "      <td>banggai raya-satu gudang bahan aluminium di ja...</td>\n",
              "    </tr>\n",
              "    <tr>\n",
              "      <th>595</th>\n",
              "      <td>banggai</td>\n",
              "      <td>583 Peserta Ramaikan Turnamen Badminton di Ban...</td>\n",
              "      <td>Laporan Wartawan TribunPalu.com, Asnawi Zikri ...</td>\n",
              "      <td>laporan wartawan tribunpalu.com, asnawi zikri ...</td>\n",
              "      <td>laporan wartawan tribunpalu.com, asnawi zikri ...</td>\n",
              "    </tr>\n",
              "    <tr>\n",
              "      <th>596</th>\n",
              "      <td>banggai</td>\n",
              "      <td>Lebih 500 Pebulutangkis Berlaga di Open Turnam...</td>\n",
              "      <td>BANGGAI RAYA-Lebih 500 pebulutangkis dari kabu...</td>\n",
              "      <td>banggai raya-lebih 500 pebulutangkis dari kabu...</td>\n",
              "      <td>banggai raya-lebih  pebulutangkis dari kabupat...</td>\n",
              "    </tr>\n",
              "    <tr>\n",
              "      <th>598</th>\n",
              "      <td>banggai</td>\n",
              "      <td>Demi Penuhi Kehidupan Sehari-hari, Pria di Ban...</td>\n",
              "      <td>Laporan Wartawan TribunPalu.com, Asnawi Zikri ...</td>\n",
              "      <td>laporan wartawan tribunpalu.com, asnawi zikri ...</td>\n",
              "      <td>laporan wartawan tribunpalu.com, asnawi zikri ...</td>\n",
              "    </tr>\n",
              "    <tr>\n",
              "      <th>599</th>\n",
              "      <td>banggai</td>\n",
              "      <td>Gudang Aluminium di Pertokoan Luwuk Banggai Te...</td>\n",
              "      <td>Laporan Wartawan TribunPalu.com, Asnawi Zikri ...</td>\n",
              "      <td>laporan wartawan tribunpalu.com, asnawi zikri ...</td>\n",
              "      <td>laporan wartawan tribunpalu.com, asnawi zikri ...</td>\n",
              "    </tr>\n",
              "  </tbody>\n",
              "</table>\n",
              "</div>\n",
              "    <div class=\"colab-df-buttons\">\n",
              "\n",
              "  <div class=\"colab-df-container\">\n",
              "    <button class=\"colab-df-convert\" onclick=\"convertToInteractive('df-6e996fb7-59e2-4b9f-ac45-ad5b87b7ac19')\"\n",
              "            title=\"Convert this dataframe to an interactive table.\"\n",
              "            style=\"display:none;\">\n",
              "\n",
              "  <svg xmlns=\"http://www.w3.org/2000/svg\" height=\"24px\" viewBox=\"0 -960 960 960\">\n",
              "    <path d=\"M120-120v-720h720v720H120Zm60-500h600v-160H180v160Zm220 220h160v-160H400v160Zm0 220h160v-160H400v160ZM180-400h160v-160H180v160Zm440 0h160v-160H620v160ZM180-180h160v-160H180v160Zm440 0h160v-160H620v160Z\"/>\n",
              "  </svg>\n",
              "    </button>\n",
              "\n",
              "  <style>\n",
              "    .colab-df-container {\n",
              "      display:flex;\n",
              "      gap: 12px;\n",
              "    }\n",
              "\n",
              "    .colab-df-convert {\n",
              "      background-color: #E8F0FE;\n",
              "      border: none;\n",
              "      border-radius: 50%;\n",
              "      cursor: pointer;\n",
              "      display: none;\n",
              "      fill: #1967D2;\n",
              "      height: 32px;\n",
              "      padding: 0 0 0 0;\n",
              "      width: 32px;\n",
              "    }\n",
              "\n",
              "    .colab-df-convert:hover {\n",
              "      background-color: #E2EBFA;\n",
              "      box-shadow: 0px 1px 2px rgba(60, 64, 67, 0.3), 0px 1px 3px 1px rgba(60, 64, 67, 0.15);\n",
              "      fill: #174EA6;\n",
              "    }\n",
              "\n",
              "    .colab-df-buttons div {\n",
              "      margin-bottom: 4px;\n",
              "    }\n",
              "\n",
              "    [theme=dark] .colab-df-convert {\n",
              "      background-color: #3B4455;\n",
              "      fill: #D2E3FC;\n",
              "    }\n",
              "\n",
              "    [theme=dark] .colab-df-convert:hover {\n",
              "      background-color: #434B5C;\n",
              "      box-shadow: 0px 1px 3px 1px rgba(0, 0, 0, 0.15);\n",
              "      filter: drop-shadow(0px 1px 2px rgba(0, 0, 0, 0.3));\n",
              "      fill: #FFFFFF;\n",
              "    }\n",
              "  </style>\n",
              "\n",
              "    <script>\n",
              "      const buttonEl =\n",
              "        document.querySelector('#df-6e996fb7-59e2-4b9f-ac45-ad5b87b7ac19 button.colab-df-convert');\n",
              "      buttonEl.style.display =\n",
              "        google.colab.kernel.accessAllowed ? 'block' : 'none';\n",
              "\n",
              "      async function convertToInteractive(key) {\n",
              "        const element = document.querySelector('#df-6e996fb7-59e2-4b9f-ac45-ad5b87b7ac19');\n",
              "        const dataTable =\n",
              "          await google.colab.kernel.invokeFunction('convertToInteractive',\n",
              "                                                    [key], {});\n",
              "        if (!dataTable) return;\n",
              "\n",
              "        const docLinkHtml = 'Like what you see? Visit the ' +\n",
              "          '<a target=\"_blank\" href=https://colab.research.google.com/notebooks/data_table.ipynb>data table notebook</a>'\n",
              "          + ' to learn more about interactive tables.';\n",
              "        element.innerHTML = '';\n",
              "        dataTable['output_type'] = 'display_data';\n",
              "        await google.colab.output.renderOutput(dataTable, element);\n",
              "        const docLink = document.createElement('div');\n",
              "        docLink.innerHTML = docLinkHtml;\n",
              "        element.appendChild(docLink);\n",
              "      }\n",
              "    </script>\n",
              "  </div>\n",
              "\n",
              "\n",
              "<div id=\"df-82c53996-47a8-4b0e-93d6-e5691725811d\">\n",
              "  <button class=\"colab-df-quickchart\" onclick=\"quickchart('df-82c53996-47a8-4b0e-93d6-e5691725811d')\"\n",
              "            title=\"Suggest charts\"\n",
              "            style=\"display:none;\">\n",
              "\n",
              "<svg xmlns=\"http://www.w3.org/2000/svg\" height=\"24px\"viewBox=\"0 0 24 24\"\n",
              "     width=\"24px\">\n",
              "    <g>\n",
              "        <path d=\"M19 3H5c-1.1 0-2 .9-2 2v14c0 1.1.9 2 2 2h14c1.1 0 2-.9 2-2V5c0-1.1-.9-2-2-2zM9 17H7v-7h2v7zm4 0h-2V7h2v10zm4 0h-2v-4h2v4z\"/>\n",
              "    </g>\n",
              "</svg>\n",
              "  </button>\n",
              "\n",
              "<style>\n",
              "  .colab-df-quickchart {\n",
              "      --bg-color: #E8F0FE;\n",
              "      --fill-color: #1967D2;\n",
              "      --hover-bg-color: #E2EBFA;\n",
              "      --hover-fill-color: #174EA6;\n",
              "      --disabled-fill-color: #AAA;\n",
              "      --disabled-bg-color: #DDD;\n",
              "  }\n",
              "\n",
              "  [theme=dark] .colab-df-quickchart {\n",
              "      --bg-color: #3B4455;\n",
              "      --fill-color: #D2E3FC;\n",
              "      --hover-bg-color: #434B5C;\n",
              "      --hover-fill-color: #FFFFFF;\n",
              "      --disabled-bg-color: #3B4455;\n",
              "      --disabled-fill-color: #666;\n",
              "  }\n",
              "\n",
              "  .colab-df-quickchart {\n",
              "    background-color: var(--bg-color);\n",
              "    border: none;\n",
              "    border-radius: 50%;\n",
              "    cursor: pointer;\n",
              "    display: none;\n",
              "    fill: var(--fill-color);\n",
              "    height: 32px;\n",
              "    padding: 0;\n",
              "    width: 32px;\n",
              "  }\n",
              "\n",
              "  .colab-df-quickchart:hover {\n",
              "    background-color: var(--hover-bg-color);\n",
              "    box-shadow: 0 1px 2px rgba(60, 64, 67, 0.3), 0 1px 3px 1px rgba(60, 64, 67, 0.15);\n",
              "    fill: var(--button-hover-fill-color);\n",
              "  }\n",
              "\n",
              "  .colab-df-quickchart-complete:disabled,\n",
              "  .colab-df-quickchart-complete:disabled:hover {\n",
              "    background-color: var(--disabled-bg-color);\n",
              "    fill: var(--disabled-fill-color);\n",
              "    box-shadow: none;\n",
              "  }\n",
              "\n",
              "  .colab-df-spinner {\n",
              "    border: 2px solid var(--fill-color);\n",
              "    border-color: transparent;\n",
              "    border-bottom-color: var(--fill-color);\n",
              "    animation:\n",
              "      spin 1s steps(1) infinite;\n",
              "  }\n",
              "\n",
              "  @keyframes spin {\n",
              "    0% {\n",
              "      border-color: transparent;\n",
              "      border-bottom-color: var(--fill-color);\n",
              "      border-left-color: var(--fill-color);\n",
              "    }\n",
              "    20% {\n",
              "      border-color: transparent;\n",
              "      border-left-color: var(--fill-color);\n",
              "      border-top-color: var(--fill-color);\n",
              "    }\n",
              "    30% {\n",
              "      border-color: transparent;\n",
              "      border-left-color: var(--fill-color);\n",
              "      border-top-color: var(--fill-color);\n",
              "      border-right-color: var(--fill-color);\n",
              "    }\n",
              "    40% {\n",
              "      border-color: transparent;\n",
              "      border-right-color: var(--fill-color);\n",
              "      border-top-color: var(--fill-color);\n",
              "    }\n",
              "    60% {\n",
              "      border-color: transparent;\n",
              "      border-right-color: var(--fill-color);\n",
              "    }\n",
              "    80% {\n",
              "      border-color: transparent;\n",
              "      border-right-color: var(--fill-color);\n",
              "      border-bottom-color: var(--fill-color);\n",
              "    }\n",
              "    90% {\n",
              "      border-color: transparent;\n",
              "      border-bottom-color: var(--fill-color);\n",
              "    }\n",
              "  }\n",
              "</style>\n",
              "\n",
              "  <script>\n",
              "    async function quickchart(key) {\n",
              "      const quickchartButtonEl =\n",
              "        document.querySelector('#' + key + ' button');\n",
              "      quickchartButtonEl.disabled = true;  // To prevent multiple clicks.\n",
              "      quickchartButtonEl.classList.add('colab-df-spinner');\n",
              "      try {\n",
              "        const charts = await google.colab.kernel.invokeFunction(\n",
              "            'suggestCharts', [key], {});\n",
              "      } catch (error) {\n",
              "        console.error('Error during call to suggestCharts:', error);\n",
              "      }\n",
              "      quickchartButtonEl.classList.remove('colab-df-spinner');\n",
              "      quickchartButtonEl.classList.add('colab-df-quickchart-complete');\n",
              "    }\n",
              "    (() => {\n",
              "      let quickchartButtonEl =\n",
              "        document.querySelector('#df-82c53996-47a8-4b0e-93d6-e5691725811d button');\n",
              "      quickchartButtonEl.style.display =\n",
              "        google.colab.kernel.accessAllowed ? 'block' : 'none';\n",
              "    })();\n",
              "  </script>\n",
              "</div>\n",
              "    </div>\n",
              "  </div>\n"
            ],
            "application/vnd.google.colaboratory.intrinsic+json": {
              "type": "dataframe",
              "summary": "{\n  \"name\": \"df\",\n  \"rows\": 5,\n  \"fields\": [\n    {\n      \"column\": \"target\",\n      \"properties\": {\n        \"dtype\": \"category\",\n        \"num_unique_values\": 1,\n        \"samples\": [\n          \"banggai\"\n        ],\n        \"semantic_type\": \"\",\n        \"description\": \"\"\n      }\n    },\n    {\n      \"column\": \"title\",\n      \"properties\": {\n        \"dtype\": \"string\",\n        \"num_unique_values\": 5,\n        \"samples\": [\n          \"583 Peserta Ramaikan Turnamen Badminton di Banggai, Perebutkan Hadiah Rp 40 Juta\"\n        ],\n        \"semantic_type\": \"\",\n        \"description\": \"\"\n      }\n    },\n    {\n      \"column\": \"text\",\n      \"properties\": {\n        \"dtype\": \"string\",\n        \"num_unique_values\": 5,\n        \"samples\": [\n          \"Laporan Wartawan TribunPalu.com, Asnawi Zikri TRIBUNPALU.COM, BANGGAI - Bupati Banggai, Amirudin, membuka acara Badminton Open Tournament Bupati Cup, di GOR Kilongan, Kecamatan Luwuk Utara, KabupatenBanggai , Sulawesi Tengah, Kamis (1/2/2024). Turnamen ini menjadi ajang yang dinantikan para pecinta bulu tangkis di KabupatenBanggai , serta menjadi wadah untuk menumbuhkan semangat kompetisi dan kebersamaan dalam olahraga. \\\"Pertama saya sangat bangga dengan antusias daripada atlet pada malam hari ini luar biasa kurang lebih 500 lebih peserta,\\\" tutur Bupati Amirudin. Karena antusiasme yang cukup besar, turnamen badminton ini direncanakan akan dilaksanakan setahun dua kali. \\\"Malam hari ini adalah putaran yang pertama, dan Insya Allah putaran keduanya kita laksanakan di bulan Juli,\\\" tandas Bupati Amirudin. Bupati Amirudin mengaku turnamen sangat penting karena sebagai ajang menyiapkan atlet muda KabupatenBanggai untuk bisa mewakili Sulawesi Tengah di ajang nasional. Sebab, turnamen kali ini tk hanya melibatkan atlet Banggai, tetapi juga diikuti atlet luar daerah \\\"Ini motivasi untuk kita semua melihat para atlet-atlet berprestasi sehingga ke depan adik-adik kita bisa mengikuti jejak mereka yang sebentar akan kita saksikan bersama,\\\" jelas Bupati Amirudin. Bupati Amirudin juga menyatakan junjung tinggi sportifitas, dan menjadikan turnamen ini tidak hanya sebagai ajang kompetisi, tetapi juga sebagai sarana memperkokoh persaudaraan di antara pecinta bulu tangkis KabupatenBanggai . Pada kesempatan yang sama, Ketua Panitia Badminton Open Tournament Bupati Cup, Ridwan T. Polopa menyampaikan adapun jumlah peserta berasal dari Kabupaten/Kota se Sulawesi Tengah sebanyak 583 peserta. \\\"Waktu pelaksanaan dimulai dari tanggal 1 sampai 4 Februari 2024,\\\" kata Ridwan Polopa. Para peserta akan memperebutkan hadiah sebesar Rp 40 juta. (*) \"\n        ],\n        \"semantic_type\": \"\",\n        \"description\": \"\"\n      }\n    },\n    {\n      \"column\": \"lwr\",\n      \"properties\": {\n        \"dtype\": \"string\",\n        \"num_unique_values\": 5,\n        \"samples\": [\n          \"laporan wartawan tribunpalu.com, asnawi zikri tribunpalu.com, banggai - bupati banggai, amirudin, membuka acara badminton open tournament bupati cup, di gor kilongan, kecamatan luwuk utara, kabupatenbanggai , sulawesi tengah, kamis (1/2/2024). turnamen ini menjadi ajang yang dinantikan para pecinta bulu tangkis di kabupatenbanggai , serta menjadi wadah untuk menumbuhkan semangat kompetisi dan kebersamaan dalam olahraga. \\\"pertama saya sangat bangga dengan antusias daripada atlet pada malam hari ini luar biasa kurang lebih 500 lebih peserta,\\\" tutur bupati amirudin. karena antusiasme yang cukup besar, turnamen badminton ini direncanakan akan dilaksanakan setahun dua kali. \\\"malam hari ini adalah putaran yang pertama, dan insya allah putaran keduanya kita laksanakan di bulan juli,\\\" tandas bupati amirudin. bupati amirudin mengaku turnamen sangat penting karena sebagai ajang menyiapkan atlet muda kabupatenbanggai untuk bisa mewakili sulawesi tengah di ajang nasional. sebab, turnamen kali ini tk hanya melibatkan atlet banggai, tetapi juga diikuti atlet luar daerah \\\"ini motivasi untuk kita semua melihat para atlet-atlet berprestasi sehingga ke depan adik-adik kita bisa mengikuti jejak mereka yang sebentar akan kita saksikan bersama,\\\" jelas bupati amirudin. bupati amirudin juga menyatakan junjung tinggi sportifitas, dan menjadikan turnamen ini tidak hanya sebagai ajang kompetisi, tetapi juga sebagai sarana memperkokoh persaudaraan di antara pecinta bulu tangkis kabupatenbanggai . pada kesempatan yang sama, ketua panitia badminton open tournament bupati cup, ridwan t. polopa menyampaikan adapun jumlah peserta berasal dari kabupaten/kota se sulawesi tengah sebanyak 583 peserta. \\\"waktu pelaksanaan dimulai dari tanggal 1 sampai 4 februari 2024,\\\" kata ridwan polopa. para peserta akan memperebutkan hadiah sebesar rp 40 juta. (*) \"\n        ],\n        \"semantic_type\": \"\",\n        \"description\": \"\"\n      }\n    },\n    {\n      \"column\": \"clean_number\",\n      \"properties\": {\n        \"dtype\": \"string\",\n        \"num_unique_values\": 5,\n        \"samples\": [\n          \"laporan wartawan tribunpalu.com, asnawi zikri tribunpalu.com, banggai - bupati banggai, amirudin, membuka acara badminton open tournament bupati cup, di gor kilongan, kecamatan luwuk utara, kabupatenbanggai , sulawesi tengah, kamis (//). turnamen ini menjadi ajang yang dinantikan para pecinta bulu tangkis di kabupatenbanggai , serta menjadi wadah untuk menumbuhkan semangat kompetisi dan kebersamaan dalam olahraga. \\\"pertama saya sangat bangga dengan antusias daripada atlet pada malam hari ini luar biasa kurang lebih  lebih peserta,\\\" tutur bupati amirudin. karena antusiasme yang cukup besar, turnamen badminton ini direncanakan akan dilaksanakan setahun dua kali. \\\"malam hari ini adalah putaran yang pertama, dan insya allah putaran keduanya kita laksanakan di bulan juli,\\\" tandas bupati amirudin. bupati amirudin mengaku turnamen sangat penting karena sebagai ajang menyiapkan atlet muda kabupatenbanggai untuk bisa mewakili sulawesi tengah di ajang nasional. sebab, turnamen kali ini tk hanya melibatkan atlet banggai, tetapi juga diikuti atlet luar daerah \\\"ini motivasi untuk kita semua melihat para atlet-atlet berprestasi sehingga ke depan adik-adik kita bisa mengikuti jejak mereka yang sebentar akan kita saksikan bersama,\\\" jelas bupati amirudin. bupati amirudin juga menyatakan junjung tinggi sportifitas, dan menjadikan turnamen ini tidak hanya sebagai ajang kompetisi, tetapi juga sebagai sarana memperkokoh persaudaraan di antara pecinta bulu tangkis kabupatenbanggai . pada kesempatan yang sama, ketua panitia badminton open tournament bupati cup, ridwan t. polopa menyampaikan adapun jumlah peserta berasal dari kabupaten/kota se sulawesi tengah sebanyak  peserta. \\\"waktu pelaksanaan dimulai dari tanggal  sampai  februari ,\\\" kata ridwan polopa. para peserta akan memperebutkan hadiah sebesar rp  juta. (*) \"\n        ],\n        \"semantic_type\": \"\",\n        \"description\": \"\"\n      }\n    }\n  ]\n}"
            }
          },
          "metadata": {},
          "execution_count": 24
        }
      ]
    },
    {
      "cell_type": "markdown",
      "metadata": {
        "id": "BgnmFGgbeM4o"
      },
      "source": [
        "### Remove Punctuation"
      ]
    },
    {
      "cell_type": "code",
      "execution_count": null,
      "metadata": {
        "id": "E17l7Edmdaf3"
      },
      "outputs": [],
      "source": [
        "#Remove Puncutuation\n",
        "clean_spcl = re.compile('[/(){}\\[\\]\\|@,;]')\n",
        "clean_symbol = re.compile('[^0-9a-z]')\n",
        "def clean_punct(text):\n",
        "    text = clean_spcl.sub('', text)\n",
        "    text = clean_symbol.sub(' ', text)\n",
        "    return text"
      ]
    },
    {
      "cell_type": "code",
      "execution_count": null,
      "metadata": {
        "colab": {
          "base_uri": "https://localhost:8080/"
        },
        "id": "8f1YgOnOeHJs",
        "outputId": "9d7491d2-8891-4c33-dc22-a900a270b65d"
      },
      "outputs": [
        {
          "output_type": "execute_result",
          "data": {
            "text/plain": [
              "0      kabar luwuk    suasana pasar murah bersubsidi ...\n",
              "1      kabar luwuk     film horor piara mayat kreativ...\n",
              "2      kabar luwuk   festival malabot tumbe kembali m...\n",
              "3       kerja cepat dan terkoordinir dalam penerbitan...\n",
              "4      kabar luwuk   bawaslu banggaiperkuat koordinas...\n",
              "                             ...                        \n",
              "594    banggai raya satu gudang bahan aluminium di ja...\n",
              "595    laporan wartawan tribunpalu com asnawi zikri t...\n",
              "596    banggai raya lebih  pebulutangkis dari kabupat...\n",
              "598    laporan wartawan tribunpalu com asnawi zikri t...\n",
              "599    laporan wartawan tribunpalu com asnawi zikri t...\n",
              "Name: clean_punct, Length: 579, dtype: object"
            ]
          },
          "metadata": {},
          "execution_count": 26
        }
      ],
      "source": [
        "# Buat kolom tambahan untuk data description yang telah diremovepunctuation\n",
        "df['clean_punct'] = df['clean_number'].apply(clean_punct)\n",
        "df['clean_punct']"
      ]
    },
    {
      "cell_type": "code",
      "source": [
        "df.head()\n"
      ],
      "metadata": {
        "id": "vMKcQy2K_Jbc",
        "colab": {
          "base_uri": "https://localhost:8080/",
          "height": 293
        },
        "outputId": "52da4c03-cf53-43a8-f75b-1c56ff33d891"
      },
      "execution_count": null,
      "outputs": [
        {
          "output_type": "execute_result",
          "data": {
            "text/plain": [
              "    target                                              title  \\\n",
              "0  banggai  Mobil Sim Keliling Polres Banggai Meriahkan Pa...   \n",
              "1  banggai  Film Horor “Piara Mayat”,  Kreativitas Anak Mu...   \n",
              "2  banggai  Festival Malabot Tumbe 2023 Kembali Meriahkan ...   \n",
              "3  banggai  Rakor Kampanye Damai Pemilu 2024, Polres Bangg...   \n",
              "4  banggai  Bawaslu Banggai Perkuat Koordinasi dengan Panw...   \n",
              "\n",
              "                                                text  \\\n",
              "0  KABAR LUWUK –  Suasana Pasar Murah bersubsidi ...   \n",
              "1  KABAR LUWUK  –  Film Horor“Piara Mayat”,Kreati...   \n",
              "2  KABAR LUWUK  –Festival Malabot Tumbe 2023Kemba...   \n",
              "3  “Kerja Cepat dan Terkoordinir dalam Penerbitan...   \n",
              "4  KABAR LUWUK  –Bawaslu BanggaiPerkuat Koordinas...   \n",
              "\n",
              "                                                 lwr  \\\n",
              "0  kabar luwuk –  suasana pasar murah bersubsidi ...   \n",
              "1  kabar luwuk  –  film horor“piara mayat”,kreati...   \n",
              "2  kabar luwuk  –festival malabot tumbe 2023kemba...   \n",
              "3  “kerja cepat dan terkoordinir dalam penerbitan...   \n",
              "4  kabar luwuk  –bawaslu banggaiperkuat koordinas...   \n",
              "\n",
              "                                        clean_number  \\\n",
              "0  kabar luwuk –  suasana pasar murah bersubsidi ...   \n",
              "1  kabar luwuk  –  film horor“piara mayat”,kreati...   \n",
              "2  kabar luwuk  –festival malabot tumbe kembali m...   \n",
              "3  “kerja cepat dan terkoordinir dalam penerbitan...   \n",
              "4  kabar luwuk  –bawaslu banggaiperkuat koordinas...   \n",
              "\n",
              "                                         clean_punct  \n",
              "0  kabar luwuk    suasana pasar murah bersubsidi ...  \n",
              "1  kabar luwuk     film horor piara mayat kreativ...  \n",
              "2  kabar luwuk   festival malabot tumbe kembali m...  \n",
              "3   kerja cepat dan terkoordinir dalam penerbitan...  \n",
              "4  kabar luwuk   bawaslu banggaiperkuat koordinas...  "
            ],
            "text/html": [
              "\n",
              "  <div id=\"df-c495f0fe-ff34-4852-905d-2b657fe2eaa4\" class=\"colab-df-container\">\n",
              "    <div>\n",
              "<style scoped>\n",
              "    .dataframe tbody tr th:only-of-type {\n",
              "        vertical-align: middle;\n",
              "    }\n",
              "\n",
              "    .dataframe tbody tr th {\n",
              "        vertical-align: top;\n",
              "    }\n",
              "\n",
              "    .dataframe thead th {\n",
              "        text-align: right;\n",
              "    }\n",
              "</style>\n",
              "<table border=\"1\" class=\"dataframe\">\n",
              "  <thead>\n",
              "    <tr style=\"text-align: right;\">\n",
              "      <th></th>\n",
              "      <th>target</th>\n",
              "      <th>title</th>\n",
              "      <th>text</th>\n",
              "      <th>lwr</th>\n",
              "      <th>clean_number</th>\n",
              "      <th>clean_punct</th>\n",
              "    </tr>\n",
              "  </thead>\n",
              "  <tbody>\n",
              "    <tr>\n",
              "      <th>0</th>\n",
              "      <td>banggai</td>\n",
              "      <td>Mobil Sim Keliling Polres Banggai Meriahkan Pa...</td>\n",
              "      <td>KABAR LUWUK –  Suasana Pasar Murah bersubsidi ...</td>\n",
              "      <td>kabar luwuk –  suasana pasar murah bersubsidi ...</td>\n",
              "      <td>kabar luwuk –  suasana pasar murah bersubsidi ...</td>\n",
              "      <td>kabar luwuk    suasana pasar murah bersubsidi ...</td>\n",
              "    </tr>\n",
              "    <tr>\n",
              "      <th>1</th>\n",
              "      <td>banggai</td>\n",
              "      <td>Film Horor “Piara Mayat”,  Kreativitas Anak Mu...</td>\n",
              "      <td>KABAR LUWUK  –  Film Horor“Piara Mayat”,Kreati...</td>\n",
              "      <td>kabar luwuk  –  film horor“piara mayat”,kreati...</td>\n",
              "      <td>kabar luwuk  –  film horor“piara mayat”,kreati...</td>\n",
              "      <td>kabar luwuk     film horor piara mayat kreativ...</td>\n",
              "    </tr>\n",
              "    <tr>\n",
              "      <th>2</th>\n",
              "      <td>banggai</td>\n",
              "      <td>Festival Malabot Tumbe 2023 Kembali Meriahkan ...</td>\n",
              "      <td>KABAR LUWUK  –Festival Malabot Tumbe 2023Kemba...</td>\n",
              "      <td>kabar luwuk  –festival malabot tumbe 2023kemba...</td>\n",
              "      <td>kabar luwuk  –festival malabot tumbe kembali m...</td>\n",
              "      <td>kabar luwuk   festival malabot tumbe kembali m...</td>\n",
              "    </tr>\n",
              "    <tr>\n",
              "      <th>3</th>\n",
              "      <td>banggai</td>\n",
              "      <td>Rakor Kampanye Damai Pemilu 2024, Polres Bangg...</td>\n",
              "      <td>“Kerja Cepat dan Terkoordinir dalam Penerbitan...</td>\n",
              "      <td>“kerja cepat dan terkoordinir dalam penerbitan...</td>\n",
              "      <td>“kerja cepat dan terkoordinir dalam penerbitan...</td>\n",
              "      <td>kerja cepat dan terkoordinir dalam penerbitan...</td>\n",
              "    </tr>\n",
              "    <tr>\n",
              "      <th>4</th>\n",
              "      <td>banggai</td>\n",
              "      <td>Bawaslu Banggai Perkuat Koordinasi dengan Panw...</td>\n",
              "      <td>KABAR LUWUK  –Bawaslu BanggaiPerkuat Koordinas...</td>\n",
              "      <td>kabar luwuk  –bawaslu banggaiperkuat koordinas...</td>\n",
              "      <td>kabar luwuk  –bawaslu banggaiperkuat koordinas...</td>\n",
              "      <td>kabar luwuk   bawaslu banggaiperkuat koordinas...</td>\n",
              "    </tr>\n",
              "  </tbody>\n",
              "</table>\n",
              "</div>\n",
              "    <div class=\"colab-df-buttons\">\n",
              "\n",
              "  <div class=\"colab-df-container\">\n",
              "    <button class=\"colab-df-convert\" onclick=\"convertToInteractive('df-c495f0fe-ff34-4852-905d-2b657fe2eaa4')\"\n",
              "            title=\"Convert this dataframe to an interactive table.\"\n",
              "            style=\"display:none;\">\n",
              "\n",
              "  <svg xmlns=\"http://www.w3.org/2000/svg\" height=\"24px\" viewBox=\"0 -960 960 960\">\n",
              "    <path d=\"M120-120v-720h720v720H120Zm60-500h600v-160H180v160Zm220 220h160v-160H400v160Zm0 220h160v-160H400v160ZM180-400h160v-160H180v160Zm440 0h160v-160H620v160ZM180-180h160v-160H180v160Zm440 0h160v-160H620v160Z\"/>\n",
              "  </svg>\n",
              "    </button>\n",
              "\n",
              "  <style>\n",
              "    .colab-df-container {\n",
              "      display:flex;\n",
              "      gap: 12px;\n",
              "    }\n",
              "\n",
              "    .colab-df-convert {\n",
              "      background-color: #E8F0FE;\n",
              "      border: none;\n",
              "      border-radius: 50%;\n",
              "      cursor: pointer;\n",
              "      display: none;\n",
              "      fill: #1967D2;\n",
              "      height: 32px;\n",
              "      padding: 0 0 0 0;\n",
              "      width: 32px;\n",
              "    }\n",
              "\n",
              "    .colab-df-convert:hover {\n",
              "      background-color: #E2EBFA;\n",
              "      box-shadow: 0px 1px 2px rgba(60, 64, 67, 0.3), 0px 1px 3px 1px rgba(60, 64, 67, 0.15);\n",
              "      fill: #174EA6;\n",
              "    }\n",
              "\n",
              "    .colab-df-buttons div {\n",
              "      margin-bottom: 4px;\n",
              "    }\n",
              "\n",
              "    [theme=dark] .colab-df-convert {\n",
              "      background-color: #3B4455;\n",
              "      fill: #D2E3FC;\n",
              "    }\n",
              "\n",
              "    [theme=dark] .colab-df-convert:hover {\n",
              "      background-color: #434B5C;\n",
              "      box-shadow: 0px 1px 3px 1px rgba(0, 0, 0, 0.15);\n",
              "      filter: drop-shadow(0px 1px 2px rgba(0, 0, 0, 0.3));\n",
              "      fill: #FFFFFF;\n",
              "    }\n",
              "  </style>\n",
              "\n",
              "    <script>\n",
              "      const buttonEl =\n",
              "        document.querySelector('#df-c495f0fe-ff34-4852-905d-2b657fe2eaa4 button.colab-df-convert');\n",
              "      buttonEl.style.display =\n",
              "        google.colab.kernel.accessAllowed ? 'block' : 'none';\n",
              "\n",
              "      async function convertToInteractive(key) {\n",
              "        const element = document.querySelector('#df-c495f0fe-ff34-4852-905d-2b657fe2eaa4');\n",
              "        const dataTable =\n",
              "          await google.colab.kernel.invokeFunction('convertToInteractive',\n",
              "                                                    [key], {});\n",
              "        if (!dataTable) return;\n",
              "\n",
              "        const docLinkHtml = 'Like what you see? Visit the ' +\n",
              "          '<a target=\"_blank\" href=https://colab.research.google.com/notebooks/data_table.ipynb>data table notebook</a>'\n",
              "          + ' to learn more about interactive tables.';\n",
              "        element.innerHTML = '';\n",
              "        dataTable['output_type'] = 'display_data';\n",
              "        await google.colab.output.renderOutput(dataTable, element);\n",
              "        const docLink = document.createElement('div');\n",
              "        docLink.innerHTML = docLinkHtml;\n",
              "        element.appendChild(docLink);\n",
              "      }\n",
              "    </script>\n",
              "  </div>\n",
              "\n",
              "\n",
              "<div id=\"df-256f6eb1-4d08-46ff-b408-b0b35a5015cd\">\n",
              "  <button class=\"colab-df-quickchart\" onclick=\"quickchart('df-256f6eb1-4d08-46ff-b408-b0b35a5015cd')\"\n",
              "            title=\"Suggest charts\"\n",
              "            style=\"display:none;\">\n",
              "\n",
              "<svg xmlns=\"http://www.w3.org/2000/svg\" height=\"24px\"viewBox=\"0 0 24 24\"\n",
              "     width=\"24px\">\n",
              "    <g>\n",
              "        <path d=\"M19 3H5c-1.1 0-2 .9-2 2v14c0 1.1.9 2 2 2h14c1.1 0 2-.9 2-2V5c0-1.1-.9-2-2-2zM9 17H7v-7h2v7zm4 0h-2V7h2v10zm4 0h-2v-4h2v4z\"/>\n",
              "    </g>\n",
              "</svg>\n",
              "  </button>\n",
              "\n",
              "<style>\n",
              "  .colab-df-quickchart {\n",
              "      --bg-color: #E8F0FE;\n",
              "      --fill-color: #1967D2;\n",
              "      --hover-bg-color: #E2EBFA;\n",
              "      --hover-fill-color: #174EA6;\n",
              "      --disabled-fill-color: #AAA;\n",
              "      --disabled-bg-color: #DDD;\n",
              "  }\n",
              "\n",
              "  [theme=dark] .colab-df-quickchart {\n",
              "      --bg-color: #3B4455;\n",
              "      --fill-color: #D2E3FC;\n",
              "      --hover-bg-color: #434B5C;\n",
              "      --hover-fill-color: #FFFFFF;\n",
              "      --disabled-bg-color: #3B4455;\n",
              "      --disabled-fill-color: #666;\n",
              "  }\n",
              "\n",
              "  .colab-df-quickchart {\n",
              "    background-color: var(--bg-color);\n",
              "    border: none;\n",
              "    border-radius: 50%;\n",
              "    cursor: pointer;\n",
              "    display: none;\n",
              "    fill: var(--fill-color);\n",
              "    height: 32px;\n",
              "    padding: 0;\n",
              "    width: 32px;\n",
              "  }\n",
              "\n",
              "  .colab-df-quickchart:hover {\n",
              "    background-color: var(--hover-bg-color);\n",
              "    box-shadow: 0 1px 2px rgba(60, 64, 67, 0.3), 0 1px 3px 1px rgba(60, 64, 67, 0.15);\n",
              "    fill: var(--button-hover-fill-color);\n",
              "  }\n",
              "\n",
              "  .colab-df-quickchart-complete:disabled,\n",
              "  .colab-df-quickchart-complete:disabled:hover {\n",
              "    background-color: var(--disabled-bg-color);\n",
              "    fill: var(--disabled-fill-color);\n",
              "    box-shadow: none;\n",
              "  }\n",
              "\n",
              "  .colab-df-spinner {\n",
              "    border: 2px solid var(--fill-color);\n",
              "    border-color: transparent;\n",
              "    border-bottom-color: var(--fill-color);\n",
              "    animation:\n",
              "      spin 1s steps(1) infinite;\n",
              "  }\n",
              "\n",
              "  @keyframes spin {\n",
              "    0% {\n",
              "      border-color: transparent;\n",
              "      border-bottom-color: var(--fill-color);\n",
              "      border-left-color: var(--fill-color);\n",
              "    }\n",
              "    20% {\n",
              "      border-color: transparent;\n",
              "      border-left-color: var(--fill-color);\n",
              "      border-top-color: var(--fill-color);\n",
              "    }\n",
              "    30% {\n",
              "      border-color: transparent;\n",
              "      border-left-color: var(--fill-color);\n",
              "      border-top-color: var(--fill-color);\n",
              "      border-right-color: var(--fill-color);\n",
              "    }\n",
              "    40% {\n",
              "      border-color: transparent;\n",
              "      border-right-color: var(--fill-color);\n",
              "      border-top-color: var(--fill-color);\n",
              "    }\n",
              "    60% {\n",
              "      border-color: transparent;\n",
              "      border-right-color: var(--fill-color);\n",
              "    }\n",
              "    80% {\n",
              "      border-color: transparent;\n",
              "      border-right-color: var(--fill-color);\n",
              "      border-bottom-color: var(--fill-color);\n",
              "    }\n",
              "    90% {\n",
              "      border-color: transparent;\n",
              "      border-bottom-color: var(--fill-color);\n",
              "    }\n",
              "  }\n",
              "</style>\n",
              "\n",
              "  <script>\n",
              "    async function quickchart(key) {\n",
              "      const quickchartButtonEl =\n",
              "        document.querySelector('#' + key + ' button');\n",
              "      quickchartButtonEl.disabled = true;  // To prevent multiple clicks.\n",
              "      quickchartButtonEl.classList.add('colab-df-spinner');\n",
              "      try {\n",
              "        const charts = await google.colab.kernel.invokeFunction(\n",
              "            'suggestCharts', [key], {});\n",
              "      } catch (error) {\n",
              "        console.error('Error during call to suggestCharts:', error);\n",
              "      }\n",
              "      quickchartButtonEl.classList.remove('colab-df-spinner');\n",
              "      quickchartButtonEl.classList.add('colab-df-quickchart-complete');\n",
              "    }\n",
              "    (() => {\n",
              "      let quickchartButtonEl =\n",
              "        document.querySelector('#df-256f6eb1-4d08-46ff-b408-b0b35a5015cd button');\n",
              "      quickchartButtonEl.style.display =\n",
              "        google.colab.kernel.accessAllowed ? 'block' : 'none';\n",
              "    })();\n",
              "  </script>\n",
              "</div>\n",
              "    </div>\n",
              "  </div>\n"
            ],
            "application/vnd.google.colaboratory.intrinsic+json": {
              "type": "dataframe",
              "variable_name": "df",
              "summary": "{\n  \"name\": \"df\",\n  \"rows\": 579,\n  \"fields\": [\n    {\n      \"column\": \"target\",\n      \"properties\": {\n        \"dtype\": \"category\",\n        \"num_unique_values\": 1,\n        \"samples\": [\n          \"banggai\"\n        ],\n        \"semantic_type\": \"\",\n        \"description\": \"\"\n      }\n    },\n    {\n      \"column\": \"title\",\n      \"properties\": {\n        \"dtype\": \"string\",\n        \"num_unique_values\": 579,\n        \"samples\": [\n          \"Kades Sayambongin di Banggai Sebut Tudingan Penyimpangan Mengada-ada\"\n        ],\n        \"semantic_type\": \"\",\n        \"description\": \"\"\n      }\n    },\n    {\n      \"column\": \"text\",\n      \"properties\": {\n        \"dtype\": \"string\",\n        \"num_unique_values\": 572,\n        \"samples\": [\n          \"Polresbanggai.com\\u2013kapolres banggaiAKBP Ade Nuramdani, SH, SIK, MM menerima surat dari Pengurus Persatuan Sepak Bola Seluruh Indonesia (PSSI) terkait izin salah satu anggotanya untuk jadi wasit pada kompetisi Piala Soeratin U-17 di Jawa Timur.Izin tersebut diberikan kepada Bripka Arfandi Abdullah, selaku personel yang bertugas di Bagian SDMpolres banggai.\\u201cBripka Arfandi ditunjuk jadi wasit Piala Soeratin U-17, yang di gelar di Kota Surabaya, 20 Januari hingga 3 Februari 2024,\\u201d kata Kasi Humas Polres Banggai IPTU Al Amin S. Muda dalam keterangannya, Minggu (21/1/2024).Pada pertandingan perdana kemarin Sabtu (20/1/2024) bertempat di lapangan TOR Surabaya, Ia sukses memimpin jalannya pertandingan yang mempertemukan Provinsi Jambi melawan Provinsi Sulawesi Utara.Olahraga sepakbola bukan hal baru bagi Bripka Arfandi. Ia sudah mengenal sepakbola semenjak kecil. Bagaimana tidak, dari lingkungan keluarga sampai orang-orang disekitarnya bergelut dengan olahraga ini.Diketahui Bripka Arfandi memulai karir sebagai wasit nasional PSSI berlisensi C1 pada tahun 2018 dan beberapa event penting sudah dipercayakan kepadanya.Pada tahun 2019 lalu, ia dipilih secara langsung oleh PSSI Pusat untuk bertugas sebagai wasit di Liga satu antara PSM Makassar versus Persebaya Surabaya di Biak Papua*Humas Polres Banggai \"\n        ],\n        \"semantic_type\": \"\",\n        \"description\": \"\"\n      }\n    },\n    {\n      \"column\": \"lwr\",\n      \"properties\": {\n        \"dtype\": \"string\",\n        \"num_unique_values\": 572,\n        \"samples\": [\n          \"polresbanggai.com\\u2013kapolres banggaiakbp ade nuramdani, sh, sik, mm menerima surat dari pengurus persatuan sepak bola seluruh indonesia (pssi) terkait izin salah satu anggotanya untuk jadi wasit pada kompetisi piala soeratin u-17 di jawa timur.izin tersebut diberikan kepada bripka arfandi abdullah, selaku personel yang bertugas di bagian sdmpolres banggai.\\u201cbripka arfandi ditunjuk jadi wasit piala soeratin u-17, yang di gelar di kota surabaya, 20 januari hingga 3 februari 2024,\\u201d kata kasi humas polres banggai iptu al amin s. muda dalam keterangannya, minggu (21/1/2024).pada pertandingan perdana kemarin sabtu (20/1/2024) bertempat di lapangan tor surabaya, ia sukses memimpin jalannya pertandingan yang mempertemukan provinsi jambi melawan provinsi sulawesi utara.olahraga sepakbola bukan hal baru bagi bripka arfandi. ia sudah mengenal sepakbola semenjak kecil. bagaimana tidak, dari lingkungan keluarga sampai orang-orang disekitarnya bergelut dengan olahraga ini.diketahui bripka arfandi memulai karir sebagai wasit nasional pssi berlisensi c1 pada tahun 2018 dan beberapa event penting sudah dipercayakan kepadanya.pada tahun 2019 lalu, ia dipilih secara langsung oleh pssi pusat untuk bertugas sebagai wasit di liga satu antara psm makassar versus persebaya surabaya di biak papua*humas polres banggai \"\n        ],\n        \"semantic_type\": \"\",\n        \"description\": \"\"\n      }\n    },\n    {\n      \"column\": \"clean_number\",\n      \"properties\": {\n        \"dtype\": \"string\",\n        \"num_unique_values\": 572,\n        \"samples\": [\n          \"polresbanggai.com\\u2013kapolres banggaiakbp ade nuramdani, sh, sik, mm menerima surat dari pengurus persatuan sepak bola seluruh indonesia (pssi) terkait izin salah satu anggotanya untuk jadi wasit pada kompetisi piala soeratin u- di jawa timur.izin tersebut diberikan kepada bripka arfandi abdullah, selaku personel yang bertugas di bagian sdmpolres banggai.\\u201cbripka arfandi ditunjuk jadi wasit piala soeratin u-, yang di gelar di kota surabaya,  januari hingga  februari ,\\u201d kata kasi humas polres banggai iptu al amin s. muda dalam keterangannya, minggu (//).pada pertandingan perdana kemarin sabtu (//) bertempat di lapangan tor surabaya, ia sukses memimpin jalannya pertandingan yang mempertemukan provinsi jambi melawan provinsi sulawesi utara.olahraga sepakbola bukan hal baru bagi bripka arfandi. ia sudah mengenal sepakbola semenjak kecil. bagaimana tidak, dari lingkungan keluarga sampai orang-orang disekitarnya bergelut dengan olahraga ini.diketahui bripka arfandi memulai karir sebagai wasit nasional pssi berlisensi c pada tahun  dan beberapa event penting sudah dipercayakan kepadanya.pada tahun  lalu, ia dipilih secara langsung oleh pssi pusat untuk bertugas sebagai wasit di liga satu antara psm makassar versus persebaya surabaya di biak papua*humas polres banggai \"\n        ],\n        \"semantic_type\": \"\",\n        \"description\": \"\"\n      }\n    },\n    {\n      \"column\": \"clean_punct\",\n      \"properties\": {\n        \"dtype\": \"string\",\n        \"num_unique_values\": 572,\n        \"samples\": [\n          \"polresbanggai com kapolres banggaiakbp ade nuramdani sh sik mm menerima surat dari pengurus persatuan sepak bola seluruh indonesia pssi terkait izin salah satu anggotanya untuk jadi wasit pada kompetisi piala soeratin u  di jawa timur izin tersebut diberikan kepada bripka arfandi abdullah selaku personel yang bertugas di bagian sdmpolres banggai  bripka arfandi ditunjuk jadi wasit piala soeratin u  yang di gelar di kota surabaya  januari hingga  februari   kata kasi humas polres banggai iptu al amin s  muda dalam keterangannya minggu  pada pertandingan perdana kemarin sabtu  bertempat di lapangan tor surabaya ia sukses memimpin jalannya pertandingan yang mempertemukan provinsi jambi melawan provinsi sulawesi utara olahraga sepakbola bukan hal baru bagi bripka arfandi  ia sudah mengenal sepakbola semenjak kecil  bagaimana tidak dari lingkungan keluarga sampai orang orang disekitarnya bergelut dengan olahraga ini diketahui bripka arfandi memulai karir sebagai wasit nasional pssi berlisensi c pada tahun  dan beberapa event penting sudah dipercayakan kepadanya pada tahun  lalu ia dipilih secara langsung oleh pssi pusat untuk bertugas sebagai wasit di liga satu antara psm makassar versus persebaya surabaya di biak papua humas polres banggai \"\n        ],\n        \"semantic_type\": \"\",\n        \"description\": \"\"\n      }\n    }\n  ]\n}"
            }
          },
          "metadata": {},
          "execution_count": 27
        }
      ]
    },
    {
      "cell_type": "markdown",
      "metadata": {
        "id": "P1RGdnrreR9V"
      },
      "source": [
        "### Delete whitespaces"
      ]
    },
    {
      "cell_type": "code",
      "execution_count": null,
      "metadata": {
        "id": "t9ZjE6MleJmC"
      },
      "outputs": [],
      "source": [
        "def normalize_whitespace(text):\n",
        "    corrected = str(text)\n",
        "    corrected = re.sub(r\"//t\",r\"\\t\", corrected)\n",
        "    corrected = re.sub(r\"( )\\1+\",r\"\\1\", corrected)\n",
        "    corrected = re.sub(r\"(\\n)\\1+\",r\"\\1\", corrected)\n",
        "    corrected = re.sub(r\"(\\r)\\1+\",r\"\\1\", corrected)\n",
        "    corrected = re.sub(r\"(\\t)\\1+\",r\"\\1\", corrected)\n",
        "    return corrected.strip(\" \")"
      ]
    },
    {
      "cell_type": "code",
      "execution_count": null,
      "metadata": {
        "colab": {
          "base_uri": "https://localhost:8080/"
        },
        "id": "1T8BVqeTeZGX",
        "outputId": "2f6ce43c-2255-4d51-96d9-a5c62c99e9eb"
      },
      "outputs": [
        {
          "output_type": "execute_result",
          "data": {
            "text/plain": [
              "0      kabar luwuk suasana pasar murah bersubsidi di ...\n",
              "1      kabar luwuk film horor piara mayat kreativitas...\n",
              "2      kabar luwuk festival malabot tumbe kembali mer...\n",
              "3      kerja cepat dan terkoordinir dalam penerbitan ...\n",
              "4      kabar luwuk bawaslu banggaiperkuat koordinasi ...\n",
              "                             ...                        \n",
              "594    banggai raya satu gudang bahan aluminium di ja...\n",
              "595    laporan wartawan tribunpalu com asnawi zikri t...\n",
              "596    banggai raya lebih pebulutangkis dari kabupate...\n",
              "598    laporan wartawan tribunpalu com asnawi zikri t...\n",
              "599    laporan wartawan tribunpalu com asnawi zikri t...\n",
              "Name: clean_double_ws, Length: 579, dtype: object"
            ]
          },
          "metadata": {},
          "execution_count": 29
        }
      ],
      "source": [
        "df['clean_double_ws'] = df['clean_punct'].apply(normalize_whitespace)\n",
        "df['clean_double_ws']"
      ]
    },
    {
      "cell_type": "code",
      "source": [
        "df.tail()"
      ],
      "metadata": {
        "id": "WS12mtvVBUnS",
        "colab": {
          "base_uri": "https://localhost:8080/",
          "height": 293
        },
        "outputId": "0e742a50-d5cb-43e4-a3d0-5bfe49875a6c"
      },
      "execution_count": null,
      "outputs": [
        {
          "output_type": "execute_result",
          "data": {
            "text/plain": [
              "      target                                              title  \\\n",
              "594  banggai  Gudang Alumunium Kompleks Pertokoan Luwuk Terb...   \n",
              "595  banggai  583 Peserta Ramaikan Turnamen Badminton di Ban...   \n",
              "596  banggai  Lebih 500 Pebulutangkis Berlaga di Open Turnam...   \n",
              "598  banggai  Demi Penuhi Kehidupan Sehari-hari, Pria di Ban...   \n",
              "599  banggai  Gudang Aluminium di Pertokoan Luwuk Banggai Te...   \n",
              "\n",
              "                                                  text  \\\n",
              "594  BANGGAI RAYA-Satu gudang bahan aluminium di Ja...   \n",
              "595  Laporan Wartawan TribunPalu.com, Asnawi Zikri ...   \n",
              "596  BANGGAI RAYA-Lebih 500 pebulutangkis dari kabu...   \n",
              "598  Laporan Wartawan TribunPalu.com, Asnawi Zikri ...   \n",
              "599  Laporan Wartawan TribunPalu.com, Asnawi Zikri ...   \n",
              "\n",
              "                                                   lwr  \\\n",
              "594  banggai raya-satu gudang bahan aluminium di ja...   \n",
              "595  laporan wartawan tribunpalu.com, asnawi zikri ...   \n",
              "596  banggai raya-lebih 500 pebulutangkis dari kabu...   \n",
              "598  laporan wartawan tribunpalu.com, asnawi zikri ...   \n",
              "599  laporan wartawan tribunpalu.com, asnawi zikri ...   \n",
              "\n",
              "                                          clean_number  \\\n",
              "594  banggai raya-satu gudang bahan aluminium di ja...   \n",
              "595  laporan wartawan tribunpalu.com, asnawi zikri ...   \n",
              "596  banggai raya-lebih  pebulutangkis dari kabupat...   \n",
              "598  laporan wartawan tribunpalu.com, asnawi zikri ...   \n",
              "599  laporan wartawan tribunpalu.com, asnawi zikri ...   \n",
              "\n",
              "                                           clean_punct  \\\n",
              "594  banggai raya satu gudang bahan aluminium di ja...   \n",
              "595  laporan wartawan tribunpalu com asnawi zikri t...   \n",
              "596  banggai raya lebih  pebulutangkis dari kabupat...   \n",
              "598  laporan wartawan tribunpalu com asnawi zikri t...   \n",
              "599  laporan wartawan tribunpalu com asnawi zikri t...   \n",
              "\n",
              "                                       clean_double_ws  \n",
              "594  banggai raya satu gudang bahan aluminium di ja...  \n",
              "595  laporan wartawan tribunpalu com asnawi zikri t...  \n",
              "596  banggai raya lebih pebulutangkis dari kabupate...  \n",
              "598  laporan wartawan tribunpalu com asnawi zikri t...  \n",
              "599  laporan wartawan tribunpalu com asnawi zikri t...  "
            ],
            "text/html": [
              "\n",
              "  <div id=\"df-6e1f7cfd-4622-4dfe-bc15-0eefc8168047\" class=\"colab-df-container\">\n",
              "    <div>\n",
              "<style scoped>\n",
              "    .dataframe tbody tr th:only-of-type {\n",
              "        vertical-align: middle;\n",
              "    }\n",
              "\n",
              "    .dataframe tbody tr th {\n",
              "        vertical-align: top;\n",
              "    }\n",
              "\n",
              "    .dataframe thead th {\n",
              "        text-align: right;\n",
              "    }\n",
              "</style>\n",
              "<table border=\"1\" class=\"dataframe\">\n",
              "  <thead>\n",
              "    <tr style=\"text-align: right;\">\n",
              "      <th></th>\n",
              "      <th>target</th>\n",
              "      <th>title</th>\n",
              "      <th>text</th>\n",
              "      <th>lwr</th>\n",
              "      <th>clean_number</th>\n",
              "      <th>clean_punct</th>\n",
              "      <th>clean_double_ws</th>\n",
              "    </tr>\n",
              "  </thead>\n",
              "  <tbody>\n",
              "    <tr>\n",
              "      <th>594</th>\n",
              "      <td>banggai</td>\n",
              "      <td>Gudang Alumunium Kompleks Pertokoan Luwuk Terb...</td>\n",
              "      <td>BANGGAI RAYA-Satu gudang bahan aluminium di Ja...</td>\n",
              "      <td>banggai raya-satu gudang bahan aluminium di ja...</td>\n",
              "      <td>banggai raya-satu gudang bahan aluminium di ja...</td>\n",
              "      <td>banggai raya satu gudang bahan aluminium di ja...</td>\n",
              "      <td>banggai raya satu gudang bahan aluminium di ja...</td>\n",
              "    </tr>\n",
              "    <tr>\n",
              "      <th>595</th>\n",
              "      <td>banggai</td>\n",
              "      <td>583 Peserta Ramaikan Turnamen Badminton di Ban...</td>\n",
              "      <td>Laporan Wartawan TribunPalu.com, Asnawi Zikri ...</td>\n",
              "      <td>laporan wartawan tribunpalu.com, asnawi zikri ...</td>\n",
              "      <td>laporan wartawan tribunpalu.com, asnawi zikri ...</td>\n",
              "      <td>laporan wartawan tribunpalu com asnawi zikri t...</td>\n",
              "      <td>laporan wartawan tribunpalu com asnawi zikri t...</td>\n",
              "    </tr>\n",
              "    <tr>\n",
              "      <th>596</th>\n",
              "      <td>banggai</td>\n",
              "      <td>Lebih 500 Pebulutangkis Berlaga di Open Turnam...</td>\n",
              "      <td>BANGGAI RAYA-Lebih 500 pebulutangkis dari kabu...</td>\n",
              "      <td>banggai raya-lebih 500 pebulutangkis dari kabu...</td>\n",
              "      <td>banggai raya-lebih  pebulutangkis dari kabupat...</td>\n",
              "      <td>banggai raya lebih  pebulutangkis dari kabupat...</td>\n",
              "      <td>banggai raya lebih pebulutangkis dari kabupate...</td>\n",
              "    </tr>\n",
              "    <tr>\n",
              "      <th>598</th>\n",
              "      <td>banggai</td>\n",
              "      <td>Demi Penuhi Kehidupan Sehari-hari, Pria di Ban...</td>\n",
              "      <td>Laporan Wartawan TribunPalu.com, Asnawi Zikri ...</td>\n",
              "      <td>laporan wartawan tribunpalu.com, asnawi zikri ...</td>\n",
              "      <td>laporan wartawan tribunpalu.com, asnawi zikri ...</td>\n",
              "      <td>laporan wartawan tribunpalu com asnawi zikri t...</td>\n",
              "      <td>laporan wartawan tribunpalu com asnawi zikri t...</td>\n",
              "    </tr>\n",
              "    <tr>\n",
              "      <th>599</th>\n",
              "      <td>banggai</td>\n",
              "      <td>Gudang Aluminium di Pertokoan Luwuk Banggai Te...</td>\n",
              "      <td>Laporan Wartawan TribunPalu.com, Asnawi Zikri ...</td>\n",
              "      <td>laporan wartawan tribunpalu.com, asnawi zikri ...</td>\n",
              "      <td>laporan wartawan tribunpalu.com, asnawi zikri ...</td>\n",
              "      <td>laporan wartawan tribunpalu com asnawi zikri t...</td>\n",
              "      <td>laporan wartawan tribunpalu com asnawi zikri t...</td>\n",
              "    </tr>\n",
              "  </tbody>\n",
              "</table>\n",
              "</div>\n",
              "    <div class=\"colab-df-buttons\">\n",
              "\n",
              "  <div class=\"colab-df-container\">\n",
              "    <button class=\"colab-df-convert\" onclick=\"convertToInteractive('df-6e1f7cfd-4622-4dfe-bc15-0eefc8168047')\"\n",
              "            title=\"Convert this dataframe to an interactive table.\"\n",
              "            style=\"display:none;\">\n",
              "\n",
              "  <svg xmlns=\"http://www.w3.org/2000/svg\" height=\"24px\" viewBox=\"0 -960 960 960\">\n",
              "    <path d=\"M120-120v-720h720v720H120Zm60-500h600v-160H180v160Zm220 220h160v-160H400v160Zm0 220h160v-160H400v160ZM180-400h160v-160H180v160Zm440 0h160v-160H620v160ZM180-180h160v-160H180v160Zm440 0h160v-160H620v160Z\"/>\n",
              "  </svg>\n",
              "    </button>\n",
              "\n",
              "  <style>\n",
              "    .colab-df-container {\n",
              "      display:flex;\n",
              "      gap: 12px;\n",
              "    }\n",
              "\n",
              "    .colab-df-convert {\n",
              "      background-color: #E8F0FE;\n",
              "      border: none;\n",
              "      border-radius: 50%;\n",
              "      cursor: pointer;\n",
              "      display: none;\n",
              "      fill: #1967D2;\n",
              "      height: 32px;\n",
              "      padding: 0 0 0 0;\n",
              "      width: 32px;\n",
              "    }\n",
              "\n",
              "    .colab-df-convert:hover {\n",
              "      background-color: #E2EBFA;\n",
              "      box-shadow: 0px 1px 2px rgba(60, 64, 67, 0.3), 0px 1px 3px 1px rgba(60, 64, 67, 0.15);\n",
              "      fill: #174EA6;\n",
              "    }\n",
              "\n",
              "    .colab-df-buttons div {\n",
              "      margin-bottom: 4px;\n",
              "    }\n",
              "\n",
              "    [theme=dark] .colab-df-convert {\n",
              "      background-color: #3B4455;\n",
              "      fill: #D2E3FC;\n",
              "    }\n",
              "\n",
              "    [theme=dark] .colab-df-convert:hover {\n",
              "      background-color: #434B5C;\n",
              "      box-shadow: 0px 1px 3px 1px rgba(0, 0, 0, 0.15);\n",
              "      filter: drop-shadow(0px 1px 2px rgba(0, 0, 0, 0.3));\n",
              "      fill: #FFFFFF;\n",
              "    }\n",
              "  </style>\n",
              "\n",
              "    <script>\n",
              "      const buttonEl =\n",
              "        document.querySelector('#df-6e1f7cfd-4622-4dfe-bc15-0eefc8168047 button.colab-df-convert');\n",
              "      buttonEl.style.display =\n",
              "        google.colab.kernel.accessAllowed ? 'block' : 'none';\n",
              "\n",
              "      async function convertToInteractive(key) {\n",
              "        const element = document.querySelector('#df-6e1f7cfd-4622-4dfe-bc15-0eefc8168047');\n",
              "        const dataTable =\n",
              "          await google.colab.kernel.invokeFunction('convertToInteractive',\n",
              "                                                    [key], {});\n",
              "        if (!dataTable) return;\n",
              "\n",
              "        const docLinkHtml = 'Like what you see? Visit the ' +\n",
              "          '<a target=\"_blank\" href=https://colab.research.google.com/notebooks/data_table.ipynb>data table notebook</a>'\n",
              "          + ' to learn more about interactive tables.';\n",
              "        element.innerHTML = '';\n",
              "        dataTable['output_type'] = 'display_data';\n",
              "        await google.colab.output.renderOutput(dataTable, element);\n",
              "        const docLink = document.createElement('div');\n",
              "        docLink.innerHTML = docLinkHtml;\n",
              "        element.appendChild(docLink);\n",
              "      }\n",
              "    </script>\n",
              "  </div>\n",
              "\n",
              "\n",
              "<div id=\"df-84d21827-3b50-41dd-8728-c768443e6ed1\">\n",
              "  <button class=\"colab-df-quickchart\" onclick=\"quickchart('df-84d21827-3b50-41dd-8728-c768443e6ed1')\"\n",
              "            title=\"Suggest charts\"\n",
              "            style=\"display:none;\">\n",
              "\n",
              "<svg xmlns=\"http://www.w3.org/2000/svg\" height=\"24px\"viewBox=\"0 0 24 24\"\n",
              "     width=\"24px\">\n",
              "    <g>\n",
              "        <path d=\"M19 3H5c-1.1 0-2 .9-2 2v14c0 1.1.9 2 2 2h14c1.1 0 2-.9 2-2V5c0-1.1-.9-2-2-2zM9 17H7v-7h2v7zm4 0h-2V7h2v10zm4 0h-2v-4h2v4z\"/>\n",
              "    </g>\n",
              "</svg>\n",
              "  </button>\n",
              "\n",
              "<style>\n",
              "  .colab-df-quickchart {\n",
              "      --bg-color: #E8F0FE;\n",
              "      --fill-color: #1967D2;\n",
              "      --hover-bg-color: #E2EBFA;\n",
              "      --hover-fill-color: #174EA6;\n",
              "      --disabled-fill-color: #AAA;\n",
              "      --disabled-bg-color: #DDD;\n",
              "  }\n",
              "\n",
              "  [theme=dark] .colab-df-quickchart {\n",
              "      --bg-color: #3B4455;\n",
              "      --fill-color: #D2E3FC;\n",
              "      --hover-bg-color: #434B5C;\n",
              "      --hover-fill-color: #FFFFFF;\n",
              "      --disabled-bg-color: #3B4455;\n",
              "      --disabled-fill-color: #666;\n",
              "  }\n",
              "\n",
              "  .colab-df-quickchart {\n",
              "    background-color: var(--bg-color);\n",
              "    border: none;\n",
              "    border-radius: 50%;\n",
              "    cursor: pointer;\n",
              "    display: none;\n",
              "    fill: var(--fill-color);\n",
              "    height: 32px;\n",
              "    padding: 0;\n",
              "    width: 32px;\n",
              "  }\n",
              "\n",
              "  .colab-df-quickchart:hover {\n",
              "    background-color: var(--hover-bg-color);\n",
              "    box-shadow: 0 1px 2px rgba(60, 64, 67, 0.3), 0 1px 3px 1px rgba(60, 64, 67, 0.15);\n",
              "    fill: var(--button-hover-fill-color);\n",
              "  }\n",
              "\n",
              "  .colab-df-quickchart-complete:disabled,\n",
              "  .colab-df-quickchart-complete:disabled:hover {\n",
              "    background-color: var(--disabled-bg-color);\n",
              "    fill: var(--disabled-fill-color);\n",
              "    box-shadow: none;\n",
              "  }\n",
              "\n",
              "  .colab-df-spinner {\n",
              "    border: 2px solid var(--fill-color);\n",
              "    border-color: transparent;\n",
              "    border-bottom-color: var(--fill-color);\n",
              "    animation:\n",
              "      spin 1s steps(1) infinite;\n",
              "  }\n",
              "\n",
              "  @keyframes spin {\n",
              "    0% {\n",
              "      border-color: transparent;\n",
              "      border-bottom-color: var(--fill-color);\n",
              "      border-left-color: var(--fill-color);\n",
              "    }\n",
              "    20% {\n",
              "      border-color: transparent;\n",
              "      border-left-color: var(--fill-color);\n",
              "      border-top-color: var(--fill-color);\n",
              "    }\n",
              "    30% {\n",
              "      border-color: transparent;\n",
              "      border-left-color: var(--fill-color);\n",
              "      border-top-color: var(--fill-color);\n",
              "      border-right-color: var(--fill-color);\n",
              "    }\n",
              "    40% {\n",
              "      border-color: transparent;\n",
              "      border-right-color: var(--fill-color);\n",
              "      border-top-color: var(--fill-color);\n",
              "    }\n",
              "    60% {\n",
              "      border-color: transparent;\n",
              "      border-right-color: var(--fill-color);\n",
              "    }\n",
              "    80% {\n",
              "      border-color: transparent;\n",
              "      border-right-color: var(--fill-color);\n",
              "      border-bottom-color: var(--fill-color);\n",
              "    }\n",
              "    90% {\n",
              "      border-color: transparent;\n",
              "      border-bottom-color: var(--fill-color);\n",
              "    }\n",
              "  }\n",
              "</style>\n",
              "\n",
              "  <script>\n",
              "    async function quickchart(key) {\n",
              "      const quickchartButtonEl =\n",
              "        document.querySelector('#' + key + ' button');\n",
              "      quickchartButtonEl.disabled = true;  // To prevent multiple clicks.\n",
              "      quickchartButtonEl.classList.add('colab-df-spinner');\n",
              "      try {\n",
              "        const charts = await google.colab.kernel.invokeFunction(\n",
              "            'suggestCharts', [key], {});\n",
              "      } catch (error) {\n",
              "        console.error('Error during call to suggestCharts:', error);\n",
              "      }\n",
              "      quickchartButtonEl.classList.remove('colab-df-spinner');\n",
              "      quickchartButtonEl.classList.add('colab-df-quickchart-complete');\n",
              "    }\n",
              "    (() => {\n",
              "      let quickchartButtonEl =\n",
              "        document.querySelector('#df-84d21827-3b50-41dd-8728-c768443e6ed1 button');\n",
              "      quickchartButtonEl.style.display =\n",
              "        google.colab.kernel.accessAllowed ? 'block' : 'none';\n",
              "    })();\n",
              "  </script>\n",
              "</div>\n",
              "    </div>\n",
              "  </div>\n"
            ],
            "application/vnd.google.colaboratory.intrinsic+json": {
              "type": "dataframe",
              "summary": "{\n  \"name\": \"df\",\n  \"rows\": 5,\n  \"fields\": [\n    {\n      \"column\": \"target\",\n      \"properties\": {\n        \"dtype\": \"category\",\n        \"num_unique_values\": 1,\n        \"samples\": [\n          \"banggai\"\n        ],\n        \"semantic_type\": \"\",\n        \"description\": \"\"\n      }\n    },\n    {\n      \"column\": \"title\",\n      \"properties\": {\n        \"dtype\": \"string\",\n        \"num_unique_values\": 5,\n        \"samples\": [\n          \"583 Peserta Ramaikan Turnamen Badminton di Banggai, Perebutkan Hadiah Rp 40 Juta\"\n        ],\n        \"semantic_type\": \"\",\n        \"description\": \"\"\n      }\n    },\n    {\n      \"column\": \"text\",\n      \"properties\": {\n        \"dtype\": \"string\",\n        \"num_unique_values\": 5,\n        \"samples\": [\n          \"Laporan Wartawan TribunPalu.com, Asnawi Zikri TRIBUNPALU.COM, BANGGAI - Bupati Banggai, Amirudin, membuka acara Badminton Open Tournament Bupati Cup, di GOR Kilongan, Kecamatan Luwuk Utara, KabupatenBanggai , Sulawesi Tengah, Kamis (1/2/2024). Turnamen ini menjadi ajang yang dinantikan para pecinta bulu tangkis di KabupatenBanggai , serta menjadi wadah untuk menumbuhkan semangat kompetisi dan kebersamaan dalam olahraga. \\\"Pertama saya sangat bangga dengan antusias daripada atlet pada malam hari ini luar biasa kurang lebih 500 lebih peserta,\\\" tutur Bupati Amirudin. Karena antusiasme yang cukup besar, turnamen badminton ini direncanakan akan dilaksanakan setahun dua kali. \\\"Malam hari ini adalah putaran yang pertama, dan Insya Allah putaran keduanya kita laksanakan di bulan Juli,\\\" tandas Bupati Amirudin. Bupati Amirudin mengaku turnamen sangat penting karena sebagai ajang menyiapkan atlet muda KabupatenBanggai untuk bisa mewakili Sulawesi Tengah di ajang nasional. Sebab, turnamen kali ini tk hanya melibatkan atlet Banggai, tetapi juga diikuti atlet luar daerah \\\"Ini motivasi untuk kita semua melihat para atlet-atlet berprestasi sehingga ke depan adik-adik kita bisa mengikuti jejak mereka yang sebentar akan kita saksikan bersama,\\\" jelas Bupati Amirudin. Bupati Amirudin juga menyatakan junjung tinggi sportifitas, dan menjadikan turnamen ini tidak hanya sebagai ajang kompetisi, tetapi juga sebagai sarana memperkokoh persaudaraan di antara pecinta bulu tangkis KabupatenBanggai . Pada kesempatan yang sama, Ketua Panitia Badminton Open Tournament Bupati Cup, Ridwan T. Polopa menyampaikan adapun jumlah peserta berasal dari Kabupaten/Kota se Sulawesi Tengah sebanyak 583 peserta. \\\"Waktu pelaksanaan dimulai dari tanggal 1 sampai 4 Februari 2024,\\\" kata Ridwan Polopa. Para peserta akan memperebutkan hadiah sebesar Rp 40 juta. (*) \"\n        ],\n        \"semantic_type\": \"\",\n        \"description\": \"\"\n      }\n    },\n    {\n      \"column\": \"lwr\",\n      \"properties\": {\n        \"dtype\": \"string\",\n        \"num_unique_values\": 5,\n        \"samples\": [\n          \"laporan wartawan tribunpalu.com, asnawi zikri tribunpalu.com, banggai - bupati banggai, amirudin, membuka acara badminton open tournament bupati cup, di gor kilongan, kecamatan luwuk utara, kabupatenbanggai , sulawesi tengah, kamis (1/2/2024). turnamen ini menjadi ajang yang dinantikan para pecinta bulu tangkis di kabupatenbanggai , serta menjadi wadah untuk menumbuhkan semangat kompetisi dan kebersamaan dalam olahraga. \\\"pertama saya sangat bangga dengan antusias daripada atlet pada malam hari ini luar biasa kurang lebih 500 lebih peserta,\\\" tutur bupati amirudin. karena antusiasme yang cukup besar, turnamen badminton ini direncanakan akan dilaksanakan setahun dua kali. \\\"malam hari ini adalah putaran yang pertama, dan insya allah putaran keduanya kita laksanakan di bulan juli,\\\" tandas bupati amirudin. bupati amirudin mengaku turnamen sangat penting karena sebagai ajang menyiapkan atlet muda kabupatenbanggai untuk bisa mewakili sulawesi tengah di ajang nasional. sebab, turnamen kali ini tk hanya melibatkan atlet banggai, tetapi juga diikuti atlet luar daerah \\\"ini motivasi untuk kita semua melihat para atlet-atlet berprestasi sehingga ke depan adik-adik kita bisa mengikuti jejak mereka yang sebentar akan kita saksikan bersama,\\\" jelas bupati amirudin. bupati amirudin juga menyatakan junjung tinggi sportifitas, dan menjadikan turnamen ini tidak hanya sebagai ajang kompetisi, tetapi juga sebagai sarana memperkokoh persaudaraan di antara pecinta bulu tangkis kabupatenbanggai . pada kesempatan yang sama, ketua panitia badminton open tournament bupati cup, ridwan t. polopa menyampaikan adapun jumlah peserta berasal dari kabupaten/kota se sulawesi tengah sebanyak 583 peserta. \\\"waktu pelaksanaan dimulai dari tanggal 1 sampai 4 februari 2024,\\\" kata ridwan polopa. para peserta akan memperebutkan hadiah sebesar rp 40 juta. (*) \"\n        ],\n        \"semantic_type\": \"\",\n        \"description\": \"\"\n      }\n    },\n    {\n      \"column\": \"clean_number\",\n      \"properties\": {\n        \"dtype\": \"string\",\n        \"num_unique_values\": 5,\n        \"samples\": [\n          \"laporan wartawan tribunpalu.com, asnawi zikri tribunpalu.com, banggai - bupati banggai, amirudin, membuka acara badminton open tournament bupati cup, di gor kilongan, kecamatan luwuk utara, kabupatenbanggai , sulawesi tengah, kamis (//). turnamen ini menjadi ajang yang dinantikan para pecinta bulu tangkis di kabupatenbanggai , serta menjadi wadah untuk menumbuhkan semangat kompetisi dan kebersamaan dalam olahraga. \\\"pertama saya sangat bangga dengan antusias daripada atlet pada malam hari ini luar biasa kurang lebih  lebih peserta,\\\" tutur bupati amirudin. karena antusiasme yang cukup besar, turnamen badminton ini direncanakan akan dilaksanakan setahun dua kali. \\\"malam hari ini adalah putaran yang pertama, dan insya allah putaran keduanya kita laksanakan di bulan juli,\\\" tandas bupati amirudin. bupati amirudin mengaku turnamen sangat penting karena sebagai ajang menyiapkan atlet muda kabupatenbanggai untuk bisa mewakili sulawesi tengah di ajang nasional. sebab, turnamen kali ini tk hanya melibatkan atlet banggai, tetapi juga diikuti atlet luar daerah \\\"ini motivasi untuk kita semua melihat para atlet-atlet berprestasi sehingga ke depan adik-adik kita bisa mengikuti jejak mereka yang sebentar akan kita saksikan bersama,\\\" jelas bupati amirudin. bupati amirudin juga menyatakan junjung tinggi sportifitas, dan menjadikan turnamen ini tidak hanya sebagai ajang kompetisi, tetapi juga sebagai sarana memperkokoh persaudaraan di antara pecinta bulu tangkis kabupatenbanggai . pada kesempatan yang sama, ketua panitia badminton open tournament bupati cup, ridwan t. polopa menyampaikan adapun jumlah peserta berasal dari kabupaten/kota se sulawesi tengah sebanyak  peserta. \\\"waktu pelaksanaan dimulai dari tanggal  sampai  februari ,\\\" kata ridwan polopa. para peserta akan memperebutkan hadiah sebesar rp  juta. (*) \"\n        ],\n        \"semantic_type\": \"\",\n        \"description\": \"\"\n      }\n    },\n    {\n      \"column\": \"clean_punct\",\n      \"properties\": {\n        \"dtype\": \"string\",\n        \"num_unique_values\": 5,\n        \"samples\": [\n          \"laporan wartawan tribunpalu com asnawi zikri tribunpalu com banggai   bupati banggai amirudin membuka acara badminton open tournament bupati cup di gor kilongan kecamatan luwuk utara kabupatenbanggai  sulawesi tengah kamis   turnamen ini menjadi ajang yang dinantikan para pecinta bulu tangkis di kabupatenbanggai  serta menjadi wadah untuk menumbuhkan semangat kompetisi dan kebersamaan dalam olahraga   pertama saya sangat bangga dengan antusias daripada atlet pada malam hari ini luar biasa kurang lebih  lebih peserta  tutur bupati amirudin  karena antusiasme yang cukup besar turnamen badminton ini direncanakan akan dilaksanakan setahun dua kali   malam hari ini adalah putaran yang pertama dan insya allah putaran keduanya kita laksanakan di bulan juli  tandas bupati amirudin  bupati amirudin mengaku turnamen sangat penting karena sebagai ajang menyiapkan atlet muda kabupatenbanggai untuk bisa mewakili sulawesi tengah di ajang nasional  sebab turnamen kali ini tk hanya melibatkan atlet banggai tetapi juga diikuti atlet luar daerah  ini motivasi untuk kita semua melihat para atlet atlet berprestasi sehingga ke depan adik adik kita bisa mengikuti jejak mereka yang sebentar akan kita saksikan bersama  jelas bupati amirudin  bupati amirudin juga menyatakan junjung tinggi sportifitas dan menjadikan turnamen ini tidak hanya sebagai ajang kompetisi tetapi juga sebagai sarana memperkokoh persaudaraan di antara pecinta bulu tangkis kabupatenbanggai   pada kesempatan yang sama ketua panitia badminton open tournament bupati cup ridwan t  polopa menyampaikan adapun jumlah peserta berasal dari kabupatenkota se sulawesi tengah sebanyak  peserta   waktu pelaksanaan dimulai dari tanggal  sampai  februari   kata ridwan polopa  para peserta akan memperebutkan hadiah sebesar rp  juta    \"\n        ],\n        \"semantic_type\": \"\",\n        \"description\": \"\"\n      }\n    },\n    {\n      \"column\": \"clean_double_ws\",\n      \"properties\": {\n        \"dtype\": \"string\",\n        \"num_unique_values\": 5,\n        \"samples\": [\n          \"laporan wartawan tribunpalu com asnawi zikri tribunpalu com banggai bupati banggai amirudin membuka acara badminton open tournament bupati cup di gor kilongan kecamatan luwuk utara kabupatenbanggai sulawesi tengah kamis turnamen ini menjadi ajang yang dinantikan para pecinta bulu tangkis di kabupatenbanggai serta menjadi wadah untuk menumbuhkan semangat kompetisi dan kebersamaan dalam olahraga pertama saya sangat bangga dengan antusias daripada atlet pada malam hari ini luar biasa kurang lebih lebih peserta tutur bupati amirudin karena antusiasme yang cukup besar turnamen badminton ini direncanakan akan dilaksanakan setahun dua kali malam hari ini adalah putaran yang pertama dan insya allah putaran keduanya kita laksanakan di bulan juli tandas bupati amirudin bupati amirudin mengaku turnamen sangat penting karena sebagai ajang menyiapkan atlet muda kabupatenbanggai untuk bisa mewakili sulawesi tengah di ajang nasional sebab turnamen kali ini tk hanya melibatkan atlet banggai tetapi juga diikuti atlet luar daerah ini motivasi untuk kita semua melihat para atlet atlet berprestasi sehingga ke depan adik adik kita bisa mengikuti jejak mereka yang sebentar akan kita saksikan bersama jelas bupati amirudin bupati amirudin juga menyatakan junjung tinggi sportifitas dan menjadikan turnamen ini tidak hanya sebagai ajang kompetisi tetapi juga sebagai sarana memperkokoh persaudaraan di antara pecinta bulu tangkis kabupatenbanggai pada kesempatan yang sama ketua panitia badminton open tournament bupati cup ridwan t polopa menyampaikan adapun jumlah peserta berasal dari kabupatenkota se sulawesi tengah sebanyak peserta waktu pelaksanaan dimulai dari tanggal sampai februari kata ridwan polopa para peserta akan memperebutkan hadiah sebesar rp juta\"\n        ],\n        \"semantic_type\": \"\",\n        \"description\": \"\"\n      }\n    }\n  ]\n}"
            }
          },
          "metadata": {},
          "execution_count": 30
        }
      ]
    },
    {
      "cell_type": "markdown",
      "metadata": {
        "id": "akyZhgQzeZ8I"
      },
      "source": [
        "## Stopword Removal"
      ]
    },
    {
      "cell_type": "markdown",
      "metadata": {
        "id": "K4wdQI-SitWH"
      },
      "source": [
        "### Get custom stopwords"
      ]
    },
    {
      "cell_type": "code",
      "source": [
        "url1 = 'https://raw.githubusercontent.com/TaillessTanuki/Berita_Banggai/main/ID-stopwords_banggai_addedwords.csv'\n",
        "df_stopword1 = pd.read_csv(url1, delimiter = \";\",encoding='cp1252')"
      ],
      "metadata": {
        "id": "s67SS5SuKOxZ"
      },
      "execution_count": null,
      "outputs": []
    },
    {
      "cell_type": "code",
      "source": [
        "url2 = 'https://raw.githubusercontent.com/TaillessTanuki/Berita_Banggai/main/ID-Stopwords(MasDevid).csv'\n",
        "df_stopword2 = pd.read_csv(url2, delimiter = \";\",encoding='cp1252')"
      ],
      "metadata": {
        "id": "hAUiXJwX3wK6"
      },
      "execution_count": null,
      "outputs": []
    },
    {
      "cell_type": "code",
      "execution_count": null,
      "metadata": {
        "id": "2K7pfU2Hh9_A"
      },
      "outputs": [],
      "source": [
        "df_stopword.info()"
      ]
    },
    {
      "cell_type": "code",
      "source": [
        "df_stopword"
      ],
      "metadata": {
        "id": "-Z9dEyx8IMV9"
      },
      "execution_count": null,
      "outputs": []
    },
    {
      "cell_type": "code",
      "source": [
        "df.head()"
      ],
      "metadata": {
        "id": "l4WBm9IpPvA7"
      },
      "execution_count": null,
      "outputs": []
    },
    {
      "cell_type": "code",
      "execution_count": null,
      "metadata": {
        "id": "Ubey61YNimwt"
      },
      "outputs": [],
      "source": [
        "custom_stopword1 = list(df_stopword1['stopword'])\n",
        "custom_stopword2 = list(df_stopword2['Stopwords'])"
      ]
    },
    {
      "cell_type": "markdown",
      "metadata": {
        "id": "qjt7FLMViwiU"
      },
      "source": [
        "### Removal"
      ]
    },
    {
      "cell_type": "code",
      "execution_count": null,
      "metadata": {
        "id": "OMhxvMrpef4X"
      },
      "outputs": [],
      "source": [
        "# Prepare stopword remover\n",
        "#factory = StopWordRemoverFactory()\n",
        "#stopwords = factory.get_stop_words() + custom_stopword\n",
        "#print(stopwords)"
      ]
    },
    {
      "cell_type": "code",
      "source": [
        "# using only sastrawy\n",
        "from Sastrawi.StopWordRemover.StopWordRemoverFactory import StopWordRemoverFactory\n",
        "\n",
        "factory = StopWordRemoverFactory()\n",
        "stopwords = factory.get_stop_words() + custom_stopword1 + custom_stopword2"
      ],
      "metadata": {
        "id": "GNEVmdBq8bDz"
      },
      "execution_count": null,
      "outputs": []
    },
    {
      "cell_type": "code",
      "source": [
        "len(stopwords)"
      ],
      "metadata": {
        "colab": {
          "base_uri": "https://localhost:8080/"
        },
        "id": "j6qNtOJbuN05",
        "outputId": "68d0757b-4c39-4de4-aef4-189b1fb8df60"
      },
      "execution_count": null,
      "outputs": [
        {
          "output_type": "execute_result",
          "data": {
            "text/plain": [
              "946"
            ]
          },
          "metadata": {},
          "execution_count": 22
        }
      ]
    },
    {
      "cell_type": "code",
      "execution_count": null,
      "metadata": {
        "id": "ClUNuzeyjDEt"
      },
      "outputs": [],
      "source": [
        "dictionary = ArrayDictionary(stopwords)\n",
        "stopword = StopWordRemover(dictionary)\n"
      ]
    },
    {
      "cell_type": "code",
      "source": [
        "stopwords"
      ],
      "metadata": {
        "id": "FsxBlFiyPWye"
      },
      "execution_count": null,
      "outputs": []
    },
    {
      "cell_type": "code",
      "execution_count": null,
      "metadata": {
        "id": "OCny9HuTc2UR"
      },
      "outputs": [],
      "source": [
        "def filtering(text):\n",
        "  stop = stopword.remove(text)\n",
        "  return stop"
      ]
    },
    {
      "cell_type": "code",
      "source": [
        "df.head()"
      ],
      "metadata": {
        "id": "obxTS5DcMNWz"
      },
      "execution_count": null,
      "outputs": []
    },
    {
      "cell_type": "code",
      "source": [
        "#df.drop(['filtered'], axis=1, inplace=True)"
      ],
      "metadata": {
        "id": "V5pOuXg_ShOl"
      },
      "execution_count": null,
      "outputs": []
    },
    {
      "cell_type": "code",
      "execution_count": null,
      "metadata": {
        "colab": {
          "base_uri": "https://localhost:8080/"
        },
        "id": "mvjR5IBOjjq6",
        "outputId": "ae821a95-964f-4394-8fb2-9d6be532e563"
      },
      "outputs": [
        {
          "output_type": "execute_result",
          "data": {
            "text/plain": [
              "0      luwuk suasana pasar murah bersubsidi semarak k...\n",
              "1      luwuk film horor piara mayat kreativitasanak m...\n",
              "2      luwuk festival malabot tumbe meriahkankabupate...\n",
              "3      kerja cepat terkoordinir penerbitan sttp luwuk...\n",
              "4      luwuk bawaslu banggaiperkuat koordinasi dengan...\n",
              "                             ...                        \n",
              "594    raya gudang bahan aluminium jalan teuku umar k...\n",
              "595    wartawan asnawi tribunpalu com banggai membuka...\n",
              "596    raya pebulutangkis kabupatenkota sulawesi berl...\n",
              "598    wartawan asnawi tribunpalu com banggai pria ne...\n",
              "599    wartawan asnawi tribunpalu com banggai gudang ...\n",
              "Name: filtered, Length: 579, dtype: object"
            ]
          },
          "metadata": {},
          "execution_count": 39
        }
      ],
      "source": [
        "df['filtered'] = df['clean_double_ws'].apply(filtering)\n",
        "df['filtered']"
      ]
    },
    {
      "cell_type": "code",
      "source": [
        "df.head()"
      ],
      "metadata": {
        "id": "zzG-hnrhM1zj"
      },
      "execution_count": null,
      "outputs": []
    },
    {
      "cell_type": "code",
      "source": [
        "len(df)"
      ],
      "metadata": {
        "colab": {
          "base_uri": "https://localhost:8080/"
        },
        "id": "eTJ50j30NVy_",
        "outputId": "d58e040d-0561-4b79-840c-c1dbffc79572"
      },
      "execution_count": null,
      "outputs": [
        {
          "output_type": "execute_result",
          "data": {
            "text/plain": [
              "579"
            ]
          },
          "metadata": {},
          "execution_count": 41
        }
      ]
    },
    {
      "cell_type": "code",
      "execution_count": null,
      "metadata": {
        "id": "oGkf3aEF1P0G"
      },
      "outputs": [],
      "source": [
        "print(df['clean_double_ws'][55])\n",
        "print(df['filtered'][55])"
      ]
    },
    {
      "cell_type": "markdown",
      "metadata": {
        "id": "csdn5fHWjv2W"
      },
      "source": [
        "## Stemming"
      ]
    },
    {
      "cell_type": "code",
      "source": [
        "from Sastrawi.Stemmer.StemmerFactory import StemmerFactory\n",
        "stem_factory = StemmerFactory()\n",
        "stemmer = stem_factory.create_stemmer()"
      ],
      "metadata": {
        "id": "SWezdKP7CWwi"
      },
      "execution_count": null,
      "outputs": []
    },
    {
      "cell_type": "code",
      "execution_count": null,
      "metadata": {
        "id": "xFrbJG4hj6Ug"
      },
      "outputs": [],
      "source": [
        "#factory = StemmerFactory()\n",
        "#stemmer = factory.create_stemmer()"
      ]
    },
    {
      "cell_type": "code",
      "execution_count": null,
      "metadata": {
        "id": "K6yEDY8TkBDG"
      },
      "outputs": [],
      "source": [
        "def stem(text):\n",
        "  return stemmer.stem(text)"
      ]
    },
    {
      "cell_type": "code",
      "source": [
        "df.head()"
      ],
      "metadata": {
        "id": "YbGrSQ2PtpCY"
      },
      "execution_count": null,
      "outputs": []
    },
    {
      "cell_type": "code",
      "execution_count": null,
      "metadata": {
        "colab": {
          "base_uri": "https://localhost:8080/"
        },
        "id": "6dY5qzIEkGZ5",
        "outputId": "670fc6f7-9d70-4d71-e24a-002decd5f9ce"
      },
      "outputs": [
        {
          "output_type": "execute_result",
          "data": {
            "text/plain": [
              "0      luwuk suasana pasar murah subsidi semarak hadi...\n",
              "1      luwuk film horor piara mayat kreativitasanak m...\n",
              "2      luwuk festival malabot tumbe meriahkankabupate...\n",
              "3      kerja cepat terkoordinir terbit sttp luwuk rak...\n",
              "4      luwuk bawaslu banggaiperkuat koordinasi dengan...\n",
              "                             ...                        \n",
              "594    raya gudang bahan aluminium jalan teuku umar k...\n",
              "595    wartawan asnawi tribunpalu com bangga buka aca...\n",
              "596    raya pebulutangkis kabupatenkota sulawesi laga...\n",
              "598    wartawan asnawi tribunpalu com bangga pria nek...\n",
              "599    wartawan asnawi tribunpalu com bangga gudang b...\n",
              "Name: stemmed, Length: 579, dtype: object"
            ]
          },
          "metadata": {},
          "execution_count": 45
        }
      ],
      "source": [
        "df['stemmed'] = df['filtered'].apply(stem)\n",
        "df['stemmed']"
      ]
    },
    {
      "cell_type": "code",
      "source": [
        "df.head()"
      ],
      "metadata": {
        "id": "8ZrWk5PI6PPH"
      },
      "execution_count": null,
      "outputs": []
    },
    {
      "cell_type": "markdown",
      "source": [
        "## Export df to csv (to cutting time if we want to stepback process)"
      ],
      "metadata": {
        "id": "LnldCt2zkih_"
      }
    },
    {
      "cell_type": "code",
      "execution_count": null,
      "metadata": {
        "id": "pk7M4kT2B-tx"
      },
      "outputs": [],
      "source": [
        "df.to_csv(\"stemmed_words_sentiment1.csv\", index=False)"
      ]
    },
    {
      "cell_type": "markdown",
      "source": [
        "## Importing df rom csv (cutting time if we want to stepback process)"
      ],
      "metadata": {
        "id": "vZVKauuAkyDI"
      }
    },
    {
      "cell_type": "code",
      "source": [
        "# to skip stemming process\n",
        "stemmed_url= 'https://raw.githubusercontent.com/TaillessTanuki/Berita_Banggai_Sentiment/main/stemmed_words_sentiment1.csv'\n",
        "\n",
        "df = pd.read_csv(stemmed_url,encoding='utf-8')\n",
        "\n",
        "df = df.astype(str)"
      ],
      "metadata": {
        "id": "fD_AgotLLULN"
      },
      "execution_count": null,
      "outputs": []
    },
    {
      "cell_type": "code",
      "source": [
        "df.head()\n"
      ],
      "metadata": {
        "id": "rnJ5jbNFL27n"
      },
      "execution_count": null,
      "outputs": []
    },
    {
      "cell_type": "code",
      "source": [
        "len(df)"
      ],
      "metadata": {
        "colab": {
          "base_uri": "https://localhost:8080/"
        },
        "id": "l-8H5udHaw3C",
        "outputId": "f95ede87-a065-4172-88db-b60d67193473"
      },
      "execution_count": null,
      "outputs": [
        {
          "output_type": "execute_result",
          "data": {
            "text/plain": [
              "579"
            ]
          },
          "metadata": {},
          "execution_count": 7
        }
      ]
    },
    {
      "cell_type": "code",
      "execution_count": null,
      "metadata": {
        "colab": {
          "base_uri": "https://localhost:8080/"
        },
        "id": "EqJ4dCX42R0u",
        "outputId": "38cbadc1-2ff5-444a-c098-fcc88e2ddcb0"
      },
      "outputs": [
        {
          "output_type": "stream",
          "name": "stdout",
          "text": [
            "permakita untikaluwuk rayakan natal perdana meriah persatuan mahasiswa kristen universitas tompotika permakitasukses menggelar perayaan natal perdana tanggal desember lantai fakultas kesehatan masyarakat untika kegiatan menjadi momen bersatu mahasiswa kristen lingkupuntika luwukuntuk merayakan kelahiran yesus kristus wakil rektor iii dr hamdin husin m si perwakilan pimpinan birokrasi universitas hadir mengapresiasi kegiatan sambutannya beliau harapannya kegiatan terus tahun pentingnya kegiatan positif lingkungan universitas perayaan natal perdana untika memberikan dampak positif seluruh mahasiswa kristen dr hamdin husin m si ketua panitia andre apriolio kaloke tema perayaan diangkat kemuliaan allah damai sejahterah bumi lucas dalam sambutannya andre terima kasih semua panitia mahasiswa telah berkontribusi mendukung kegiatan mewakili teman teman panitia mengucapkan terima kasih seluruh donatur kampus pihak serta panitia telah berkontribusi penuh meluangkan tenaga waktu kegiatan sukses terlaksana andre dihadiri wakil rektor pimpinan rohani presiden mahasiswa untika perayaan natal tidak menjadi ajang kebersamaan juga momentum bersyukur merenung makna kelahiran yesus kristus keberhasilan perayaan natal perdana ini menjadi yang dan diharapkan menjadi tradisi berkesinambungan di untika luwuk\n",
            "permakita untikaluwuk raya natal perdana riah satu mahasiswa kristen universitas tompotika permakitasukses gelar raya natal perdana tanggal desember lantai fakultas sehat masyarakat untika giat jadi momen satu mahasiswa kristen lingkupuntika luwukuntuk raya lahir yesus kristus wakil rektor iii dr hamdin husin m si wakil pimpin birokrasi universitas hadir apresiasi giat sambut beliau harap giat terus tahun penting giat positif lingkung universitas raya natal perdana untika beri dampak positif seluruh mahasiswa kristen dr hamdin husin m si ketua panitia andre apriolio kaloke tema raya angkat mulia allah damai sejahterah bumi lucas dalam sambut andre terima kasih semua panitia mahasiswa telah kontribusi dukung giat wakil teman teman panitia ucap terima kasih seluruh donatur kampus pihak serta panitia telah kontribusi penuh luang tenaga waktu giat sukses laksana andre hadir wakil rektor pimpin rohani presiden mahasiswa untika raya natal tidak jadi ajang sama juga momentum syukur renung makna lahir yesus kristus hasil raya natal perdana ini jadi yang dan harap jadi tradisi sambung di untika luwuk\n"
          ]
        }
      ],
      "source": [
        "print(df['filtered'][55])\n",
        "print(df['stemmed'][55])"
      ]
    },
    {
      "cell_type": "code",
      "source": [
        "print(len(df['filtered'][55]))\n",
        "print(len(df['stemmed'][55]))"
      ],
      "metadata": {
        "colab": {
          "base_uri": "https://localhost:8080/"
        },
        "id": "rKFwM57jdMCK",
        "outputId": "3d67fc67-0a9d-40bc-c13c-61d58ce6a72b"
      },
      "execution_count": null,
      "outputs": [
        {
          "output_type": "stream",
          "name": "stdout",
          "text": [
            "1306\n",
            "1108\n"
          ]
        }
      ]
    },
    {
      "cell_type": "markdown",
      "metadata": {
        "id": "KyujIEiSK3YT"
      },
      "source": [
        "## Tokenizing"
      ]
    },
    {
      "cell_type": "code",
      "execution_count": null,
      "metadata": {
        "id": "7tvlHHYOzWga"
      },
      "outputs": [],
      "source": [
        "def tokenize(text):\n",
        "  tokens = nltk.tokenize.word_tokenize(text)\n",
        "  return tokens"
      ]
    },
    {
      "cell_type": "code",
      "source": [
        "df.head()"
      ],
      "metadata": {
        "id": "edy1ud6vStPy"
      },
      "execution_count": null,
      "outputs": []
    },
    {
      "cell_type": "code",
      "execution_count": null,
      "metadata": {
        "colab": {
          "base_uri": "https://localhost:8080/"
        },
        "id": "HoQt8hoIz_v7",
        "outputId": "d4a97651-cbb4-4660-88af-8e01c559b33c"
      },
      "outputs": [
        {
          "output_type": "execute_result",
          "data": {
            "text/plain": [
              "0      [luwuk, suasana, pasar, murah, subsidi, semara...\n",
              "1      [luwuk, film, horor, piara, mayat, kreativitas...\n",
              "2      [luwuk, festival, malabot, tumbe, meriahkankab...\n",
              "3      [kerja, cepat, terkoordinir, terbit, sttp, luw...\n",
              "4      [luwuk, bawaslu, banggaiperkuat, koordinasi, d...\n",
              "                             ...                        \n",
              "574    [raya, gudang, bahan, aluminium, jalan, teuku,...\n",
              "575    [wartawan, asnawi, tribunpalu, com, bangga, bu...\n",
              "576    [raya, pebulutangkis, kabupatenkota, sulawesi,...\n",
              "577    [wartawan, asnawi, tribunpalu, com, bangga, pr...\n",
              "578    [wartawan, asnawi, tribunpalu, com, bangga, gu...\n",
              "Name: tokenized, Length: 579, dtype: object"
            ]
          },
          "metadata": {},
          "execution_count": 12
        }
      ],
      "source": [
        "df['tokenized'] = df['stemmed'].apply(tokenize)\n",
        "df['tokenized']"
      ]
    },
    {
      "cell_type": "code",
      "execution_count": null,
      "metadata": {
        "colab": {
          "base_uri": "https://localhost:8080/"
        },
        "id": "CBMRdRdiK8vz",
        "outputId": "d85087c2-dbf5-4b04-cc63-095f49a20dc5"
      },
      "outputs": [
        {
          "output_type": "stream",
          "name": "stdout",
          "text": [
            "permakita untikaluwuk rayakan natal perdana meriah persatuan mahasiswa kristen universitas tompotika permakitasukses menggelar perayaan natal perdana tanggal desember lantai fakultas kesehatan masyarakat untika kegiatan menjadi momen bersatu mahasiswa kristen lingkupuntika luwukuntuk merayakan kelahiran yesus kristus wakil rektor iii dr hamdin husin m si perwakilan pimpinan birokrasi universitas hadir mengapresiasi kegiatan sambutannya beliau harapannya kegiatan terus tahun pentingnya kegiatan positif lingkungan universitas perayaan natal perdana untika memberikan dampak positif seluruh mahasiswa kristen dr hamdin husin m si ketua panitia andre apriolio kaloke tema perayaan diangkat kemuliaan allah damai sejahterah bumi lucas dalam sambutannya andre terima kasih semua panitia mahasiswa telah berkontribusi mendukung kegiatan mewakili teman teman panitia mengucapkan terima kasih seluruh donatur kampus pihak serta panitia telah berkontribusi penuh meluangkan tenaga waktu kegiatan sukses terlaksana andre dihadiri wakil rektor pimpinan rohani presiden mahasiswa untika perayaan natal tidak menjadi ajang kebersamaan juga momentum bersyukur merenung makna kelahiran yesus kristus keberhasilan perayaan natal perdana ini menjadi yang dan diharapkan menjadi tradisi berkesinambungan di untika luwuk\n",
            "['permakita', 'untikaluwuk', 'raya', 'natal', 'perdana', 'riah', 'satu', 'mahasiswa', 'kristen', 'universitas', 'tompotika', 'permakitasukses', 'gelar', 'raya', 'natal', 'perdana', 'tanggal', 'desember', 'lantai', 'fakultas', 'sehat', 'masyarakat', 'untika', 'giat', 'jadi', 'momen', 'satu', 'mahasiswa', 'kristen', 'lingkupuntika', 'luwukuntuk', 'raya', 'lahir', 'yesus', 'kristus', 'wakil', 'rektor', 'iii', 'dr', 'hamdin', 'husin', 'm', 'si', 'wakil', 'pimpin', 'birokrasi', 'universitas', 'hadir', 'apresiasi', 'giat', 'sambut', 'beliau', 'harap', 'giat', 'terus', 'tahun', 'penting', 'giat', 'positif', 'lingkung', 'universitas', 'raya', 'natal', 'perdana', 'untika', 'beri', 'dampak', 'positif', 'seluruh', 'mahasiswa', 'kristen', 'dr', 'hamdin', 'husin', 'm', 'si', 'ketua', 'panitia', 'andre', 'apriolio', 'kaloke', 'tema', 'raya', 'angkat', 'mulia', 'allah', 'damai', 'sejahterah', 'bumi', 'lucas', 'dalam', 'sambut', 'andre', 'terima', 'kasih', 'semua', 'panitia', 'mahasiswa', 'telah', 'kontribusi', 'dukung', 'giat', 'wakil', 'teman', 'teman', 'panitia', 'ucap', 'terima', 'kasih', 'seluruh', 'donatur', 'kampus', 'pihak', 'serta', 'panitia', 'telah', 'kontribusi', 'penuh', 'luang', 'tenaga', 'waktu', 'giat', 'sukses', 'laksana', 'andre', 'hadir', 'wakil', 'rektor', 'pimpin', 'rohani', 'presiden', 'mahasiswa', 'untika', 'raya', 'natal', 'tidak', 'jadi', 'ajang', 'sama', 'juga', 'momentum', 'syukur', 'renung', 'makna', 'lahir', 'yesus', 'kristus', 'hasil', 'raya', 'natal', 'perdana', 'ini', 'jadi', 'yang', 'dan', 'harap', 'jadi', 'tradisi', 'sambung', 'di', 'untika', 'luwuk']\n"
          ]
        }
      ],
      "source": [
        "print(df['filtered'][55])\n",
        "print(df['tokenized'][55])"
      ]
    },
    {
      "cell_type": "code",
      "source": [
        "print(len(df['stemmed'][55]))\n",
        "print(len(df['tokenized'][55]))"
      ],
      "metadata": {
        "id": "cKxfF4GhdjLa",
        "outputId": "ac538aee-d74d-423e-9c9d-3dccbfdc3d4a",
        "colab": {
          "base_uri": "https://localhost:8080/"
        }
      },
      "execution_count": null,
      "outputs": [
        {
          "output_type": "stream",
          "name": "stdout",
          "text": [
            "1108\n",
            "162\n"
          ]
        }
      ]
    },
    {
      "cell_type": "markdown",
      "source": [
        "##Second Stopwords"
      ],
      "metadata": {
        "id": "OqDFduCP47A2"
      }
    },
    {
      "cell_type": "code",
      "source": [
        "df.head()"
      ],
      "metadata": {
        "id": "Aw3zSYeJqjFs"
      },
      "execution_count": null,
      "outputs": []
    },
    {
      "cell_type": "code",
      "source": [
        "# Define a function to remove stopwords from a list of tokens\n",
        "def remove_stopwords(tokens):\n",
        "    return [word for word in tokens if word not in stopwords]\n",
        "\n",
        "# Apply the remove_stopwords function to each row in the 'tokenized' column\n",
        "df['filtered2'] = df['tokenized'].apply(lambda tokens: remove_stopwords(tokens))\n",
        "\n",
        "# Display the updated DataFrame\n",
        "print(df.head())"
      ],
      "metadata": {
        "id": "sH3TSo9o3Q-p"
      },
      "execution_count": null,
      "outputs": []
    },
    {
      "cell_type": "code",
      "source": [
        "#df.drop(columns=['tokenized'], inplace=True)"
      ],
      "metadata": {
        "id": "7Hp-bXYa6zt3"
      },
      "execution_count": null,
      "outputs": []
    },
    {
      "cell_type": "code",
      "source": [
        "len(stopwords)"
      ],
      "metadata": {
        "colab": {
          "base_uri": "https://localhost:8080/"
        },
        "id": "rRogv2OAAmP_",
        "outputId": "7675949b-602f-4ddf-95d2-60d10f9d1e07"
      },
      "execution_count": null,
      "outputs": [
        {
          "output_type": "execute_result",
          "data": {
            "text/plain": [
              "946"
            ]
          },
          "metadata": {},
          "execution_count": 26
        }
      ]
    },
    {
      "cell_type": "code",
      "source": [
        "df.head()"
      ],
      "metadata": {
        "id": "zHRIWaHa6rA2",
        "colab": {
          "base_uri": "https://localhost:8080/",
          "height": 677
        },
        "outputId": "6e470233-83f1-4eb0-dcab-479a471112c7"
      },
      "execution_count": null,
      "outputs": [
        {
          "output_type": "execute_result",
          "data": {
            "text/plain": [
              "    target                                              title  \\\n",
              "0  banggai  Mobil Sim Keliling Polres Banggai Meriahkan Pa...   \n",
              "1  banggai  Film Horor “Piara Mayat”,  Kreativitas Anak Mu...   \n",
              "2  banggai  Festival Malabot Tumbe 2023 Kembali Meriahkan ...   \n",
              "3  banggai  Rakor Kampanye Damai Pemilu 2024, Polres Bangg...   \n",
              "4  banggai  Bawaslu Banggai Perkuat Koordinasi dengan Panw...   \n",
              "\n",
              "                                                text  \\\n",
              "0  KABAR LUWUK –  Suasana Pasar Murah bersubsidi ...   \n",
              "1  KABAR LUWUK  –  Film Horor“Piara Mayat”,Kreati...   \n",
              "2  KABAR LUWUK  –Festival Malabot Tumbe 2023Kemba...   \n",
              "3  “Kerja Cepat dan Terkoordinir dalam Penerbitan...   \n",
              "4  KABAR LUWUK  –Bawaslu BanggaiPerkuat Koordinas...   \n",
              "\n",
              "                                                 lwr  \\\n",
              "0  kabar luwuk –  suasana pasar murah bersubsidi ...   \n",
              "1  kabar luwuk  –  film horor“piara mayat”,kreati...   \n",
              "2  kabar luwuk  –festival malabot tumbe 2023kemba...   \n",
              "3  “kerja cepat dan terkoordinir dalam penerbitan...   \n",
              "4  kabar luwuk  –bawaslu banggaiperkuat koordinas...   \n",
              "\n",
              "                                        clean_number  \\\n",
              "0  kabar luwuk –  suasana pasar murah bersubsidi ...   \n",
              "1  kabar luwuk  –  film horor“piara mayat”,kreati...   \n",
              "2  kabar luwuk  –festival malabot tumbe kembali m...   \n",
              "3  “kerja cepat dan terkoordinir dalam penerbitan...   \n",
              "4  kabar luwuk  –bawaslu banggaiperkuat koordinas...   \n",
              "\n",
              "                                         clean_punct  \\\n",
              "0  kabar luwuk    suasana pasar murah bersubsidi ...   \n",
              "1  kabar luwuk     film horor piara mayat kreativ...   \n",
              "2  kabar luwuk   festival malabot tumbe kembali m...   \n",
              "3   kerja cepat dan terkoordinir dalam penerbitan...   \n",
              "4  kabar luwuk   bawaslu banggaiperkuat koordinas...   \n",
              "\n",
              "                                     clean_double_ws  \\\n",
              "0  kabar luwuk suasana pasar murah bersubsidi di ...   \n",
              "1  kabar luwuk film horor piara mayat kreativitas...   \n",
              "2  kabar luwuk festival malabot tumbe kembali mer...   \n",
              "3  kerja cepat dan terkoordinir dalam penerbitan ...   \n",
              "4  kabar luwuk bawaslu banggaiperkuat koordinasi ...   \n",
              "\n",
              "                                            filtered  \\\n",
              "0  luwuk suasana pasar murah bersubsidi semarak k...   \n",
              "1  luwuk film horor piara mayat kreativitasanak m...   \n",
              "2  luwuk festival malabot tumbe meriahkankabupate...   \n",
              "3  kerja cepat terkoordinir penerbitan sttp luwuk...   \n",
              "4  luwuk bawaslu banggaiperkuat koordinasi dengan...   \n",
              "\n",
              "                                             stemmed  \\\n",
              "0  luwuk suasana pasar murah subsidi semarak hadi...   \n",
              "1  luwuk film horor piara mayat kreativitasanak m...   \n",
              "2  luwuk festival malabot tumbe meriahkankabupate...   \n",
              "3  kerja cepat terkoordinir terbit sttp luwuk rak...   \n",
              "4  luwuk bawaslu banggaiperkuat koordinasi dengan...   \n",
              "\n",
              "                                           tokenized  \\\n",
              "0  [luwuk, suasana, pasar, murah, subsidi, semara...   \n",
              "1  [luwuk, film, horor, piara, mayat, kreativitas...   \n",
              "2  [luwuk, festival, malabot, tumbe, meriahkankab...   \n",
              "3  [kerja, cepat, terkoordinir, terbit, sttp, luw...   \n",
              "4  [luwuk, bawaslu, banggaiperkuat, koordinasi, d...   \n",
              "\n",
              "                                           filtered2  \n",
              "0  [suasana, pasar, murah, subsidi, semarak, hadi...  \n",
              "1  [film, horor, piara, mayat, kreativitasanak, m...  \n",
              "2  [festival, malabot, tumbe, meriahkankabupaten,...  \n",
              "3  [kerja, cepat, terkoordinir, terbit, sttp, rak...  \n",
              "4  [bawaslu, banggaiperkuat, koordinasi, denganpa...  "
            ],
            "text/html": [
              "\n",
              "  <div id=\"df-201713e3-0be2-4baa-b831-9dcb9e51f7d1\" class=\"colab-df-container\">\n",
              "    <div>\n",
              "<style scoped>\n",
              "    .dataframe tbody tr th:only-of-type {\n",
              "        vertical-align: middle;\n",
              "    }\n",
              "\n",
              "    .dataframe tbody tr th {\n",
              "        vertical-align: top;\n",
              "    }\n",
              "\n",
              "    .dataframe thead th {\n",
              "        text-align: right;\n",
              "    }\n",
              "</style>\n",
              "<table border=\"1\" class=\"dataframe\">\n",
              "  <thead>\n",
              "    <tr style=\"text-align: right;\">\n",
              "      <th></th>\n",
              "      <th>target</th>\n",
              "      <th>title</th>\n",
              "      <th>text</th>\n",
              "      <th>lwr</th>\n",
              "      <th>clean_number</th>\n",
              "      <th>clean_punct</th>\n",
              "      <th>clean_double_ws</th>\n",
              "      <th>filtered</th>\n",
              "      <th>stemmed</th>\n",
              "      <th>tokenized</th>\n",
              "      <th>filtered2</th>\n",
              "    </tr>\n",
              "  </thead>\n",
              "  <tbody>\n",
              "    <tr>\n",
              "      <th>0</th>\n",
              "      <td>banggai</td>\n",
              "      <td>Mobil Sim Keliling Polres Banggai Meriahkan Pa...</td>\n",
              "      <td>KABAR LUWUK –  Suasana Pasar Murah bersubsidi ...</td>\n",
              "      <td>kabar luwuk –  suasana pasar murah bersubsidi ...</td>\n",
              "      <td>kabar luwuk –  suasana pasar murah bersubsidi ...</td>\n",
              "      <td>kabar luwuk    suasana pasar murah bersubsidi ...</td>\n",
              "      <td>kabar luwuk suasana pasar murah bersubsidi di ...</td>\n",
              "      <td>luwuk suasana pasar murah bersubsidi semarak k...</td>\n",
              "      <td>luwuk suasana pasar murah subsidi semarak hadi...</td>\n",
              "      <td>[luwuk, suasana, pasar, murah, subsidi, semara...</td>\n",
              "      <td>[suasana, pasar, murah, subsidi, semarak, hadi...</td>\n",
              "    </tr>\n",
              "    <tr>\n",
              "      <th>1</th>\n",
              "      <td>banggai</td>\n",
              "      <td>Film Horor “Piara Mayat”,  Kreativitas Anak Mu...</td>\n",
              "      <td>KABAR LUWUK  –  Film Horor“Piara Mayat”,Kreati...</td>\n",
              "      <td>kabar luwuk  –  film horor“piara mayat”,kreati...</td>\n",
              "      <td>kabar luwuk  –  film horor“piara mayat”,kreati...</td>\n",
              "      <td>kabar luwuk     film horor piara mayat kreativ...</td>\n",
              "      <td>kabar luwuk film horor piara mayat kreativitas...</td>\n",
              "      <td>luwuk film horor piara mayat kreativitasanak m...</td>\n",
              "      <td>luwuk film horor piara mayat kreativitasanak m...</td>\n",
              "      <td>[luwuk, film, horor, piara, mayat, kreativitas...</td>\n",
              "      <td>[film, horor, piara, mayat, kreativitasanak, m...</td>\n",
              "    </tr>\n",
              "    <tr>\n",
              "      <th>2</th>\n",
              "      <td>banggai</td>\n",
              "      <td>Festival Malabot Tumbe 2023 Kembali Meriahkan ...</td>\n",
              "      <td>KABAR LUWUK  –Festival Malabot Tumbe 2023Kemba...</td>\n",
              "      <td>kabar luwuk  –festival malabot tumbe 2023kemba...</td>\n",
              "      <td>kabar luwuk  –festival malabot tumbe kembali m...</td>\n",
              "      <td>kabar luwuk   festival malabot tumbe kembali m...</td>\n",
              "      <td>kabar luwuk festival malabot tumbe kembali mer...</td>\n",
              "      <td>luwuk festival malabot tumbe meriahkankabupate...</td>\n",
              "      <td>luwuk festival malabot tumbe meriahkankabupate...</td>\n",
              "      <td>[luwuk, festival, malabot, tumbe, meriahkankab...</td>\n",
              "      <td>[festival, malabot, tumbe, meriahkankabupaten,...</td>\n",
              "    </tr>\n",
              "    <tr>\n",
              "      <th>3</th>\n",
              "      <td>banggai</td>\n",
              "      <td>Rakor Kampanye Damai Pemilu 2024, Polres Bangg...</td>\n",
              "      <td>“Kerja Cepat dan Terkoordinir dalam Penerbitan...</td>\n",
              "      <td>“kerja cepat dan terkoordinir dalam penerbitan...</td>\n",
              "      <td>“kerja cepat dan terkoordinir dalam penerbitan...</td>\n",
              "      <td>kerja cepat dan terkoordinir dalam penerbitan...</td>\n",
              "      <td>kerja cepat dan terkoordinir dalam penerbitan ...</td>\n",
              "      <td>kerja cepat terkoordinir penerbitan sttp luwuk...</td>\n",
              "      <td>kerja cepat terkoordinir terbit sttp luwuk rak...</td>\n",
              "      <td>[kerja, cepat, terkoordinir, terbit, sttp, luw...</td>\n",
              "      <td>[kerja, cepat, terkoordinir, terbit, sttp, rak...</td>\n",
              "    </tr>\n",
              "    <tr>\n",
              "      <th>4</th>\n",
              "      <td>banggai</td>\n",
              "      <td>Bawaslu Banggai Perkuat Koordinasi dengan Panw...</td>\n",
              "      <td>KABAR LUWUK  –Bawaslu BanggaiPerkuat Koordinas...</td>\n",
              "      <td>kabar luwuk  –bawaslu banggaiperkuat koordinas...</td>\n",
              "      <td>kabar luwuk  –bawaslu banggaiperkuat koordinas...</td>\n",
              "      <td>kabar luwuk   bawaslu banggaiperkuat koordinas...</td>\n",
              "      <td>kabar luwuk bawaslu banggaiperkuat koordinasi ...</td>\n",
              "      <td>luwuk bawaslu banggaiperkuat koordinasi dengan...</td>\n",
              "      <td>luwuk bawaslu banggaiperkuat koordinasi dengan...</td>\n",
              "      <td>[luwuk, bawaslu, banggaiperkuat, koordinasi, d...</td>\n",
              "      <td>[bawaslu, banggaiperkuat, koordinasi, denganpa...</td>\n",
              "    </tr>\n",
              "  </tbody>\n",
              "</table>\n",
              "</div>\n",
              "    <div class=\"colab-df-buttons\">\n",
              "\n",
              "  <div class=\"colab-df-container\">\n",
              "    <button class=\"colab-df-convert\" onclick=\"convertToInteractive('df-201713e3-0be2-4baa-b831-9dcb9e51f7d1')\"\n",
              "            title=\"Convert this dataframe to an interactive table.\"\n",
              "            style=\"display:none;\">\n",
              "\n",
              "  <svg xmlns=\"http://www.w3.org/2000/svg\" height=\"24px\" viewBox=\"0 -960 960 960\">\n",
              "    <path d=\"M120-120v-720h720v720H120Zm60-500h600v-160H180v160Zm220 220h160v-160H400v160Zm0 220h160v-160H400v160ZM180-400h160v-160H180v160Zm440 0h160v-160H620v160ZM180-180h160v-160H180v160Zm440 0h160v-160H620v160Z\"/>\n",
              "  </svg>\n",
              "    </button>\n",
              "\n",
              "  <style>\n",
              "    .colab-df-container {\n",
              "      display:flex;\n",
              "      gap: 12px;\n",
              "    }\n",
              "\n",
              "    .colab-df-convert {\n",
              "      background-color: #E8F0FE;\n",
              "      border: none;\n",
              "      border-radius: 50%;\n",
              "      cursor: pointer;\n",
              "      display: none;\n",
              "      fill: #1967D2;\n",
              "      height: 32px;\n",
              "      padding: 0 0 0 0;\n",
              "      width: 32px;\n",
              "    }\n",
              "\n",
              "    .colab-df-convert:hover {\n",
              "      background-color: #E2EBFA;\n",
              "      box-shadow: 0px 1px 2px rgba(60, 64, 67, 0.3), 0px 1px 3px 1px rgba(60, 64, 67, 0.15);\n",
              "      fill: #174EA6;\n",
              "    }\n",
              "\n",
              "    .colab-df-buttons div {\n",
              "      margin-bottom: 4px;\n",
              "    }\n",
              "\n",
              "    [theme=dark] .colab-df-convert {\n",
              "      background-color: #3B4455;\n",
              "      fill: #D2E3FC;\n",
              "    }\n",
              "\n",
              "    [theme=dark] .colab-df-convert:hover {\n",
              "      background-color: #434B5C;\n",
              "      box-shadow: 0px 1px 3px 1px rgba(0, 0, 0, 0.15);\n",
              "      filter: drop-shadow(0px 1px 2px rgba(0, 0, 0, 0.3));\n",
              "      fill: #FFFFFF;\n",
              "    }\n",
              "  </style>\n",
              "\n",
              "    <script>\n",
              "      const buttonEl =\n",
              "        document.querySelector('#df-201713e3-0be2-4baa-b831-9dcb9e51f7d1 button.colab-df-convert');\n",
              "      buttonEl.style.display =\n",
              "        google.colab.kernel.accessAllowed ? 'block' : 'none';\n",
              "\n",
              "      async function convertToInteractive(key) {\n",
              "        const element = document.querySelector('#df-201713e3-0be2-4baa-b831-9dcb9e51f7d1');\n",
              "        const dataTable =\n",
              "          await google.colab.kernel.invokeFunction('convertToInteractive',\n",
              "                                                    [key], {});\n",
              "        if (!dataTable) return;\n",
              "\n",
              "        const docLinkHtml = 'Like what you see? Visit the ' +\n",
              "          '<a target=\"_blank\" href=https://colab.research.google.com/notebooks/data_table.ipynb>data table notebook</a>'\n",
              "          + ' to learn more about interactive tables.';\n",
              "        element.innerHTML = '';\n",
              "        dataTable['output_type'] = 'display_data';\n",
              "        await google.colab.output.renderOutput(dataTable, element);\n",
              "        const docLink = document.createElement('div');\n",
              "        docLink.innerHTML = docLinkHtml;\n",
              "        element.appendChild(docLink);\n",
              "      }\n",
              "    </script>\n",
              "  </div>\n",
              "\n",
              "\n",
              "<div id=\"df-620b3bb4-5835-4658-88de-68a737a2a1b9\">\n",
              "  <button class=\"colab-df-quickchart\" onclick=\"quickchart('df-620b3bb4-5835-4658-88de-68a737a2a1b9')\"\n",
              "            title=\"Suggest charts\"\n",
              "            style=\"display:none;\">\n",
              "\n",
              "<svg xmlns=\"http://www.w3.org/2000/svg\" height=\"24px\"viewBox=\"0 0 24 24\"\n",
              "     width=\"24px\">\n",
              "    <g>\n",
              "        <path d=\"M19 3H5c-1.1 0-2 .9-2 2v14c0 1.1.9 2 2 2h14c1.1 0 2-.9 2-2V5c0-1.1-.9-2-2-2zM9 17H7v-7h2v7zm4 0h-2V7h2v10zm4 0h-2v-4h2v4z\"/>\n",
              "    </g>\n",
              "</svg>\n",
              "  </button>\n",
              "\n",
              "<style>\n",
              "  .colab-df-quickchart {\n",
              "      --bg-color: #E8F0FE;\n",
              "      --fill-color: #1967D2;\n",
              "      --hover-bg-color: #E2EBFA;\n",
              "      --hover-fill-color: #174EA6;\n",
              "      --disabled-fill-color: #AAA;\n",
              "      --disabled-bg-color: #DDD;\n",
              "  }\n",
              "\n",
              "  [theme=dark] .colab-df-quickchart {\n",
              "      --bg-color: #3B4455;\n",
              "      --fill-color: #D2E3FC;\n",
              "      --hover-bg-color: #434B5C;\n",
              "      --hover-fill-color: #FFFFFF;\n",
              "      --disabled-bg-color: #3B4455;\n",
              "      --disabled-fill-color: #666;\n",
              "  }\n",
              "\n",
              "  .colab-df-quickchart {\n",
              "    background-color: var(--bg-color);\n",
              "    border: none;\n",
              "    border-radius: 50%;\n",
              "    cursor: pointer;\n",
              "    display: none;\n",
              "    fill: var(--fill-color);\n",
              "    height: 32px;\n",
              "    padding: 0;\n",
              "    width: 32px;\n",
              "  }\n",
              "\n",
              "  .colab-df-quickchart:hover {\n",
              "    background-color: var(--hover-bg-color);\n",
              "    box-shadow: 0 1px 2px rgba(60, 64, 67, 0.3), 0 1px 3px 1px rgba(60, 64, 67, 0.15);\n",
              "    fill: var(--button-hover-fill-color);\n",
              "  }\n",
              "\n",
              "  .colab-df-quickchart-complete:disabled,\n",
              "  .colab-df-quickchart-complete:disabled:hover {\n",
              "    background-color: var(--disabled-bg-color);\n",
              "    fill: var(--disabled-fill-color);\n",
              "    box-shadow: none;\n",
              "  }\n",
              "\n",
              "  .colab-df-spinner {\n",
              "    border: 2px solid var(--fill-color);\n",
              "    border-color: transparent;\n",
              "    border-bottom-color: var(--fill-color);\n",
              "    animation:\n",
              "      spin 1s steps(1) infinite;\n",
              "  }\n",
              "\n",
              "  @keyframes spin {\n",
              "    0% {\n",
              "      border-color: transparent;\n",
              "      border-bottom-color: var(--fill-color);\n",
              "      border-left-color: var(--fill-color);\n",
              "    }\n",
              "    20% {\n",
              "      border-color: transparent;\n",
              "      border-left-color: var(--fill-color);\n",
              "      border-top-color: var(--fill-color);\n",
              "    }\n",
              "    30% {\n",
              "      border-color: transparent;\n",
              "      border-left-color: var(--fill-color);\n",
              "      border-top-color: var(--fill-color);\n",
              "      border-right-color: var(--fill-color);\n",
              "    }\n",
              "    40% {\n",
              "      border-color: transparent;\n",
              "      border-right-color: var(--fill-color);\n",
              "      border-top-color: var(--fill-color);\n",
              "    }\n",
              "    60% {\n",
              "      border-color: transparent;\n",
              "      border-right-color: var(--fill-color);\n",
              "    }\n",
              "    80% {\n",
              "      border-color: transparent;\n",
              "      border-right-color: var(--fill-color);\n",
              "      border-bottom-color: var(--fill-color);\n",
              "    }\n",
              "    90% {\n",
              "      border-color: transparent;\n",
              "      border-bottom-color: var(--fill-color);\n",
              "    }\n",
              "  }\n",
              "</style>\n",
              "\n",
              "  <script>\n",
              "    async function quickchart(key) {\n",
              "      const quickchartButtonEl =\n",
              "        document.querySelector('#' + key + ' button');\n",
              "      quickchartButtonEl.disabled = true;  // To prevent multiple clicks.\n",
              "      quickchartButtonEl.classList.add('colab-df-spinner');\n",
              "      try {\n",
              "        const charts = await google.colab.kernel.invokeFunction(\n",
              "            'suggestCharts', [key], {});\n",
              "      } catch (error) {\n",
              "        console.error('Error during call to suggestCharts:', error);\n",
              "      }\n",
              "      quickchartButtonEl.classList.remove('colab-df-spinner');\n",
              "      quickchartButtonEl.classList.add('colab-df-quickchart-complete');\n",
              "    }\n",
              "    (() => {\n",
              "      let quickchartButtonEl =\n",
              "        document.querySelector('#df-620b3bb4-5835-4658-88de-68a737a2a1b9 button');\n",
              "      quickchartButtonEl.style.display =\n",
              "        google.colab.kernel.accessAllowed ? 'block' : 'none';\n",
              "    })();\n",
              "  </script>\n",
              "</div>\n",
              "    </div>\n",
              "  </div>\n"
            ],
            "application/vnd.google.colaboratory.intrinsic+json": {
              "type": "dataframe",
              "variable_name": "df",
              "summary": "{\n  \"name\": \"df\",\n  \"rows\": 579,\n  \"fields\": [\n    {\n      \"column\": \"target\",\n      \"properties\": {\n        \"dtype\": \"category\",\n        \"num_unique_values\": 1,\n        \"samples\": [\n          \"banggai\"\n        ],\n        \"semantic_type\": \"\",\n        \"description\": \"\"\n      }\n    },\n    {\n      \"column\": \"title\",\n      \"properties\": {\n        \"dtype\": \"string\",\n        \"num_unique_values\": 579,\n        \"samples\": [\n          \"Kades Sayambongin di Banggai Sebut Tudingan Penyimpangan Mengada-ada\"\n        ],\n        \"semantic_type\": \"\",\n        \"description\": \"\"\n      }\n    },\n    {\n      \"column\": \"text\",\n      \"properties\": {\n        \"dtype\": \"string\",\n        \"num_unique_values\": 572,\n        \"samples\": [\n          \"Polresbanggai.com\\u2013kapolres banggaiAKBP Ade Nuramdani, SH, SIK, MM menerima surat dari Pengurus Persatuan Sepak Bola Seluruh Indonesia (PSSI) terkait izin salah satu anggotanya untuk jadi wasit pada kompetisi Piala Soeratin U-17 di Jawa Timur.Izin tersebut diberikan kepada Bripka Arfandi Abdullah, selaku personel yang bertugas di Bagian SDMpolres banggai.\\u201cBripka Arfandi ditunjuk jadi wasit Piala Soeratin U-17, yang di gelar di Kota Surabaya, 20 Januari hingga 3 Februari 2024,\\u201d kata Kasi Humas Polres Banggai IPTU Al Amin S. Muda dalam keterangannya, Minggu (21/1/2024).Pada pertandingan perdana kemarin Sabtu (20/1/2024) bertempat di lapangan TOR Surabaya, Ia sukses memimpin jalannya pertandingan yang mempertemukan Provinsi Jambi melawan Provinsi Sulawesi Utara.Olahraga sepakbola bukan hal baru bagi Bripka Arfandi. Ia sudah mengenal sepakbola semenjak kecil. Bagaimana tidak, dari lingkungan keluarga sampai orang-orang disekitarnya bergelut dengan olahraga ini.Diketahui Bripka Arfandi memulai karir sebagai wasit nasional PSSI berlisensi C1 pada tahun 2018 dan beberapa event penting sudah dipercayakan kepadanya.Pada tahun 2019 lalu, ia dipilih secara langsung oleh PSSI Pusat untuk bertugas sebagai wasit di Liga satu antara PSM Makassar versus Persebaya Surabaya di Biak Papua*Humas Polres Banggai \"\n        ],\n        \"semantic_type\": \"\",\n        \"description\": \"\"\n      }\n    },\n    {\n      \"column\": \"lwr\",\n      \"properties\": {\n        \"dtype\": \"string\",\n        \"num_unique_values\": 572,\n        \"samples\": [\n          \"polresbanggai.com\\u2013kapolres banggaiakbp ade nuramdani, sh, sik, mm menerima surat dari pengurus persatuan sepak bola seluruh indonesia (pssi) terkait izin salah satu anggotanya untuk jadi wasit pada kompetisi piala soeratin u-17 di jawa timur.izin tersebut diberikan kepada bripka arfandi abdullah, selaku personel yang bertugas di bagian sdmpolres banggai.\\u201cbripka arfandi ditunjuk jadi wasit piala soeratin u-17, yang di gelar di kota surabaya, 20 januari hingga 3 februari 2024,\\u201d kata kasi humas polres banggai iptu al amin s. muda dalam keterangannya, minggu (21/1/2024).pada pertandingan perdana kemarin sabtu (20/1/2024) bertempat di lapangan tor surabaya, ia sukses memimpin jalannya pertandingan yang mempertemukan provinsi jambi melawan provinsi sulawesi utara.olahraga sepakbola bukan hal baru bagi bripka arfandi. ia sudah mengenal sepakbola semenjak kecil. bagaimana tidak, dari lingkungan keluarga sampai orang-orang disekitarnya bergelut dengan olahraga ini.diketahui bripka arfandi memulai karir sebagai wasit nasional pssi berlisensi c1 pada tahun 2018 dan beberapa event penting sudah dipercayakan kepadanya.pada tahun 2019 lalu, ia dipilih secara langsung oleh pssi pusat untuk bertugas sebagai wasit di liga satu antara psm makassar versus persebaya surabaya di biak papua*humas polres banggai \"\n        ],\n        \"semantic_type\": \"\",\n        \"description\": \"\"\n      }\n    },\n    {\n      \"column\": \"clean_number\",\n      \"properties\": {\n        \"dtype\": \"string\",\n        \"num_unique_values\": 572,\n        \"samples\": [\n          \"polresbanggai.com\\u2013kapolres banggaiakbp ade nuramdani, sh, sik, mm menerima surat dari pengurus persatuan sepak bola seluruh indonesia (pssi) terkait izin salah satu anggotanya untuk jadi wasit pada kompetisi piala soeratin u- di jawa timur.izin tersebut diberikan kepada bripka arfandi abdullah, selaku personel yang bertugas di bagian sdmpolres banggai.\\u201cbripka arfandi ditunjuk jadi wasit piala soeratin u-, yang di gelar di kota surabaya,  januari hingga  februari ,\\u201d kata kasi humas polres banggai iptu al amin s. muda dalam keterangannya, minggu (//).pada pertandingan perdana kemarin sabtu (//) bertempat di lapangan tor surabaya, ia sukses memimpin jalannya pertandingan yang mempertemukan provinsi jambi melawan provinsi sulawesi utara.olahraga sepakbola bukan hal baru bagi bripka arfandi. ia sudah mengenal sepakbola semenjak kecil. bagaimana tidak, dari lingkungan keluarga sampai orang-orang disekitarnya bergelut dengan olahraga ini.diketahui bripka arfandi memulai karir sebagai wasit nasional pssi berlisensi c pada tahun  dan beberapa event penting sudah dipercayakan kepadanya.pada tahun  lalu, ia dipilih secara langsung oleh pssi pusat untuk bertugas sebagai wasit di liga satu antara psm makassar versus persebaya surabaya di biak papua*humas polres banggai \"\n        ],\n        \"semantic_type\": \"\",\n        \"description\": \"\"\n      }\n    },\n    {\n      \"column\": \"clean_punct\",\n      \"properties\": {\n        \"dtype\": \"string\",\n        \"num_unique_values\": 572,\n        \"samples\": [\n          \"polresbanggai com kapolres banggaiakbp ade nuramdani sh sik mm menerima surat dari pengurus persatuan sepak bola seluruh indonesia pssi terkait izin salah satu anggotanya untuk jadi wasit pada kompetisi piala soeratin u  di jawa timur izin tersebut diberikan kepada bripka arfandi abdullah selaku personel yang bertugas di bagian sdmpolres banggai  bripka arfandi ditunjuk jadi wasit piala soeratin u  yang di gelar di kota surabaya  januari hingga  februari   kata kasi humas polres banggai iptu al amin s  muda dalam keterangannya minggu  pada pertandingan perdana kemarin sabtu  bertempat di lapangan tor surabaya ia sukses memimpin jalannya pertandingan yang mempertemukan provinsi jambi melawan provinsi sulawesi utara olahraga sepakbola bukan hal baru bagi bripka arfandi  ia sudah mengenal sepakbola semenjak kecil  bagaimana tidak dari lingkungan keluarga sampai orang orang disekitarnya bergelut dengan olahraga ini diketahui bripka arfandi memulai karir sebagai wasit nasional pssi berlisensi c pada tahun  dan beberapa event penting sudah dipercayakan kepadanya pada tahun  lalu ia dipilih secara langsung oleh pssi pusat untuk bertugas sebagai wasit di liga satu antara psm makassar versus persebaya surabaya di biak papua humas polres banggai \"\n        ],\n        \"semantic_type\": \"\",\n        \"description\": \"\"\n      }\n    },\n    {\n      \"column\": \"clean_double_ws\",\n      \"properties\": {\n        \"dtype\": \"string\",\n        \"num_unique_values\": 571,\n        \"samples\": [\n          \"banggai raya kampanye terbuka hari pertama pada minggu di kabupaten banggai khususnya di dapil langsung dimanfaatkan partai golkar dengan menggelar roadshow dan pertemuan terbuka di lapangan kilongan kecamatan luwuk utara pada kampanye yang dihadiri ratusan warga luwuk utara itu ketua dpd partai golkar banggai beniyanto tamoreka memperkenalkan seluruh caleg dapil banggai ia juga menjanjikan bahwa bila golkar menang rakyat akan sejahtera beniyanto yang mengaku sebagai anak daerah berharap dukungan warga kabupaten banggai agar memilihnya ke dpr ri tanggal februari nanti pilih partai golkar agar menang dan rakyat sejahtera kata beniyanto pada kesempatan itu sejumlah caleg seperti agus damalante dan roswati masi serta lely tiara juga berkampanye dan mengajak rakyat memilih mereka dar\"\n        ],\n        \"semantic_type\": \"\",\n        \"description\": \"\"\n      }\n    },\n    {\n      \"column\": \"filtered\",\n      \"properties\": {\n        \"dtype\": \"string\",\n        \"num_unique_values\": 571,\n        \"samples\": [\n          \"raya kampanye terbuka pertama minggu khususnya dapil langsung dimanfaatkan partai golkar menggelar roadshow pertemuan terbuka lapangan kilongan kecamatan utara kampanye dihadiri ratusan warga utara ketua dpd partai golkar beniyanto tamoreka memperkenalkan caleg dapil ia menjanjikan bila golkar menang rakyat sejahtera beniyanto mengaku anak daerah berharap dukungan warga kabupaten banggai memilihnya dpr ri tanggal februari pilih partai golkar menang rakyat sejahtera beniyanto kesempatan sejumlah caleg agus damalante roswati masi lely tiara berkampanye mengajak rakyat memilih dar\"\n        ],\n        \"semantic_type\": \"\",\n        \"description\": \"\"\n      }\n    },\n    {\n      \"column\": \"stemmed\",\n      \"properties\": {\n        \"dtype\": \"string\",\n        \"num_unique_values\": 571,\n        \"samples\": [\n          \"raya kampanye buka pertama minggu khusus dapil langsung manfaat partai golkar gelar roadshow temu buka lapang kilongan camat utara kampanye hadir ratus warga utara ketua dpd partai golkar beniyanto tamoreka kenal caleg dapil ia janji bila golkar menang rakyat sejahtera beniyanto aku anak daerah harap dukung warga kabupaten bangga pilih dpr ri tanggal februari pilih partai golkar menang rakyat sejahtera beniyanto sempat jumlah caleg agus damalante roswati mas lely tiara kampanye ajak rakyat pilih dar\"\n        ],\n        \"semantic_type\": \"\",\n        \"description\": \"\"\n      }\n    },\n    {\n      \"column\": \"tokenized\",\n      \"properties\": {\n        \"dtype\": \"object\",\n        \"semantic_type\": \"\",\n        \"description\": \"\"\n      }\n    },\n    {\n      \"column\": \"filtered2\",\n      \"properties\": {\n        \"dtype\": \"object\",\n        \"semantic_type\": \"\",\n        \"description\": \"\"\n      }\n    }\n  ]\n}"
            }
          },
          "metadata": {},
          "execution_count": 29
        }
      ]
    },
    {
      "cell_type": "code",
      "source": [
        "print(df['tokenized'][55])\n",
        "print(df['filtered2'][55])"
      ],
      "metadata": {
        "id": "NiVe2d298O_r"
      },
      "execution_count": null,
      "outputs": []
    },
    {
      "cell_type": "code",
      "source": [],
      "metadata": {
        "id": "vszfaqbpthsa"
      },
      "execution_count": null,
      "outputs": []
    },
    {
      "cell_type": "markdown",
      "source": [
        "# Text Classification"
      ],
      "metadata": {
        "id": "C1kdSoKuOwTU"
      }
    },
    {
      "cell_type": "code",
      "source": [
        "# For manual Review\n",
        "#import random\n",
        "\n",
        "# Set the number of random samples you want to select\n",
        "#num_samples = 100  # Adjust this number as needed\n",
        "\n",
        "# Select random samples from the DataFrame\n",
        "#random_indices = random.sample(range(len(df)), num_samples)\n",
        "#random_data = df.iloc[random_indices][[\"title\", \"text\"]]\n",
        "\n",
        "# Save random data to a CSV file\n",
        "#random_data.to_csv(\"random_data.csv\")\n"
      ],
      "metadata": {
        "id": "eGNyh7EV1b5f"
      },
      "execution_count": null,
      "outputs": []
    },
    {
      "cell_type": "code",
      "source": [
        "df.info()"
      ],
      "metadata": {
        "id": "CdinjW6N7dUR"
      },
      "execution_count": null,
      "outputs": []
    },
    {
      "cell_type": "markdown",
      "source": [
        "## Preprocessing (Text Classification)"
      ],
      "metadata": {
        "id": "noVBc6ad72p_"
      }
    },
    {
      "cell_type": "code",
      "source": [
        "df.head()"
      ],
      "metadata": {
        "id": "OJ9PEx6Orzlf"
      },
      "execution_count": null,
      "outputs": []
    },
    {
      "cell_type": "code",
      "source": [
        "# Spliting database to train_set and test_set\n",
        "from sklearn.model_selection import train_test_split\n",
        "\n",
        "X = df['filtered2']\n",
        "y = df['topic']\n",
        "\n",
        "X_train, X_test, y_train, y_test = train_test_split(X,y,test_size=0.33, random_state=42)"
      ],
      "metadata": {
        "id": "yK4iUNuC8Ce_"
      },
      "execution_count": null,
      "outputs": []
    },
    {
      "cell_type": "code",
      "source": [
        "X_train.head()"
      ],
      "metadata": {
        "colab": {
          "base_uri": "https://localhost:8080/"
        },
        "id": "t_yzs0h8uLT5",
        "outputId": "796805ed-1b66-4c32-93f9-296449187b3f"
      },
      "execution_count": null,
      "outputs": [
        {
          "output_type": "execute_result",
          "data": {
            "text/plain": [
              "95     [lembaga, jamin, mutu, kembang, didik, lpmpp, ...\n",
              "104    [program, studi, prodi, manajemen, fakultas, e...\n",
              "66     [juni, inflasi, year, on, year, yoy, kota, cat...\n",
              "0      [warga, jaring, utara, nama, josua, bangun, in...\n",
              "141    [anggota, satlantaspolres, banggaimelaksanakan...\n",
              "Name: filtered2, dtype: object"
            ]
          },
          "metadata": {},
          "execution_count": 72
        }
      ]
    },
    {
      "cell_type": "code",
      "source": [
        "print(y_test.unique())\n",
        "\n",
        "\n",
        "#df['Topic'].nunique()"
      ],
      "metadata": {
        "id": "7THnmOhCuQQO"
      },
      "execution_count": null,
      "outputs": []
    },
    {
      "cell_type": "code",
      "source": [
        "# CountVectorizer\n",
        "from sklearn.feature_extraction.text import CountVectorizer\n",
        "count_vect = CountVectorizer()\n",
        "\n",
        "# Fit Vectorizer to the data (build a vocab, count the number of words..)\n",
        "# and transfrom the original text message to ---> Vector\n",
        "\n",
        "from itertools import chain\n",
        "\n",
        "# Assuming X_train is a list of lists or a list of tokens\n",
        "flattened_X_train = list(chain.from_iterable(X_train))\n",
        "flattened_X_test = list(chain.from_iterable(X_test))\n",
        "\n",
        "# Assuming X_train is a list of tokens\n",
        "X_train = [' '.join(tokens) for tokens in X_train]\n",
        "X_test = [' '.join(tokens) for tokens in X_test]\n",
        "\n",
        "X_train_counts = count_vect.fit_transform(X_train)\n"
      ],
      "metadata": {
        "id": "D6nBa7pi810R"
      },
      "execution_count": null,
      "outputs": []
    },
    {
      "cell_type": "code",
      "source": [
        "X_train_counts"
      ],
      "metadata": {
        "colab": {
          "base_uri": "https://localhost:8080/"
        },
        "id": "XOBDrAK69uA1",
        "outputId": "6585a105-0454-44a5-f25c-e622b4b93ce3"
      },
      "execution_count": null,
      "outputs": [
        {
          "output_type": "execute_result",
          "data": {
            "text/plain": [
              "<99x3291 sparse matrix of type '<class 'numpy.int64'>'\n",
              "\twith 8942 stored elements in Compressed Sparse Row format>"
            ]
          },
          "metadata": {},
          "execution_count": 75
        }
      ]
    },
    {
      "cell_type": "code",
      "source": [
        "X_train.shape"
      ],
      "metadata": {
        "colab": {
          "base_uri": "https://localhost:8080/"
        },
        "id": "8LM0Ff5V9w-G",
        "outputId": "8db3621c-8eac-43c0-c442-e9d2b8fb7858"
      },
      "execution_count": null,
      "outputs": [
        {
          "output_type": "execute_result",
          "data": {
            "text/plain": [
              "(99,)"
            ]
          },
          "metadata": {},
          "execution_count": 81
        }
      ]
    },
    {
      "cell_type": "code",
      "source": [
        "X_train_counts.shape"
      ],
      "metadata": {
        "colab": {
          "base_uri": "https://localhost:8080/"
        },
        "id": "D0uBSd2O98zu",
        "outputId": "e4bf04c0-0356-4901-b372-9e6ecc9d0301"
      },
      "execution_count": null,
      "outputs": [
        {
          "output_type": "execute_result",
          "data": {
            "text/plain": [
              "(99, 3291)"
            ]
          },
          "metadata": {},
          "execution_count": 76
        }
      ]
    },
    {
      "cell_type": "code",
      "source": [
        "# TFIDFVectorizer and LinearSVC with pipeline\n",
        "from sklearn.feature_extraction.text import TfidfVectorizer\n",
        "from sklearn.svm import LinearSVC\n",
        "from sklearn.pipeline import Pipeline\n",
        "\n",
        "text_clf = Pipeline([('tfidf', TfidfVectorizer()),('clf',LinearSVC())])\n",
        "text_clf.fit(X_train, y_train)\n",
        "\n"
      ],
      "metadata": {
        "colab": {
          "base_uri": "https://localhost:8080/",
          "height": 126
        },
        "id": "n3AylBPk9_rA",
        "outputId": "50bbe9f4-1691-4c48-847e-90dca4fd0a34"
      },
      "execution_count": null,
      "outputs": [
        {
          "output_type": "execute_result",
          "data": {
            "text/plain": [
              "Pipeline(steps=[('tfidf', TfidfVectorizer()), ('clf', LinearSVC())])"
            ],
            "text/html": [
              "<style>#sk-container-id-1 {color: black;background-color: white;}#sk-container-id-1 pre{padding: 0;}#sk-container-id-1 div.sk-toggleable {background-color: white;}#sk-container-id-1 label.sk-toggleable__label {cursor: pointer;display: block;width: 100%;margin-bottom: 0;padding: 0.3em;box-sizing: border-box;text-align: center;}#sk-container-id-1 label.sk-toggleable__label-arrow:before {content: \"▸\";float: left;margin-right: 0.25em;color: #696969;}#sk-container-id-1 label.sk-toggleable__label-arrow:hover:before {color: black;}#sk-container-id-1 div.sk-estimator:hover label.sk-toggleable__label-arrow:before {color: black;}#sk-container-id-1 div.sk-toggleable__content {max-height: 0;max-width: 0;overflow: hidden;text-align: left;background-color: #f0f8ff;}#sk-container-id-1 div.sk-toggleable__content pre {margin: 0.2em;color: black;border-radius: 0.25em;background-color: #f0f8ff;}#sk-container-id-1 input.sk-toggleable__control:checked~div.sk-toggleable__content {max-height: 200px;max-width: 100%;overflow: auto;}#sk-container-id-1 input.sk-toggleable__control:checked~label.sk-toggleable__label-arrow:before {content: \"▾\";}#sk-container-id-1 div.sk-estimator input.sk-toggleable__control:checked~label.sk-toggleable__label {background-color: #d4ebff;}#sk-container-id-1 div.sk-label input.sk-toggleable__control:checked~label.sk-toggleable__label {background-color: #d4ebff;}#sk-container-id-1 input.sk-hidden--visually {border: 0;clip: rect(1px 1px 1px 1px);clip: rect(1px, 1px, 1px, 1px);height: 1px;margin: -1px;overflow: hidden;padding: 0;position: absolute;width: 1px;}#sk-container-id-1 div.sk-estimator {font-family: monospace;background-color: #f0f8ff;border: 1px dotted black;border-radius: 0.25em;box-sizing: border-box;margin-bottom: 0.5em;}#sk-container-id-1 div.sk-estimator:hover {background-color: #d4ebff;}#sk-container-id-1 div.sk-parallel-item::after {content: \"\";width: 100%;border-bottom: 1px solid gray;flex-grow: 1;}#sk-container-id-1 div.sk-label:hover label.sk-toggleable__label {background-color: #d4ebff;}#sk-container-id-1 div.sk-serial::before {content: \"\";position: absolute;border-left: 1px solid gray;box-sizing: border-box;top: 0;bottom: 0;left: 50%;z-index: 0;}#sk-container-id-1 div.sk-serial {display: flex;flex-direction: column;align-items: center;background-color: white;padding-right: 0.2em;padding-left: 0.2em;position: relative;}#sk-container-id-1 div.sk-item {position: relative;z-index: 1;}#sk-container-id-1 div.sk-parallel {display: flex;align-items: stretch;justify-content: center;background-color: white;position: relative;}#sk-container-id-1 div.sk-item::before, #sk-container-id-1 div.sk-parallel-item::before {content: \"\";position: absolute;border-left: 1px solid gray;box-sizing: border-box;top: 0;bottom: 0;left: 50%;z-index: -1;}#sk-container-id-1 div.sk-parallel-item {display: flex;flex-direction: column;z-index: 1;position: relative;background-color: white;}#sk-container-id-1 div.sk-parallel-item:first-child::after {align-self: flex-end;width: 50%;}#sk-container-id-1 div.sk-parallel-item:last-child::after {align-self: flex-start;width: 50%;}#sk-container-id-1 div.sk-parallel-item:only-child::after {width: 0;}#sk-container-id-1 div.sk-dashed-wrapped {border: 1px dashed gray;margin: 0 0.4em 0.5em 0.4em;box-sizing: border-box;padding-bottom: 0.4em;background-color: white;}#sk-container-id-1 div.sk-label label {font-family: monospace;font-weight: bold;display: inline-block;line-height: 1.2em;}#sk-container-id-1 div.sk-label-container {text-align: center;}#sk-container-id-1 div.sk-container {/* jupyter's `normalize.less` sets `[hidden] { display: none; }` but bootstrap.min.css set `[hidden] { display: none !important; }` so we also need the `!important` here to be able to override the default hidden behavior on the sphinx rendered scikit-learn.org. See: https://github.com/scikit-learn/scikit-learn/issues/21755 */display: inline-block !important;position: relative;}#sk-container-id-1 div.sk-text-repr-fallback {display: none;}</style><div id=\"sk-container-id-1\" class=\"sk-top-container\"><div class=\"sk-text-repr-fallback\"><pre>Pipeline(steps=[(&#x27;tfidf&#x27;, TfidfVectorizer()), (&#x27;clf&#x27;, LinearSVC())])</pre><b>In a Jupyter environment, please rerun this cell to show the HTML representation or trust the notebook. <br />On GitHub, the HTML representation is unable to render, please try loading this page with nbviewer.org.</b></div><div class=\"sk-container\" hidden><div class=\"sk-item sk-dashed-wrapped\"><div class=\"sk-label-container\"><div class=\"sk-label sk-toggleable\"><input class=\"sk-toggleable__control sk-hidden--visually\" id=\"sk-estimator-id-1\" type=\"checkbox\" ><label for=\"sk-estimator-id-1\" class=\"sk-toggleable__label sk-toggleable__label-arrow\">Pipeline</label><div class=\"sk-toggleable__content\"><pre>Pipeline(steps=[(&#x27;tfidf&#x27;, TfidfVectorizer()), (&#x27;clf&#x27;, LinearSVC())])</pre></div></div></div><div class=\"sk-serial\"><div class=\"sk-item\"><div class=\"sk-estimator sk-toggleable\"><input class=\"sk-toggleable__control sk-hidden--visually\" id=\"sk-estimator-id-2\" type=\"checkbox\" ><label for=\"sk-estimator-id-2\" class=\"sk-toggleable__label sk-toggleable__label-arrow\">TfidfVectorizer</label><div class=\"sk-toggleable__content\"><pre>TfidfVectorizer()</pre></div></div></div><div class=\"sk-item\"><div class=\"sk-estimator sk-toggleable\"><input class=\"sk-toggleable__control sk-hidden--visually\" id=\"sk-estimator-id-3\" type=\"checkbox\" ><label for=\"sk-estimator-id-3\" class=\"sk-toggleable__label sk-toggleable__label-arrow\">LinearSVC</label><div class=\"sk-toggleable__content\"><pre>LinearSVC()</pre></div></div></div></div></div></div></div>"
            ]
          },
          "metadata": {},
          "execution_count": 77
        }
      ]
    },
    {
      "cell_type": "code",
      "source": [
        "predictions = text_clf.predict(X_test)"
      ],
      "metadata": {
        "id": "_0uXjSqXAbPW"
      },
      "execution_count": null,
      "outputs": []
    },
    {
      "cell_type": "code",
      "source": [
        "# Checking performance using confusion matrix\n",
        "from sklearn.metrics import confusion_matrix, classification_report\n",
        "from sklearn import metrics\n",
        "print(confusion_matrix(y_test, predictions))\n",
        "print(classification_report(y_test, predictions))\n",
        "print(f\"Accuracy {metrics.accuracy_score(y_test, predictions)}\")"
      ],
      "metadata": {
        "colab": {
          "base_uri": "https://localhost:8080/"
        },
        "id": "YzxATtYOApNg",
        "outputId": "338f50c7-de0e-4209-ae59-6628d5003a5a"
      },
      "execution_count": null,
      "outputs": [
        {
          "output_type": "stream",
          "name": "stdout",
          "text": [
            "[[ 4  0  0  0  0  0  0  0]\n",
            " [ 0  3  0  0  0  0  0  0]\n",
            " [ 0  0 16  0  1  1  0  0]\n",
            " [ 1  0  0  4  0  0  0  0]\n",
            " [ 3  0  2  0  5  1  0  0]\n",
            " [ 0  0  0  0  0  4  0  0]\n",
            " [ 0  0  2  0  0  0  0  0]\n",
            " [ 0  2  1  0  0  0  0  0]]\n",
            "                                          precision    recall  f1-score   support\n",
            "\n",
            "                           Ekonomi Lokal       0.50      1.00      0.67         4\n",
            "Infrastruktur, Pembangunan dan Perumahan       0.60      1.00      0.75         3\n",
            "             Keamanan dan Layanan Publik       0.76      0.89      0.82        18\n",
            "                        Kesehatan Publik       1.00      0.80      0.89         5\n",
            "        Lingkungan dan Partisipasi Warga       0.83      0.45      0.59        11\n",
            "                              Pendidikan       0.67      1.00      0.80         4\n",
            "                                 Politik       0.00      0.00      0.00         2\n",
            "                            Transportasi       0.00      0.00      0.00         3\n",
            "\n",
            "                                accuracy                           0.72        50\n",
            "                               macro avg       0.55      0.64      0.56        50\n",
            "                            weighted avg       0.69      0.72      0.68        50\n",
            "\n",
            "Accuracy 0.72\n"
          ]
        },
        {
          "output_type": "stream",
          "name": "stderr",
          "text": [
            "/usr/local/lib/python3.10/dist-packages/sklearn/metrics/_classification.py:1344: UndefinedMetricWarning: Precision and F-score are ill-defined and being set to 0.0 in labels with no predicted samples. Use `zero_division` parameter to control this behavior.\n",
            "  _warn_prf(average, modifier, msg_start, len(result))\n",
            "/usr/local/lib/python3.10/dist-packages/sklearn/metrics/_classification.py:1344: UndefinedMetricWarning: Precision and F-score are ill-defined and being set to 0.0 in labels with no predicted samples. Use `zero_division` parameter to control this behavior.\n",
            "  _warn_prf(average, modifier, msg_start, len(result))\n",
            "/usr/local/lib/python3.10/dist-packages/sklearn/metrics/_classification.py:1344: UndefinedMetricWarning: Precision and F-score are ill-defined and being set to 0.0 in labels with no predicted samples. Use `zero_division` parameter to control this behavior.\n",
            "  _warn_prf(average, modifier, msg_start, len(result))\n"
          ]
        }
      ]
    },
    {
      "cell_type": "markdown",
      "source": [
        "# Input Data"
      ],
      "metadata": {
        "id": "Y7RB23lXm393"
      }
    },
    {
      "cell_type": "code",
      "source": [
        "# Input\n",
        "text_url = 'https://raw.githubusercontent.com/TaillessTanuki/Berita_Banggai/main/input_text.csv'\n",
        "\n",
        "# Read CSV file with 'latin-1' encoding\n",
        "input_df = pd.read_csv(text_url, encoding='utf-8')\n",
        "\n",
        "# Convert all columns to string\n",
        "input_df = input_df.astype(str)"
      ],
      "metadata": {
        "id": "ZmVoxpgYjK49"
      },
      "execution_count": null,
      "outputs": []
    },
    {
      "cell_type": "code",
      "source": [
        "input_df.head()"
      ],
      "metadata": {
        "id": "SEWU_WUDt98k"
      },
      "execution_count": null,
      "outputs": []
    },
    {
      "cell_type": "markdown",
      "source": [
        "## Preprocessing"
      ],
      "metadata": {
        "id": "ypMTFDakovXo"
      }
    },
    {
      "cell_type": "code",
      "source": [
        "# Delete Duplicates\n",
        "input_df.duplicated(subset='title').sum()\n",
        "input_df = input_df.drop_duplicates(subset='title')\n",
        "\n",
        "# Delete Blank text (Nan) Rows\n",
        "input_df = input_df[input_df['text'] != '']\n",
        "\n",
        "# Case Folding\n",
        "def clean_lower(lwr):\n",
        "    lwr = lwr.lower() # lowercase text\n",
        "    return lwr\n",
        "\n",
        "input_df['lwr'] = input_df['text'].apply(clean_lower)\n",
        "input_df['lwr']\n",
        "\n",
        "\n",
        "# Remove Numbers\n",
        "def remove_numbers(text):\n",
        "  text = re.sub('[0-9]+', '', text)\n",
        "  return text\n",
        "\n",
        "input_df['clean_number'] = input_df['lwr'].apply(remove_numbers)\n",
        "input_df['clean_number']\n",
        "\n",
        "\n",
        "# Remove Punctuation\n",
        "clean_spcl = re.compile('[/(){}\\[\\]\\|@,;]')\n",
        "clean_symbol = re.compile('[^0-9a-z]')\n",
        "def clean_punct(text):\n",
        "    text = clean_spcl.sub('', text)\n",
        "    text = clean_symbol.sub(' ', text)\n",
        "    return text\n",
        "\n",
        "input_df['clean_punct'] = input_df['clean_number'].apply(clean_punct)\n",
        "input_df['clean_punct']\n",
        "\n",
        "\n",
        "# Delete Whitespaces\n",
        "def normalize_whitespace(text):\n",
        "    corrected = str(text)\n",
        "    corrected = re.sub(r\"//t\",r\"\\t\", corrected)\n",
        "    corrected = re.sub(r\"( )\\1+\",r\"\\1\", corrected)\n",
        "    corrected = re.sub(r\"(\\n)\\1+\",r\"\\1\", corrected)\n",
        "    corrected = re.sub(r\"(\\r)\\1+\",r\"\\1\", corrected)\n",
        "    corrected = re.sub(r\"(\\t)\\1+\",r\"\\1\", corrected)\n",
        "    return corrected.strip(\" \")\n",
        "\n",
        "input_df['clean_double_ws'] = input_df['clean_punct'].apply(normalize_whitespace)\n",
        "input_df['clean_double_ws']\n"
      ],
      "metadata": {
        "id": "VbX305x1oywh"
      },
      "execution_count": null,
      "outputs": []
    },
    {
      "cell_type": "code",
      "source": [
        "len(input_df)"
      ],
      "metadata": {
        "id": "SWMa0q52qfy4"
      },
      "execution_count": null,
      "outputs": []
    },
    {
      "cell_type": "code",
      "source": [
        "input_df.head()"
      ],
      "metadata": {
        "id": "3WGgr4UyqaNX"
      },
      "execution_count": null,
      "outputs": []
    },
    {
      "cell_type": "code",
      "source": [
        "# Adding Stopwords\n",
        "url1 = 'https://raw.githubusercontent.com/TaillessTanuki/Berita_Banggai/main/ID-stopwords_banggai_addedwords.csv'\n",
        "df_stopword1 = pd.read_csv(url1, delimiter = \";\",encoding='cp1252')\n",
        "\n",
        "url2 = 'https://raw.githubusercontent.com/TaillessTanuki/Berita_Banggai/main/ID-Stopwords(MasDevid).csv'\n",
        "df_stopword2 = pd.read_csv(url2, delimiter = \";\",encoding='cp1252')\n",
        "\n",
        "custom_stopword1 = list(df_stopword1['stopword'])\n",
        "custom_stopword2 = list(df_stopword2['Stopwords'])\n",
        "\n",
        "factory = StopWordRemoverFactory()\n",
        "stopwords = factory.get_stop_words() + custom_stopword1 + custom_stopword2\n",
        "\n",
        "\n",
        "# 1st Stopwords Removal\n",
        "def filtering(text):\n",
        "  stop = stopword.remove(text)\n",
        "  return stop\n",
        "\n",
        "input_df['filtered'] = input_df['clean_double_ws'].apply(filtering)\n",
        "input_df['filtered']\n",
        "\n",
        "\n",
        "# Stemming\n",
        "from Sastrawi.Stemmer.StemmerFactory import StemmerFactory\n",
        "stem_factory = StemmerFactory()\n",
        "stemmer = stem_factory.create_stemmer()\n",
        "\n",
        "def stem(text):\n",
        "  return stemmer.stem(text)\n",
        "\n",
        "input_df['stemmed'] = input_df['filtered'].apply(stem)\n",
        "input_df['stemmed']\n",
        "\n",
        "\n",
        "# Tokenizing\n",
        "def tokenize(text):\n",
        "  tokens = nltk.tokenize.word_tokenize(text)\n",
        "  return tokens\n",
        "\n",
        "input_df['tokenized'] = input_df['stemmed'].apply(tokenize)\n",
        "input_df['tokenized']\n",
        "\n",
        "\n",
        "# 2nd Stopwords Removal\n",
        "# Define a function to remove stopwords from a list of tokens\n",
        "def remove_stopwords(tokens):\n",
        "    return [word for word in tokens if word not in stopwords]\n",
        "\n",
        "# Apply the remove_stopwords function to each row in the 'tokenized' column\n",
        "input_df['filtered2'] = input_df['tokenized'].apply(lambda tokens: remove_stopwords(tokens))"
      ],
      "metadata": {
        "id": "06iX4I5RkRQF"
      },
      "execution_count": null,
      "outputs": []
    },
    {
      "cell_type": "code",
      "source": [
        "input_df.head()"
      ],
      "metadata": {
        "id": "OUYdUqXHs83w"
      },
      "execution_count": null,
      "outputs": []
    },
    {
      "cell_type": "code",
      "source": [
        "#input_df.drop(columns=['predictions'], inplace=True)"
      ],
      "metadata": {
        "id": "ANhUfqmMzZtH"
      },
      "execution_count": null,
      "outputs": []
    },
    {
      "cell_type": "code",
      "source": [
        "# Convert tokenized text to string representation\n",
        "#text_strings = [' '.join(doc) for doc in df['tokenized']]\n",
        "input_df['text2'] = input_df['tokenized'].apply(lambda x: ' '.join(x))\n"
      ],
      "metadata": {
        "id": "snJSk_5ULzDL"
      },
      "execution_count": null,
      "outputs": []
    },
    {
      "cell_type": "code",
      "source": [
        "input_df.head()"
      ],
      "metadata": {
        "id": "pbEpcDfOzCw4"
      },
      "execution_count": null,
      "outputs": []
    },
    {
      "cell_type": "markdown",
      "source": [
        "# Predicting Input Data"
      ],
      "metadata": {
        "id": "RTE8VdSp0jM0"
      }
    },
    {
      "cell_type": "code",
      "source": [
        "\n",
        "# Assuming 'selected_features' is a list of feature names used during model training\n",
        "X_input = input_df['text2']\n",
        "\n",
        "# 3. Predict using the model\n",
        "predictions = text_clf.predict(X_input)\n",
        "\n",
        "# 4. Add predictions to a new column in the DataFrame\n",
        "input_df['topic'] = predictions"
      ],
      "metadata": {
        "id": "VMWEUJw60mtW"
      },
      "execution_count": null,
      "outputs": []
    },
    {
      "cell_type": "code",
      "source": [
        "input_df.head()"
      ],
      "metadata": {
        "id": "zicdjt5XL6AT"
      },
      "execution_count": null,
      "outputs": []
    },
    {
      "cell_type": "markdown",
      "source": [
        "\n",
        "\n",
        "```\n",
        "# This is formatted as code\n",
        "```\n",
        "\n",
        "## Convert input_df to csv"
      ],
      "metadata": {
        "id": "2opI8g0QULEZ"
      }
    },
    {
      "cell_type": "code",
      "source": [
        "# Assuming 'df' is your existing DataFrame and 'columns_to_keep' is a list of column names you want to keep\n",
        "columns_to_keep = ['title', 'text', 'topic']  # Adjust with your desired column names\n",
        "\n",
        "# Create a new DataFrame with only the selected columns\n",
        "final_text = input_df[columns_to_keep].copy()\n",
        "\n",
        "final_text.to_csv('final_text.csv', index=False)"
      ],
      "metadata": {
        "id": "XZdWBF5DMVUg"
      },
      "execution_count": null,
      "outputs": []
    },
    {
      "cell_type": "code",
      "source": [
        "import pickle\n",
        "#pickle.dump(model, open('model_name_you_want_to_save_as.sav', 'wb'))\n",
        "pickle.dump(text_clf, open('text_classifier.sav', 'wb'))"
      ],
      "metadata": {
        "id": "oLNqsi_i_hpT"
      },
      "execution_count": null,
      "outputs": []
    }
  ]
}