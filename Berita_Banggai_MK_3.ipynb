{
  "nbformat": 4,
  "nbformat_minor": 0,
  "metadata": {
    "colab": {
      "provenance": [],
      "collapsed_sections": [
        "LnldCt2zkih_",
        "vZVKauuAkyDI"
      ]
    },
    "kernelspec": {
      "name": "python3",
      "display_name": "Python 3"
    },
    "language_info": {
      "name": "python"
    }
  },
  "cells": [
    {
      "cell_type": "markdown",
      "metadata": {
        "id": "Wj172v-Yd1-_"
      },
      "source": [
        "# Libraries"
      ]
    },
    {
      "cell_type": "code",
      "execution_count": null,
      "metadata": {
        "colab": {
          "base_uri": "https://localhost:8080/"
        },
        "id": "MjWHRVR5ahdx",
        "outputId": "9e08c2a6-70a1-4ba4-9f84-b6a14aa64a19"
      },
      "outputs": [
        {
          "output_type": "stream",
          "name": "stdout",
          "text": [
            "Requirement already satisfied: Sastrawi in /usr/local/lib/python3.10/dist-packages (1.0.1)\n",
            "Requirement already satisfied: clean-text in /usr/local/lib/python3.10/dist-packages (0.6.0)\n",
            "Requirement already satisfied: emoji<2.0.0,>=1.0.0 in /usr/local/lib/python3.10/dist-packages (from clean-text) (1.7.0)\n",
            "Requirement already satisfied: ftfy<7.0,>=6.0 in /usr/local/lib/python3.10/dist-packages (from clean-text) (6.2.0)\n",
            "Requirement already satisfied: wcwidth<0.3.0,>=0.2.12 in /usr/local/lib/python3.10/dist-packages (from ftfy<7.0,>=6.0->clean-text) (0.2.13)\n",
            "Requirement already satisfied: deep-translator in /usr/local/lib/python3.10/dist-packages (1.11.4)\n",
            "Requirement already satisfied: beautifulsoup4<5.0.0,>=4.9.1 in /usr/local/lib/python3.10/dist-packages (from deep-translator) (4.12.3)\n",
            "Requirement already satisfied: requests<3.0.0,>=2.23.0 in /usr/local/lib/python3.10/dist-packages (from deep-translator) (2.31.0)\n",
            "Requirement already satisfied: soupsieve>1.2 in /usr/local/lib/python3.10/dist-packages (from beautifulsoup4<5.0.0,>=4.9.1->deep-translator) (2.5)\n",
            "Requirement already satisfied: charset-normalizer<4,>=2 in /usr/local/lib/python3.10/dist-packages (from requests<3.0.0,>=2.23.0->deep-translator) (3.3.2)\n",
            "Requirement already satisfied: idna<4,>=2.5 in /usr/local/lib/python3.10/dist-packages (from requests<3.0.0,>=2.23.0->deep-translator) (3.6)\n",
            "Requirement already satisfied: urllib3<3,>=1.21.1 in /usr/local/lib/python3.10/dist-packages (from requests<3.0.0,>=2.23.0->deep-translator) (2.0.7)\n",
            "Requirement already satisfied: certifi>=2017.4.17 in /usr/local/lib/python3.10/dist-packages (from requests<3.0.0,>=2.23.0->deep-translator) (2024.2.2)\n"
          ]
        }
      ],
      "source": [
        "!pip install Sastrawi\n",
        "!pip install clean-text\n",
        "!pip install deep-translator"
      ]
    },
    {
      "cell_type": "code",
      "execution_count": null,
      "metadata": {
        "colab": {
          "base_uri": "https://localhost:8080/"
        },
        "id": "6Nsz9j1DEJXD",
        "outputId": "4b99ee0f-1541-4ca9-a1ca-f2dc1dcd1bf1"
      },
      "outputs": [
        {
          "output_type": "stream",
          "name": "stderr",
          "text": [
            "[nltk_data] Downloading package stopwords to /root/nltk_data...\n",
            "[nltk_data]   Package stopwords is already up-to-date!\n",
            "[nltk_data] Downloading package wordnet to /root/nltk_data...\n",
            "[nltk_data]   Package wordnet is already up-to-date!\n",
            "[nltk_data] Downloading package punkt to /root/nltk_data...\n",
            "[nltk_data]   Package punkt is already up-to-date!\n"
          ]
        }
      ],
      "source": [
        "import pandas as pd\n",
        "import numpy as np\n",
        "from nltk.corpus import stopwords\n",
        "import re\n",
        "import nltk\n",
        "nltk.download('stopwords')\n",
        "nltk.download('wordnet')\n",
        "nltk.download('punkt')\n",
        "from nltk.stem import PorterStemmer\n",
        "from nltk.stem import LancasterStemmer\n",
        "from nltk.tokenize import word_tokenize\n",
        "from Sastrawi.Stemmer.StemmerFactory import StemmerFactory\n",
        "from Sastrawi.StopWordRemover.StopWordRemoverFactory import StopWordRemoverFactory, StopWordRemover, ArrayDictionary\n",
        "from cleantext import clean\n",
        "from collections import Counter"
      ]
    },
    {
      "cell_type": "code",
      "source": [
        "import sklearn"
      ],
      "metadata": {
        "id": "fSui9eOPzRQ0"
      },
      "execution_count": null,
      "outputs": []
    },
    {
      "cell_type": "code",
      "execution_count": null,
      "metadata": {
        "id": "cKKzjVp3T644"
      },
      "outputs": [],
      "source": [
        "# !pip freeze > requirements.txt"
      ]
    },
    {
      "cell_type": "markdown",
      "metadata": {
        "id": "tCl5GW_rd6yk"
      },
      "source": [
        "# Get Data from ES and prepare DF"
      ]
    },
    {
      "cell_type": "code",
      "source": [
        "import requests\n",
        "import json"
      ],
      "metadata": {
        "id": "xO6kQ22cOqRq"
      },
      "execution_count": null,
      "outputs": []
    },
    {
      "cell_type": "code",
      "source": [
        "# Importing Data\n",
        "url = 'https://raw.githubusercontent.com/TaillessTanuki/Berita_Banggai/main/data_text_classification.csv'\n",
        "\n",
        "# Create a DataFrame\n",
        "df = pd.read_csv(url,encoding='utf-8')\n",
        "print(df.head())"
      ],
      "metadata": {
        "id": "j4AoD9uyU15U",
        "colab": {
          "base_uri": "https://localhost:8080/"
        },
        "outputId": "88621e5b-4517-4629-97be-f69b0bf21798"
      },
      "execution_count": null,
      "outputs": [
        {
          "output_type": "stream",
          "name": "stdout",
          "text": [
            "                                      topic  \\\n",
            "0  Infrastruktur, Pembangunan dan Perumahan   \n",
            "1  Infrastruktur, Pembangunan dan Perumahan   \n",
            "2  Infrastruktur, Pembangunan dan Perumahan   \n",
            "3  Infrastruktur, Pembangunan dan Perumahan   \n",
            "4  Infrastruktur, Pembangunan dan Perumahan   \n",
            "\n",
            "                                               title  \\\n",
            "0  Warga Yakin Pembangunan Infrastruktur di Jakar...   \n",
            "1  Tahun Ini, Anjungan Pandang Tower Ulu Jembatan...   \n",
            "2  Cara HK Percepat Konstruksi Tiga Gedung UPI Ba...   \n",
            "3  Tol Cimaci Segera Beroperasi, Harvest City Res...   \n",
            "4  Pj Gubernur Banten Al Muktabar Raih Ekbispar A...   \n",
            "\n",
            "                                                text  \n",
            "0  JAKARTA, KOMPAS.com - Warga Penjaringan, Jakar...  \n",
            "1  JAKARTA, KOMPAS.com - Pemeliharaan Jembatan Am...  \n",
            "2  JAKARTA, KOMPAS.com - PT Hutama Karya (Persero...  \n",
            "3  JAKARTA, KOMPAS.com - Dengan tingginya angka k...  \n",
            "4  KOMPAS.com - Penjabat (Pj) Gubernur Banten Al ...  \n"
          ]
        }
      ]
    },
    {
      "cell_type": "code",
      "source": [
        "len(df)"
      ],
      "metadata": {
        "colab": {
          "base_uri": "https://localhost:8080/"
        },
        "id": "yL2c5GX7QryB",
        "outputId": "d1b2e43e-61a6-43c3-d5b4-9ecbecf96be1"
      },
      "execution_count": null,
      "outputs": [
        {
          "output_type": "execute_result",
          "data": {
            "text/plain": [
              "149"
            ]
          },
          "metadata": {},
          "execution_count": 6
        }
      ]
    },
    {
      "cell_type": "code",
      "source": [
        "# Drop Unnamed column\n",
        "df.drop(df.columns[df.columns.str.contains(\n",
        "    'unnamed', case=False)], axis=1, inplace=True)"
      ],
      "metadata": {
        "id": "H4GhSEKLRE1b"
      },
      "execution_count": null,
      "outputs": []
    },
    {
      "cell_type": "code",
      "source": [
        "df.head()"
      ],
      "metadata": {
        "id": "OnK_8zLtrQHE",
        "colab": {
          "base_uri": "https://localhost:8080/",
          "height": 206
        },
        "outputId": "a7215347-a990-46d8-ea5e-6525c76af9b8"
      },
      "execution_count": null,
      "outputs": [
        {
          "output_type": "execute_result",
          "data": {
            "text/plain": [
              "                                      topic  \\\n",
              "0  Infrastruktur, Pembangunan dan Perumahan   \n",
              "1  Infrastruktur, Pembangunan dan Perumahan   \n",
              "2  Infrastruktur, Pembangunan dan Perumahan   \n",
              "3  Infrastruktur, Pembangunan dan Perumahan   \n",
              "4  Infrastruktur, Pembangunan dan Perumahan   \n",
              "\n",
              "                                               title  \\\n",
              "0  Warga Yakin Pembangunan Infrastruktur di Jakar...   \n",
              "1  Tahun Ini, Anjungan Pandang Tower Ulu Jembatan...   \n",
              "2  Cara HK Percepat Konstruksi Tiga Gedung UPI Ba...   \n",
              "3  Tol Cimaci Segera Beroperasi, Harvest City Res...   \n",
              "4  Pj Gubernur Banten Al Muktabar Raih Ekbispar A...   \n",
              "\n",
              "                                                text  \n",
              "0  JAKARTA, KOMPAS.com - Warga Penjaringan, Jakar...  \n",
              "1  JAKARTA, KOMPAS.com - Pemeliharaan Jembatan Am...  \n",
              "2  JAKARTA, KOMPAS.com - PT Hutama Karya (Persero...  \n",
              "3  JAKARTA, KOMPAS.com - Dengan tingginya angka k...  \n",
              "4  KOMPAS.com - Penjabat (Pj) Gubernur Banten Al ...  "
            ],
            "text/html": [
              "\n",
              "  <div id=\"df-95216929-d66d-406b-9115-0cccd7a74c70\" class=\"colab-df-container\">\n",
              "    <div>\n",
              "<style scoped>\n",
              "    .dataframe tbody tr th:only-of-type {\n",
              "        vertical-align: middle;\n",
              "    }\n",
              "\n",
              "    .dataframe tbody tr th {\n",
              "        vertical-align: top;\n",
              "    }\n",
              "\n",
              "    .dataframe thead th {\n",
              "        text-align: right;\n",
              "    }\n",
              "</style>\n",
              "<table border=\"1\" class=\"dataframe\">\n",
              "  <thead>\n",
              "    <tr style=\"text-align: right;\">\n",
              "      <th></th>\n",
              "      <th>topic</th>\n",
              "      <th>title</th>\n",
              "      <th>text</th>\n",
              "    </tr>\n",
              "  </thead>\n",
              "  <tbody>\n",
              "    <tr>\n",
              "      <th>0</th>\n",
              "      <td>Infrastruktur, Pembangunan dan Perumahan</td>\n",
              "      <td>Warga Yakin Pembangunan Infrastruktur di Jakar...</td>\n",
              "      <td>JAKARTA, KOMPAS.com - Warga Penjaringan, Jakar...</td>\n",
              "    </tr>\n",
              "    <tr>\n",
              "      <th>1</th>\n",
              "      <td>Infrastruktur, Pembangunan dan Perumahan</td>\n",
              "      <td>Tahun Ini, Anjungan Pandang Tower Ulu Jembatan...</td>\n",
              "      <td>JAKARTA, KOMPAS.com - Pemeliharaan Jembatan Am...</td>\n",
              "    </tr>\n",
              "    <tr>\n",
              "      <th>2</th>\n",
              "      <td>Infrastruktur, Pembangunan dan Perumahan</td>\n",
              "      <td>Cara HK Percepat Konstruksi Tiga Gedung UPI Ba...</td>\n",
              "      <td>JAKARTA, KOMPAS.com - PT Hutama Karya (Persero...</td>\n",
              "    </tr>\n",
              "    <tr>\n",
              "      <th>3</th>\n",
              "      <td>Infrastruktur, Pembangunan dan Perumahan</td>\n",
              "      <td>Tol Cimaci Segera Beroperasi, Harvest City Res...</td>\n",
              "      <td>JAKARTA, KOMPAS.com - Dengan tingginya angka k...</td>\n",
              "    </tr>\n",
              "    <tr>\n",
              "      <th>4</th>\n",
              "      <td>Infrastruktur, Pembangunan dan Perumahan</td>\n",
              "      <td>Pj Gubernur Banten Al Muktabar Raih Ekbispar A...</td>\n",
              "      <td>KOMPAS.com - Penjabat (Pj) Gubernur Banten Al ...</td>\n",
              "    </tr>\n",
              "  </tbody>\n",
              "</table>\n",
              "</div>\n",
              "    <div class=\"colab-df-buttons\">\n",
              "\n",
              "  <div class=\"colab-df-container\">\n",
              "    <button class=\"colab-df-convert\" onclick=\"convertToInteractive('df-95216929-d66d-406b-9115-0cccd7a74c70')\"\n",
              "            title=\"Convert this dataframe to an interactive table.\"\n",
              "            style=\"display:none;\">\n",
              "\n",
              "  <svg xmlns=\"http://www.w3.org/2000/svg\" height=\"24px\" viewBox=\"0 -960 960 960\">\n",
              "    <path d=\"M120-120v-720h720v720H120Zm60-500h600v-160H180v160Zm220 220h160v-160H400v160Zm0 220h160v-160H400v160ZM180-400h160v-160H180v160Zm440 0h160v-160H620v160ZM180-180h160v-160H180v160Zm440 0h160v-160H620v160Z\"/>\n",
              "  </svg>\n",
              "    </button>\n",
              "\n",
              "  <style>\n",
              "    .colab-df-container {\n",
              "      display:flex;\n",
              "      gap: 12px;\n",
              "    }\n",
              "\n",
              "    .colab-df-convert {\n",
              "      background-color: #E8F0FE;\n",
              "      border: none;\n",
              "      border-radius: 50%;\n",
              "      cursor: pointer;\n",
              "      display: none;\n",
              "      fill: #1967D2;\n",
              "      height: 32px;\n",
              "      padding: 0 0 0 0;\n",
              "      width: 32px;\n",
              "    }\n",
              "\n",
              "    .colab-df-convert:hover {\n",
              "      background-color: #E2EBFA;\n",
              "      box-shadow: 0px 1px 2px rgba(60, 64, 67, 0.3), 0px 1px 3px 1px rgba(60, 64, 67, 0.15);\n",
              "      fill: #174EA6;\n",
              "    }\n",
              "\n",
              "    .colab-df-buttons div {\n",
              "      margin-bottom: 4px;\n",
              "    }\n",
              "\n",
              "    [theme=dark] .colab-df-convert {\n",
              "      background-color: #3B4455;\n",
              "      fill: #D2E3FC;\n",
              "    }\n",
              "\n",
              "    [theme=dark] .colab-df-convert:hover {\n",
              "      background-color: #434B5C;\n",
              "      box-shadow: 0px 1px 3px 1px rgba(0, 0, 0, 0.15);\n",
              "      filter: drop-shadow(0px 1px 2px rgba(0, 0, 0, 0.3));\n",
              "      fill: #FFFFFF;\n",
              "    }\n",
              "  </style>\n",
              "\n",
              "    <script>\n",
              "      const buttonEl =\n",
              "        document.querySelector('#df-95216929-d66d-406b-9115-0cccd7a74c70 button.colab-df-convert');\n",
              "      buttonEl.style.display =\n",
              "        google.colab.kernel.accessAllowed ? 'block' : 'none';\n",
              "\n",
              "      async function convertToInteractive(key) {\n",
              "        const element = document.querySelector('#df-95216929-d66d-406b-9115-0cccd7a74c70');\n",
              "        const dataTable =\n",
              "          await google.colab.kernel.invokeFunction('convertToInteractive',\n",
              "                                                    [key], {});\n",
              "        if (!dataTable) return;\n",
              "\n",
              "        const docLinkHtml = 'Like what you see? Visit the ' +\n",
              "          '<a target=\"_blank\" href=https://colab.research.google.com/notebooks/data_table.ipynb>data table notebook</a>'\n",
              "          + ' to learn more about interactive tables.';\n",
              "        element.innerHTML = '';\n",
              "        dataTable['output_type'] = 'display_data';\n",
              "        await google.colab.output.renderOutput(dataTable, element);\n",
              "        const docLink = document.createElement('div');\n",
              "        docLink.innerHTML = docLinkHtml;\n",
              "        element.appendChild(docLink);\n",
              "      }\n",
              "    </script>\n",
              "  </div>\n",
              "\n",
              "\n",
              "<div id=\"df-bb6c630c-ca6a-4a42-a37b-6973860404b9\">\n",
              "  <button class=\"colab-df-quickchart\" onclick=\"quickchart('df-bb6c630c-ca6a-4a42-a37b-6973860404b9')\"\n",
              "            title=\"Suggest charts\"\n",
              "            style=\"display:none;\">\n",
              "\n",
              "<svg xmlns=\"http://www.w3.org/2000/svg\" height=\"24px\"viewBox=\"0 0 24 24\"\n",
              "     width=\"24px\">\n",
              "    <g>\n",
              "        <path d=\"M19 3H5c-1.1 0-2 .9-2 2v14c0 1.1.9 2 2 2h14c1.1 0 2-.9 2-2V5c0-1.1-.9-2-2-2zM9 17H7v-7h2v7zm4 0h-2V7h2v10zm4 0h-2v-4h2v4z\"/>\n",
              "    </g>\n",
              "</svg>\n",
              "  </button>\n",
              "\n",
              "<style>\n",
              "  .colab-df-quickchart {\n",
              "      --bg-color: #E8F0FE;\n",
              "      --fill-color: #1967D2;\n",
              "      --hover-bg-color: #E2EBFA;\n",
              "      --hover-fill-color: #174EA6;\n",
              "      --disabled-fill-color: #AAA;\n",
              "      --disabled-bg-color: #DDD;\n",
              "  }\n",
              "\n",
              "  [theme=dark] .colab-df-quickchart {\n",
              "      --bg-color: #3B4455;\n",
              "      --fill-color: #D2E3FC;\n",
              "      --hover-bg-color: #434B5C;\n",
              "      --hover-fill-color: #FFFFFF;\n",
              "      --disabled-bg-color: #3B4455;\n",
              "      --disabled-fill-color: #666;\n",
              "  }\n",
              "\n",
              "  .colab-df-quickchart {\n",
              "    background-color: var(--bg-color);\n",
              "    border: none;\n",
              "    border-radius: 50%;\n",
              "    cursor: pointer;\n",
              "    display: none;\n",
              "    fill: var(--fill-color);\n",
              "    height: 32px;\n",
              "    padding: 0;\n",
              "    width: 32px;\n",
              "  }\n",
              "\n",
              "  .colab-df-quickchart:hover {\n",
              "    background-color: var(--hover-bg-color);\n",
              "    box-shadow: 0 1px 2px rgba(60, 64, 67, 0.3), 0 1px 3px 1px rgba(60, 64, 67, 0.15);\n",
              "    fill: var(--button-hover-fill-color);\n",
              "  }\n",
              "\n",
              "  .colab-df-quickchart-complete:disabled,\n",
              "  .colab-df-quickchart-complete:disabled:hover {\n",
              "    background-color: var(--disabled-bg-color);\n",
              "    fill: var(--disabled-fill-color);\n",
              "    box-shadow: none;\n",
              "  }\n",
              "\n",
              "  .colab-df-spinner {\n",
              "    border: 2px solid var(--fill-color);\n",
              "    border-color: transparent;\n",
              "    border-bottom-color: var(--fill-color);\n",
              "    animation:\n",
              "      spin 1s steps(1) infinite;\n",
              "  }\n",
              "\n",
              "  @keyframes spin {\n",
              "    0% {\n",
              "      border-color: transparent;\n",
              "      border-bottom-color: var(--fill-color);\n",
              "      border-left-color: var(--fill-color);\n",
              "    }\n",
              "    20% {\n",
              "      border-color: transparent;\n",
              "      border-left-color: var(--fill-color);\n",
              "      border-top-color: var(--fill-color);\n",
              "    }\n",
              "    30% {\n",
              "      border-color: transparent;\n",
              "      border-left-color: var(--fill-color);\n",
              "      border-top-color: var(--fill-color);\n",
              "      border-right-color: var(--fill-color);\n",
              "    }\n",
              "    40% {\n",
              "      border-color: transparent;\n",
              "      border-right-color: var(--fill-color);\n",
              "      border-top-color: var(--fill-color);\n",
              "    }\n",
              "    60% {\n",
              "      border-color: transparent;\n",
              "      border-right-color: var(--fill-color);\n",
              "    }\n",
              "    80% {\n",
              "      border-color: transparent;\n",
              "      border-right-color: var(--fill-color);\n",
              "      border-bottom-color: var(--fill-color);\n",
              "    }\n",
              "    90% {\n",
              "      border-color: transparent;\n",
              "      border-bottom-color: var(--fill-color);\n",
              "    }\n",
              "  }\n",
              "</style>\n",
              "\n",
              "  <script>\n",
              "    async function quickchart(key) {\n",
              "      const quickchartButtonEl =\n",
              "        document.querySelector('#' + key + ' button');\n",
              "      quickchartButtonEl.disabled = true;  // To prevent multiple clicks.\n",
              "      quickchartButtonEl.classList.add('colab-df-spinner');\n",
              "      try {\n",
              "        const charts = await google.colab.kernel.invokeFunction(\n",
              "            'suggestCharts', [key], {});\n",
              "      } catch (error) {\n",
              "        console.error('Error during call to suggestCharts:', error);\n",
              "      }\n",
              "      quickchartButtonEl.classList.remove('colab-df-spinner');\n",
              "      quickchartButtonEl.classList.add('colab-df-quickchart-complete');\n",
              "    }\n",
              "    (() => {\n",
              "      let quickchartButtonEl =\n",
              "        document.querySelector('#df-bb6c630c-ca6a-4a42-a37b-6973860404b9 button');\n",
              "      quickchartButtonEl.style.display =\n",
              "        google.colab.kernel.accessAllowed ? 'block' : 'none';\n",
              "    })();\n",
              "  </script>\n",
              "</div>\n",
              "    </div>\n",
              "  </div>\n"
            ],
            "application/vnd.google.colaboratory.intrinsic+json": {
              "type": "dataframe",
              "variable_name": "df",
              "summary": "{\n  \"name\": \"df\",\n  \"rows\": 149,\n  \"fields\": [\n    {\n      \"column\": \"topic\",\n      \"properties\": {\n        \"dtype\": \"category\",\n        \"num_unique_values\": 8,\n        \"samples\": [\n          \"Pendidikan\",\n          \"Keamanan dan Layanan Publik\",\n          \"Infrastruktur, Pembangunan dan Perumahan\"\n        ],\n        \"semantic_type\": \"\",\n        \"description\": \"\"\n      }\n    },\n    {\n      \"column\": \"title\",\n      \"properties\": {\n        \"dtype\": \"string\",\n        \"num_unique_values\": 149,\n        \"samples\": [\n          \"Wartawan Banggai dan Kasat Intel Polres Banggai Bersatu dalam Aksi Jumat Berkah,Bagikan Nasi Kotak di Luwuk Selatan\",\n          \"Terapkan Prinsip Keberlanjutan, Dunlop Peduli Lingkungan\",\n          \"Film Horor \\u201cPiara Mayat\\u201d, \\u00a0Kreativitas Anak Muda Banggai Mengukir Jejak di Dunia Sinematografi\"\n        ],\n        \"semantic_type\": \"\",\n        \"description\": \"\"\n      }\n    },\n    {\n      \"column\": \"text\",\n      \"properties\": {\n        \"dtype\": \"string\",\n        \"num_unique_values\": 147,\n        \"samples\": [\n          \"KABAR LUWUK \\u2013Perekaman Biometrik WBPTanpa E-KTP di Banggai, Upaya Kalapas untukHak Pilih 2024.Kegiatan pengambilan data biometrik untuk narapidana tanpa E-KTP di Lapas Banggai menjadi langkah strategis hasil koordinasi antaraKalapasdan DisdukcapilKabupaten Banggai. Jum,at  8/12/2023.Kegiatan ini, yang melibatkanKasi Pelayanan Pendaftaran, Kasi Pendataan Penduduk, dan Kasi Pengelolaan Data dariDisdukcapil Banggai,dilaksanakan dengan tujuanpenerbitan E-KTPguna memenuhi syarat hak pilih wargabinaan pada Pemilu 2024.Perekaman biometrik dipimpin oleh Muzaimah G Tompe, S. sos (Kasi Pelayanan Pendaftaran), Tri Ningsih Hadiprawoto SE (Kasi Pendataan Penduduk), dan Jefri Kasim, SE (Kasi Pengelolaan Data) beserta staf.Mereka berfokus pada narapidana yang belum memiliki E-KTP, dengan harapan setiap wargabinaan dapat menggunakan hak pilihnya pada saat Pemilu tahun 2024.Kepala Lembaga Pemasyarakatan Kelas IIB Luwuk,  Efendi Wahyudi  mengatakan bahwa  kegiatan tersebut langsung diipantau, yang didampingi oleh Kasi Binapigiatja dan staf registrasi.Tujuan pemantauan ini tidak hanya untuk memastikan kelancaran pengambilan data dan perekaman biometrik, tetapi juga untuk memastikan bahwa setiap wargabinaan memiliki akses penuh untuk menggunakan hak pilihnya pada Pemilu mendatang.Ujarnyanya.Kata Kalapas Luwuk  kegiatan ini  sebagai tindak lanjut, sehingga kami akan  laporkan kegiatan ini kepada Kakanwil Kemenkumham Sulawesi Tengah melalui Kepala Divisi Pemasyarakatan.Apresiasi juga diberikan kepada seluruh petugas yang telah menjaga keamanan dan ketertiban selama pelaksanaan kegiatan ini.Dengan adanya kegiatan ini, diharapkan bahwa narapidana yang belum memiliki E-KTP dapat segera memenuhi syarat pemilu dan berpartisipasi aktif dalam demokrasi pada tahun 2024.**\",\n          \"BERITABANGGAI.COM, LUWUK \\u2013Ini adalah kabar gembira bagi masyarakat Kabupaten Banggai. Telah hadir di kota Luwuk, MODENA, merek penyedia peralatan rumah tangga yang telah dipercaya selama lebih dari empat dekade oleh masyarakat Indonesia.MODENA Secara resmi membuka Modena Home Center (MHC) pertama di kota Luwuk, pada Sabtu, (16/12/2023). Ini merupakan Modena Home Center pertama yang dibuka di kota Luwuk yang berlokasi di Jalan Samratulangi Kelurahan Soho, tepatnya di depan SDN 1 Luwuk.Pembukaan MHC ini merupakan langkah ekspansi bagi MODENA untuk konsumen di kawasan Indonesia Tengah dalam menyediakan produk-produk solusi rumah tangga pintar dan inovatif di seluruh Indonesia.MODENA secara resmi membuka Modena Home Center Pertama di LuwukYunanto Sirin, selaku Franchise Acquisition Manager MODENA, menjelaskan \\u201cMODENA Home Center Luwuk adalah MODENA Home Center pertama kami yang hadir di Luwuk.\\u201cAlasan kami untuk melakukan ekspansi melalui dibukanya MHC di kota Luwuk, tentunya kami melihat perkembangan dari sektor ekonomi dan pariwisata yang signifikan. Dengan pertumbuhan tersebut, tentunya kebutuhan akan produk-produk home appliances pun pasti meningkat,\\u201d katanya.Oleh karena itu, hari ini secara resmi hadir MHC hadir di kota Luwuk untuk menawarkan produk-produk solusi rumah tangga pintar dan inovatif sehingga dapat membantu memberikan kemudahan bagi masyarakat dalam menjalani aktivitas setiap hari.Dalam perjalanannya sepanjang tahun 2023, MODENA telah membuka lebih banyak Home Center di sejumlah kota besar di Indonesia. Hal ini merupayakan upaya MODENA untuk membawa solusi rumah tangga inovatifnya semakin dekat dengan masyarakat.Selain itu, hadirnya MODENA Home Center juga memberi kesempatan bagi pelanggan untuk merasakan pengalaman langsung menggunakan produk MODENA. Hingga Desember 2023, MODENA telah hadir di 51 titik yang tersebar di seluruh Indonesia, dan masih akan terus bertambah hingga akhir tahun 2023 ini.Khairul Fahmi Lubis selaku Regional Branches Business Development Senior Manager MODENA bagian Timur menambahkan, MHC bukan hanya sekedar showroom untuk menampilkan berbagai koleksi produk kami yang berkualitas.\\u201cDisini, kami juga menghadirkan pengalaman terbaik bagi para customer ketika mereka berkunjung mencari produk, dimulai dari proses memilih, mencoba, hingga akhirnya membeli produk,\\u201d katanya.Tak hanya itu pengalaman after sales yang kami berikan pun begitu mudah dan nyaman, hanya dengan menghubungi atau mengunjungi kami untuk bantuan lebih lanjut.MODENA Home Center memiliki moto 3S, Sales, Service Point, & Spare Part. Konsistensi MODENA dalam memberikan pengalaman terbaiknya bagi para costumer juga diperlihatkan dengan hadirnya MODENA Expert, sales representative dengan pengetahuan menyeluruh seputar produk di setiap MODENA Home Center untuk membantu pelanggan dengan segala kebutuhan dan pertanyaan terkait produk.Jika membutuhkan aksesoris atau spare parts produk, pelanggan bisa mendapatkannya disini. Begitu pun jika produk membutuhkan maintenance dari teknisi ahli, pelanggan dapat mengantarkan produknya ke MODENA Home Center untuk diteruskan ke service center terdekat.Pembukaan MODENA Home Center Luwuk juga diramaikan dengan sejumlah promo eksklusif yang berlaku selama periode Grand Opening berlangsung. Untuk informasi terkini seputar produk, penawaran menarik, serta tips dan trik sehari-hari dari MODENA bisa dilihat melalui akun Instagram @modenaindonesia dan website modena.com.Modena Home Center secara resmi telah hadir di Kota LuwukSekedar diketahui, MODENA adalah merek global consumer electronics ternama yang didirikan sejak tahun 1960-an di Italia Utara. Sejak tahun 1980-an, MODENA telah melakukan pergeseran strategis operasionalnya ke benua Asia.Jajaran produk MODENA meliputi Home, Professional, Tech, Health, Mobility, dan Energy didukung oleh studio desain yang inovatif di Italia dan pusat R&D yang terdapat di berbagai belahan dunia.Produk-produk MODENA diproduksi di berbagai negara antara lain Italia, China, Belarus, Mesir, Uzbekistan, Vietnam, dan Indonesia di bawah sertifikasi dan sistem manajemen kualitas bertaraf internasional.Visi MODENA saat ini adalah untuk menjadi penggerak menuju sebuah dunia yang terinterkoneksi. Lini produk MODENA yang terus berkembang diciptakan dengan semangat untuk mempertegas pengalaman manusia.Diciptakan dengan desain modern dan teknologi terkini seperti Internet of Things (IoT), merupakan bentuk komitmen MODENA untuk terus berjuang menghadirkan inovasi produk yang terinterkoneksi secara cerdas kepada para konsumen. (*)(bb/05)\",\n          \"KABAR LUWUK  \\u2013  Koramil 1308-01/Luwuk melaksanakan kegiatan patroli intensif menggunakan kendaraan motor dinas.Kegiatan ini dilakukan dalam rangka memonitor dan menjaga keamanan serta ketertiban di wilayah binaan Koramil tersebut.Danramil 1308-01/Luwuk, Letda Inf Romel Kamea, memimpin langsung kegiatan patroli ini yang melibatkan anggota Koramil 1308-01/Luwuk. Sabtu, 2 Desember 2023, pukul 21.00 WITA.Rangkaian kegiatan dimulai dengan apel pengecekan personil pada pukul 23.30 WITA, sebagai persiapan sebelum melaksanakan patroli. Pada pukul 21.50 WITA, anggota patroli melaksanakan kegiatan patroli dengan rute yang melibatkan sejumlah lokasi strategis di wilayah Luwuk.Beberapa tempat yang menjadi fokus patroli antara lain Tempat Hiburan Malam, D\\u2019Club, Bukit Halimun, Happy Pappy, Kelurahan Maahas, NAV Kelurahan Luwuk, Kelurahan Karaton, RTH, Lalong, Wisata KM 5, Jalan Rajawali, Jalan Garuda, Puncak Keles, dan Kecamatan Luwuk Timur.Kegiatan patroli ini dilakukan secara terus-menerus di wilayah teritorial Koramil 1308-01/Luwuk dengan tujuan untuk menjamin agar situasi tetap aman dan kondusif.Personil yang terlibat dalam kegiatan patroli melibatkan Danramil 1308-01/Luwuk, Letda Inf Romel Kamea, serta anggota Koramil 1308-01/Luwuk lainnya.Dengan adanya kegiatan patroli ini, diharapkan dapat memberikan rasa aman kepada masyarakat Luwuk serta mencegah potensi gangguan kamtibmas di wilayah tersebut.Koramil 1308-01/Luwuk terus berkomitmen untuk menjaga keamanan dan ketertiban demi kesejahteraan bersama. **\"\n        ],\n        \"semantic_type\": \"\",\n        \"description\": \"\"\n      }\n    }\n  ]\n}"
            }
          },
          "metadata": {},
          "execution_count": 21
        }
      ]
    },
    {
      "cell_type": "code",
      "source": [
        "df['topic'].nunique()"
      ],
      "metadata": {
        "colab": {
          "base_uri": "https://localhost:8080/"
        },
        "id": "oWWae-yGgBdG",
        "outputId": "f42f8e41-4d3f-4f0d-cd3d-c2b19be41d32"
      },
      "execution_count": null,
      "outputs": [
        {
          "output_type": "execute_result",
          "data": {
            "text/plain": [
              "8"
            ]
          },
          "metadata": {},
          "execution_count": 24
        }
      ]
    },
    {
      "cell_type": "markdown",
      "metadata": {
        "id": "gUEtMZPwYsWm"
      },
      "source": [
        "# Preprocessing"
      ]
    },
    {
      "cell_type": "markdown",
      "metadata": {
        "id": "1zxQ2fH4cJsF"
      },
      "source": [
        "## Delete Duplicates"
      ]
    },
    {
      "cell_type": "code",
      "execution_count": null,
      "metadata": {
        "colab": {
          "base_uri": "https://localhost:8080/"
        },
        "id": "QTIzTCJ-cZpF",
        "outputId": "8c56c86a-1005-4884-f47a-0cbc8791d5c4"
      },
      "outputs": [
        {
          "output_type": "execute_result",
          "data": {
            "text/plain": [
              "0"
            ]
          },
          "metadata": {},
          "execution_count": 25
        }
      ],
      "source": [
        "df.duplicated(subset='title').sum()\n"
      ]
    },
    {
      "cell_type": "code",
      "execution_count": null,
      "metadata": {
        "id": "rDSvUPZIcMrK"
      },
      "outputs": [],
      "source": [
        "df = df.drop_duplicates(subset='title')"
      ]
    },
    {
      "cell_type": "markdown",
      "source": [
        "## Deleting Blank (Nan) Rows"
      ],
      "metadata": {
        "id": "TlS01RHyg-xi"
      }
    },
    {
      "cell_type": "code",
      "source": [
        "df = df[df['text'] != '']"
      ],
      "metadata": {
        "id": "HqXzRDTAhCaE"
      },
      "execution_count": null,
      "outputs": []
    },
    {
      "cell_type": "code",
      "source": [
        "#row_index = 127  # Index of the row you want to print (Python indexing starts from 0)\n",
        "#columns_to_print = ['title', 'text']  # List of column names to display\n",
        "\n",
        "# Use .loc[] to select the row by its index and specify the columns to display\n",
        "#row_data = df.loc[row_index, columns_to_print]\n",
        "\n",
        "#print(row_data)"
      ],
      "metadata": {
        "id": "FJAQFjrWhGj9"
      },
      "execution_count": null,
      "outputs": []
    },
    {
      "cell_type": "markdown",
      "metadata": {
        "id": "LJL-neuHd-ab"
      },
      "source": [
        "## Case Folding"
      ]
    },
    {
      "cell_type": "code",
      "execution_count": null,
      "metadata": {
        "id": "os3Yx3F1cC3Z"
      },
      "outputs": [],
      "source": [
        "def clean_lower(lwr):\n",
        "    lwr = lwr.lower() # lowercase text\n",
        "    return lwr"
      ]
    },
    {
      "cell_type": "code",
      "execution_count": null,
      "metadata": {
        "id": "MMU-H_NhdZHO"
      },
      "outputs": [],
      "source": [
        "# Buat kolom tambahan untuk data ulasan yang telah dicasefolding\n",
        "df['lwr'] = df['text'].apply(clean_lower)\n",
        "df['lwr']"
      ]
    },
    {
      "cell_type": "code",
      "source": [
        "df.head()"
      ],
      "metadata": {
        "id": "GDN_GKCQ09vH"
      },
      "execution_count": null,
      "outputs": []
    },
    {
      "cell_type": "code",
      "execution_count": null,
      "metadata": {
        "colab": {
          "base_uri": "https://localhost:8080/"
        },
        "id": "LHYbHbrvomiW",
        "outputId": "0de70899-4c30-48d1-ecbe-3229d6060bc6"
      },
      "outputs": [
        {
          "output_type": "stream",
          "name": "stdout",
          "text": [
            "KABAR LUWUK  –Dinas Sosial BanggaiSegera Salurkan 2.42 MiliarProgram Gercep Gaskan Berdaya2023.Dinas Sosial Kabupaten Banggaimenerima bantuan sebesar 2.42 miliar rupiah dalam program Gerak Cepat Pengentasan Kemiskinan Berbasis Pemberdayaan Masyarakat (GERCEP GASKAN BERDAYA).Bantuan ini ditujukan untuk 242 keluarga penerima manfaat di lima kecamatan, memberikan harapan bagi warga di Kecamatan Luwuk (35 KPM), Luwuk Selatan (28 KPM), Pagimana (95 KPM), Bunta (47 KPM), dan Nuhon (37 KPM). Selasa 28/11/2023.Kepala Dinas Sosial Kabupaten Banggai, Irpan Poma melalui Kepala Bidang Fakir Miskis,Ronald Putje,menyampaikan kepada media bahwa dana bantuan ini merupakan sumbangan langsung dari Pemerintah Provinsi Sulawesi Tengah.Dinas Sosial Kabupaten Banggai bertanggung jawab dalam memfasilitasi distribusi bantuan dan ikut serta dalam pengawasan ketat agar dana tersebut benar-benar sampai kepada penerima manfaat yang tepat.Data yang tersedia menunjukkan bahwa 242 Keluarga Penerima Manfaat yang terdiri dari Lima kecamatan di Kabupaten Banggai memenuhi kriteria untuk menerima bantuan ini.Dinas Sosial Kabupaten Banggai berharap bahwa bantuan ini akan memberikan bantuan nyata dan meringankan beban masyarakat yang membutuhkan.Bantuan ini tidak hanya sekadar alokasi dana, tetapi juga merupakan upaya konkret dalam upaya mengentaskan kemiskinan melalui pemberdayaan masyarakat.Semoga, dengan kuncuran dana ini, masyarakat penerima manfaat dapat merasakan dampak positifnya, membuka peluang baru, dan mengurangi tingkat kemiskinan di wilayah tersebut. Aksi ini menjadi bukti komitmen bersama dalam membangun kesejahteraan dan keadilan sosial di Kabupaten Banggai.Pemberian bantuan ini menjadi langkah strategis dalam mendukung pembangunan berkelanjutan di Kabupaten Banggai. Melalui program GERCEP GASKAN BERDAYA, pemerintah berusaha meningkatkan kesejahteraan masyarakat dengan cara yang berkelanjutan dan berbasis pada pemberdayaan.Dalam penyampaiannya,  Ronald Putje menekankan pentingnya sinergi antara pemerintah pusat, provinsi, dan kabupaten untuk mencapai hasil yang optimal.“Kami berupaya agar bantuan ini tidak hanya bersifat sekali waktu, tetapi juga mampu menciptakan dampak positif jangka panjang. Oleh karena itu, perlu adanya koordinasi yang baik dalam pelaksanaan program ini,” ujarnya.Bantuan ini diharapkan tidak hanya menjadi solusi sesaat, tetapi juga menciptakan perubahan struktural yang mampu meningkatkan kapasitas masyarakat penerima manfaat.Oleh karena itu, Dinas Sosial Kabupaten Banggai akan terus melakukan pemantauan dan evaluasi secara berkala guna memastikan bahwa bantuan tersebut benar-benar memberikan dampak yang positif.Sebagai bagian dari upaya bersama mengatasi kemiskinan, bantuan ini mencerminkan komitmen pemerintah dalam menciptakan inklusivitas sosial dan kesetaraan akses terhadap sumber daya.Dengan adanya bantuan ini, diharapkan masyarakat di Kabupaten Banggai dapat membangun kehidupan yang lebih baik, mandiri, dan berdaya.**Penulis : Imam Muslik ( Jurnalis )\n",
            "_______________________________________________________________________________________________________________\n",
            "kabar luwuk  –dinas sosial banggaisegera salurkan 2.42 miliarprogram gercep gaskan berdaya2023.dinas sosial kabupaten banggaimenerima bantuan sebesar 2.42 miliar rupiah dalam program gerak cepat pengentasan kemiskinan berbasis pemberdayaan masyarakat (gercep gaskan berdaya).bantuan ini ditujukan untuk 242 keluarga penerima manfaat di lima kecamatan, memberikan harapan bagi warga di kecamatan luwuk (35 kpm), luwuk selatan (28 kpm), pagimana (95 kpm), bunta (47 kpm), dan nuhon (37 kpm). selasa 28/11/2023.kepala dinas sosial kabupaten banggai, irpan poma melalui kepala bidang fakir miskis,ronald putje,menyampaikan kepada media bahwa dana bantuan ini merupakan sumbangan langsung dari pemerintah provinsi sulawesi tengah.dinas sosial kabupaten banggai bertanggung jawab dalam memfasilitasi distribusi bantuan dan ikut serta dalam pengawasan ketat agar dana tersebut benar-benar sampai kepada penerima manfaat yang tepat.data yang tersedia menunjukkan bahwa 242 keluarga penerima manfaat yang terdiri dari lima kecamatan di kabupaten banggai memenuhi kriteria untuk menerima bantuan ini.dinas sosial kabupaten banggai berharap bahwa bantuan ini akan memberikan bantuan nyata dan meringankan beban masyarakat yang membutuhkan.bantuan ini tidak hanya sekadar alokasi dana, tetapi juga merupakan upaya konkret dalam upaya mengentaskan kemiskinan melalui pemberdayaan masyarakat.semoga, dengan kuncuran dana ini, masyarakat penerima manfaat dapat merasakan dampak positifnya, membuka peluang baru, dan mengurangi tingkat kemiskinan di wilayah tersebut. aksi ini menjadi bukti komitmen bersama dalam membangun kesejahteraan dan keadilan sosial di kabupaten banggai.pemberian bantuan ini menjadi langkah strategis dalam mendukung pembangunan berkelanjutan di kabupaten banggai. melalui program gercep gaskan berdaya, pemerintah berusaha meningkatkan kesejahteraan masyarakat dengan cara yang berkelanjutan dan berbasis pada pemberdayaan.dalam penyampaiannya,  ronald putje menekankan pentingnya sinergi antara pemerintah pusat, provinsi, dan kabupaten untuk mencapai hasil yang optimal.“kami berupaya agar bantuan ini tidak hanya bersifat sekali waktu, tetapi juga mampu menciptakan dampak positif jangka panjang. oleh karena itu, perlu adanya koordinasi yang baik dalam pelaksanaan program ini,” ujarnya.bantuan ini diharapkan tidak hanya menjadi solusi sesaat, tetapi juga menciptakan perubahan struktural yang mampu meningkatkan kapasitas masyarakat penerima manfaat.oleh karena itu, dinas sosial kabupaten banggai akan terus melakukan pemantauan dan evaluasi secara berkala guna memastikan bahwa bantuan tersebut benar-benar memberikan dampak yang positif.sebagai bagian dari upaya bersama mengatasi kemiskinan, bantuan ini mencerminkan komitmen pemerintah dalam menciptakan inklusivitas sosial dan kesetaraan akses terhadap sumber daya.dengan adanya bantuan ini, diharapkan masyarakat di kabupaten banggai dapat membangun kehidupan yang lebih baik, mandiri, dan berdaya.**penulis : imam muslik ( jurnalis )\n"
          ]
        }
      ],
      "source": [
        "print(df['text'][30])\n",
        "print(\"_______________________________________________________________________________________________________________\")\n",
        "print(df['lwr'][30])"
      ]
    },
    {
      "cell_type": "markdown",
      "metadata": {
        "id": "skf-zcc5Ksrz"
      },
      "source": [
        "## Cleansing"
      ]
    },
    {
      "cell_type": "markdown",
      "metadata": {
        "id": "uqDcm6qIhpfo"
      },
      "source": [
        "### Remove Numbers"
      ]
    },
    {
      "cell_type": "code",
      "execution_count": null,
      "metadata": {
        "id": "BqdF07FkhrBN"
      },
      "outputs": [],
      "source": [
        "def remove_numbers(text):\n",
        "  text = re.sub('[0-9]+', '', text)\n",
        "  return text"
      ]
    },
    {
      "cell_type": "code",
      "execution_count": null,
      "metadata": {
        "colab": {
          "base_uri": "https://localhost:8080/"
        },
        "id": "g4JATB7_hrEu",
        "outputId": "194329eb-5793-4548-bd50-856da71410ce"
      },
      "outputs": [
        {
          "output_type": "execute_result",
          "data": {
            "text/plain": [
              "0      jakarta, kompas.com - warga penjaringan, jakar...\n",
              "1      jakarta, kompas.com - pemeliharaan jembatan am...\n",
              "2      jakarta, kompas.com - pt hutama karya (persero...\n",
              "3      jakarta, kompas.com - dengan tingginya angka k...\n",
              "4      kompas.com - penjabat (pj) gubernur banten al ...\n",
              "                             ...                        \n",
              "144    kabar luwuk  –tim ii koramil -/luwukgiatpatrol...\n",
              "145    kabar luwuk  –  sebuah malam yang suram meland...\n",
              "146    kabar luwuk  –kejaksaan negeri banggaidan peme...\n",
              "147    kabar luwuk –evaluasi penyaluran bantuan sosia...\n",
              "148    kabar luwuk– pemerintah kabupaten banggaigagas...\n",
              "Name: clean_number, Length: 149, dtype: object"
            ]
          },
          "metadata": {},
          "execution_count": 32
        }
      ],
      "source": [
        "df['clean_number'] = df['lwr'].apply(remove_numbers)\n",
        "df['clean_number']"
      ]
    },
    {
      "cell_type": "code",
      "source": [
        "df.tail()"
      ],
      "metadata": {
        "id": "P7VjjWul1IIO",
        "colab": {
          "base_uri": "https://localhost:8080/",
          "height": 293
        },
        "outputId": "7107090d-98dd-480a-c68d-f5e8242ece4c"
      },
      "execution_count": null,
      "outputs": [
        {
          "output_type": "execute_result",
          "data": {
            "text/plain": [
              "                           topic  \\\n",
              "144  Keamanan dan Layanan Publik   \n",
              "145  Keamanan dan Layanan Publik   \n",
              "146                Ekonomi Lokal   \n",
              "147                Ekonomi Lokal   \n",
              "148                Ekonomi Lokal   \n",
              "\n",
              "                                                 title  \\\n",
              "144  Tim II Koramil 1308-01/Luwuk Giat Patroli Mala...   \n",
              "145  Kebakaran Menghanguskan Rumah Janda di Luwuk T...   \n",
              "146  Kejaksaan Negeri Banggai dan Pemerintah Kabupa...   \n",
              "147  Evaluasi Penyaluran Bantuan Sosial PKH di Bang...   \n",
              "148  Pemerintah Kabupaten Banggai Gagas Visi Bangga...   \n",
              "\n",
              "                                                  text  \\\n",
              "144  KABAR LUWUK  –Tim II Koramil 1308-01/LuwukGiat...   \n",
              "145  KABAR LUWUK  –  Sebuah malam yang suram meland...   \n",
              "146  KABAR LUWUK  –Kejaksaan Negeri Banggaidan Peme...   \n",
              "147  KABAR LUWUK –Evaluasi Penyaluran Bantuan Sosia...   \n",
              "148  KABAR LUWUK– Pemerintah Kabupaten Banggaigagas...   \n",
              "\n",
              "                                                   lwr  \\\n",
              "144  kabar luwuk  –tim ii koramil 1308-01/luwukgiat...   \n",
              "145  kabar luwuk  –  sebuah malam yang suram meland...   \n",
              "146  kabar luwuk  –kejaksaan negeri banggaidan peme...   \n",
              "147  kabar luwuk –evaluasi penyaluran bantuan sosia...   \n",
              "148  kabar luwuk– pemerintah kabupaten banggaigagas...   \n",
              "\n",
              "                                          clean_number  \n",
              "144  kabar luwuk  –tim ii koramil -/luwukgiatpatrol...  \n",
              "145  kabar luwuk  –  sebuah malam yang suram meland...  \n",
              "146  kabar luwuk  –kejaksaan negeri banggaidan peme...  \n",
              "147  kabar luwuk –evaluasi penyaluran bantuan sosia...  \n",
              "148  kabar luwuk– pemerintah kabupaten banggaigagas...  "
            ],
            "text/html": [
              "\n",
              "  <div id=\"df-e7c04a36-6f5b-43bb-89ab-f71700d9a4a5\" class=\"colab-df-container\">\n",
              "    <div>\n",
              "<style scoped>\n",
              "    .dataframe tbody tr th:only-of-type {\n",
              "        vertical-align: middle;\n",
              "    }\n",
              "\n",
              "    .dataframe tbody tr th {\n",
              "        vertical-align: top;\n",
              "    }\n",
              "\n",
              "    .dataframe thead th {\n",
              "        text-align: right;\n",
              "    }\n",
              "</style>\n",
              "<table border=\"1\" class=\"dataframe\">\n",
              "  <thead>\n",
              "    <tr style=\"text-align: right;\">\n",
              "      <th></th>\n",
              "      <th>topic</th>\n",
              "      <th>title</th>\n",
              "      <th>text</th>\n",
              "      <th>lwr</th>\n",
              "      <th>clean_number</th>\n",
              "    </tr>\n",
              "  </thead>\n",
              "  <tbody>\n",
              "    <tr>\n",
              "      <th>144</th>\n",
              "      <td>Keamanan dan Layanan Publik</td>\n",
              "      <td>Tim II Koramil 1308-01/Luwuk Giat Patroli Mala...</td>\n",
              "      <td>KABAR LUWUK  –Tim II Koramil 1308-01/LuwukGiat...</td>\n",
              "      <td>kabar luwuk  –tim ii koramil 1308-01/luwukgiat...</td>\n",
              "      <td>kabar luwuk  –tim ii koramil -/luwukgiatpatrol...</td>\n",
              "    </tr>\n",
              "    <tr>\n",
              "      <th>145</th>\n",
              "      <td>Keamanan dan Layanan Publik</td>\n",
              "      <td>Kebakaran Menghanguskan Rumah Janda di Luwuk T...</td>\n",
              "      <td>KABAR LUWUK  –  Sebuah malam yang suram meland...</td>\n",
              "      <td>kabar luwuk  –  sebuah malam yang suram meland...</td>\n",
              "      <td>kabar luwuk  –  sebuah malam yang suram meland...</td>\n",
              "    </tr>\n",
              "    <tr>\n",
              "      <th>146</th>\n",
              "      <td>Ekonomi Lokal</td>\n",
              "      <td>Kejaksaan Negeri Banggai dan Pemerintah Kabupa...</td>\n",
              "      <td>KABAR LUWUK  –Kejaksaan Negeri Banggaidan Peme...</td>\n",
              "      <td>kabar luwuk  –kejaksaan negeri banggaidan peme...</td>\n",
              "      <td>kabar luwuk  –kejaksaan negeri banggaidan peme...</td>\n",
              "    </tr>\n",
              "    <tr>\n",
              "      <th>147</th>\n",
              "      <td>Ekonomi Lokal</td>\n",
              "      <td>Evaluasi Penyaluran Bantuan Sosial PKH di Bang...</td>\n",
              "      <td>KABAR LUWUK –Evaluasi Penyaluran Bantuan Sosia...</td>\n",
              "      <td>kabar luwuk –evaluasi penyaluran bantuan sosia...</td>\n",
              "      <td>kabar luwuk –evaluasi penyaluran bantuan sosia...</td>\n",
              "    </tr>\n",
              "    <tr>\n",
              "      <th>148</th>\n",
              "      <td>Ekonomi Lokal</td>\n",
              "      <td>Pemerintah Kabupaten Banggai Gagas Visi Bangga...</td>\n",
              "      <td>KABAR LUWUK– Pemerintah Kabupaten Banggaigagas...</td>\n",
              "      <td>kabar luwuk– pemerintah kabupaten banggaigagas...</td>\n",
              "      <td>kabar luwuk– pemerintah kabupaten banggaigagas...</td>\n",
              "    </tr>\n",
              "  </tbody>\n",
              "</table>\n",
              "</div>\n",
              "    <div class=\"colab-df-buttons\">\n",
              "\n",
              "  <div class=\"colab-df-container\">\n",
              "    <button class=\"colab-df-convert\" onclick=\"convertToInteractive('df-e7c04a36-6f5b-43bb-89ab-f71700d9a4a5')\"\n",
              "            title=\"Convert this dataframe to an interactive table.\"\n",
              "            style=\"display:none;\">\n",
              "\n",
              "  <svg xmlns=\"http://www.w3.org/2000/svg\" height=\"24px\" viewBox=\"0 -960 960 960\">\n",
              "    <path d=\"M120-120v-720h720v720H120Zm60-500h600v-160H180v160Zm220 220h160v-160H400v160Zm0 220h160v-160H400v160ZM180-400h160v-160H180v160Zm440 0h160v-160H620v160ZM180-180h160v-160H180v160Zm440 0h160v-160H620v160Z\"/>\n",
              "  </svg>\n",
              "    </button>\n",
              "\n",
              "  <style>\n",
              "    .colab-df-container {\n",
              "      display:flex;\n",
              "      gap: 12px;\n",
              "    }\n",
              "\n",
              "    .colab-df-convert {\n",
              "      background-color: #E8F0FE;\n",
              "      border: none;\n",
              "      border-radius: 50%;\n",
              "      cursor: pointer;\n",
              "      display: none;\n",
              "      fill: #1967D2;\n",
              "      height: 32px;\n",
              "      padding: 0 0 0 0;\n",
              "      width: 32px;\n",
              "    }\n",
              "\n",
              "    .colab-df-convert:hover {\n",
              "      background-color: #E2EBFA;\n",
              "      box-shadow: 0px 1px 2px rgba(60, 64, 67, 0.3), 0px 1px 3px 1px rgba(60, 64, 67, 0.15);\n",
              "      fill: #174EA6;\n",
              "    }\n",
              "\n",
              "    .colab-df-buttons div {\n",
              "      margin-bottom: 4px;\n",
              "    }\n",
              "\n",
              "    [theme=dark] .colab-df-convert {\n",
              "      background-color: #3B4455;\n",
              "      fill: #D2E3FC;\n",
              "    }\n",
              "\n",
              "    [theme=dark] .colab-df-convert:hover {\n",
              "      background-color: #434B5C;\n",
              "      box-shadow: 0px 1px 3px 1px rgba(0, 0, 0, 0.15);\n",
              "      filter: drop-shadow(0px 1px 2px rgba(0, 0, 0, 0.3));\n",
              "      fill: #FFFFFF;\n",
              "    }\n",
              "  </style>\n",
              "\n",
              "    <script>\n",
              "      const buttonEl =\n",
              "        document.querySelector('#df-e7c04a36-6f5b-43bb-89ab-f71700d9a4a5 button.colab-df-convert');\n",
              "      buttonEl.style.display =\n",
              "        google.colab.kernel.accessAllowed ? 'block' : 'none';\n",
              "\n",
              "      async function convertToInteractive(key) {\n",
              "        const element = document.querySelector('#df-e7c04a36-6f5b-43bb-89ab-f71700d9a4a5');\n",
              "        const dataTable =\n",
              "          await google.colab.kernel.invokeFunction('convertToInteractive',\n",
              "                                                    [key], {});\n",
              "        if (!dataTable) return;\n",
              "\n",
              "        const docLinkHtml = 'Like what you see? Visit the ' +\n",
              "          '<a target=\"_blank\" href=https://colab.research.google.com/notebooks/data_table.ipynb>data table notebook</a>'\n",
              "          + ' to learn more about interactive tables.';\n",
              "        element.innerHTML = '';\n",
              "        dataTable['output_type'] = 'display_data';\n",
              "        await google.colab.output.renderOutput(dataTable, element);\n",
              "        const docLink = document.createElement('div');\n",
              "        docLink.innerHTML = docLinkHtml;\n",
              "        element.appendChild(docLink);\n",
              "      }\n",
              "    </script>\n",
              "  </div>\n",
              "\n",
              "\n",
              "<div id=\"df-151553e7-3f62-4b6b-a115-e5723c1f8ff2\">\n",
              "  <button class=\"colab-df-quickchart\" onclick=\"quickchart('df-151553e7-3f62-4b6b-a115-e5723c1f8ff2')\"\n",
              "            title=\"Suggest charts\"\n",
              "            style=\"display:none;\">\n",
              "\n",
              "<svg xmlns=\"http://www.w3.org/2000/svg\" height=\"24px\"viewBox=\"0 0 24 24\"\n",
              "     width=\"24px\">\n",
              "    <g>\n",
              "        <path d=\"M19 3H5c-1.1 0-2 .9-2 2v14c0 1.1.9 2 2 2h14c1.1 0 2-.9 2-2V5c0-1.1-.9-2-2-2zM9 17H7v-7h2v7zm4 0h-2V7h2v10zm4 0h-2v-4h2v4z\"/>\n",
              "    </g>\n",
              "</svg>\n",
              "  </button>\n",
              "\n",
              "<style>\n",
              "  .colab-df-quickchart {\n",
              "      --bg-color: #E8F0FE;\n",
              "      --fill-color: #1967D2;\n",
              "      --hover-bg-color: #E2EBFA;\n",
              "      --hover-fill-color: #174EA6;\n",
              "      --disabled-fill-color: #AAA;\n",
              "      --disabled-bg-color: #DDD;\n",
              "  }\n",
              "\n",
              "  [theme=dark] .colab-df-quickchart {\n",
              "      --bg-color: #3B4455;\n",
              "      --fill-color: #D2E3FC;\n",
              "      --hover-bg-color: #434B5C;\n",
              "      --hover-fill-color: #FFFFFF;\n",
              "      --disabled-bg-color: #3B4455;\n",
              "      --disabled-fill-color: #666;\n",
              "  }\n",
              "\n",
              "  .colab-df-quickchart {\n",
              "    background-color: var(--bg-color);\n",
              "    border: none;\n",
              "    border-radius: 50%;\n",
              "    cursor: pointer;\n",
              "    display: none;\n",
              "    fill: var(--fill-color);\n",
              "    height: 32px;\n",
              "    padding: 0;\n",
              "    width: 32px;\n",
              "  }\n",
              "\n",
              "  .colab-df-quickchart:hover {\n",
              "    background-color: var(--hover-bg-color);\n",
              "    box-shadow: 0 1px 2px rgba(60, 64, 67, 0.3), 0 1px 3px 1px rgba(60, 64, 67, 0.15);\n",
              "    fill: var(--button-hover-fill-color);\n",
              "  }\n",
              "\n",
              "  .colab-df-quickchart-complete:disabled,\n",
              "  .colab-df-quickchart-complete:disabled:hover {\n",
              "    background-color: var(--disabled-bg-color);\n",
              "    fill: var(--disabled-fill-color);\n",
              "    box-shadow: none;\n",
              "  }\n",
              "\n",
              "  .colab-df-spinner {\n",
              "    border: 2px solid var(--fill-color);\n",
              "    border-color: transparent;\n",
              "    border-bottom-color: var(--fill-color);\n",
              "    animation:\n",
              "      spin 1s steps(1) infinite;\n",
              "  }\n",
              "\n",
              "  @keyframes spin {\n",
              "    0% {\n",
              "      border-color: transparent;\n",
              "      border-bottom-color: var(--fill-color);\n",
              "      border-left-color: var(--fill-color);\n",
              "    }\n",
              "    20% {\n",
              "      border-color: transparent;\n",
              "      border-left-color: var(--fill-color);\n",
              "      border-top-color: var(--fill-color);\n",
              "    }\n",
              "    30% {\n",
              "      border-color: transparent;\n",
              "      border-left-color: var(--fill-color);\n",
              "      border-top-color: var(--fill-color);\n",
              "      border-right-color: var(--fill-color);\n",
              "    }\n",
              "    40% {\n",
              "      border-color: transparent;\n",
              "      border-right-color: var(--fill-color);\n",
              "      border-top-color: var(--fill-color);\n",
              "    }\n",
              "    60% {\n",
              "      border-color: transparent;\n",
              "      border-right-color: var(--fill-color);\n",
              "    }\n",
              "    80% {\n",
              "      border-color: transparent;\n",
              "      border-right-color: var(--fill-color);\n",
              "      border-bottom-color: var(--fill-color);\n",
              "    }\n",
              "    90% {\n",
              "      border-color: transparent;\n",
              "      border-bottom-color: var(--fill-color);\n",
              "    }\n",
              "  }\n",
              "</style>\n",
              "\n",
              "  <script>\n",
              "    async function quickchart(key) {\n",
              "      const quickchartButtonEl =\n",
              "        document.querySelector('#' + key + ' button');\n",
              "      quickchartButtonEl.disabled = true;  // To prevent multiple clicks.\n",
              "      quickchartButtonEl.classList.add('colab-df-spinner');\n",
              "      try {\n",
              "        const charts = await google.colab.kernel.invokeFunction(\n",
              "            'suggestCharts', [key], {});\n",
              "      } catch (error) {\n",
              "        console.error('Error during call to suggestCharts:', error);\n",
              "      }\n",
              "      quickchartButtonEl.classList.remove('colab-df-spinner');\n",
              "      quickchartButtonEl.classList.add('colab-df-quickchart-complete');\n",
              "    }\n",
              "    (() => {\n",
              "      let quickchartButtonEl =\n",
              "        document.querySelector('#df-151553e7-3f62-4b6b-a115-e5723c1f8ff2 button');\n",
              "      quickchartButtonEl.style.display =\n",
              "        google.colab.kernel.accessAllowed ? 'block' : 'none';\n",
              "    })();\n",
              "  </script>\n",
              "</div>\n",
              "    </div>\n",
              "  </div>\n"
            ],
            "application/vnd.google.colaboratory.intrinsic+json": {
              "type": "dataframe",
              "summary": "{\n  \"name\": \"df\",\n  \"rows\": 5,\n  \"fields\": [\n    {\n      \"column\": \"topic\",\n      \"properties\": {\n        \"dtype\": \"category\",\n        \"num_unique_values\": 2,\n        \"samples\": [\n          \"Ekonomi Lokal\",\n          \"Keamanan dan Layanan Publik\"\n        ],\n        \"semantic_type\": \"\",\n        \"description\": \"\"\n      }\n    },\n    {\n      \"column\": \"title\",\n      \"properties\": {\n        \"dtype\": \"string\",\n        \"num_unique_values\": 5,\n        \"samples\": [\n          \"Kebakaran Menghanguskan Rumah Janda di Luwuk Timur, \\u00a0Kerugian Rp 25 Juta, Tapi Nyawa Selamat\",\n          \"Pemerintah Kabupaten Banggai Gagas Visi Banggai Emas 2045 Melalui Focus Group Discussion\"\n        ],\n        \"semantic_type\": \"\",\n        \"description\": \"\"\n      }\n    },\n    {\n      \"column\": \"text\",\n      \"properties\": {\n        \"dtype\": \"string\",\n        \"num_unique_values\": 5,\n        \"samples\": [\n          \"KABAR LUWUK  \\u2013  Sebuah malam yang suram melanda Desa Lauwon, Kecamatan Luwuk Timur, Banggai, Sabtu (9/12/2023), ketika rumah milik Wahalima (60), seorang janda, menjadi saksi kebakaran dahsyat.Api pertama kali terlihat pukul 20.45 Wita, berawal dari dapur rumah korban, seperti yang diungkapkan oleh Kapolsek Luwuk, Kompol Z. Ginoga, dengan merinci keterangan dari saksi Laako (41).Melihat kobaran api yang membesar, Laako segera berteriak meminta pertolongan warga sekitar.Dengan peralatan seadanya, masyarakat bahu membahu berusaha memadamkan api yang dengan cepat melalap rumah yang terbuat dari dinding papan dan atap rumbia tersebut.Meskipun upaya mereka keras, satu-satunya kendaraan milik korban, sepeda motor Mio Sporty, tak dapat diselamatkan dan ikut terbakar.Beruntung, Wahalima berhasil selamat tanpa mengalami cedera serius. Namun, kerugian materi diperkirakan mencapai Rp 25 Juta, seperti yang diungkapkan Kapolsek Luwuk, Kompol Ginoga.Saat ini, anggota kepolisian masih melakukan penyelidikan untuk menentukan penyebab pasti dari kebakaran tersebut.Ginoga juga mengingatkan masyarakat, terutama yang rumahnya sudah berusia, untuk lebih berhati-hati terhadap potensi kebakaran.Ia menekankan bahwa keamanan instalasi listrik harus diperhatikan, dan setelah memasak, pastikan api benar-benar padam. Wahalima, sementara itu, telah menenangkan diri di rumah salah satu kerabatnya di desa setempat. Kita berdoa agar dia dapat pulih dari kejadian tragis ini dengan cepat.**\",\n          \"KABAR LUWUK\\u2013 Pemerintah Kabupaten Banggaigagas visiBanggai Emas 2045MelaluiFocus Group Discussion.PemerintahKabupaten Banggaimelakukan langkah strategis dengan menggelar Focus Group Discussion (FGD) dalam rangka penyusunanRancangan Awal Rencana Pembangunan Jangka Panjang Daerah (RPJPD)Kabupaten Banggai Tahun 2025-2045.Kegiatan ini, yang berlangsung diRuang Rapat Pahangkabotan, Kantor Badan Perencanaan Pembangunan Daerah (Bappeda) Kabupaten Banggai pada Selasa (12/12/2023), menjadi titik awal menuju visi Banggai Emas pada tahun 2045.Proses FGD melibatkan partisipasi aktif dari berbagai pihak, mencakup lima fokus utama yang akan membentuk pijakan strategis pembangunan untuk dua dekade mendatang.Kelima poin tersebut mencakup strategi industrialisasi pertanian, perlindungan sosial dan peningkatan kesempatan kerja, pengembangan infrastruktur, peningkatan kualitas pendidikan, dan perbaikan sistem kesehatan.Bupati Banggai, Ir. H. Amirudin, MM, AIFO, dalam sambutannya menyampaikan bahwa RPJPD yang disusun bukan hanya untuk kepentingan saat ini, melainkan sebagai landasan untuk generasi mendatang.\\u201cIni untuk generasi kita kedepan, untuk pembangunan 20 tahun ke depan, sehingga siapapun yang menjadi pemimpin daerah benar-benar tahu arah dan kebijakan yang kita susun hari ini,\\u201d ujar Amirudin.Beliau juga menggarisbawahi pentingnya perencanaan komprehensif yang melibatkan visi jangka panjang.\\u201cKonsep-konsep kedepannya yang paling penting, kita harus pikirkan bahwa, Insya Allah, Kabupaten Banggai ini akan berkembang.Kita menginginkan Kabupaten Banggai ini akan menjadi ibu kota provinsi,\\u201d tambah Bupati Banggai.Gubernur Sulawesi Tengah merespons positif terhadap Dokumen Tompotika yang disampaikan oleh Bupati Banggai.\\u201cSambutan Pak Gubernur kemarin ketika saya menyampaikan Dokumen Tompotika disambut baik, dan dia berharap bahwa rumpun Banggai ini menjadi satu provinsi baru pada masa yang akan datang,\\u201d ungkap Amirudin.Dengan melibatkan berbagai stakeholder, proses penyusunan RPJPD Kabupaten Banggai akan berlanjut hingga 21 Desember 2023.Langkah ini menunjukkan komitmen Pemerintah Kabupaten Banggai untuk merancang rencana pembangunan jangka panjang yang holistik dan berkelanjutan, membawa Kabupaten Banggai menuju visi \\u201cBanggai Emas\\u201d pada tahun 2045. ( dkisp) **\"\n        ],\n        \"semantic_type\": \"\",\n        \"description\": \"\"\n      }\n    },\n    {\n      \"column\": \"lwr\",\n      \"properties\": {\n        \"dtype\": \"string\",\n        \"num_unique_values\": 5,\n        \"samples\": [\n          \"kabar luwuk  \\u2013  sebuah malam yang suram melanda desa lauwon, kecamatan luwuk timur, banggai, sabtu (9/12/2023), ketika rumah milik wahalima (60), seorang janda, menjadi saksi kebakaran dahsyat.api pertama kali terlihat pukul 20.45 wita, berawal dari dapur rumah korban, seperti yang diungkapkan oleh kapolsek luwuk, kompol z. ginoga, dengan merinci keterangan dari saksi laako (41).melihat kobaran api yang membesar, laako segera berteriak meminta pertolongan warga sekitar.dengan peralatan seadanya, masyarakat bahu membahu berusaha memadamkan api yang dengan cepat melalap rumah yang terbuat dari dinding papan dan atap rumbia tersebut.meskipun upaya mereka keras, satu-satunya kendaraan milik korban, sepeda motor mio sporty, tak dapat diselamatkan dan ikut terbakar.beruntung, wahalima berhasil selamat tanpa mengalami cedera serius. namun, kerugian materi diperkirakan mencapai rp 25 juta, seperti yang diungkapkan kapolsek luwuk, kompol ginoga.saat ini, anggota kepolisian masih melakukan penyelidikan untuk menentukan penyebab pasti dari kebakaran tersebut.ginoga juga mengingatkan masyarakat, terutama yang rumahnya sudah berusia, untuk lebih berhati-hati terhadap potensi kebakaran.ia menekankan bahwa keamanan instalasi listrik harus diperhatikan, dan setelah memasak, pastikan api benar-benar padam. wahalima, sementara itu, telah menenangkan diri di rumah salah satu kerabatnya di desa setempat. kita berdoa agar dia dapat pulih dari kejadian tragis ini dengan cepat.**\",\n          \"kabar luwuk\\u2013 pemerintah kabupaten banggaigagas visibanggai emas 2045melaluifocus group discussion.pemerintahkabupaten banggaimelakukan langkah strategis dengan menggelar focus group discussion (fgd) dalam rangka penyusunanrancangan awal rencana pembangunan jangka panjang daerah (rpjpd)kabupaten banggai tahun 2025-2045.kegiatan ini, yang berlangsung diruang rapat pahangkabotan, kantor badan perencanaan pembangunan daerah (bappeda) kabupaten banggai pada selasa (12/12/2023), menjadi titik awal menuju visi banggai emas pada tahun 2045.proses fgd melibatkan partisipasi aktif dari berbagai pihak, mencakup lima fokus utama yang akan membentuk pijakan strategis pembangunan untuk dua dekade mendatang.kelima poin tersebut mencakup strategi industrialisasi pertanian, perlindungan sosial dan peningkatan kesempatan kerja, pengembangan infrastruktur, peningkatan kualitas pendidikan, dan perbaikan sistem kesehatan.bupati banggai, ir. h. amirudin, mm, aifo, dalam sambutannya menyampaikan bahwa rpjpd yang disusun bukan hanya untuk kepentingan saat ini, melainkan sebagai landasan untuk generasi mendatang.\\u201cini untuk generasi kita kedepan, untuk pembangunan 20 tahun ke depan, sehingga siapapun yang menjadi pemimpin daerah benar-benar tahu arah dan kebijakan yang kita susun hari ini,\\u201d ujar amirudin.beliau juga menggarisbawahi pentingnya perencanaan komprehensif yang melibatkan visi jangka panjang.\\u201ckonsep-konsep kedepannya yang paling penting, kita harus pikirkan bahwa, insya allah, kabupaten banggai ini akan berkembang.kita menginginkan kabupaten banggai ini akan menjadi ibu kota provinsi,\\u201d tambah bupati banggai.gubernur sulawesi tengah merespons positif terhadap dokumen tompotika yang disampaikan oleh bupati banggai.\\u201csambutan pak gubernur kemarin ketika saya menyampaikan dokumen tompotika disambut baik, dan dia berharap bahwa rumpun banggai ini menjadi satu provinsi baru pada masa yang akan datang,\\u201d ungkap amirudin.dengan melibatkan berbagai stakeholder, proses penyusunan rpjpd kabupaten banggai akan berlanjut hingga 21 desember 2023.langkah ini menunjukkan komitmen pemerintah kabupaten banggai untuk merancang rencana pembangunan jangka panjang yang holistik dan berkelanjutan, membawa kabupaten banggai menuju visi \\u201cbanggai emas\\u201d pada tahun 2045. ( dkisp) **\"\n        ],\n        \"semantic_type\": \"\",\n        \"description\": \"\"\n      }\n    },\n    {\n      \"column\": \"clean_number\",\n      \"properties\": {\n        \"dtype\": \"string\",\n        \"num_unique_values\": 5,\n        \"samples\": [\n          \"kabar luwuk  \\u2013  sebuah malam yang suram melanda desa lauwon, kecamatan luwuk timur, banggai, sabtu (//), ketika rumah milik wahalima (), seorang janda, menjadi saksi kebakaran dahsyat.api pertama kali terlihat pukul . wita, berawal dari dapur rumah korban, seperti yang diungkapkan oleh kapolsek luwuk, kompol z. ginoga, dengan merinci keterangan dari saksi laako ().melihat kobaran api yang membesar, laako segera berteriak meminta pertolongan warga sekitar.dengan peralatan seadanya, masyarakat bahu membahu berusaha memadamkan api yang dengan cepat melalap rumah yang terbuat dari dinding papan dan atap rumbia tersebut.meskipun upaya mereka keras, satu-satunya kendaraan milik korban, sepeda motor mio sporty, tak dapat diselamatkan dan ikut terbakar.beruntung, wahalima berhasil selamat tanpa mengalami cedera serius. namun, kerugian materi diperkirakan mencapai rp  juta, seperti yang diungkapkan kapolsek luwuk, kompol ginoga.saat ini, anggota kepolisian masih melakukan penyelidikan untuk menentukan penyebab pasti dari kebakaran tersebut.ginoga juga mengingatkan masyarakat, terutama yang rumahnya sudah berusia, untuk lebih berhati-hati terhadap potensi kebakaran.ia menekankan bahwa keamanan instalasi listrik harus diperhatikan, dan setelah memasak, pastikan api benar-benar padam. wahalima, sementara itu, telah menenangkan diri di rumah salah satu kerabatnya di desa setempat. kita berdoa agar dia dapat pulih dari kejadian tragis ini dengan cepat.**\",\n          \"kabar luwuk\\u2013 pemerintah kabupaten banggaigagas visibanggai emas melaluifocus group discussion.pemerintahkabupaten banggaimelakukan langkah strategis dengan menggelar focus group discussion (fgd) dalam rangka penyusunanrancangan awal rencana pembangunan jangka panjang daerah (rpjpd)kabupaten banggai tahun -.kegiatan ini, yang berlangsung diruang rapat pahangkabotan, kantor badan perencanaan pembangunan daerah (bappeda) kabupaten banggai pada selasa (//), menjadi titik awal menuju visi banggai emas pada tahun .proses fgd melibatkan partisipasi aktif dari berbagai pihak, mencakup lima fokus utama yang akan membentuk pijakan strategis pembangunan untuk dua dekade mendatang.kelima poin tersebut mencakup strategi industrialisasi pertanian, perlindungan sosial dan peningkatan kesempatan kerja, pengembangan infrastruktur, peningkatan kualitas pendidikan, dan perbaikan sistem kesehatan.bupati banggai, ir. h. amirudin, mm, aifo, dalam sambutannya menyampaikan bahwa rpjpd yang disusun bukan hanya untuk kepentingan saat ini, melainkan sebagai landasan untuk generasi mendatang.\\u201cini untuk generasi kita kedepan, untuk pembangunan  tahun ke depan, sehingga siapapun yang menjadi pemimpin daerah benar-benar tahu arah dan kebijakan yang kita susun hari ini,\\u201d ujar amirudin.beliau juga menggarisbawahi pentingnya perencanaan komprehensif yang melibatkan visi jangka panjang.\\u201ckonsep-konsep kedepannya yang paling penting, kita harus pikirkan bahwa, insya allah, kabupaten banggai ini akan berkembang.kita menginginkan kabupaten banggai ini akan menjadi ibu kota provinsi,\\u201d tambah bupati banggai.gubernur sulawesi tengah merespons positif terhadap dokumen tompotika yang disampaikan oleh bupati banggai.\\u201csambutan pak gubernur kemarin ketika saya menyampaikan dokumen tompotika disambut baik, dan dia berharap bahwa rumpun banggai ini menjadi satu provinsi baru pada masa yang akan datang,\\u201d ungkap amirudin.dengan melibatkan berbagai stakeholder, proses penyusunan rpjpd kabupaten banggai akan berlanjut hingga  desember .langkah ini menunjukkan komitmen pemerintah kabupaten banggai untuk merancang rencana pembangunan jangka panjang yang holistik dan berkelanjutan, membawa kabupaten banggai menuju visi \\u201cbanggai emas\\u201d pada tahun . ( dkisp) **\"\n        ],\n        \"semantic_type\": \"\",\n        \"description\": \"\"\n      }\n    }\n  ]\n}"
            }
          },
          "metadata": {},
          "execution_count": 33
        }
      ]
    },
    {
      "cell_type": "markdown",
      "metadata": {
        "id": "BgnmFGgbeM4o"
      },
      "source": [
        "### Remove Punctuation"
      ]
    },
    {
      "cell_type": "code",
      "execution_count": null,
      "metadata": {
        "id": "E17l7Edmdaf3"
      },
      "outputs": [],
      "source": [
        "#Remove Puncutuation\n",
        "clean_spcl = re.compile('[/(){}\\[\\]\\|@,;]')\n",
        "clean_symbol = re.compile('[^0-9a-z]')\n",
        "def clean_punct(text):\n",
        "    text = clean_spcl.sub('', text)\n",
        "    text = clean_symbol.sub(' ', text)\n",
        "    return text"
      ]
    },
    {
      "cell_type": "code",
      "execution_count": null,
      "metadata": {
        "colab": {
          "base_uri": "https://localhost:8080/"
        },
        "id": "8f1YgOnOeHJs",
        "outputId": "9d28199d-6074-40dc-fce2-4ee1b9de1eb2"
      },
      "outputs": [
        {
          "output_type": "execute_result",
          "data": {
            "text/plain": [
              "0      jakarta kompas com   warga penjaringan jakarta...\n",
              "1      jakarta kompas com   pemeliharaan jembatan amp...\n",
              "2      jakarta kompas com   pt hutama karya persero m...\n",
              "3      jakarta kompas com   dengan tingginya angka ke...\n",
              "4      kompas com   penjabat pj gubernur banten al mu...\n",
              "                             ...                        \n",
              "144    kabar luwuk   tim ii koramil  luwukgiatpatroli...\n",
              "145    kabar luwuk     sebuah malam yang suram meland...\n",
              "146    kabar luwuk   kejaksaan negeri banggaidan peme...\n",
              "147    kabar luwuk  evaluasi penyaluran bantuan sosia...\n",
              "148    kabar luwuk  pemerintah kabupaten banggaigagas...\n",
              "Name: clean_punct, Length: 149, dtype: object"
            ]
          },
          "metadata": {},
          "execution_count": 35
        }
      ],
      "source": [
        "# Buat kolom tambahan untuk data description yang telah diremovepunctuation\n",
        "df['clean_punct'] = df['clean_number'].apply(clean_punct)\n",
        "df['clean_punct']"
      ]
    },
    {
      "cell_type": "code",
      "source": [
        "df.head()\n"
      ],
      "metadata": {
        "id": "vMKcQy2K_Jbc",
        "colab": {
          "base_uri": "https://localhost:8080/",
          "height": 379
        },
        "outputId": "fd3e4e36-d4f4-49ec-fdf6-20fd86fc83c0"
      },
      "execution_count": null,
      "outputs": [
        {
          "output_type": "execute_result",
          "data": {
            "text/plain": [
              "                                      topic  \\\n",
              "0  Infrastruktur, Pembangunan dan Perumahan   \n",
              "1  Infrastruktur, Pembangunan dan Perumahan   \n",
              "2  Infrastruktur, Pembangunan dan Perumahan   \n",
              "3  Infrastruktur, Pembangunan dan Perumahan   \n",
              "4  Infrastruktur, Pembangunan dan Perumahan   \n",
              "\n",
              "                                               title  \\\n",
              "0  Warga Yakin Pembangunan Infrastruktur di Jakar...   \n",
              "1  Tahun Ini, Anjungan Pandang Tower Ulu Jembatan...   \n",
              "2  Cara HK Percepat Konstruksi Tiga Gedung UPI Ba...   \n",
              "3  Tol Cimaci Segera Beroperasi, Harvest City Res...   \n",
              "4  Pj Gubernur Banten Al Muktabar Raih Ekbispar A...   \n",
              "\n",
              "                                                text  \\\n",
              "0  JAKARTA, KOMPAS.com - Warga Penjaringan, Jakar...   \n",
              "1  JAKARTA, KOMPAS.com - Pemeliharaan Jembatan Am...   \n",
              "2  JAKARTA, KOMPAS.com - PT Hutama Karya (Persero...   \n",
              "3  JAKARTA, KOMPAS.com - Dengan tingginya angka k...   \n",
              "4  KOMPAS.com - Penjabat (Pj) Gubernur Banten Al ...   \n",
              "\n",
              "                                                 lwr  \\\n",
              "0  jakarta, kompas.com - warga penjaringan, jakar...   \n",
              "1  jakarta, kompas.com - pemeliharaan jembatan am...   \n",
              "2  jakarta, kompas.com - pt hutama karya (persero...   \n",
              "3  jakarta, kompas.com - dengan tingginya angka k...   \n",
              "4  kompas.com - penjabat (pj) gubernur banten al ...   \n",
              "\n",
              "                                        clean_number  \\\n",
              "0  jakarta, kompas.com - warga penjaringan, jakar...   \n",
              "1  jakarta, kompas.com - pemeliharaan jembatan am...   \n",
              "2  jakarta, kompas.com - pt hutama karya (persero...   \n",
              "3  jakarta, kompas.com - dengan tingginya angka k...   \n",
              "4  kompas.com - penjabat (pj) gubernur banten al ...   \n",
              "\n",
              "                                         clean_punct  \n",
              "0  jakarta kompas com   warga penjaringan jakarta...  \n",
              "1  jakarta kompas com   pemeliharaan jembatan amp...  \n",
              "2  jakarta kompas com   pt hutama karya persero m...  \n",
              "3  jakarta kompas com   dengan tingginya angka ke...  \n",
              "4  kompas com   penjabat pj gubernur banten al mu...  "
            ],
            "text/html": [
              "\n",
              "  <div id=\"df-2f84a62a-6c6e-4c6a-8303-cdc41b08dc72\" class=\"colab-df-container\">\n",
              "    <div>\n",
              "<style scoped>\n",
              "    .dataframe tbody tr th:only-of-type {\n",
              "        vertical-align: middle;\n",
              "    }\n",
              "\n",
              "    .dataframe tbody tr th {\n",
              "        vertical-align: top;\n",
              "    }\n",
              "\n",
              "    .dataframe thead th {\n",
              "        text-align: right;\n",
              "    }\n",
              "</style>\n",
              "<table border=\"1\" class=\"dataframe\">\n",
              "  <thead>\n",
              "    <tr style=\"text-align: right;\">\n",
              "      <th></th>\n",
              "      <th>topic</th>\n",
              "      <th>title</th>\n",
              "      <th>text</th>\n",
              "      <th>lwr</th>\n",
              "      <th>clean_number</th>\n",
              "      <th>clean_punct</th>\n",
              "    </tr>\n",
              "  </thead>\n",
              "  <tbody>\n",
              "    <tr>\n",
              "      <th>0</th>\n",
              "      <td>Infrastruktur, Pembangunan dan Perumahan</td>\n",
              "      <td>Warga Yakin Pembangunan Infrastruktur di Jakar...</td>\n",
              "      <td>JAKARTA, KOMPAS.com - Warga Penjaringan, Jakar...</td>\n",
              "      <td>jakarta, kompas.com - warga penjaringan, jakar...</td>\n",
              "      <td>jakarta, kompas.com - warga penjaringan, jakar...</td>\n",
              "      <td>jakarta kompas com   warga penjaringan jakarta...</td>\n",
              "    </tr>\n",
              "    <tr>\n",
              "      <th>1</th>\n",
              "      <td>Infrastruktur, Pembangunan dan Perumahan</td>\n",
              "      <td>Tahun Ini, Anjungan Pandang Tower Ulu Jembatan...</td>\n",
              "      <td>JAKARTA, KOMPAS.com - Pemeliharaan Jembatan Am...</td>\n",
              "      <td>jakarta, kompas.com - pemeliharaan jembatan am...</td>\n",
              "      <td>jakarta, kompas.com - pemeliharaan jembatan am...</td>\n",
              "      <td>jakarta kompas com   pemeliharaan jembatan amp...</td>\n",
              "    </tr>\n",
              "    <tr>\n",
              "      <th>2</th>\n",
              "      <td>Infrastruktur, Pembangunan dan Perumahan</td>\n",
              "      <td>Cara HK Percepat Konstruksi Tiga Gedung UPI Ba...</td>\n",
              "      <td>JAKARTA, KOMPAS.com - PT Hutama Karya (Persero...</td>\n",
              "      <td>jakarta, kompas.com - pt hutama karya (persero...</td>\n",
              "      <td>jakarta, kompas.com - pt hutama karya (persero...</td>\n",
              "      <td>jakarta kompas com   pt hutama karya persero m...</td>\n",
              "    </tr>\n",
              "    <tr>\n",
              "      <th>3</th>\n",
              "      <td>Infrastruktur, Pembangunan dan Perumahan</td>\n",
              "      <td>Tol Cimaci Segera Beroperasi, Harvest City Res...</td>\n",
              "      <td>JAKARTA, KOMPAS.com - Dengan tingginya angka k...</td>\n",
              "      <td>jakarta, kompas.com - dengan tingginya angka k...</td>\n",
              "      <td>jakarta, kompas.com - dengan tingginya angka k...</td>\n",
              "      <td>jakarta kompas com   dengan tingginya angka ke...</td>\n",
              "    </tr>\n",
              "    <tr>\n",
              "      <th>4</th>\n",
              "      <td>Infrastruktur, Pembangunan dan Perumahan</td>\n",
              "      <td>Pj Gubernur Banten Al Muktabar Raih Ekbispar A...</td>\n",
              "      <td>KOMPAS.com - Penjabat (Pj) Gubernur Banten Al ...</td>\n",
              "      <td>kompas.com - penjabat (pj) gubernur banten al ...</td>\n",
              "      <td>kompas.com - penjabat (pj) gubernur banten al ...</td>\n",
              "      <td>kompas com   penjabat pj gubernur banten al mu...</td>\n",
              "    </tr>\n",
              "  </tbody>\n",
              "</table>\n",
              "</div>\n",
              "    <div class=\"colab-df-buttons\">\n",
              "\n",
              "  <div class=\"colab-df-container\">\n",
              "    <button class=\"colab-df-convert\" onclick=\"convertToInteractive('df-2f84a62a-6c6e-4c6a-8303-cdc41b08dc72')\"\n",
              "            title=\"Convert this dataframe to an interactive table.\"\n",
              "            style=\"display:none;\">\n",
              "\n",
              "  <svg xmlns=\"http://www.w3.org/2000/svg\" height=\"24px\" viewBox=\"0 -960 960 960\">\n",
              "    <path d=\"M120-120v-720h720v720H120Zm60-500h600v-160H180v160Zm220 220h160v-160H400v160Zm0 220h160v-160H400v160ZM180-400h160v-160H180v160Zm440 0h160v-160H620v160ZM180-180h160v-160H180v160Zm440 0h160v-160H620v160Z\"/>\n",
              "  </svg>\n",
              "    </button>\n",
              "\n",
              "  <style>\n",
              "    .colab-df-container {\n",
              "      display:flex;\n",
              "      gap: 12px;\n",
              "    }\n",
              "\n",
              "    .colab-df-convert {\n",
              "      background-color: #E8F0FE;\n",
              "      border: none;\n",
              "      border-radius: 50%;\n",
              "      cursor: pointer;\n",
              "      display: none;\n",
              "      fill: #1967D2;\n",
              "      height: 32px;\n",
              "      padding: 0 0 0 0;\n",
              "      width: 32px;\n",
              "    }\n",
              "\n",
              "    .colab-df-convert:hover {\n",
              "      background-color: #E2EBFA;\n",
              "      box-shadow: 0px 1px 2px rgba(60, 64, 67, 0.3), 0px 1px 3px 1px rgba(60, 64, 67, 0.15);\n",
              "      fill: #174EA6;\n",
              "    }\n",
              "\n",
              "    .colab-df-buttons div {\n",
              "      margin-bottom: 4px;\n",
              "    }\n",
              "\n",
              "    [theme=dark] .colab-df-convert {\n",
              "      background-color: #3B4455;\n",
              "      fill: #D2E3FC;\n",
              "    }\n",
              "\n",
              "    [theme=dark] .colab-df-convert:hover {\n",
              "      background-color: #434B5C;\n",
              "      box-shadow: 0px 1px 3px 1px rgba(0, 0, 0, 0.15);\n",
              "      filter: drop-shadow(0px 1px 2px rgba(0, 0, 0, 0.3));\n",
              "      fill: #FFFFFF;\n",
              "    }\n",
              "  </style>\n",
              "\n",
              "    <script>\n",
              "      const buttonEl =\n",
              "        document.querySelector('#df-2f84a62a-6c6e-4c6a-8303-cdc41b08dc72 button.colab-df-convert');\n",
              "      buttonEl.style.display =\n",
              "        google.colab.kernel.accessAllowed ? 'block' : 'none';\n",
              "\n",
              "      async function convertToInteractive(key) {\n",
              "        const element = document.querySelector('#df-2f84a62a-6c6e-4c6a-8303-cdc41b08dc72');\n",
              "        const dataTable =\n",
              "          await google.colab.kernel.invokeFunction('convertToInteractive',\n",
              "                                                    [key], {});\n",
              "        if (!dataTable) return;\n",
              "\n",
              "        const docLinkHtml = 'Like what you see? Visit the ' +\n",
              "          '<a target=\"_blank\" href=https://colab.research.google.com/notebooks/data_table.ipynb>data table notebook</a>'\n",
              "          + ' to learn more about interactive tables.';\n",
              "        element.innerHTML = '';\n",
              "        dataTable['output_type'] = 'display_data';\n",
              "        await google.colab.output.renderOutput(dataTable, element);\n",
              "        const docLink = document.createElement('div');\n",
              "        docLink.innerHTML = docLinkHtml;\n",
              "        element.appendChild(docLink);\n",
              "      }\n",
              "    </script>\n",
              "  </div>\n",
              "\n",
              "\n",
              "<div id=\"df-16f73d23-91e3-4fae-82d0-b1d741f1ca7c\">\n",
              "  <button class=\"colab-df-quickchart\" onclick=\"quickchart('df-16f73d23-91e3-4fae-82d0-b1d741f1ca7c')\"\n",
              "            title=\"Suggest charts\"\n",
              "            style=\"display:none;\">\n",
              "\n",
              "<svg xmlns=\"http://www.w3.org/2000/svg\" height=\"24px\"viewBox=\"0 0 24 24\"\n",
              "     width=\"24px\">\n",
              "    <g>\n",
              "        <path d=\"M19 3H5c-1.1 0-2 .9-2 2v14c0 1.1.9 2 2 2h14c1.1 0 2-.9 2-2V5c0-1.1-.9-2-2-2zM9 17H7v-7h2v7zm4 0h-2V7h2v10zm4 0h-2v-4h2v4z\"/>\n",
              "    </g>\n",
              "</svg>\n",
              "  </button>\n",
              "\n",
              "<style>\n",
              "  .colab-df-quickchart {\n",
              "      --bg-color: #E8F0FE;\n",
              "      --fill-color: #1967D2;\n",
              "      --hover-bg-color: #E2EBFA;\n",
              "      --hover-fill-color: #174EA6;\n",
              "      --disabled-fill-color: #AAA;\n",
              "      --disabled-bg-color: #DDD;\n",
              "  }\n",
              "\n",
              "  [theme=dark] .colab-df-quickchart {\n",
              "      --bg-color: #3B4455;\n",
              "      --fill-color: #D2E3FC;\n",
              "      --hover-bg-color: #434B5C;\n",
              "      --hover-fill-color: #FFFFFF;\n",
              "      --disabled-bg-color: #3B4455;\n",
              "      --disabled-fill-color: #666;\n",
              "  }\n",
              "\n",
              "  .colab-df-quickchart {\n",
              "    background-color: var(--bg-color);\n",
              "    border: none;\n",
              "    border-radius: 50%;\n",
              "    cursor: pointer;\n",
              "    display: none;\n",
              "    fill: var(--fill-color);\n",
              "    height: 32px;\n",
              "    padding: 0;\n",
              "    width: 32px;\n",
              "  }\n",
              "\n",
              "  .colab-df-quickchart:hover {\n",
              "    background-color: var(--hover-bg-color);\n",
              "    box-shadow: 0 1px 2px rgba(60, 64, 67, 0.3), 0 1px 3px 1px rgba(60, 64, 67, 0.15);\n",
              "    fill: var(--button-hover-fill-color);\n",
              "  }\n",
              "\n",
              "  .colab-df-quickchart-complete:disabled,\n",
              "  .colab-df-quickchart-complete:disabled:hover {\n",
              "    background-color: var(--disabled-bg-color);\n",
              "    fill: var(--disabled-fill-color);\n",
              "    box-shadow: none;\n",
              "  }\n",
              "\n",
              "  .colab-df-spinner {\n",
              "    border: 2px solid var(--fill-color);\n",
              "    border-color: transparent;\n",
              "    border-bottom-color: var(--fill-color);\n",
              "    animation:\n",
              "      spin 1s steps(1) infinite;\n",
              "  }\n",
              "\n",
              "  @keyframes spin {\n",
              "    0% {\n",
              "      border-color: transparent;\n",
              "      border-bottom-color: var(--fill-color);\n",
              "      border-left-color: var(--fill-color);\n",
              "    }\n",
              "    20% {\n",
              "      border-color: transparent;\n",
              "      border-left-color: var(--fill-color);\n",
              "      border-top-color: var(--fill-color);\n",
              "    }\n",
              "    30% {\n",
              "      border-color: transparent;\n",
              "      border-left-color: var(--fill-color);\n",
              "      border-top-color: var(--fill-color);\n",
              "      border-right-color: var(--fill-color);\n",
              "    }\n",
              "    40% {\n",
              "      border-color: transparent;\n",
              "      border-right-color: var(--fill-color);\n",
              "      border-top-color: var(--fill-color);\n",
              "    }\n",
              "    60% {\n",
              "      border-color: transparent;\n",
              "      border-right-color: var(--fill-color);\n",
              "    }\n",
              "    80% {\n",
              "      border-color: transparent;\n",
              "      border-right-color: var(--fill-color);\n",
              "      border-bottom-color: var(--fill-color);\n",
              "    }\n",
              "    90% {\n",
              "      border-color: transparent;\n",
              "      border-bottom-color: var(--fill-color);\n",
              "    }\n",
              "  }\n",
              "</style>\n",
              "\n",
              "  <script>\n",
              "    async function quickchart(key) {\n",
              "      const quickchartButtonEl =\n",
              "        document.querySelector('#' + key + ' button');\n",
              "      quickchartButtonEl.disabled = true;  // To prevent multiple clicks.\n",
              "      quickchartButtonEl.classList.add('colab-df-spinner');\n",
              "      try {\n",
              "        const charts = await google.colab.kernel.invokeFunction(\n",
              "            'suggestCharts', [key], {});\n",
              "      } catch (error) {\n",
              "        console.error('Error during call to suggestCharts:', error);\n",
              "      }\n",
              "      quickchartButtonEl.classList.remove('colab-df-spinner');\n",
              "      quickchartButtonEl.classList.add('colab-df-quickchart-complete');\n",
              "    }\n",
              "    (() => {\n",
              "      let quickchartButtonEl =\n",
              "        document.querySelector('#df-16f73d23-91e3-4fae-82d0-b1d741f1ca7c button');\n",
              "      quickchartButtonEl.style.display =\n",
              "        google.colab.kernel.accessAllowed ? 'block' : 'none';\n",
              "    })();\n",
              "  </script>\n",
              "</div>\n",
              "    </div>\n",
              "  </div>\n"
            ],
            "application/vnd.google.colaboratory.intrinsic+json": {
              "type": "dataframe",
              "variable_name": "df",
              "summary": "{\n  \"name\": \"df\",\n  \"rows\": 149,\n  \"fields\": [\n    {\n      \"column\": \"topic\",\n      \"properties\": {\n        \"dtype\": \"category\",\n        \"num_unique_values\": 8,\n        \"samples\": [\n          \"Pendidikan\",\n          \"Keamanan dan Layanan Publik\",\n          \"Infrastruktur, Pembangunan dan Perumahan\"\n        ],\n        \"semantic_type\": \"\",\n        \"description\": \"\"\n      }\n    },\n    {\n      \"column\": \"title\",\n      \"properties\": {\n        \"dtype\": \"string\",\n        \"num_unique_values\": 149,\n        \"samples\": [\n          \"Wartawan Banggai dan Kasat Intel Polres Banggai Bersatu dalam Aksi Jumat Berkah,Bagikan Nasi Kotak di Luwuk Selatan\",\n          \"Terapkan Prinsip Keberlanjutan, Dunlop Peduli Lingkungan\",\n          \"Film Horor \\u201cPiara Mayat\\u201d, \\u00a0Kreativitas Anak Muda Banggai Mengukir Jejak di Dunia Sinematografi\"\n        ],\n        \"semantic_type\": \"\",\n        \"description\": \"\"\n      }\n    },\n    {\n      \"column\": \"text\",\n      \"properties\": {\n        \"dtype\": \"string\",\n        \"num_unique_values\": 147,\n        \"samples\": [\n          \"KABAR LUWUK \\u2013Perekaman Biometrik WBPTanpa E-KTP di Banggai, Upaya Kalapas untukHak Pilih 2024.Kegiatan pengambilan data biometrik untuk narapidana tanpa E-KTP di Lapas Banggai menjadi langkah strategis hasil koordinasi antaraKalapasdan DisdukcapilKabupaten Banggai. Jum,at  8/12/2023.Kegiatan ini, yang melibatkanKasi Pelayanan Pendaftaran, Kasi Pendataan Penduduk, dan Kasi Pengelolaan Data dariDisdukcapil Banggai,dilaksanakan dengan tujuanpenerbitan E-KTPguna memenuhi syarat hak pilih wargabinaan pada Pemilu 2024.Perekaman biometrik dipimpin oleh Muzaimah G Tompe, S. sos (Kasi Pelayanan Pendaftaran), Tri Ningsih Hadiprawoto SE (Kasi Pendataan Penduduk), dan Jefri Kasim, SE (Kasi Pengelolaan Data) beserta staf.Mereka berfokus pada narapidana yang belum memiliki E-KTP, dengan harapan setiap wargabinaan dapat menggunakan hak pilihnya pada saat Pemilu tahun 2024.Kepala Lembaga Pemasyarakatan Kelas IIB Luwuk,  Efendi Wahyudi  mengatakan bahwa  kegiatan tersebut langsung diipantau, yang didampingi oleh Kasi Binapigiatja dan staf registrasi.Tujuan pemantauan ini tidak hanya untuk memastikan kelancaran pengambilan data dan perekaman biometrik, tetapi juga untuk memastikan bahwa setiap wargabinaan memiliki akses penuh untuk menggunakan hak pilihnya pada Pemilu mendatang.Ujarnyanya.Kata Kalapas Luwuk  kegiatan ini  sebagai tindak lanjut, sehingga kami akan  laporkan kegiatan ini kepada Kakanwil Kemenkumham Sulawesi Tengah melalui Kepala Divisi Pemasyarakatan.Apresiasi juga diberikan kepada seluruh petugas yang telah menjaga keamanan dan ketertiban selama pelaksanaan kegiatan ini.Dengan adanya kegiatan ini, diharapkan bahwa narapidana yang belum memiliki E-KTP dapat segera memenuhi syarat pemilu dan berpartisipasi aktif dalam demokrasi pada tahun 2024.**\",\n          \"BERITABANGGAI.COM, LUWUK \\u2013Ini adalah kabar gembira bagi masyarakat Kabupaten Banggai. Telah hadir di kota Luwuk, MODENA, merek penyedia peralatan rumah tangga yang telah dipercaya selama lebih dari empat dekade oleh masyarakat Indonesia.MODENA Secara resmi membuka Modena Home Center (MHC) pertama di kota Luwuk, pada Sabtu, (16/12/2023). Ini merupakan Modena Home Center pertama yang dibuka di kota Luwuk yang berlokasi di Jalan Samratulangi Kelurahan Soho, tepatnya di depan SDN 1 Luwuk.Pembukaan MHC ini merupakan langkah ekspansi bagi MODENA untuk konsumen di kawasan Indonesia Tengah dalam menyediakan produk-produk solusi rumah tangga pintar dan inovatif di seluruh Indonesia.MODENA secara resmi membuka Modena Home Center Pertama di LuwukYunanto Sirin, selaku Franchise Acquisition Manager MODENA, menjelaskan \\u201cMODENA Home Center Luwuk adalah MODENA Home Center pertama kami yang hadir di Luwuk.\\u201cAlasan kami untuk melakukan ekspansi melalui dibukanya MHC di kota Luwuk, tentunya kami melihat perkembangan dari sektor ekonomi dan pariwisata yang signifikan. Dengan pertumbuhan tersebut, tentunya kebutuhan akan produk-produk home appliances pun pasti meningkat,\\u201d katanya.Oleh karena itu, hari ini secara resmi hadir MHC hadir di kota Luwuk untuk menawarkan produk-produk solusi rumah tangga pintar dan inovatif sehingga dapat membantu memberikan kemudahan bagi masyarakat dalam menjalani aktivitas setiap hari.Dalam perjalanannya sepanjang tahun 2023, MODENA telah membuka lebih banyak Home Center di sejumlah kota besar di Indonesia. Hal ini merupayakan upaya MODENA untuk membawa solusi rumah tangga inovatifnya semakin dekat dengan masyarakat.Selain itu, hadirnya MODENA Home Center juga memberi kesempatan bagi pelanggan untuk merasakan pengalaman langsung menggunakan produk MODENA. Hingga Desember 2023, MODENA telah hadir di 51 titik yang tersebar di seluruh Indonesia, dan masih akan terus bertambah hingga akhir tahun 2023 ini.Khairul Fahmi Lubis selaku Regional Branches Business Development Senior Manager MODENA bagian Timur menambahkan, MHC bukan hanya sekedar showroom untuk menampilkan berbagai koleksi produk kami yang berkualitas.\\u201cDisini, kami juga menghadirkan pengalaman terbaik bagi para customer ketika mereka berkunjung mencari produk, dimulai dari proses memilih, mencoba, hingga akhirnya membeli produk,\\u201d katanya.Tak hanya itu pengalaman after sales yang kami berikan pun begitu mudah dan nyaman, hanya dengan menghubungi atau mengunjungi kami untuk bantuan lebih lanjut.MODENA Home Center memiliki moto 3S, Sales, Service Point, & Spare Part. Konsistensi MODENA dalam memberikan pengalaman terbaiknya bagi para costumer juga diperlihatkan dengan hadirnya MODENA Expert, sales representative dengan pengetahuan menyeluruh seputar produk di setiap MODENA Home Center untuk membantu pelanggan dengan segala kebutuhan dan pertanyaan terkait produk.Jika membutuhkan aksesoris atau spare parts produk, pelanggan bisa mendapatkannya disini. Begitu pun jika produk membutuhkan maintenance dari teknisi ahli, pelanggan dapat mengantarkan produknya ke MODENA Home Center untuk diteruskan ke service center terdekat.Pembukaan MODENA Home Center Luwuk juga diramaikan dengan sejumlah promo eksklusif yang berlaku selama periode Grand Opening berlangsung. Untuk informasi terkini seputar produk, penawaran menarik, serta tips dan trik sehari-hari dari MODENA bisa dilihat melalui akun Instagram @modenaindonesia dan website modena.com.Modena Home Center secara resmi telah hadir di Kota LuwukSekedar diketahui, MODENA adalah merek global consumer electronics ternama yang didirikan sejak tahun 1960-an di Italia Utara. Sejak tahun 1980-an, MODENA telah melakukan pergeseran strategis operasionalnya ke benua Asia.Jajaran produk MODENA meliputi Home, Professional, Tech, Health, Mobility, dan Energy didukung oleh studio desain yang inovatif di Italia dan pusat R&D yang terdapat di berbagai belahan dunia.Produk-produk MODENA diproduksi di berbagai negara antara lain Italia, China, Belarus, Mesir, Uzbekistan, Vietnam, dan Indonesia di bawah sertifikasi dan sistem manajemen kualitas bertaraf internasional.Visi MODENA saat ini adalah untuk menjadi penggerak menuju sebuah dunia yang terinterkoneksi. Lini produk MODENA yang terus berkembang diciptakan dengan semangat untuk mempertegas pengalaman manusia.Diciptakan dengan desain modern dan teknologi terkini seperti Internet of Things (IoT), merupakan bentuk komitmen MODENA untuk terus berjuang menghadirkan inovasi produk yang terinterkoneksi secara cerdas kepada para konsumen. (*)(bb/05)\",\n          \"KABAR LUWUK  \\u2013  Koramil 1308-01/Luwuk melaksanakan kegiatan patroli intensif menggunakan kendaraan motor dinas.Kegiatan ini dilakukan dalam rangka memonitor dan menjaga keamanan serta ketertiban di wilayah binaan Koramil tersebut.Danramil 1308-01/Luwuk, Letda Inf Romel Kamea, memimpin langsung kegiatan patroli ini yang melibatkan anggota Koramil 1308-01/Luwuk. Sabtu, 2 Desember 2023, pukul 21.00 WITA.Rangkaian kegiatan dimulai dengan apel pengecekan personil pada pukul 23.30 WITA, sebagai persiapan sebelum melaksanakan patroli. Pada pukul 21.50 WITA, anggota patroli melaksanakan kegiatan patroli dengan rute yang melibatkan sejumlah lokasi strategis di wilayah Luwuk.Beberapa tempat yang menjadi fokus patroli antara lain Tempat Hiburan Malam, D\\u2019Club, Bukit Halimun, Happy Pappy, Kelurahan Maahas, NAV Kelurahan Luwuk, Kelurahan Karaton, RTH, Lalong, Wisata KM 5, Jalan Rajawali, Jalan Garuda, Puncak Keles, dan Kecamatan Luwuk Timur.Kegiatan patroli ini dilakukan secara terus-menerus di wilayah teritorial Koramil 1308-01/Luwuk dengan tujuan untuk menjamin agar situasi tetap aman dan kondusif.Personil yang terlibat dalam kegiatan patroli melibatkan Danramil 1308-01/Luwuk, Letda Inf Romel Kamea, serta anggota Koramil 1308-01/Luwuk lainnya.Dengan adanya kegiatan patroli ini, diharapkan dapat memberikan rasa aman kepada masyarakat Luwuk serta mencegah potensi gangguan kamtibmas di wilayah tersebut.Koramil 1308-01/Luwuk terus berkomitmen untuk menjaga keamanan dan ketertiban demi kesejahteraan bersama. **\"\n        ],\n        \"semantic_type\": \"\",\n        \"description\": \"\"\n      }\n    },\n    {\n      \"column\": \"lwr\",\n      \"properties\": {\n        \"dtype\": \"string\",\n        \"num_unique_values\": 147,\n        \"samples\": [\n          \"kabar luwuk \\u2013perekaman biometrik wbptanpa e-ktp di banggai, upaya kalapas untukhak pilih 2024.kegiatan pengambilan data biometrik untuk narapidana tanpa e-ktp di lapas banggai menjadi langkah strategis hasil koordinasi antarakalapasdan disdukcapilkabupaten banggai. jum,at  8/12/2023.kegiatan ini, yang melibatkankasi pelayanan pendaftaran, kasi pendataan penduduk, dan kasi pengelolaan data daridisdukcapil banggai,dilaksanakan dengan tujuanpenerbitan e-ktpguna memenuhi syarat hak pilih wargabinaan pada pemilu 2024.perekaman biometrik dipimpin oleh muzaimah g tompe, s. sos (kasi pelayanan pendaftaran), tri ningsih hadiprawoto se (kasi pendataan penduduk), dan jefri kasim, se (kasi pengelolaan data) beserta staf.mereka berfokus pada narapidana yang belum memiliki e-ktp, dengan harapan setiap wargabinaan dapat menggunakan hak pilihnya pada saat pemilu tahun 2024.kepala lembaga pemasyarakatan kelas iib luwuk,  efendi wahyudi  mengatakan bahwa  kegiatan tersebut langsung diipantau, yang didampingi oleh kasi binapigiatja dan staf registrasi.tujuan pemantauan ini tidak hanya untuk memastikan kelancaran pengambilan data dan perekaman biometrik, tetapi juga untuk memastikan bahwa setiap wargabinaan memiliki akses penuh untuk menggunakan hak pilihnya pada pemilu mendatang.ujarnyanya.kata kalapas luwuk  kegiatan ini  sebagai tindak lanjut, sehingga kami akan  laporkan kegiatan ini kepada kakanwil kemenkumham sulawesi tengah melalui kepala divisi pemasyarakatan.apresiasi juga diberikan kepada seluruh petugas yang telah menjaga keamanan dan ketertiban selama pelaksanaan kegiatan ini.dengan adanya kegiatan ini, diharapkan bahwa narapidana yang belum memiliki e-ktp dapat segera memenuhi syarat pemilu dan berpartisipasi aktif dalam demokrasi pada tahun 2024.**\",\n          \"beritabanggai.com, luwuk \\u2013ini adalah kabar gembira bagi masyarakat kabupaten banggai. telah hadir di kota luwuk, modena, merek penyedia peralatan rumah tangga yang telah dipercaya selama lebih dari empat dekade oleh masyarakat indonesia.modena secara resmi membuka modena home center (mhc) pertama di kota luwuk, pada sabtu, (16/12/2023). ini merupakan modena home center pertama yang dibuka di kota luwuk yang berlokasi di jalan samratulangi kelurahan soho, tepatnya di depan sdn 1 luwuk.pembukaan mhc ini merupakan langkah ekspansi bagi modena untuk konsumen di kawasan indonesia tengah dalam menyediakan produk-produk solusi rumah tangga pintar dan inovatif di seluruh indonesia.modena secara resmi membuka modena home center pertama di luwukyunanto sirin, selaku franchise acquisition manager modena, menjelaskan \\u201cmodena home center luwuk adalah modena home center pertama kami yang hadir di luwuk.\\u201calasan kami untuk melakukan ekspansi melalui dibukanya mhc di kota luwuk, tentunya kami melihat perkembangan dari sektor ekonomi dan pariwisata yang signifikan. dengan pertumbuhan tersebut, tentunya kebutuhan akan produk-produk home appliances pun pasti meningkat,\\u201d katanya.oleh karena itu, hari ini secara resmi hadir mhc hadir di kota luwuk untuk menawarkan produk-produk solusi rumah tangga pintar dan inovatif sehingga dapat membantu memberikan kemudahan bagi masyarakat dalam menjalani aktivitas setiap hari.dalam perjalanannya sepanjang tahun 2023, modena telah membuka lebih banyak home center di sejumlah kota besar di indonesia. hal ini merupayakan upaya modena untuk membawa solusi rumah tangga inovatifnya semakin dekat dengan masyarakat.selain itu, hadirnya modena home center juga memberi kesempatan bagi pelanggan untuk merasakan pengalaman langsung menggunakan produk modena. hingga desember 2023, modena telah hadir di 51 titik yang tersebar di seluruh indonesia, dan masih akan terus bertambah hingga akhir tahun 2023 ini.khairul fahmi lubis selaku regional branches business development senior manager modena bagian timur menambahkan, mhc bukan hanya sekedar showroom untuk menampilkan berbagai koleksi produk kami yang berkualitas.\\u201cdisini, kami juga menghadirkan pengalaman terbaik bagi para customer ketika mereka berkunjung mencari produk, dimulai dari proses memilih, mencoba, hingga akhirnya membeli produk,\\u201d katanya.tak hanya itu pengalaman after sales yang kami berikan pun begitu mudah dan nyaman, hanya dengan menghubungi atau mengunjungi kami untuk bantuan lebih lanjut.modena home center memiliki moto 3s, sales, service point, & spare part. konsistensi modena dalam memberikan pengalaman terbaiknya bagi para costumer juga diperlihatkan dengan hadirnya modena expert, sales representative dengan pengetahuan menyeluruh seputar produk di setiap modena home center untuk membantu pelanggan dengan segala kebutuhan dan pertanyaan terkait produk.jika membutuhkan aksesoris atau spare parts produk, pelanggan bisa mendapatkannya disini. begitu pun jika produk membutuhkan maintenance dari teknisi ahli, pelanggan dapat mengantarkan produknya ke modena home center untuk diteruskan ke service center terdekat.pembukaan modena home center luwuk juga diramaikan dengan sejumlah promo eksklusif yang berlaku selama periode grand opening berlangsung. untuk informasi terkini seputar produk, penawaran menarik, serta tips dan trik sehari-hari dari modena bisa dilihat melalui akun instagram @modenaindonesia dan website modena.com.modena home center secara resmi telah hadir di kota luwuksekedar diketahui, modena adalah merek global consumer electronics ternama yang didirikan sejak tahun 1960-an di italia utara. sejak tahun 1980-an, modena telah melakukan pergeseran strategis operasionalnya ke benua asia.jajaran produk modena meliputi home, professional, tech, health, mobility, dan energy didukung oleh studio desain yang inovatif di italia dan pusat r&d yang terdapat di berbagai belahan dunia.produk-produk modena diproduksi di berbagai negara antara lain italia, china, belarus, mesir, uzbekistan, vietnam, dan indonesia di bawah sertifikasi dan sistem manajemen kualitas bertaraf internasional.visi modena saat ini adalah untuk menjadi penggerak menuju sebuah dunia yang terinterkoneksi. lini produk modena yang terus berkembang diciptakan dengan semangat untuk mempertegas pengalaman manusia.diciptakan dengan desain modern dan teknologi terkini seperti internet of things (iot), merupakan bentuk komitmen modena untuk terus berjuang menghadirkan inovasi produk yang terinterkoneksi secara cerdas kepada para konsumen. (*)(bb/05)\",\n          \"kabar luwuk  \\u2013  koramil 1308-01/luwuk melaksanakan kegiatan patroli intensif menggunakan kendaraan motor dinas.kegiatan ini dilakukan dalam rangka memonitor dan menjaga keamanan serta ketertiban di wilayah binaan koramil tersebut.danramil 1308-01/luwuk, letda inf romel kamea, memimpin langsung kegiatan patroli ini yang melibatkan anggota koramil 1308-01/luwuk. sabtu, 2 desember 2023, pukul 21.00 wita.rangkaian kegiatan dimulai dengan apel pengecekan personil pada pukul 23.30 wita, sebagai persiapan sebelum melaksanakan patroli. pada pukul 21.50 wita, anggota patroli melaksanakan kegiatan patroli dengan rute yang melibatkan sejumlah lokasi strategis di wilayah luwuk.beberapa tempat yang menjadi fokus patroli antara lain tempat hiburan malam, d\\u2019club, bukit halimun, happy pappy, kelurahan maahas, nav kelurahan luwuk, kelurahan karaton, rth, lalong, wisata km 5, jalan rajawali, jalan garuda, puncak keles, dan kecamatan luwuk timur.kegiatan patroli ini dilakukan secara terus-menerus di wilayah teritorial koramil 1308-01/luwuk dengan tujuan untuk menjamin agar situasi tetap aman dan kondusif.personil yang terlibat dalam kegiatan patroli melibatkan danramil 1308-01/luwuk, letda inf romel kamea, serta anggota koramil 1308-01/luwuk lainnya.dengan adanya kegiatan patroli ini, diharapkan dapat memberikan rasa aman kepada masyarakat luwuk serta mencegah potensi gangguan kamtibmas di wilayah tersebut.koramil 1308-01/luwuk terus berkomitmen untuk menjaga keamanan dan ketertiban demi kesejahteraan bersama. **\"\n        ],\n        \"semantic_type\": \"\",\n        \"description\": \"\"\n      }\n    },\n    {\n      \"column\": \"clean_number\",\n      \"properties\": {\n        \"dtype\": \"string\",\n        \"num_unique_values\": 147,\n        \"samples\": [\n          \"kabar luwuk \\u2013perekaman biometrik wbptanpa e-ktp di banggai, upaya kalapas untukhak pilih .kegiatan pengambilan data biometrik untuk narapidana tanpa e-ktp di lapas banggai menjadi langkah strategis hasil koordinasi antarakalapasdan disdukcapilkabupaten banggai. jum,at  //.kegiatan ini, yang melibatkankasi pelayanan pendaftaran, kasi pendataan penduduk, dan kasi pengelolaan data daridisdukcapil banggai,dilaksanakan dengan tujuanpenerbitan e-ktpguna memenuhi syarat hak pilih wargabinaan pada pemilu .perekaman biometrik dipimpin oleh muzaimah g tompe, s. sos (kasi pelayanan pendaftaran), tri ningsih hadiprawoto se (kasi pendataan penduduk), dan jefri kasim, se (kasi pengelolaan data) beserta staf.mereka berfokus pada narapidana yang belum memiliki e-ktp, dengan harapan setiap wargabinaan dapat menggunakan hak pilihnya pada saat pemilu tahun .kepala lembaga pemasyarakatan kelas iib luwuk,  efendi wahyudi  mengatakan bahwa  kegiatan tersebut langsung diipantau, yang didampingi oleh kasi binapigiatja dan staf registrasi.tujuan pemantauan ini tidak hanya untuk memastikan kelancaran pengambilan data dan perekaman biometrik, tetapi juga untuk memastikan bahwa setiap wargabinaan memiliki akses penuh untuk menggunakan hak pilihnya pada pemilu mendatang.ujarnyanya.kata kalapas luwuk  kegiatan ini  sebagai tindak lanjut, sehingga kami akan  laporkan kegiatan ini kepada kakanwil kemenkumham sulawesi tengah melalui kepala divisi pemasyarakatan.apresiasi juga diberikan kepada seluruh petugas yang telah menjaga keamanan dan ketertiban selama pelaksanaan kegiatan ini.dengan adanya kegiatan ini, diharapkan bahwa narapidana yang belum memiliki e-ktp dapat segera memenuhi syarat pemilu dan berpartisipasi aktif dalam demokrasi pada tahun .**\",\n          \"beritabanggai.com, luwuk \\u2013ini adalah kabar gembira bagi masyarakat kabupaten banggai. telah hadir di kota luwuk, modena, merek penyedia peralatan rumah tangga yang telah dipercaya selama lebih dari empat dekade oleh masyarakat indonesia.modena secara resmi membuka modena home center (mhc) pertama di kota luwuk, pada sabtu, (//). ini merupakan modena home center pertama yang dibuka di kota luwuk yang berlokasi di jalan samratulangi kelurahan soho, tepatnya di depan sdn  luwuk.pembukaan mhc ini merupakan langkah ekspansi bagi modena untuk konsumen di kawasan indonesia tengah dalam menyediakan produk-produk solusi rumah tangga pintar dan inovatif di seluruh indonesia.modena secara resmi membuka modena home center pertama di luwukyunanto sirin, selaku franchise acquisition manager modena, menjelaskan \\u201cmodena home center luwuk adalah modena home center pertama kami yang hadir di luwuk.\\u201calasan kami untuk melakukan ekspansi melalui dibukanya mhc di kota luwuk, tentunya kami melihat perkembangan dari sektor ekonomi dan pariwisata yang signifikan. dengan pertumbuhan tersebut, tentunya kebutuhan akan produk-produk home appliances pun pasti meningkat,\\u201d katanya.oleh karena itu, hari ini secara resmi hadir mhc hadir di kota luwuk untuk menawarkan produk-produk solusi rumah tangga pintar dan inovatif sehingga dapat membantu memberikan kemudahan bagi masyarakat dalam menjalani aktivitas setiap hari.dalam perjalanannya sepanjang tahun , modena telah membuka lebih banyak home center di sejumlah kota besar di indonesia. hal ini merupayakan upaya modena untuk membawa solusi rumah tangga inovatifnya semakin dekat dengan masyarakat.selain itu, hadirnya modena home center juga memberi kesempatan bagi pelanggan untuk merasakan pengalaman langsung menggunakan produk modena. hingga desember , modena telah hadir di  titik yang tersebar di seluruh indonesia, dan masih akan terus bertambah hingga akhir tahun  ini.khairul fahmi lubis selaku regional branches business development senior manager modena bagian timur menambahkan, mhc bukan hanya sekedar showroom untuk menampilkan berbagai koleksi produk kami yang berkualitas.\\u201cdisini, kami juga menghadirkan pengalaman terbaik bagi para customer ketika mereka berkunjung mencari produk, dimulai dari proses memilih, mencoba, hingga akhirnya membeli produk,\\u201d katanya.tak hanya itu pengalaman after sales yang kami berikan pun begitu mudah dan nyaman, hanya dengan menghubungi atau mengunjungi kami untuk bantuan lebih lanjut.modena home center memiliki moto s, sales, service point, & spare part. konsistensi modena dalam memberikan pengalaman terbaiknya bagi para costumer juga diperlihatkan dengan hadirnya modena expert, sales representative dengan pengetahuan menyeluruh seputar produk di setiap modena home center untuk membantu pelanggan dengan segala kebutuhan dan pertanyaan terkait produk.jika membutuhkan aksesoris atau spare parts produk, pelanggan bisa mendapatkannya disini. begitu pun jika produk membutuhkan maintenance dari teknisi ahli, pelanggan dapat mengantarkan produknya ke modena home center untuk diteruskan ke service center terdekat.pembukaan modena home center luwuk juga diramaikan dengan sejumlah promo eksklusif yang berlaku selama periode grand opening berlangsung. untuk informasi terkini seputar produk, penawaran menarik, serta tips dan trik sehari-hari dari modena bisa dilihat melalui akun instagram @modenaindonesia dan website modena.com.modena home center secara resmi telah hadir di kota luwuksekedar diketahui, modena adalah merek global consumer electronics ternama yang didirikan sejak tahun -an di italia utara. sejak tahun -an, modena telah melakukan pergeseran strategis operasionalnya ke benua asia.jajaran produk modena meliputi home, professional, tech, health, mobility, dan energy didukung oleh studio desain yang inovatif di italia dan pusat r&d yang terdapat di berbagai belahan dunia.produk-produk modena diproduksi di berbagai negara antara lain italia, china, belarus, mesir, uzbekistan, vietnam, dan indonesia di bawah sertifikasi dan sistem manajemen kualitas bertaraf internasional.visi modena saat ini adalah untuk menjadi penggerak menuju sebuah dunia yang terinterkoneksi. lini produk modena yang terus berkembang diciptakan dengan semangat untuk mempertegas pengalaman manusia.diciptakan dengan desain modern dan teknologi terkini seperti internet of things (iot), merupakan bentuk komitmen modena untuk terus berjuang menghadirkan inovasi produk yang terinterkoneksi secara cerdas kepada para konsumen. (*)(bb/)\",\n          \"kabar luwuk  \\u2013  koramil -/luwuk melaksanakan kegiatan patroli intensif menggunakan kendaraan motor dinas.kegiatan ini dilakukan dalam rangka memonitor dan menjaga keamanan serta ketertiban di wilayah binaan koramil tersebut.danramil -/luwuk, letda inf romel kamea, memimpin langsung kegiatan patroli ini yang melibatkan anggota koramil -/luwuk. sabtu,  desember , pukul . wita.rangkaian kegiatan dimulai dengan apel pengecekan personil pada pukul . wita, sebagai persiapan sebelum melaksanakan patroli. pada pukul . wita, anggota patroli melaksanakan kegiatan patroli dengan rute yang melibatkan sejumlah lokasi strategis di wilayah luwuk.beberapa tempat yang menjadi fokus patroli antara lain tempat hiburan malam, d\\u2019club, bukit halimun, happy pappy, kelurahan maahas, nav kelurahan luwuk, kelurahan karaton, rth, lalong, wisata km , jalan rajawali, jalan garuda, puncak keles, dan kecamatan luwuk timur.kegiatan patroli ini dilakukan secara terus-menerus di wilayah teritorial koramil -/luwuk dengan tujuan untuk menjamin agar situasi tetap aman dan kondusif.personil yang terlibat dalam kegiatan patroli melibatkan danramil -/luwuk, letda inf romel kamea, serta anggota koramil -/luwuk lainnya.dengan adanya kegiatan patroli ini, diharapkan dapat memberikan rasa aman kepada masyarakat luwuk serta mencegah potensi gangguan kamtibmas di wilayah tersebut.koramil -/luwuk terus berkomitmen untuk menjaga keamanan dan ketertiban demi kesejahteraan bersama. **\"\n        ],\n        \"semantic_type\": \"\",\n        \"description\": \"\"\n      }\n    },\n    {\n      \"column\": \"clean_punct\",\n      \"properties\": {\n        \"dtype\": \"string\",\n        \"num_unique_values\": 147,\n        \"samples\": [\n          \"kabar luwuk  perekaman biometrik wbptanpa e ktp di banggai upaya kalapas untukhak pilih  kegiatan pengambilan data biometrik untuk narapidana tanpa e ktp di lapas banggai menjadi langkah strategis hasil koordinasi antarakalapasdan disdukcapilkabupaten banggai  jumat   kegiatan ini yang melibatkankasi pelayanan pendaftaran kasi pendataan penduduk dan kasi pengelolaan data daridisdukcapil banggaidilaksanakan dengan tujuanpenerbitan e ktpguna memenuhi syarat hak pilih wargabinaan pada pemilu  perekaman biometrik dipimpin oleh muzaimah g tompe s  sos kasi pelayanan pendaftaran tri ningsih hadiprawoto se kasi pendataan penduduk dan jefri kasim se kasi pengelolaan data beserta staf mereka berfokus pada narapidana yang belum memiliki e ktp dengan harapan setiap wargabinaan dapat menggunakan hak pilihnya pada saat pemilu tahun  kepala lembaga pemasyarakatan kelas iib luwuk  efendi wahyudi  mengatakan bahwa  kegiatan tersebut langsung diipantau yang didampingi oleh kasi binapigiatja dan staf registrasi tujuan pemantauan ini tidak hanya untuk memastikan kelancaran pengambilan data dan perekaman biometrik tetapi juga untuk memastikan bahwa setiap wargabinaan memiliki akses penuh untuk menggunakan hak pilihnya pada pemilu mendatang ujarnyanya kata kalapas luwuk  kegiatan ini  sebagai tindak lanjut sehingga kami akan  laporkan kegiatan ini kepada kakanwil kemenkumham sulawesi tengah melalui kepala divisi pemasyarakatan apresiasi juga diberikan kepada seluruh petugas yang telah menjaga keamanan dan ketertiban selama pelaksanaan kegiatan ini dengan adanya kegiatan ini diharapkan bahwa narapidana yang belum memiliki e ktp dapat segera memenuhi syarat pemilu dan berpartisipasi aktif dalam demokrasi pada tahun    \",\n          \"beritabanggai com luwuk  ini adalah kabar gembira bagi masyarakat kabupaten banggai  telah hadir di kota luwuk modena merek penyedia peralatan rumah tangga yang telah dipercaya selama lebih dari empat dekade oleh masyarakat indonesia modena secara resmi membuka modena home center mhc pertama di kota luwuk pada sabtu   ini merupakan modena home center pertama yang dibuka di kota luwuk yang berlokasi di jalan samratulangi kelurahan soho tepatnya di depan sdn  luwuk pembukaan mhc ini merupakan langkah ekspansi bagi modena untuk konsumen di kawasan indonesia tengah dalam menyediakan produk produk solusi rumah tangga pintar dan inovatif di seluruh indonesia modena secara resmi membuka modena home center pertama di luwukyunanto sirin selaku franchise acquisition manager modena menjelaskan  modena home center luwuk adalah modena home center pertama kami yang hadir di luwuk  alasan kami untuk melakukan ekspansi melalui dibukanya mhc di kota luwuk tentunya kami melihat perkembangan dari sektor ekonomi dan pariwisata yang signifikan  dengan pertumbuhan tersebut tentunya kebutuhan akan produk produk home appliances pun pasti meningkat  katanya oleh karena itu hari ini secara resmi hadir mhc hadir di kota luwuk untuk menawarkan produk produk solusi rumah tangga pintar dan inovatif sehingga dapat membantu memberikan kemudahan bagi masyarakat dalam menjalani aktivitas setiap hari dalam perjalanannya sepanjang tahun  modena telah membuka lebih banyak home center di sejumlah kota besar di indonesia  hal ini merupayakan upaya modena untuk membawa solusi rumah tangga inovatifnya semakin dekat dengan masyarakat selain itu hadirnya modena home center juga memberi kesempatan bagi pelanggan untuk merasakan pengalaman langsung menggunakan produk modena  hingga desember  modena telah hadir di  titik yang tersebar di seluruh indonesia dan masih akan terus bertambah hingga akhir tahun  ini khairul fahmi lubis selaku regional branches business development senior manager modena bagian timur menambahkan mhc bukan hanya sekedar showroom untuk menampilkan berbagai koleksi produk kami yang berkualitas  disini kami juga menghadirkan pengalaman terbaik bagi para customer ketika mereka berkunjung mencari produk dimulai dari proses memilih mencoba hingga akhirnya membeli produk  katanya tak hanya itu pengalaman after sales yang kami berikan pun begitu mudah dan nyaman hanya dengan menghubungi atau mengunjungi kami untuk bantuan lebih lanjut modena home center memiliki moto s sales service point   spare part  konsistensi modena dalam memberikan pengalaman terbaiknya bagi para costumer juga diperlihatkan dengan hadirnya modena expert sales representative dengan pengetahuan menyeluruh seputar produk di setiap modena home center untuk membantu pelanggan dengan segala kebutuhan dan pertanyaan terkait produk jika membutuhkan aksesoris atau spare parts produk pelanggan bisa mendapatkannya disini  begitu pun jika produk membutuhkan maintenance dari teknisi ahli pelanggan dapat mengantarkan produknya ke modena home center untuk diteruskan ke service center terdekat pembukaan modena home center luwuk juga diramaikan dengan sejumlah promo eksklusif yang berlaku selama periode grand opening berlangsung  untuk informasi terkini seputar produk penawaran menarik serta tips dan trik sehari hari dari modena bisa dilihat melalui akun instagram modenaindonesia dan website modena com modena home center secara resmi telah hadir di kota luwuksekedar diketahui modena adalah merek global consumer electronics ternama yang didirikan sejak tahun  an di italia utara  sejak tahun  an modena telah melakukan pergeseran strategis operasionalnya ke benua asia jajaran produk modena meliputi home professional tech health mobility dan energy didukung oleh studio desain yang inovatif di italia dan pusat r d yang terdapat di berbagai belahan dunia produk produk modena diproduksi di berbagai negara antara lain italia china belarus mesir uzbekistan vietnam dan indonesia di bawah sertifikasi dan sistem manajemen kualitas bertaraf internasional visi modena saat ini adalah untuk menjadi penggerak menuju sebuah dunia yang terinterkoneksi  lini produk modena yang terus berkembang diciptakan dengan semangat untuk mempertegas pengalaman manusia diciptakan dengan desain modern dan teknologi terkini seperti internet of things iot merupakan bentuk komitmen modena untuk terus berjuang menghadirkan inovasi produk yang terinterkoneksi secara cerdas kepada para konsumen   bb\",\n          \"kabar luwuk     koramil  luwuk melaksanakan kegiatan patroli intensif menggunakan kendaraan motor dinas kegiatan ini dilakukan dalam rangka memonitor dan menjaga keamanan serta ketertiban di wilayah binaan koramil tersebut danramil  luwuk letda inf romel kamea memimpin langsung kegiatan patroli ini yang melibatkan anggota koramil  luwuk  sabtu  desember  pukul   wita rangkaian kegiatan dimulai dengan apel pengecekan personil pada pukul   wita sebagai persiapan sebelum melaksanakan patroli  pada pukul   wita anggota patroli melaksanakan kegiatan patroli dengan rute yang melibatkan sejumlah lokasi strategis di wilayah luwuk beberapa tempat yang menjadi fokus patroli antara lain tempat hiburan malam d club bukit halimun happy pappy kelurahan maahas nav kelurahan luwuk kelurahan karaton rth lalong wisata km  jalan rajawali jalan garuda puncak keles dan kecamatan luwuk timur kegiatan patroli ini dilakukan secara terus menerus di wilayah teritorial koramil  luwuk dengan tujuan untuk menjamin agar situasi tetap aman dan kondusif personil yang terlibat dalam kegiatan patroli melibatkan danramil  luwuk letda inf romel kamea serta anggota koramil  luwuk lainnya dengan adanya kegiatan patroli ini diharapkan dapat memberikan rasa aman kepada masyarakat luwuk serta mencegah potensi gangguan kamtibmas di wilayah tersebut koramil  luwuk terus berkomitmen untuk menjaga keamanan dan ketertiban demi kesejahteraan bersama    \"\n        ],\n        \"semantic_type\": \"\",\n        \"description\": \"\"\n      }\n    }\n  ]\n}"
            }
          },
          "metadata": {},
          "execution_count": 36
        }
      ]
    },
    {
      "cell_type": "markdown",
      "metadata": {
        "id": "P1RGdnrreR9V"
      },
      "source": [
        "### Delete whitespaces"
      ]
    },
    {
      "cell_type": "code",
      "execution_count": null,
      "metadata": {
        "id": "t9ZjE6MleJmC"
      },
      "outputs": [],
      "source": [
        "def normalize_whitespace(text):\n",
        "    corrected = str(text)\n",
        "    corrected = re.sub(r\"//t\",r\"\\t\", corrected)\n",
        "    corrected = re.sub(r\"( )\\1+\",r\"\\1\", corrected)\n",
        "    corrected = re.sub(r\"(\\n)\\1+\",r\"\\1\", corrected)\n",
        "    corrected = re.sub(r\"(\\r)\\1+\",r\"\\1\", corrected)\n",
        "    corrected = re.sub(r\"(\\t)\\1+\",r\"\\1\", corrected)\n",
        "    return corrected.strip(\" \")"
      ]
    },
    {
      "cell_type": "code",
      "execution_count": null,
      "metadata": {
        "colab": {
          "base_uri": "https://localhost:8080/"
        },
        "id": "1T8BVqeTeZGX",
        "outputId": "3121b4a7-d1cc-487f-f34c-6efb59de7485"
      },
      "outputs": [
        {
          "output_type": "execute_result",
          "data": {
            "text/plain": [
              "0      jakarta kompas com warga penjaringan jakarta u...\n",
              "1      jakarta kompas com pemeliharaan jembatan amper...\n",
              "2      jakarta kompas com pt hutama karya persero men...\n",
              "3      jakarta kompas com dengan tingginya angka kebu...\n",
              "4      kompas com penjabat pj gubernur banten al mukt...\n",
              "                             ...                        \n",
              "144    kabar luwuk tim ii koramil luwukgiatpatroli ma...\n",
              "145    kabar luwuk sebuah malam yang suram melanda de...\n",
              "146    kabar luwuk kejaksaan negeri banggaidan pemeri...\n",
              "147    kabar luwuk evaluasi penyaluran bantuan sosial...\n",
              "148    kabar luwuk pemerintah kabupaten banggaigagas ...\n",
              "Name: clean_double_ws, Length: 149, dtype: object"
            ]
          },
          "metadata": {},
          "execution_count": 38
        }
      ],
      "source": [
        "df['clean_double_ws'] = df['clean_punct'].apply(normalize_whitespace)\n",
        "df['clean_double_ws']"
      ]
    },
    {
      "cell_type": "code",
      "source": [
        "df.tail()"
      ],
      "metadata": {
        "id": "WS12mtvVBUnS",
        "colab": {
          "base_uri": "https://localhost:8080/",
          "height": 379
        },
        "outputId": "edee0293-6007-4e66-971c-cfa20cbb8ca8"
      },
      "execution_count": null,
      "outputs": [
        {
          "output_type": "execute_result",
          "data": {
            "text/plain": [
              "                           topic  \\\n",
              "144  Keamanan dan Layanan Publik   \n",
              "145  Keamanan dan Layanan Publik   \n",
              "146                Ekonomi Lokal   \n",
              "147                Ekonomi Lokal   \n",
              "148                Ekonomi Lokal   \n",
              "\n",
              "                                                 title  \\\n",
              "144  Tim II Koramil 1308-01/Luwuk Giat Patroli Mala...   \n",
              "145  Kebakaran Menghanguskan Rumah Janda di Luwuk T...   \n",
              "146  Kejaksaan Negeri Banggai dan Pemerintah Kabupa...   \n",
              "147  Evaluasi Penyaluran Bantuan Sosial PKH di Bang...   \n",
              "148  Pemerintah Kabupaten Banggai Gagas Visi Bangga...   \n",
              "\n",
              "                                                  text  \\\n",
              "144  KABAR LUWUK  –Tim II Koramil 1308-01/LuwukGiat...   \n",
              "145  KABAR LUWUK  –  Sebuah malam yang suram meland...   \n",
              "146  KABAR LUWUK  –Kejaksaan Negeri Banggaidan Peme...   \n",
              "147  KABAR LUWUK –Evaluasi Penyaluran Bantuan Sosia...   \n",
              "148  KABAR LUWUK– Pemerintah Kabupaten Banggaigagas...   \n",
              "\n",
              "                                                   lwr  \\\n",
              "144  kabar luwuk  –tim ii koramil 1308-01/luwukgiat...   \n",
              "145  kabar luwuk  –  sebuah malam yang suram meland...   \n",
              "146  kabar luwuk  –kejaksaan negeri banggaidan peme...   \n",
              "147  kabar luwuk –evaluasi penyaluran bantuan sosia...   \n",
              "148  kabar luwuk– pemerintah kabupaten banggaigagas...   \n",
              "\n",
              "                                          clean_number  \\\n",
              "144  kabar luwuk  –tim ii koramil -/luwukgiatpatrol...   \n",
              "145  kabar luwuk  –  sebuah malam yang suram meland...   \n",
              "146  kabar luwuk  –kejaksaan negeri banggaidan peme...   \n",
              "147  kabar luwuk –evaluasi penyaluran bantuan sosia...   \n",
              "148  kabar luwuk– pemerintah kabupaten banggaigagas...   \n",
              "\n",
              "                                           clean_punct  \\\n",
              "144  kabar luwuk   tim ii koramil  luwukgiatpatroli...   \n",
              "145  kabar luwuk     sebuah malam yang suram meland...   \n",
              "146  kabar luwuk   kejaksaan negeri banggaidan peme...   \n",
              "147  kabar luwuk  evaluasi penyaluran bantuan sosia...   \n",
              "148  kabar luwuk  pemerintah kabupaten banggaigagas...   \n",
              "\n",
              "                                       clean_double_ws  \n",
              "144  kabar luwuk tim ii koramil luwukgiatpatroli ma...  \n",
              "145  kabar luwuk sebuah malam yang suram melanda de...  \n",
              "146  kabar luwuk kejaksaan negeri banggaidan pemeri...  \n",
              "147  kabar luwuk evaluasi penyaluran bantuan sosial...  \n",
              "148  kabar luwuk pemerintah kabupaten banggaigagas ...  "
            ],
            "text/html": [
              "\n",
              "  <div id=\"df-71f1226c-67a8-4176-8885-5e715e339fa9\" class=\"colab-df-container\">\n",
              "    <div>\n",
              "<style scoped>\n",
              "    .dataframe tbody tr th:only-of-type {\n",
              "        vertical-align: middle;\n",
              "    }\n",
              "\n",
              "    .dataframe tbody tr th {\n",
              "        vertical-align: top;\n",
              "    }\n",
              "\n",
              "    .dataframe thead th {\n",
              "        text-align: right;\n",
              "    }\n",
              "</style>\n",
              "<table border=\"1\" class=\"dataframe\">\n",
              "  <thead>\n",
              "    <tr style=\"text-align: right;\">\n",
              "      <th></th>\n",
              "      <th>topic</th>\n",
              "      <th>title</th>\n",
              "      <th>text</th>\n",
              "      <th>lwr</th>\n",
              "      <th>clean_number</th>\n",
              "      <th>clean_punct</th>\n",
              "      <th>clean_double_ws</th>\n",
              "    </tr>\n",
              "  </thead>\n",
              "  <tbody>\n",
              "    <tr>\n",
              "      <th>144</th>\n",
              "      <td>Keamanan dan Layanan Publik</td>\n",
              "      <td>Tim II Koramil 1308-01/Luwuk Giat Patroli Mala...</td>\n",
              "      <td>KABAR LUWUK  –Tim II Koramil 1308-01/LuwukGiat...</td>\n",
              "      <td>kabar luwuk  –tim ii koramil 1308-01/luwukgiat...</td>\n",
              "      <td>kabar luwuk  –tim ii koramil -/luwukgiatpatrol...</td>\n",
              "      <td>kabar luwuk   tim ii koramil  luwukgiatpatroli...</td>\n",
              "      <td>kabar luwuk tim ii koramil luwukgiatpatroli ma...</td>\n",
              "    </tr>\n",
              "    <tr>\n",
              "      <th>145</th>\n",
              "      <td>Keamanan dan Layanan Publik</td>\n",
              "      <td>Kebakaran Menghanguskan Rumah Janda di Luwuk T...</td>\n",
              "      <td>KABAR LUWUK  –  Sebuah malam yang suram meland...</td>\n",
              "      <td>kabar luwuk  –  sebuah malam yang suram meland...</td>\n",
              "      <td>kabar luwuk  –  sebuah malam yang suram meland...</td>\n",
              "      <td>kabar luwuk     sebuah malam yang suram meland...</td>\n",
              "      <td>kabar luwuk sebuah malam yang suram melanda de...</td>\n",
              "    </tr>\n",
              "    <tr>\n",
              "      <th>146</th>\n",
              "      <td>Ekonomi Lokal</td>\n",
              "      <td>Kejaksaan Negeri Banggai dan Pemerintah Kabupa...</td>\n",
              "      <td>KABAR LUWUK  –Kejaksaan Negeri Banggaidan Peme...</td>\n",
              "      <td>kabar luwuk  –kejaksaan negeri banggaidan peme...</td>\n",
              "      <td>kabar luwuk  –kejaksaan negeri banggaidan peme...</td>\n",
              "      <td>kabar luwuk   kejaksaan negeri banggaidan peme...</td>\n",
              "      <td>kabar luwuk kejaksaan negeri banggaidan pemeri...</td>\n",
              "    </tr>\n",
              "    <tr>\n",
              "      <th>147</th>\n",
              "      <td>Ekonomi Lokal</td>\n",
              "      <td>Evaluasi Penyaluran Bantuan Sosial PKH di Bang...</td>\n",
              "      <td>KABAR LUWUK –Evaluasi Penyaluran Bantuan Sosia...</td>\n",
              "      <td>kabar luwuk –evaluasi penyaluran bantuan sosia...</td>\n",
              "      <td>kabar luwuk –evaluasi penyaluran bantuan sosia...</td>\n",
              "      <td>kabar luwuk  evaluasi penyaluran bantuan sosia...</td>\n",
              "      <td>kabar luwuk evaluasi penyaluran bantuan sosial...</td>\n",
              "    </tr>\n",
              "    <tr>\n",
              "      <th>148</th>\n",
              "      <td>Ekonomi Lokal</td>\n",
              "      <td>Pemerintah Kabupaten Banggai Gagas Visi Bangga...</td>\n",
              "      <td>KABAR LUWUK– Pemerintah Kabupaten Banggaigagas...</td>\n",
              "      <td>kabar luwuk– pemerintah kabupaten banggaigagas...</td>\n",
              "      <td>kabar luwuk– pemerintah kabupaten banggaigagas...</td>\n",
              "      <td>kabar luwuk  pemerintah kabupaten banggaigagas...</td>\n",
              "      <td>kabar luwuk pemerintah kabupaten banggaigagas ...</td>\n",
              "    </tr>\n",
              "  </tbody>\n",
              "</table>\n",
              "</div>\n",
              "    <div class=\"colab-df-buttons\">\n",
              "\n",
              "  <div class=\"colab-df-container\">\n",
              "    <button class=\"colab-df-convert\" onclick=\"convertToInteractive('df-71f1226c-67a8-4176-8885-5e715e339fa9')\"\n",
              "            title=\"Convert this dataframe to an interactive table.\"\n",
              "            style=\"display:none;\">\n",
              "\n",
              "  <svg xmlns=\"http://www.w3.org/2000/svg\" height=\"24px\" viewBox=\"0 -960 960 960\">\n",
              "    <path d=\"M120-120v-720h720v720H120Zm60-500h600v-160H180v160Zm220 220h160v-160H400v160Zm0 220h160v-160H400v160ZM180-400h160v-160H180v160Zm440 0h160v-160H620v160ZM180-180h160v-160H180v160Zm440 0h160v-160H620v160Z\"/>\n",
              "  </svg>\n",
              "    </button>\n",
              "\n",
              "  <style>\n",
              "    .colab-df-container {\n",
              "      display:flex;\n",
              "      gap: 12px;\n",
              "    }\n",
              "\n",
              "    .colab-df-convert {\n",
              "      background-color: #E8F0FE;\n",
              "      border: none;\n",
              "      border-radius: 50%;\n",
              "      cursor: pointer;\n",
              "      display: none;\n",
              "      fill: #1967D2;\n",
              "      height: 32px;\n",
              "      padding: 0 0 0 0;\n",
              "      width: 32px;\n",
              "    }\n",
              "\n",
              "    .colab-df-convert:hover {\n",
              "      background-color: #E2EBFA;\n",
              "      box-shadow: 0px 1px 2px rgba(60, 64, 67, 0.3), 0px 1px 3px 1px rgba(60, 64, 67, 0.15);\n",
              "      fill: #174EA6;\n",
              "    }\n",
              "\n",
              "    .colab-df-buttons div {\n",
              "      margin-bottom: 4px;\n",
              "    }\n",
              "\n",
              "    [theme=dark] .colab-df-convert {\n",
              "      background-color: #3B4455;\n",
              "      fill: #D2E3FC;\n",
              "    }\n",
              "\n",
              "    [theme=dark] .colab-df-convert:hover {\n",
              "      background-color: #434B5C;\n",
              "      box-shadow: 0px 1px 3px 1px rgba(0, 0, 0, 0.15);\n",
              "      filter: drop-shadow(0px 1px 2px rgba(0, 0, 0, 0.3));\n",
              "      fill: #FFFFFF;\n",
              "    }\n",
              "  </style>\n",
              "\n",
              "    <script>\n",
              "      const buttonEl =\n",
              "        document.querySelector('#df-71f1226c-67a8-4176-8885-5e715e339fa9 button.colab-df-convert');\n",
              "      buttonEl.style.display =\n",
              "        google.colab.kernel.accessAllowed ? 'block' : 'none';\n",
              "\n",
              "      async function convertToInteractive(key) {\n",
              "        const element = document.querySelector('#df-71f1226c-67a8-4176-8885-5e715e339fa9');\n",
              "        const dataTable =\n",
              "          await google.colab.kernel.invokeFunction('convertToInteractive',\n",
              "                                                    [key], {});\n",
              "        if (!dataTable) return;\n",
              "\n",
              "        const docLinkHtml = 'Like what you see? Visit the ' +\n",
              "          '<a target=\"_blank\" href=https://colab.research.google.com/notebooks/data_table.ipynb>data table notebook</a>'\n",
              "          + ' to learn more about interactive tables.';\n",
              "        element.innerHTML = '';\n",
              "        dataTable['output_type'] = 'display_data';\n",
              "        await google.colab.output.renderOutput(dataTable, element);\n",
              "        const docLink = document.createElement('div');\n",
              "        docLink.innerHTML = docLinkHtml;\n",
              "        element.appendChild(docLink);\n",
              "      }\n",
              "    </script>\n",
              "  </div>\n",
              "\n",
              "\n",
              "<div id=\"df-d246a049-884d-4a0f-b9c1-9bbb703a7fd6\">\n",
              "  <button class=\"colab-df-quickchart\" onclick=\"quickchart('df-d246a049-884d-4a0f-b9c1-9bbb703a7fd6')\"\n",
              "            title=\"Suggest charts\"\n",
              "            style=\"display:none;\">\n",
              "\n",
              "<svg xmlns=\"http://www.w3.org/2000/svg\" height=\"24px\"viewBox=\"0 0 24 24\"\n",
              "     width=\"24px\">\n",
              "    <g>\n",
              "        <path d=\"M19 3H5c-1.1 0-2 .9-2 2v14c0 1.1.9 2 2 2h14c1.1 0 2-.9 2-2V5c0-1.1-.9-2-2-2zM9 17H7v-7h2v7zm4 0h-2V7h2v10zm4 0h-2v-4h2v4z\"/>\n",
              "    </g>\n",
              "</svg>\n",
              "  </button>\n",
              "\n",
              "<style>\n",
              "  .colab-df-quickchart {\n",
              "      --bg-color: #E8F0FE;\n",
              "      --fill-color: #1967D2;\n",
              "      --hover-bg-color: #E2EBFA;\n",
              "      --hover-fill-color: #174EA6;\n",
              "      --disabled-fill-color: #AAA;\n",
              "      --disabled-bg-color: #DDD;\n",
              "  }\n",
              "\n",
              "  [theme=dark] .colab-df-quickchart {\n",
              "      --bg-color: #3B4455;\n",
              "      --fill-color: #D2E3FC;\n",
              "      --hover-bg-color: #434B5C;\n",
              "      --hover-fill-color: #FFFFFF;\n",
              "      --disabled-bg-color: #3B4455;\n",
              "      --disabled-fill-color: #666;\n",
              "  }\n",
              "\n",
              "  .colab-df-quickchart {\n",
              "    background-color: var(--bg-color);\n",
              "    border: none;\n",
              "    border-radius: 50%;\n",
              "    cursor: pointer;\n",
              "    display: none;\n",
              "    fill: var(--fill-color);\n",
              "    height: 32px;\n",
              "    padding: 0;\n",
              "    width: 32px;\n",
              "  }\n",
              "\n",
              "  .colab-df-quickchart:hover {\n",
              "    background-color: var(--hover-bg-color);\n",
              "    box-shadow: 0 1px 2px rgba(60, 64, 67, 0.3), 0 1px 3px 1px rgba(60, 64, 67, 0.15);\n",
              "    fill: var(--button-hover-fill-color);\n",
              "  }\n",
              "\n",
              "  .colab-df-quickchart-complete:disabled,\n",
              "  .colab-df-quickchart-complete:disabled:hover {\n",
              "    background-color: var(--disabled-bg-color);\n",
              "    fill: var(--disabled-fill-color);\n",
              "    box-shadow: none;\n",
              "  }\n",
              "\n",
              "  .colab-df-spinner {\n",
              "    border: 2px solid var(--fill-color);\n",
              "    border-color: transparent;\n",
              "    border-bottom-color: var(--fill-color);\n",
              "    animation:\n",
              "      spin 1s steps(1) infinite;\n",
              "  }\n",
              "\n",
              "  @keyframes spin {\n",
              "    0% {\n",
              "      border-color: transparent;\n",
              "      border-bottom-color: var(--fill-color);\n",
              "      border-left-color: var(--fill-color);\n",
              "    }\n",
              "    20% {\n",
              "      border-color: transparent;\n",
              "      border-left-color: var(--fill-color);\n",
              "      border-top-color: var(--fill-color);\n",
              "    }\n",
              "    30% {\n",
              "      border-color: transparent;\n",
              "      border-left-color: var(--fill-color);\n",
              "      border-top-color: var(--fill-color);\n",
              "      border-right-color: var(--fill-color);\n",
              "    }\n",
              "    40% {\n",
              "      border-color: transparent;\n",
              "      border-right-color: var(--fill-color);\n",
              "      border-top-color: var(--fill-color);\n",
              "    }\n",
              "    60% {\n",
              "      border-color: transparent;\n",
              "      border-right-color: var(--fill-color);\n",
              "    }\n",
              "    80% {\n",
              "      border-color: transparent;\n",
              "      border-right-color: var(--fill-color);\n",
              "      border-bottom-color: var(--fill-color);\n",
              "    }\n",
              "    90% {\n",
              "      border-color: transparent;\n",
              "      border-bottom-color: var(--fill-color);\n",
              "    }\n",
              "  }\n",
              "</style>\n",
              "\n",
              "  <script>\n",
              "    async function quickchart(key) {\n",
              "      const quickchartButtonEl =\n",
              "        document.querySelector('#' + key + ' button');\n",
              "      quickchartButtonEl.disabled = true;  // To prevent multiple clicks.\n",
              "      quickchartButtonEl.classList.add('colab-df-spinner');\n",
              "      try {\n",
              "        const charts = await google.colab.kernel.invokeFunction(\n",
              "            'suggestCharts', [key], {});\n",
              "      } catch (error) {\n",
              "        console.error('Error during call to suggestCharts:', error);\n",
              "      }\n",
              "      quickchartButtonEl.classList.remove('colab-df-spinner');\n",
              "      quickchartButtonEl.classList.add('colab-df-quickchart-complete');\n",
              "    }\n",
              "    (() => {\n",
              "      let quickchartButtonEl =\n",
              "        document.querySelector('#df-d246a049-884d-4a0f-b9c1-9bbb703a7fd6 button');\n",
              "      quickchartButtonEl.style.display =\n",
              "        google.colab.kernel.accessAllowed ? 'block' : 'none';\n",
              "    })();\n",
              "  </script>\n",
              "</div>\n",
              "    </div>\n",
              "  </div>\n"
            ],
            "application/vnd.google.colaboratory.intrinsic+json": {
              "type": "dataframe",
              "summary": "{\n  \"name\": \"df\",\n  \"rows\": 5,\n  \"fields\": [\n    {\n      \"column\": \"topic\",\n      \"properties\": {\n        \"dtype\": \"category\",\n        \"num_unique_values\": 2,\n        \"samples\": [\n          \"Ekonomi Lokal\",\n          \"Keamanan dan Layanan Publik\"\n        ],\n        \"semantic_type\": \"\",\n        \"description\": \"\"\n      }\n    },\n    {\n      \"column\": \"title\",\n      \"properties\": {\n        \"dtype\": \"string\",\n        \"num_unique_values\": 5,\n        \"samples\": [\n          \"Kebakaran Menghanguskan Rumah Janda di Luwuk Timur, \\u00a0Kerugian Rp 25 Juta, Tapi Nyawa Selamat\",\n          \"Pemerintah Kabupaten Banggai Gagas Visi Banggai Emas 2045 Melalui Focus Group Discussion\"\n        ],\n        \"semantic_type\": \"\",\n        \"description\": \"\"\n      }\n    },\n    {\n      \"column\": \"text\",\n      \"properties\": {\n        \"dtype\": \"string\",\n        \"num_unique_values\": 5,\n        \"samples\": [\n          \"KABAR LUWUK  \\u2013  Sebuah malam yang suram melanda Desa Lauwon, Kecamatan Luwuk Timur, Banggai, Sabtu (9/12/2023), ketika rumah milik Wahalima (60), seorang janda, menjadi saksi kebakaran dahsyat.Api pertama kali terlihat pukul 20.45 Wita, berawal dari dapur rumah korban, seperti yang diungkapkan oleh Kapolsek Luwuk, Kompol Z. Ginoga, dengan merinci keterangan dari saksi Laako (41).Melihat kobaran api yang membesar, Laako segera berteriak meminta pertolongan warga sekitar.Dengan peralatan seadanya, masyarakat bahu membahu berusaha memadamkan api yang dengan cepat melalap rumah yang terbuat dari dinding papan dan atap rumbia tersebut.Meskipun upaya mereka keras, satu-satunya kendaraan milik korban, sepeda motor Mio Sporty, tak dapat diselamatkan dan ikut terbakar.Beruntung, Wahalima berhasil selamat tanpa mengalami cedera serius. Namun, kerugian materi diperkirakan mencapai Rp 25 Juta, seperti yang diungkapkan Kapolsek Luwuk, Kompol Ginoga.Saat ini, anggota kepolisian masih melakukan penyelidikan untuk menentukan penyebab pasti dari kebakaran tersebut.Ginoga juga mengingatkan masyarakat, terutama yang rumahnya sudah berusia, untuk lebih berhati-hati terhadap potensi kebakaran.Ia menekankan bahwa keamanan instalasi listrik harus diperhatikan, dan setelah memasak, pastikan api benar-benar padam. Wahalima, sementara itu, telah menenangkan diri di rumah salah satu kerabatnya di desa setempat. Kita berdoa agar dia dapat pulih dari kejadian tragis ini dengan cepat.**\",\n          \"KABAR LUWUK\\u2013 Pemerintah Kabupaten Banggaigagas visiBanggai Emas 2045MelaluiFocus Group Discussion.PemerintahKabupaten Banggaimelakukan langkah strategis dengan menggelar Focus Group Discussion (FGD) dalam rangka penyusunanRancangan Awal Rencana Pembangunan Jangka Panjang Daerah (RPJPD)Kabupaten Banggai Tahun 2025-2045.Kegiatan ini, yang berlangsung diRuang Rapat Pahangkabotan, Kantor Badan Perencanaan Pembangunan Daerah (Bappeda) Kabupaten Banggai pada Selasa (12/12/2023), menjadi titik awal menuju visi Banggai Emas pada tahun 2045.Proses FGD melibatkan partisipasi aktif dari berbagai pihak, mencakup lima fokus utama yang akan membentuk pijakan strategis pembangunan untuk dua dekade mendatang.Kelima poin tersebut mencakup strategi industrialisasi pertanian, perlindungan sosial dan peningkatan kesempatan kerja, pengembangan infrastruktur, peningkatan kualitas pendidikan, dan perbaikan sistem kesehatan.Bupati Banggai, Ir. H. Amirudin, MM, AIFO, dalam sambutannya menyampaikan bahwa RPJPD yang disusun bukan hanya untuk kepentingan saat ini, melainkan sebagai landasan untuk generasi mendatang.\\u201cIni untuk generasi kita kedepan, untuk pembangunan 20 tahun ke depan, sehingga siapapun yang menjadi pemimpin daerah benar-benar tahu arah dan kebijakan yang kita susun hari ini,\\u201d ujar Amirudin.Beliau juga menggarisbawahi pentingnya perencanaan komprehensif yang melibatkan visi jangka panjang.\\u201cKonsep-konsep kedepannya yang paling penting, kita harus pikirkan bahwa, Insya Allah, Kabupaten Banggai ini akan berkembang.Kita menginginkan Kabupaten Banggai ini akan menjadi ibu kota provinsi,\\u201d tambah Bupati Banggai.Gubernur Sulawesi Tengah merespons positif terhadap Dokumen Tompotika yang disampaikan oleh Bupati Banggai.\\u201cSambutan Pak Gubernur kemarin ketika saya menyampaikan Dokumen Tompotika disambut baik, dan dia berharap bahwa rumpun Banggai ini menjadi satu provinsi baru pada masa yang akan datang,\\u201d ungkap Amirudin.Dengan melibatkan berbagai stakeholder, proses penyusunan RPJPD Kabupaten Banggai akan berlanjut hingga 21 Desember 2023.Langkah ini menunjukkan komitmen Pemerintah Kabupaten Banggai untuk merancang rencana pembangunan jangka panjang yang holistik dan berkelanjutan, membawa Kabupaten Banggai menuju visi \\u201cBanggai Emas\\u201d pada tahun 2045. ( dkisp) **\"\n        ],\n        \"semantic_type\": \"\",\n        \"description\": \"\"\n      }\n    },\n    {\n      \"column\": \"lwr\",\n      \"properties\": {\n        \"dtype\": \"string\",\n        \"num_unique_values\": 5,\n        \"samples\": [\n          \"kabar luwuk  \\u2013  sebuah malam yang suram melanda desa lauwon, kecamatan luwuk timur, banggai, sabtu (9/12/2023), ketika rumah milik wahalima (60), seorang janda, menjadi saksi kebakaran dahsyat.api pertama kali terlihat pukul 20.45 wita, berawal dari dapur rumah korban, seperti yang diungkapkan oleh kapolsek luwuk, kompol z. ginoga, dengan merinci keterangan dari saksi laako (41).melihat kobaran api yang membesar, laako segera berteriak meminta pertolongan warga sekitar.dengan peralatan seadanya, masyarakat bahu membahu berusaha memadamkan api yang dengan cepat melalap rumah yang terbuat dari dinding papan dan atap rumbia tersebut.meskipun upaya mereka keras, satu-satunya kendaraan milik korban, sepeda motor mio sporty, tak dapat diselamatkan dan ikut terbakar.beruntung, wahalima berhasil selamat tanpa mengalami cedera serius. namun, kerugian materi diperkirakan mencapai rp 25 juta, seperti yang diungkapkan kapolsek luwuk, kompol ginoga.saat ini, anggota kepolisian masih melakukan penyelidikan untuk menentukan penyebab pasti dari kebakaran tersebut.ginoga juga mengingatkan masyarakat, terutama yang rumahnya sudah berusia, untuk lebih berhati-hati terhadap potensi kebakaran.ia menekankan bahwa keamanan instalasi listrik harus diperhatikan, dan setelah memasak, pastikan api benar-benar padam. wahalima, sementara itu, telah menenangkan diri di rumah salah satu kerabatnya di desa setempat. kita berdoa agar dia dapat pulih dari kejadian tragis ini dengan cepat.**\",\n          \"kabar luwuk\\u2013 pemerintah kabupaten banggaigagas visibanggai emas 2045melaluifocus group discussion.pemerintahkabupaten banggaimelakukan langkah strategis dengan menggelar focus group discussion (fgd) dalam rangka penyusunanrancangan awal rencana pembangunan jangka panjang daerah (rpjpd)kabupaten banggai tahun 2025-2045.kegiatan ini, yang berlangsung diruang rapat pahangkabotan, kantor badan perencanaan pembangunan daerah (bappeda) kabupaten banggai pada selasa (12/12/2023), menjadi titik awal menuju visi banggai emas pada tahun 2045.proses fgd melibatkan partisipasi aktif dari berbagai pihak, mencakup lima fokus utama yang akan membentuk pijakan strategis pembangunan untuk dua dekade mendatang.kelima poin tersebut mencakup strategi industrialisasi pertanian, perlindungan sosial dan peningkatan kesempatan kerja, pengembangan infrastruktur, peningkatan kualitas pendidikan, dan perbaikan sistem kesehatan.bupati banggai, ir. h. amirudin, mm, aifo, dalam sambutannya menyampaikan bahwa rpjpd yang disusun bukan hanya untuk kepentingan saat ini, melainkan sebagai landasan untuk generasi mendatang.\\u201cini untuk generasi kita kedepan, untuk pembangunan 20 tahun ke depan, sehingga siapapun yang menjadi pemimpin daerah benar-benar tahu arah dan kebijakan yang kita susun hari ini,\\u201d ujar amirudin.beliau juga menggarisbawahi pentingnya perencanaan komprehensif yang melibatkan visi jangka panjang.\\u201ckonsep-konsep kedepannya yang paling penting, kita harus pikirkan bahwa, insya allah, kabupaten banggai ini akan berkembang.kita menginginkan kabupaten banggai ini akan menjadi ibu kota provinsi,\\u201d tambah bupati banggai.gubernur sulawesi tengah merespons positif terhadap dokumen tompotika yang disampaikan oleh bupati banggai.\\u201csambutan pak gubernur kemarin ketika saya menyampaikan dokumen tompotika disambut baik, dan dia berharap bahwa rumpun banggai ini menjadi satu provinsi baru pada masa yang akan datang,\\u201d ungkap amirudin.dengan melibatkan berbagai stakeholder, proses penyusunan rpjpd kabupaten banggai akan berlanjut hingga 21 desember 2023.langkah ini menunjukkan komitmen pemerintah kabupaten banggai untuk merancang rencana pembangunan jangka panjang yang holistik dan berkelanjutan, membawa kabupaten banggai menuju visi \\u201cbanggai emas\\u201d pada tahun 2045. ( dkisp) **\"\n        ],\n        \"semantic_type\": \"\",\n        \"description\": \"\"\n      }\n    },\n    {\n      \"column\": \"clean_number\",\n      \"properties\": {\n        \"dtype\": \"string\",\n        \"num_unique_values\": 5,\n        \"samples\": [\n          \"kabar luwuk  \\u2013  sebuah malam yang suram melanda desa lauwon, kecamatan luwuk timur, banggai, sabtu (//), ketika rumah milik wahalima (), seorang janda, menjadi saksi kebakaran dahsyat.api pertama kali terlihat pukul . wita, berawal dari dapur rumah korban, seperti yang diungkapkan oleh kapolsek luwuk, kompol z. ginoga, dengan merinci keterangan dari saksi laako ().melihat kobaran api yang membesar, laako segera berteriak meminta pertolongan warga sekitar.dengan peralatan seadanya, masyarakat bahu membahu berusaha memadamkan api yang dengan cepat melalap rumah yang terbuat dari dinding papan dan atap rumbia tersebut.meskipun upaya mereka keras, satu-satunya kendaraan milik korban, sepeda motor mio sporty, tak dapat diselamatkan dan ikut terbakar.beruntung, wahalima berhasil selamat tanpa mengalami cedera serius. namun, kerugian materi diperkirakan mencapai rp  juta, seperti yang diungkapkan kapolsek luwuk, kompol ginoga.saat ini, anggota kepolisian masih melakukan penyelidikan untuk menentukan penyebab pasti dari kebakaran tersebut.ginoga juga mengingatkan masyarakat, terutama yang rumahnya sudah berusia, untuk lebih berhati-hati terhadap potensi kebakaran.ia menekankan bahwa keamanan instalasi listrik harus diperhatikan, dan setelah memasak, pastikan api benar-benar padam. wahalima, sementara itu, telah menenangkan diri di rumah salah satu kerabatnya di desa setempat. kita berdoa agar dia dapat pulih dari kejadian tragis ini dengan cepat.**\",\n          \"kabar luwuk\\u2013 pemerintah kabupaten banggaigagas visibanggai emas melaluifocus group discussion.pemerintahkabupaten banggaimelakukan langkah strategis dengan menggelar focus group discussion (fgd) dalam rangka penyusunanrancangan awal rencana pembangunan jangka panjang daerah (rpjpd)kabupaten banggai tahun -.kegiatan ini, yang berlangsung diruang rapat pahangkabotan, kantor badan perencanaan pembangunan daerah (bappeda) kabupaten banggai pada selasa (//), menjadi titik awal menuju visi banggai emas pada tahun .proses fgd melibatkan partisipasi aktif dari berbagai pihak, mencakup lima fokus utama yang akan membentuk pijakan strategis pembangunan untuk dua dekade mendatang.kelima poin tersebut mencakup strategi industrialisasi pertanian, perlindungan sosial dan peningkatan kesempatan kerja, pengembangan infrastruktur, peningkatan kualitas pendidikan, dan perbaikan sistem kesehatan.bupati banggai, ir. h. amirudin, mm, aifo, dalam sambutannya menyampaikan bahwa rpjpd yang disusun bukan hanya untuk kepentingan saat ini, melainkan sebagai landasan untuk generasi mendatang.\\u201cini untuk generasi kita kedepan, untuk pembangunan  tahun ke depan, sehingga siapapun yang menjadi pemimpin daerah benar-benar tahu arah dan kebijakan yang kita susun hari ini,\\u201d ujar amirudin.beliau juga menggarisbawahi pentingnya perencanaan komprehensif yang melibatkan visi jangka panjang.\\u201ckonsep-konsep kedepannya yang paling penting, kita harus pikirkan bahwa, insya allah, kabupaten banggai ini akan berkembang.kita menginginkan kabupaten banggai ini akan menjadi ibu kota provinsi,\\u201d tambah bupati banggai.gubernur sulawesi tengah merespons positif terhadap dokumen tompotika yang disampaikan oleh bupati banggai.\\u201csambutan pak gubernur kemarin ketika saya menyampaikan dokumen tompotika disambut baik, dan dia berharap bahwa rumpun banggai ini menjadi satu provinsi baru pada masa yang akan datang,\\u201d ungkap amirudin.dengan melibatkan berbagai stakeholder, proses penyusunan rpjpd kabupaten banggai akan berlanjut hingga  desember .langkah ini menunjukkan komitmen pemerintah kabupaten banggai untuk merancang rencana pembangunan jangka panjang yang holistik dan berkelanjutan, membawa kabupaten banggai menuju visi \\u201cbanggai emas\\u201d pada tahun . ( dkisp) **\"\n        ],\n        \"semantic_type\": \"\",\n        \"description\": \"\"\n      }\n    },\n    {\n      \"column\": \"clean_punct\",\n      \"properties\": {\n        \"dtype\": \"string\",\n        \"num_unique_values\": 5,\n        \"samples\": [\n          \"kabar luwuk     sebuah malam yang suram melanda desa lauwon kecamatan luwuk timur banggai sabtu  ketika rumah milik wahalima  seorang janda menjadi saksi kebakaran dahsyat api pertama kali terlihat pukul   wita berawal dari dapur rumah korban seperti yang diungkapkan oleh kapolsek luwuk kompol z  ginoga dengan merinci keterangan dari saksi laako  melihat kobaran api yang membesar laako segera berteriak meminta pertolongan warga sekitar dengan peralatan seadanya masyarakat bahu membahu berusaha memadamkan api yang dengan cepat melalap rumah yang terbuat dari dinding papan dan atap rumbia tersebut meskipun upaya mereka keras satu satunya kendaraan milik korban sepeda motor mio sporty tak dapat diselamatkan dan ikut terbakar beruntung wahalima berhasil selamat tanpa mengalami cedera serius  namun kerugian materi diperkirakan mencapai rp  juta seperti yang diungkapkan kapolsek luwuk kompol ginoga saat ini anggota kepolisian masih melakukan penyelidikan untuk menentukan penyebab pasti dari kebakaran tersebut ginoga juga mengingatkan masyarakat terutama yang rumahnya sudah berusia untuk lebih berhati hati terhadap potensi kebakaran ia menekankan bahwa keamanan instalasi listrik harus diperhatikan dan setelah memasak pastikan api benar benar padam  wahalima sementara itu telah menenangkan diri di rumah salah satu kerabatnya di desa setempat  kita berdoa agar dia dapat pulih dari kejadian tragis ini dengan cepat   \",\n          \"kabar luwuk  pemerintah kabupaten banggaigagas visibanggai emas melaluifocus group discussion pemerintahkabupaten banggaimelakukan langkah strategis dengan menggelar focus group discussion fgd dalam rangka penyusunanrancangan awal rencana pembangunan jangka panjang daerah rpjpdkabupaten banggai tahun   kegiatan ini yang berlangsung diruang rapat pahangkabotan kantor badan perencanaan pembangunan daerah bappeda kabupaten banggai pada selasa  menjadi titik awal menuju visi banggai emas pada tahun  proses fgd melibatkan partisipasi aktif dari berbagai pihak mencakup lima fokus utama yang akan membentuk pijakan strategis pembangunan untuk dua dekade mendatang kelima poin tersebut mencakup strategi industrialisasi pertanian perlindungan sosial dan peningkatan kesempatan kerja pengembangan infrastruktur peningkatan kualitas pendidikan dan perbaikan sistem kesehatan bupati banggai ir  h  amirudin mm aifo dalam sambutannya menyampaikan bahwa rpjpd yang disusun bukan hanya untuk kepentingan saat ini melainkan sebagai landasan untuk generasi mendatang  ini untuk generasi kita kedepan untuk pembangunan  tahun ke depan sehingga siapapun yang menjadi pemimpin daerah benar benar tahu arah dan kebijakan yang kita susun hari ini  ujar amirudin beliau juga menggarisbawahi pentingnya perencanaan komprehensif yang melibatkan visi jangka panjang  konsep konsep kedepannya yang paling penting kita harus pikirkan bahwa insya allah kabupaten banggai ini akan berkembang kita menginginkan kabupaten banggai ini akan menjadi ibu kota provinsi  tambah bupati banggai gubernur sulawesi tengah merespons positif terhadap dokumen tompotika yang disampaikan oleh bupati banggai  sambutan pak gubernur kemarin ketika saya menyampaikan dokumen tompotika disambut baik dan dia berharap bahwa rumpun banggai ini menjadi satu provinsi baru pada masa yang akan datang  ungkap amirudin dengan melibatkan berbagai stakeholder proses penyusunan rpjpd kabupaten banggai akan berlanjut hingga  desember  langkah ini menunjukkan komitmen pemerintah kabupaten banggai untuk merancang rencana pembangunan jangka panjang yang holistik dan berkelanjutan membawa kabupaten banggai menuju visi  banggai emas  pada tahun    dkisp   \"\n        ],\n        \"semantic_type\": \"\",\n        \"description\": \"\"\n      }\n    },\n    {\n      \"column\": \"clean_double_ws\",\n      \"properties\": {\n        \"dtype\": \"string\",\n        \"num_unique_values\": 5,\n        \"samples\": [\n          \"kabar luwuk sebuah malam yang suram melanda desa lauwon kecamatan luwuk timur banggai sabtu ketika rumah milik wahalima seorang janda menjadi saksi kebakaran dahsyat api pertama kali terlihat pukul wita berawal dari dapur rumah korban seperti yang diungkapkan oleh kapolsek luwuk kompol z ginoga dengan merinci keterangan dari saksi laako melihat kobaran api yang membesar laako segera berteriak meminta pertolongan warga sekitar dengan peralatan seadanya masyarakat bahu membahu berusaha memadamkan api yang dengan cepat melalap rumah yang terbuat dari dinding papan dan atap rumbia tersebut meskipun upaya mereka keras satu satunya kendaraan milik korban sepeda motor mio sporty tak dapat diselamatkan dan ikut terbakar beruntung wahalima berhasil selamat tanpa mengalami cedera serius namun kerugian materi diperkirakan mencapai rp juta seperti yang diungkapkan kapolsek luwuk kompol ginoga saat ini anggota kepolisian masih melakukan penyelidikan untuk menentukan penyebab pasti dari kebakaran tersebut ginoga juga mengingatkan masyarakat terutama yang rumahnya sudah berusia untuk lebih berhati hati terhadap potensi kebakaran ia menekankan bahwa keamanan instalasi listrik harus diperhatikan dan setelah memasak pastikan api benar benar padam wahalima sementara itu telah menenangkan diri di rumah salah satu kerabatnya di desa setempat kita berdoa agar dia dapat pulih dari kejadian tragis ini dengan cepat\",\n          \"kabar luwuk pemerintah kabupaten banggaigagas visibanggai emas melaluifocus group discussion pemerintahkabupaten banggaimelakukan langkah strategis dengan menggelar focus group discussion fgd dalam rangka penyusunanrancangan awal rencana pembangunan jangka panjang daerah rpjpdkabupaten banggai tahun kegiatan ini yang berlangsung diruang rapat pahangkabotan kantor badan perencanaan pembangunan daerah bappeda kabupaten banggai pada selasa menjadi titik awal menuju visi banggai emas pada tahun proses fgd melibatkan partisipasi aktif dari berbagai pihak mencakup lima fokus utama yang akan membentuk pijakan strategis pembangunan untuk dua dekade mendatang kelima poin tersebut mencakup strategi industrialisasi pertanian perlindungan sosial dan peningkatan kesempatan kerja pengembangan infrastruktur peningkatan kualitas pendidikan dan perbaikan sistem kesehatan bupati banggai ir h amirudin mm aifo dalam sambutannya menyampaikan bahwa rpjpd yang disusun bukan hanya untuk kepentingan saat ini melainkan sebagai landasan untuk generasi mendatang ini untuk generasi kita kedepan untuk pembangunan tahun ke depan sehingga siapapun yang menjadi pemimpin daerah benar benar tahu arah dan kebijakan yang kita susun hari ini ujar amirudin beliau juga menggarisbawahi pentingnya perencanaan komprehensif yang melibatkan visi jangka panjang konsep konsep kedepannya yang paling penting kita harus pikirkan bahwa insya allah kabupaten banggai ini akan berkembang kita menginginkan kabupaten banggai ini akan menjadi ibu kota provinsi tambah bupati banggai gubernur sulawesi tengah merespons positif terhadap dokumen tompotika yang disampaikan oleh bupati banggai sambutan pak gubernur kemarin ketika saya menyampaikan dokumen tompotika disambut baik dan dia berharap bahwa rumpun banggai ini menjadi satu provinsi baru pada masa yang akan datang ungkap amirudin dengan melibatkan berbagai stakeholder proses penyusunan rpjpd kabupaten banggai akan berlanjut hingga desember langkah ini menunjukkan komitmen pemerintah kabupaten banggai untuk merancang rencana pembangunan jangka panjang yang holistik dan berkelanjutan membawa kabupaten banggai menuju visi banggai emas pada tahun dkisp\"\n        ],\n        \"semantic_type\": \"\",\n        \"description\": \"\"\n      }\n    }\n  ]\n}"
            }
          },
          "metadata": {},
          "execution_count": 39
        }
      ]
    },
    {
      "cell_type": "markdown",
      "metadata": {
        "id": "akyZhgQzeZ8I"
      },
      "source": [
        "## Stopword Removal"
      ]
    },
    {
      "cell_type": "markdown",
      "metadata": {
        "id": "K4wdQI-SitWH"
      },
      "source": [
        "### Get custom stopwords"
      ]
    },
    {
      "cell_type": "code",
      "source": [
        "url1 = 'https://raw.githubusercontent.com/TaillessTanuki/Berita_Banggai/main/ID-stopwords_banggai_addedwords.csv'\n",
        "df_stopword1 = pd.read_csv(url1, delimiter = \";\",encoding='cp1252')"
      ],
      "metadata": {
        "id": "s67SS5SuKOxZ"
      },
      "execution_count": null,
      "outputs": []
    },
    {
      "cell_type": "code",
      "source": [
        "url2 = 'https://raw.githubusercontent.com/TaillessTanuki/Berita_Banggai/main/ID-Stopwords(MasDevid).csv'\n",
        "df_stopword2 = pd.read_csv(url2, delimiter = \";\",encoding='cp1252')"
      ],
      "metadata": {
        "id": "hAUiXJwX3wK6"
      },
      "execution_count": null,
      "outputs": []
    },
    {
      "cell_type": "code",
      "execution_count": null,
      "metadata": {
        "id": "2K7pfU2Hh9_A"
      },
      "outputs": [],
      "source": [
        "df_stopword.info()"
      ]
    },
    {
      "cell_type": "code",
      "source": [
        "df_stopword"
      ],
      "metadata": {
        "id": "-Z9dEyx8IMV9"
      },
      "execution_count": null,
      "outputs": []
    },
    {
      "cell_type": "code",
      "source": [
        "df.head()"
      ],
      "metadata": {
        "id": "l4WBm9IpPvA7"
      },
      "execution_count": null,
      "outputs": []
    },
    {
      "cell_type": "code",
      "execution_count": null,
      "metadata": {
        "id": "Ubey61YNimwt"
      },
      "outputs": [],
      "source": [
        "custom_stopword1 = list(df_stopword1['stopword'])\n",
        "custom_stopword2 = list(df_stopword2['Stopwords'])"
      ]
    },
    {
      "cell_type": "markdown",
      "metadata": {
        "id": "qjt7FLMViwiU"
      },
      "source": [
        "### Removal"
      ]
    },
    {
      "cell_type": "code",
      "execution_count": null,
      "metadata": {
        "id": "OMhxvMrpef4X"
      },
      "outputs": [],
      "source": [
        "# Prepare stopword remover\n",
        "#factory = StopWordRemoverFactory()\n",
        "#stopwords = factory.get_stop_words() + custom_stopword\n",
        "#print(stopwords)"
      ]
    },
    {
      "cell_type": "code",
      "source": [
        "# using only sastrawy\n",
        "from Sastrawi.StopWordRemover.StopWordRemoverFactory import StopWordRemoverFactory\n",
        "\n",
        "factory = StopWordRemoverFactory()\n",
        "stopwords = factory.get_stop_words() + custom_stopword1 + custom_stopword2"
      ],
      "metadata": {
        "id": "GNEVmdBq8bDz"
      },
      "execution_count": null,
      "outputs": []
    },
    {
      "cell_type": "code",
      "source": [
        "len(stopwords)"
      ],
      "metadata": {
        "colab": {
          "base_uri": "https://localhost:8080/"
        },
        "id": "j6qNtOJbuN05",
        "outputId": "91ffffbe-3666-449c-e4b6-6bfd4251ca9e"
      },
      "execution_count": null,
      "outputs": [
        {
          "output_type": "execute_result",
          "data": {
            "text/plain": [
              "946"
            ]
          },
          "metadata": {},
          "execution_count": 44
        }
      ]
    },
    {
      "cell_type": "code",
      "execution_count": null,
      "metadata": {
        "id": "ClUNuzeyjDEt"
      },
      "outputs": [],
      "source": [
        "dictionary = ArrayDictionary(stopwords)\n",
        "stopword = StopWordRemover(dictionary)\n"
      ]
    },
    {
      "cell_type": "code",
      "source": [
        "stopwords"
      ],
      "metadata": {
        "id": "FsxBlFiyPWye"
      },
      "execution_count": null,
      "outputs": []
    },
    {
      "cell_type": "code",
      "execution_count": null,
      "metadata": {
        "id": "OCny9HuTc2UR"
      },
      "outputs": [],
      "source": [
        "def filtering(text):\n",
        "  stop = stopword.remove(text)\n",
        "  return stop"
      ]
    },
    {
      "cell_type": "code",
      "source": [
        "df.head()"
      ],
      "metadata": {
        "id": "obxTS5DcMNWz"
      },
      "execution_count": null,
      "outputs": []
    },
    {
      "cell_type": "code",
      "source": [
        "#df.drop(['filtered'], axis=1, inplace=True)"
      ],
      "metadata": {
        "id": "V5pOuXg_ShOl"
      },
      "execution_count": null,
      "outputs": []
    },
    {
      "cell_type": "code",
      "execution_count": null,
      "metadata": {
        "colab": {
          "base_uri": "https://localhost:8080/"
        },
        "id": "mvjR5IBOjjq6",
        "outputId": "bcaa76ca-4e3c-4411-c5c1-fb7c3cff71c6"
      },
      "outputs": [
        {
          "output_type": "execute_result",
          "data": {
            "text/plain": [
              "0      warga penjaringan utara bernama josua yakin pe...\n",
              "1      kompas pemeliharaan jembatan ampera program pr...\n",
              "2      kompas pt hutama karya persero menerapkan tekn...\n",
              "3      kompas tingginya angka kebutuhan hunian prospe...\n",
              "4      com penjabat pj gubernur banten al muktabar me...\n",
              "                             ...                        \n",
              "144    tim ii koramil luwukgiatpatroli malam tingkatk...\n",
              "145    malam suram melanda desa lauwon kecamatan timu...\n",
              "146    luwuk kejaksaan negeri banggaidan pemerintah k...\n",
              "147    luwuk evaluasi penyaluran bantuan sosial pkh m...\n",
              "148    luwuk pemerintah banggaigagas visibanggai emas...\n",
              "Name: filtered, Length: 149, dtype: object"
            ]
          },
          "metadata": {},
          "execution_count": 47
        }
      ],
      "source": [
        "df['filtered'] = df['clean_double_ws'].apply(filtering)\n",
        "df['filtered']"
      ]
    },
    {
      "cell_type": "code",
      "source": [
        "df.head()"
      ],
      "metadata": {
        "id": "zzG-hnrhM1zj"
      },
      "execution_count": null,
      "outputs": []
    },
    {
      "cell_type": "code",
      "source": [
        "len(df)"
      ],
      "metadata": {
        "colab": {
          "base_uri": "https://localhost:8080/"
        },
        "id": "eTJ50j30NVy_",
        "outputId": "f6009808-29a2-4d35-9a7a-c495e3a0a054"
      },
      "execution_count": null,
      "outputs": [
        {
          "output_type": "execute_result",
          "data": {
            "text/plain": [
              "149"
            ]
          },
          "metadata": {},
          "execution_count": 33
        }
      ]
    },
    {
      "cell_type": "code",
      "execution_count": null,
      "metadata": {
        "colab": {
          "base_uri": "https://localhost:8080/"
        },
        "id": "oGkf3aEF1P0G",
        "outputId": "a5abc98b-78aa-4fe7-dbc3-0660aa9887c7"
      },
      "outputs": [
        {
          "output_type": "stream",
          "name": "stdout",
          "text": [
            "kabar luwuk tim inafis polres banggaiselidiki kasus pencurian di desa bubung kerugian rp juta tim indonesianautomatic fingerprints identification system inafissatreskrimpolres banggaitengah intensif melakukan penyelidikan terkait kasus pencurian yang terjadi didesa bubungkecamatan luwuk selatan kejadian tersebut diketahui pada kamis sekitar pukul wita dan dilaporkan melalui nomor laporan polisi lpbxiispktres banggaipolda sulteng kamis desember menurut keterangankasat reskrim polres banggai akp tio tondytim inafis telah melakukan olah tempat kejadian perkara tkp untuk mengumpulkan bukti dan petunjuk terkait kejadian tersebut korban atas nama arifin morintoh melaporkan kejadian tersebut pada pukul wita setelah menemukan keadaan rumahnya yang telah dirusak oleh pencuri saksi saksi yang terlibat dalam kejadian ini seperti indah permata sari morintoh memberikan keterangan bahwa saat tiba di rumahnya di desa bubung ia menemukan rumah dalam keadaan berantakan ditemukannya jendela rumah bagian samping sudah dirusak dengan cara dicungkil ujar akp tio anjas suyono penjaga rumah tersebut menjelaskan bahwa pada rabu sekitar pukul wita ia meninggalkan rumah tersebut dalam keadaan terkunci namun ia terkejut ketika indah memberitahu bahwa rumah tersebut telah menjadi sasaran pencurian akibat dari kejadian tersebut hilang unit keyboard merk yamaha dan kg kemiri dengan total kerugian kurang lebih rp juta jelas kasat tio pihak kepolisian masih terus melakukan penyelidikan untuk mengidentifikasi pelaku dan memulihkan barang barang yang hilang masyarakat diminta untuk memberikan informasi apapun yang dapat membantu penyelesaian kasus ini kepada pihak berwajib kasus pencurian ini menjadi perhatian serius tim inafis untuk mengungkap keberadaan pelaku dengan memanfaatkan teknologi canggih dan analisis forensik\n",
            "tim inafis polres banggaiselidiki pencurian desa bubung kerugian rp juta tim indonesianautomatic fingerprints identification system inafissatreskrimpolres banggaitengah intensif penyelidikan terkait pencurian terjadi didesa bubungkecamatan luwuk selatan kejadian diketahui kamis wita dilaporkan nomor polisi lpbxiispktres banggaipolda sulteng kamis desember keterangankasat reskrim polres akp tondytim inafis olah kejadian perkara tkp mengumpulkan bukti petunjuk terkait kejadian korban nama arifin morintoh melaporkan kejadian pada pukul wita menemukan rumahnya telah dirusak pencuri saksi saksi terlibat kejadian seperti indah permata sari morintoh keterangan saat rumahnya di desa bubung menemukan rumah berantakan ditemukannya jendela rumah samping dirusak cara dicungkil akp anjas suyono penjaga rumah menjelaskan pada rabu pukul wita meninggalkan rumah dalam keadaan terkunci ia terkejut indah memberitahu rumah telah sasaran pencurian akibat kejadian hilang unit keyboard merk yamaha kg kemiri total kerugian lebih rp juta kasat pihak kepolisian terus melakukan penyelidikan mengidentifikasi pelaku memulihkan barang barang hilang masyarakat informasi apapun dapat membantu penyelesaian pihak berwajib pencurian ini menjadi perhatian serius tim inafis untuk mengungkap keberadaan pelaku memanfaatkan teknologi canggih analisis forensik\n"
          ]
        }
      ],
      "source": [
        "print(df['clean_double_ws'][55])\n",
        "print(df['filtered'][55])"
      ]
    },
    {
      "cell_type": "markdown",
      "metadata": {
        "id": "csdn5fHWjv2W"
      },
      "source": [
        "## Stemming"
      ]
    },
    {
      "cell_type": "code",
      "source": [
        "from Sastrawi.Stemmer.StemmerFactory import StemmerFactory\n",
        "stem_factory = StemmerFactory()\n",
        "stemmer = stem_factory.create_stemmer()"
      ],
      "metadata": {
        "id": "SWezdKP7CWwi"
      },
      "execution_count": null,
      "outputs": []
    },
    {
      "cell_type": "code",
      "execution_count": null,
      "metadata": {
        "id": "xFrbJG4hj6Ug"
      },
      "outputs": [],
      "source": [
        "#factory = StemmerFactory()\n",
        "#stemmer = factory.create_stemmer()"
      ]
    },
    {
      "cell_type": "code",
      "execution_count": null,
      "metadata": {
        "id": "K6yEDY8TkBDG"
      },
      "outputs": [],
      "source": [
        "def stem(text):\n",
        "  return stemmer.stem(text)"
      ]
    },
    {
      "cell_type": "code",
      "source": [
        "df.head()"
      ],
      "metadata": {
        "id": "YbGrSQ2PtpCY"
      },
      "execution_count": null,
      "outputs": []
    },
    {
      "cell_type": "code",
      "execution_count": null,
      "metadata": {
        "colab": {
          "base_uri": "https://localhost:8080/"
        },
        "id": "6dY5qzIEkGZ5",
        "outputId": "b7f50519-e879-41e6-f873-ee481306b9ae"
      },
      "outputs": [
        {
          "output_type": "execute_result",
          "data": {
            "text/plain": [
              "0      warga jaring utara nama josua yakin bangun inf...\n",
              "1      kompas pelihara jembatan ampera program priori...\n",
              "2      kompas pt hutama karya persero terap teknik up...\n",
              "3      kompas tinggi angka butuh huni prospek bisnis ...\n",
              "4      com jabat pj gubernur banten al muktabar raih ...\n",
              "                             ...                        \n",
              "144    tim ii koramil luwukgiatpatroli malam tingkat ...\n",
              "145    malam suram landa desa lauwon camat timur sabt...\n",
              "146    luwuk jaksa negeri banggaidan perintah kabupat...\n",
              "147    luwuk evaluasi salur bantu sosial pkh buka aca...\n",
              "148    luwuk perintah banggaigagas visibanggai emas m...\n",
              "Name: stemmed, Length: 149, dtype: object"
            ]
          },
          "metadata": {},
          "execution_count": 52
        }
      ],
      "source": [
        "df['stemmed'] = df['filtered'].apply(stem)\n",
        "df['stemmed']"
      ]
    },
    {
      "cell_type": "code",
      "source": [
        "df.head()"
      ],
      "metadata": {
        "id": "8ZrWk5PI6PPH"
      },
      "execution_count": null,
      "outputs": []
    },
    {
      "cell_type": "markdown",
      "source": [
        "## Export df to csv (to cutting time if we want to stepback process)"
      ],
      "metadata": {
        "id": "LnldCt2zkih_"
      }
    },
    {
      "cell_type": "code",
      "execution_count": null,
      "metadata": {
        "id": "pk7M4kT2B-tx"
      },
      "outputs": [],
      "source": [
        "df.to_csv(\"stemmed_words_text_classification.csv\", index=False)"
      ]
    },
    {
      "cell_type": "markdown",
      "source": [
        "## Importing df rom csv (cutting time if we want to stepback process)"
      ],
      "metadata": {
        "id": "vZVKauuAkyDI"
      }
    },
    {
      "cell_type": "code",
      "source": [
        "# to skip stemming process\n",
        "stemmed_url= 'https://raw.githubusercontent.com/TaillessTanuki/Berita_Banggai/main/stemmed_words2_tanpa_token_stopwordk2.csv'\n",
        "\n",
        "df = pd.read_csv(stemmed_url,encoding='utf-8')\n",
        "\n",
        "df = df.astype(str)"
      ],
      "metadata": {
        "id": "fD_AgotLLULN"
      },
      "execution_count": null,
      "outputs": []
    },
    {
      "cell_type": "code",
      "source": [
        "df.head()\n"
      ],
      "metadata": {
        "id": "rnJ5jbNFL27n"
      },
      "execution_count": null,
      "outputs": []
    },
    {
      "cell_type": "code",
      "source": [
        "len(df)"
      ],
      "metadata": {
        "colab": {
          "base_uri": "https://localhost:8080/"
        },
        "id": "l-8H5udHaw3C",
        "outputId": "66bff75a-1767-4ef0-ce88-10cc25b533a3"
      },
      "execution_count": null,
      "outputs": [
        {
          "output_type": "execute_result",
          "data": {
            "text/plain": [
              "149"
            ]
          },
          "metadata": {},
          "execution_count": 40
        }
      ]
    },
    {
      "cell_type": "code",
      "execution_count": null,
      "metadata": {
        "colab": {
          "base_uri": "https://localhost:8080/"
        },
        "id": "EqJ4dCX42R0u",
        "outputId": "bea85e44-ac77-4067-8c04-f8e78f47c145"
      },
      "outputs": [
        {
          "output_type": "stream",
          "name": "stdout",
          "text": [
            "tim inafis polres banggaiselidiki pencurian desa bubung kerugian rp juta tim indonesianautomatic fingerprints identification system inafissatreskrimpolres banggaitengah intensif penyelidikan terkait pencurian terjadi didesa bubungkecamatan luwuk selatan kejadian diketahui kamis wita dilaporkan nomor polisi lpbxiispktres banggaipolda sulteng kamis desember keterangankasat reskrim polres akp tondytim inafis olah kejadian perkara tkp mengumpulkan bukti petunjuk terkait kejadian korban nama arifin morintoh melaporkan kejadian pada pukul wita menemukan rumahnya telah dirusak pencuri saksi saksi terlibat kejadian seperti indah permata sari morintoh keterangan saat rumahnya di desa bubung menemukan rumah berantakan ditemukannya jendela rumah samping dirusak cara dicungkil akp anjas suyono penjaga rumah menjelaskan pada rabu pukul wita meninggalkan rumah dalam keadaan terkunci ia terkejut indah memberitahu rumah telah sasaran pencurian akibat kejadian hilang unit keyboard merk yamaha kg kemiri total kerugian lebih rp juta kasat pihak kepolisian terus melakukan penyelidikan mengidentifikasi pelaku memulihkan barang barang hilang masyarakat informasi apapun dapat membantu penyelesaian pihak berwajib pencurian ini menjadi perhatian serius tim inafis untuk mengungkap keberadaan pelaku memanfaatkan teknologi canggih analisis forensik\n",
            "tim inafis polres banggaiselidiki curi desa bubung rugi rp juta tim indonesianautomatic fingerprints identification system inafissatreskrimpolres banggaitengah intensif lidi kait curi jadi desa bubungkecamatan luwuk selatan jadi tahu kamis wita lapor nomor polisi lpbxiispktres banggaipolda sulteng kamis desember keterangankasat reskrim polres akp tondytim inafis olah jadi perkara tkp kumpul bukti tunjuk kait jadi korban nama arifin morintoh lapor jadi pada pukul wita temu rumah telah rusak curi saksi saksi libat jadi seperti indah permata sari morintoh terang saat rumah di desa bubung temu rumah beranta temu jendela rumah samping rusak cara cungkil akp anjas suyono jaga rumah jelas pada rabu pukul wita tinggal rumah dalam ada kunci ia kejut indah memberitahu rumah telah sasar curi akibat jadi hilang unit keyboard merk yamaha kg kemiri total rugi lebih rp juta kasat pihak polisi terus laku lidi identifikasi laku pulih barang barang hilang masyarakat informasi apa dapat bantu selesai pihak wajib curi ini jadi perhati serius tim inafis untuk ungkap ada laku manfaat teknologi canggih analisis forensik\n"
          ]
        }
      ],
      "source": [
        "print(df['filtered'][55])\n",
        "print(df['stemmed'][55])"
      ]
    },
    {
      "cell_type": "code",
      "source": [
        "print(len(df['filtered'][796]))\n",
        "print(len(df['stemmed'][796]))"
      ],
      "metadata": {
        "colab": {
          "base_uri": "https://localhost:8080/"
        },
        "id": "rKFwM57jdMCK",
        "outputId": "38065d9b-2a7f-46ce-ea57-786c3ce22e95"
      },
      "execution_count": null,
      "outputs": [
        {
          "output_type": "stream",
          "name": "stdout",
          "text": [
            "1167\n",
            "990\n"
          ]
        }
      ]
    },
    {
      "cell_type": "markdown",
      "metadata": {
        "id": "KyujIEiSK3YT"
      },
      "source": [
        "## Tokenizing"
      ]
    },
    {
      "cell_type": "code",
      "execution_count": null,
      "metadata": {
        "id": "7tvlHHYOzWga"
      },
      "outputs": [],
      "source": [
        "def tokenize(text):\n",
        "  tokens = nltk.tokenize.word_tokenize(text)\n",
        "  return tokens"
      ]
    },
    {
      "cell_type": "code",
      "source": [
        "df.head()"
      ],
      "metadata": {
        "id": "edy1ud6vStPy"
      },
      "execution_count": null,
      "outputs": []
    },
    {
      "cell_type": "code",
      "execution_count": null,
      "metadata": {
        "colab": {
          "base_uri": "https://localhost:8080/"
        },
        "id": "HoQt8hoIz_v7",
        "outputId": "b7bdbb85-4708-49dc-f3ad-9041e25266dc"
      },
      "outputs": [
        {
          "output_type": "execute_result",
          "data": {
            "text/plain": [
              "0      [warga, jaring, utara, nama, josua, yakin, ban...\n",
              "1      [kompas, pelihara, jembatan, ampera, program, ...\n",
              "2      [kompas, pt, hutama, karya, persero, terap, te...\n",
              "3      [kompas, tinggi, angka, butuh, huni, prospek, ...\n",
              "4      [com, jabat, pj, gubernur, banten, al, muktaba...\n",
              "                             ...                        \n",
              "144    [tim, ii, koramil, luwukgiatpatroli, malam, ti...\n",
              "145    [malam, suram, landa, desa, lauwon, camat, tim...\n",
              "146    [luwuk, jaksa, negeri, banggaidan, perintah, k...\n",
              "147    [luwuk, evaluasi, salur, bantu, sosial, pkh, b...\n",
              "148    [luwuk, perintah, banggaigagas, visibanggai, e...\n",
              "Name: tokenized, Length: 149, dtype: object"
            ]
          },
          "metadata": {},
          "execution_count": 57
        }
      ],
      "source": [
        "df['tokenized'] = df['stemmed'].apply(tokenize)\n",
        "df['tokenized']"
      ]
    },
    {
      "cell_type": "code",
      "execution_count": null,
      "metadata": {
        "colab": {
          "base_uri": "https://localhost:8080/"
        },
        "id": "CBMRdRdiK8vz",
        "outputId": "70961e8c-23df-4d32-e801-55978524e96b"
      },
      "outputs": [
        {
          "output_type": "stream",
          "name": "stdout",
          "text": [
            "warga penjaringan utara bernama josua yakin pembangunan infrastruktur berjalan status kota negara dilihat infrastruktur berjalan pembangunannya berubah pembangunan tiba berhenti dia dihubungi kompas com jumat josua pembangunan infrastruktur berhenti lantaran pusat bisnis perekonomian baca status kota dicabut warga konser ikn semoga tiket pesawatnya murah kata pemerintah serta merta memfokuskan perhatian kota nusantara ikn menuturkan progres pembangunan infrastruktur bakal dibuat lambat cenderung cepat sih saya enggak akan fokus ikn doang pembangunan infrastruktur bakal tetap berjalan cukup pesat josua serupa dituturkan warga pademangan utara bernama anggita nantinya pembangunan infrastruktur lambat berarti fokus pemerintah ikn terkendala sisi kayak cuaca dan ekonomi anggita dihubungi jumat jika faktor ekonomi berkaitan pembangunan ikn anggita menyayangkannya baca pendapat warga soal hilangnya status daerah khusus kota ada sedih dan cuek jika faktor ekonomi proyek infrastruktur yang sedang berjalan menjadi mangkrak yang sudah dibangun mangkrak akan merugikan tampilan kurang menarik tutur dia pembangunan tidak masif rafida warga grogol petamburan barat ada pembangunan infrastruktur tidak semasif saat berstatus kota pembangunan enggak semasif pas kota pusat pemerintahan pindah ikn dia jumat itu respons keluhan warga saja menjadi lambat nantinya sudah lagi berstatus kota ada masalah enggak ditanggapi secepat pas kota karena lebih mengutamakan ikn intinya kayak sudah dinomor duakan gitu pungkas rafida baca stafsus presiden ikn efektif kota negara ada keppres diketahui status daerah khusus kota dki yang disematkan pada habis februari status kota seiring implementasi undang undang uu nomor tentang perubahan uu nomor tentang kota negara ikn ketua badan legislasi dewan perwakilan rakyat baleg dpr supratman andi agtas status dki tertuang uu nomor tentang pemerintah provinsi dki jakarta sebagai kota nkri adanya uu ikn pun segera membahas rancangan undang undang daerah khusus jakarta ruu dkj mengatasi hilangnya status namun staf khusus presiden bidang hukum purwono mengatakan dki jakarta tetap berstatus sebagai ibu kota negara ri presiden joko widodo jokowi menerbitkan keputusan presiden keppres pemindahan ibu kota negara nusantara itu dia sesuai ketentuan peralihan pasal undang undang uu ikn kata jakarta tetap menjadi ibu kota keppres pemindahan pemindahan ibu kota terbit baca fraksi pdi p usul pilgub jakarta hanya digelar putaran tak lagi jadi ibu kota kendati belum bisa dipastikan keppres terbit tersebut sepenuhnya kewenangan presiden\n",
            "['warga', 'jaring', 'utara', 'nama', 'josua', 'yakin', 'bangun', 'infrastruktur', 'jalan', 'status', 'kota', 'negara', 'lihat', 'infrastruktur', 'jalan', 'bangun', 'ubah', 'bangun', 'tiba', 'henti', 'dia', 'hubung', 'kompas', 'com', 'jumat', 'josua', 'bangun', 'infrastruktur', 'henti', 'lantar', 'pusat', 'bisnis', 'ekonomi', 'baca', 'status', 'kota', 'cabut', 'warga', 'konser', 'ikn', 'moga', 'tiket', 'pesawat', 'murah', 'kata', 'perintah', 'serta', 'merta', 'fokus', 'perhati', 'kota', 'nusantara', 'ikn', 'tutur', 'progres', 'bangun', 'infrastruktur', 'bakal', 'buat', 'lambat', 'cenderung', 'cepat', 'sih', 'saya', 'enggak', 'akan', 'fokus', 'ikn', 'doang', 'bangun', 'infrastruktur', 'bakal', 'tetap', 'jalan', 'cukup', 'pesat', 'josua', 'rupa', 'tutur', 'warga', 'pademangan', 'utara', 'nama', 'anggita', 'nanti', 'bangun', 'infrastruktur', 'lambat', 'arti', 'fokus', 'perintah', 'ikn', 'kendala', 'sisi', 'kayak', 'cuaca', 'dan', 'ekonomi', 'anggita', 'hubung', 'jumat', 'jika', 'faktor', 'ekonomi', 'kait', 'bangun', 'ikn', 'anggita', 'sayang', 'baca', 'dapat', 'warga', 'soal', 'hilang', 'status', 'daerah', 'khusus', 'kota', 'ada', 'sedih', 'dan', 'cuek', 'jika', 'faktor', 'ekonomi', 'proyek', 'infrastruktur', 'yang', 'sedang', 'jalan', 'jadi', 'mangkrak', 'yang', 'sudah', 'bangun', 'mangkrak', 'akan', 'rugi', 'tampil', 'kurang', 'tarik', 'tutur', 'dia', 'bangun', 'tidak', 'masif', 'rafida', 'warga', 'grogol', 'tambur', 'barat', 'ada', 'bangun', 'infrastruktur', 'tidak', 'masif', 'saat', 'status', 'kota', 'bangun', 'enggak', 'masif', 'pas', 'kota', 'pusat', 'perintah', 'pindah', 'ikn', 'dia', 'jumat', 'itu', 'respons', 'keluh', 'warga', 'saja', 'jadi', 'lambat', 'nanti', 'sudah', 'lagi', 'status', 'kota', 'ada', 'masalah', 'enggak', 'tanggap', 'cepat', 'pas', 'kota', 'karena', 'lebih', 'utama', 'ikn', 'inti', 'kayak', 'sudah', 'nomor', 'dua', 'gitu', 'pungkas', 'rafida', 'baca', 'stafsus', 'presiden', 'ikn', 'efektif', 'kota', 'negara', 'ada', 'keppres', 'tahu', 'status', 'daerah', 'khusus', 'kota', 'dki', 'yang', 'semat', 'pada', 'habis', 'februari', 'status', 'kota', 'iring', 'implementasi', 'undang', 'undang', 'uu', 'nomor', 'tentang', 'ubah', 'uu', 'nomor', 'tentang', 'kota', 'negara', 'ikn', 'ketua', 'badan', 'legislasi', 'dewan', 'wakil', 'rakyat', 'baleg', 'dpr', 'supratman', 'andi', 'agtas', 'status', 'dki', 'tuang', 'uu', 'nomor', 'tentang', 'perintah', 'provinsi', 'dki', 'jakarta', 'bagai', 'kota', 'nkri', 'ada', 'uu', 'ikn', 'pun', 'segera', 'bahas', 'rancang', 'undang', 'undang', 'daerah', 'khusus', 'jakarta', 'ruu', 'dkj', 'atas', 'hilang', 'status', 'namun', 'staf', 'khusus', 'presiden', 'bidang', 'hukum', 'purwono', 'kata', 'dki', 'jakarta', 'tetap', 'status', 'bagai', 'ibu', 'kota', 'negara', 'ri', 'presiden', 'joko', 'widodo', 'jokowi', 'terbit', 'putus', 'presiden', 'keppres', 'pindah', 'ibu', 'kota', 'negara', 'nusantara', 'itu', 'dia', 'sesuai', 'tentu', 'alih', 'pasal', 'undang', 'undang', 'uu', 'ikn', 'kata', 'jakarta', 'tetap', 'jadi', 'ibu', 'kota', 'keppres', 'pindah', 'pindah', 'ibu', 'kota', 'terbit', 'baca', 'fraksi', 'pdi', 'p', 'usul', 'pilgub', 'jakarta', 'hanya', 'gelar', 'putar', 'tak', 'lagi', 'jadi', 'ibu', 'kota', 'kendati', 'belum', 'bisa', 'pasti', 'keppres', 'terbit', 'sebut', 'sepenuh', 'wenang', 'presiden']\n"
          ]
        }
      ],
      "source": [
        "print(df['filtered'][0])\n",
        "print(df['tokenized'][0])"
      ]
    },
    {
      "cell_type": "code",
      "source": [
        "print(len(df['stemmed'][0]))\n",
        "print(len(df['tokenized'][0]))"
      ],
      "metadata": {
        "id": "cKxfF4GhdjLa",
        "outputId": "6460d6b3-6969-4fa9-c922-a3f7f20f1459",
        "colab": {
          "base_uri": "https://localhost:8080/"
        }
      },
      "execution_count": null,
      "outputs": [
        {
          "output_type": "stream",
          "name": "stdout",
          "text": [
            "2236\n",
            "355\n"
          ]
        }
      ]
    },
    {
      "cell_type": "markdown",
      "source": [
        "##Second Stopwords"
      ],
      "metadata": {
        "id": "OqDFduCP47A2"
      }
    },
    {
      "cell_type": "code",
      "source": [
        "df.head()"
      ],
      "metadata": {
        "id": "Aw3zSYeJqjFs"
      },
      "execution_count": null,
      "outputs": []
    },
    {
      "cell_type": "code",
      "source": [
        "# Define a function to remove stopwords from a list of tokens\n",
        "def remove_stopwords(tokens):\n",
        "    return [word for word in tokens if word not in stopwords]\n",
        "\n",
        "# Apply the remove_stopwords function to each row in the 'tokenized' column\n",
        "df['filtered2'] = df['tokenized'].apply(lambda tokens: remove_stopwords(tokens))\n",
        "\n",
        "# Display the updated DataFrame\n",
        "print(df.head())"
      ],
      "metadata": {
        "id": "sH3TSo9o3Q-p",
        "colab": {
          "base_uri": "https://localhost:8080/"
        },
        "outputId": "3285387f-815f-4a1a-de42-7673c3802d85"
      },
      "execution_count": null,
      "outputs": [
        {
          "output_type": "stream",
          "name": "stdout",
          "text": [
            "                                      topic  \\\n",
            "0  Infrastruktur, Pembangunan dan Perumahan   \n",
            "1  Infrastruktur, Pembangunan dan Perumahan   \n",
            "2  Infrastruktur, Pembangunan dan Perumahan   \n",
            "3  Infrastruktur, Pembangunan dan Perumahan   \n",
            "4  Infrastruktur, Pembangunan dan Perumahan   \n",
            "\n",
            "                                               title  \\\n",
            "0  Warga Yakin Pembangunan Infrastruktur di Jakar...   \n",
            "1  Tahun Ini, Anjungan Pandang Tower Ulu Jembatan...   \n",
            "2  Cara HK Percepat Konstruksi Tiga Gedung UPI Ba...   \n",
            "3  Tol Cimaci Segera Beroperasi, Harvest City Res...   \n",
            "4  Pj Gubernur Banten Al Muktabar Raih Ekbispar A...   \n",
            "\n",
            "                                                text  \\\n",
            "0  JAKARTA, KOMPAS.com - Warga Penjaringan, Jakar...   \n",
            "1  JAKARTA, KOMPAS.com - Pemeliharaan Jembatan Am...   \n",
            "2  JAKARTA, KOMPAS.com - PT Hutama Karya (Persero...   \n",
            "3  JAKARTA, KOMPAS.com - Dengan tingginya angka k...   \n",
            "4  KOMPAS.com - Penjabat (Pj) Gubernur Banten Al ...   \n",
            "\n",
            "                                                 lwr  \\\n",
            "0  jakarta, kompas.com - warga penjaringan, jakar...   \n",
            "1  jakarta, kompas.com - pemeliharaan jembatan am...   \n",
            "2  jakarta, kompas.com - pt hutama karya (persero...   \n",
            "3  jakarta, kompas.com - dengan tingginya angka k...   \n",
            "4  kompas.com - penjabat (pj) gubernur banten al ...   \n",
            "\n",
            "                                        clean_number  \\\n",
            "0  jakarta, kompas.com - warga penjaringan, jakar...   \n",
            "1  jakarta, kompas.com - pemeliharaan jembatan am...   \n",
            "2  jakarta, kompas.com - pt hutama karya (persero...   \n",
            "3  jakarta, kompas.com - dengan tingginya angka k...   \n",
            "4  kompas.com - penjabat (pj) gubernur banten al ...   \n",
            "\n",
            "                                         clean_punct  \\\n",
            "0  jakarta kompas com   warga penjaringan jakarta...   \n",
            "1  jakarta kompas com   pemeliharaan jembatan amp...   \n",
            "2  jakarta kompas com   pt hutama karya persero m...   \n",
            "3  jakarta kompas com   dengan tingginya angka ke...   \n",
            "4  kompas com   penjabat pj gubernur banten al mu...   \n",
            "\n",
            "                                     clean_double_ws  \\\n",
            "0  jakarta kompas com warga penjaringan jakarta u...   \n",
            "1  jakarta kompas com pemeliharaan jembatan amper...   \n",
            "2  jakarta kompas com pt hutama karya persero men...   \n",
            "3  jakarta kompas com dengan tingginya angka kebu...   \n",
            "4  kompas com penjabat pj gubernur banten al mukt...   \n",
            "\n",
            "                                            filtered  \\\n",
            "0  warga penjaringan utara bernama josua yakin pe...   \n",
            "1  kompas pemeliharaan jembatan ampera program pr...   \n",
            "2  kompas pt hutama karya persero menerapkan tekn...   \n",
            "3  kompas tingginya angka kebutuhan hunian prospe...   \n",
            "4  com penjabat pj gubernur banten al muktabar me...   \n",
            "\n",
            "                                             stemmed  \\\n",
            "0  warga jaring utara nama josua yakin bangun inf...   \n",
            "1  kompas pelihara jembatan ampera program priori...   \n",
            "2  kompas pt hutama karya persero terap teknik up...   \n",
            "3  kompas tinggi angka butuh huni prospek bisnis ...   \n",
            "4  com jabat pj gubernur banten al muktabar raih ...   \n",
            "\n",
            "                                           tokenized  \\\n",
            "0  [warga, jaring, utara, nama, josua, yakin, ban...   \n",
            "1  [kompas, pelihara, jembatan, ampera, program, ...   \n",
            "2  [kompas, pt, hutama, karya, persero, terap, te...   \n",
            "3  [kompas, tinggi, angka, butuh, huni, prospek, ...   \n",
            "4  [com, jabat, pj, gubernur, banten, al, muktaba...   \n",
            "\n",
            "                                           filtered2  \n",
            "0  [warga, jaring, utara, nama, josua, bangun, in...  \n",
            "1  [pelihara, jembatan, ampera, program, priorita...  \n",
            "2  [pt, hutama, karya, persero, terap, teknik, up...  \n",
            "3  [angka, butuh, huni, prospek, bisnis, properti...  \n",
            "4  [jabat, pj, gubernur, banten, al, muktabar, ra...  \n"
          ]
        }
      ]
    },
    {
      "cell_type": "code",
      "source": [
        "#df.drop(columns=['tokenized'], inplace=True)"
      ],
      "metadata": {
        "id": "7Hp-bXYa6zt3"
      },
      "execution_count": null,
      "outputs": []
    },
    {
      "cell_type": "code",
      "source": [
        "len(stopwords)"
      ],
      "metadata": {
        "colab": {
          "base_uri": "https://localhost:8080/"
        },
        "id": "rRogv2OAAmP_",
        "outputId": "296d44da-8b24-4e66-c6dc-ef14f55a7092"
      },
      "execution_count": null,
      "outputs": [
        {
          "output_type": "execute_result",
          "data": {
            "text/plain": [
              "946"
            ]
          },
          "metadata": {},
          "execution_count": 64
        }
      ]
    },
    {
      "cell_type": "code",
      "source": [
        "df.head()"
      ],
      "metadata": {
        "id": "zHRIWaHa6rA2",
        "colab": {
          "base_uri": "https://localhost:8080/",
          "height": 692
        },
        "outputId": "5ef62afc-6b99-4b3a-f087-05572fa65b31"
      },
      "execution_count": null,
      "outputs": [
        {
          "output_type": "execute_result",
          "data": {
            "text/plain": [
              "                                      topic  \\\n",
              "0  Infrastruktur, Pembangunan dan Perumahan   \n",
              "1  Infrastruktur, Pembangunan dan Perumahan   \n",
              "2  Infrastruktur, Pembangunan dan Perumahan   \n",
              "3  Infrastruktur, Pembangunan dan Perumahan   \n",
              "4  Infrastruktur, Pembangunan dan Perumahan   \n",
              "\n",
              "                                               title  \\\n",
              "0  Warga Yakin Pembangunan Infrastruktur di Jakar...   \n",
              "1  Tahun Ini, Anjungan Pandang Tower Ulu Jembatan...   \n",
              "2  Cara HK Percepat Konstruksi Tiga Gedung UPI Ba...   \n",
              "3  Tol Cimaci Segera Beroperasi, Harvest City Res...   \n",
              "4  Pj Gubernur Banten Al Muktabar Raih Ekbispar A...   \n",
              "\n",
              "                                                text  \\\n",
              "0  JAKARTA, KOMPAS.com - Warga Penjaringan, Jakar...   \n",
              "1  JAKARTA, KOMPAS.com - Pemeliharaan Jembatan Am...   \n",
              "2  JAKARTA, KOMPAS.com - PT Hutama Karya (Persero...   \n",
              "3  JAKARTA, KOMPAS.com - Dengan tingginya angka k...   \n",
              "4  KOMPAS.com - Penjabat (Pj) Gubernur Banten Al ...   \n",
              "\n",
              "                                                 lwr  \\\n",
              "0  jakarta, kompas.com - warga penjaringan, jakar...   \n",
              "1  jakarta, kompas.com - pemeliharaan jembatan am...   \n",
              "2  jakarta, kompas.com - pt hutama karya (persero...   \n",
              "3  jakarta, kompas.com - dengan tingginya angka k...   \n",
              "4  kompas.com - penjabat (pj) gubernur banten al ...   \n",
              "\n",
              "                                        clean_number  \\\n",
              "0  jakarta, kompas.com - warga penjaringan, jakar...   \n",
              "1  jakarta, kompas.com - pemeliharaan jembatan am...   \n",
              "2  jakarta, kompas.com - pt hutama karya (persero...   \n",
              "3  jakarta, kompas.com - dengan tingginya angka k...   \n",
              "4  kompas.com - penjabat (pj) gubernur banten al ...   \n",
              "\n",
              "                                         clean_punct  \\\n",
              "0  jakarta kompas com   warga penjaringan jakarta...   \n",
              "1  jakarta kompas com   pemeliharaan jembatan amp...   \n",
              "2  jakarta kompas com   pt hutama karya persero m...   \n",
              "3  jakarta kompas com   dengan tingginya angka ke...   \n",
              "4  kompas com   penjabat pj gubernur banten al mu...   \n",
              "\n",
              "                                     clean_double_ws  \\\n",
              "0  jakarta kompas com warga penjaringan jakarta u...   \n",
              "1  jakarta kompas com pemeliharaan jembatan amper...   \n",
              "2  jakarta kompas com pt hutama karya persero men...   \n",
              "3  jakarta kompas com dengan tingginya angka kebu...   \n",
              "4  kompas com penjabat pj gubernur banten al mukt...   \n",
              "\n",
              "                                            filtered  \\\n",
              "0  warga penjaringan utara bernama josua yakin pe...   \n",
              "1  kompas pemeliharaan jembatan ampera program pr...   \n",
              "2  kompas pt hutama karya persero menerapkan tekn...   \n",
              "3  kompas tingginya angka kebutuhan hunian prospe...   \n",
              "4  com penjabat pj gubernur banten al muktabar me...   \n",
              "\n",
              "                                             stemmed  \\\n",
              "0  warga jaring utara nama josua yakin bangun inf...   \n",
              "1  kompas pelihara jembatan ampera program priori...   \n",
              "2  kompas pt hutama karya persero terap teknik up...   \n",
              "3  kompas tinggi angka butuh huni prospek bisnis ...   \n",
              "4  com jabat pj gubernur banten al muktabar raih ...   \n",
              "\n",
              "                                           tokenized  \\\n",
              "0  [warga, jaring, utara, nama, josua, yakin, ban...   \n",
              "1  [kompas, pelihara, jembatan, ampera, program, ...   \n",
              "2  [kompas, pt, hutama, karya, persero, terap, te...   \n",
              "3  [kompas, tinggi, angka, butuh, huni, prospek, ...   \n",
              "4  [com, jabat, pj, gubernur, banten, al, muktaba...   \n",
              "\n",
              "                                           filtered2  \n",
              "0  [warga, jaring, utara, nama, josua, bangun, in...  \n",
              "1  [pelihara, jembatan, ampera, program, priorita...  \n",
              "2  [pt, hutama, karya, persero, terap, teknik, up...  \n",
              "3  [angka, butuh, huni, prospek, bisnis, properti...  \n",
              "4  [jabat, pj, gubernur, banten, al, muktabar, ra...  "
            ],
            "text/html": [
              "\n",
              "  <div id=\"df-068b0272-92d2-46d5-9a6e-149a277a2736\" class=\"colab-df-container\">\n",
              "    <div>\n",
              "<style scoped>\n",
              "    .dataframe tbody tr th:only-of-type {\n",
              "        vertical-align: middle;\n",
              "    }\n",
              "\n",
              "    .dataframe tbody tr th {\n",
              "        vertical-align: top;\n",
              "    }\n",
              "\n",
              "    .dataframe thead th {\n",
              "        text-align: right;\n",
              "    }\n",
              "</style>\n",
              "<table border=\"1\" class=\"dataframe\">\n",
              "  <thead>\n",
              "    <tr style=\"text-align: right;\">\n",
              "      <th></th>\n",
              "      <th>topic</th>\n",
              "      <th>title</th>\n",
              "      <th>text</th>\n",
              "      <th>lwr</th>\n",
              "      <th>clean_number</th>\n",
              "      <th>clean_punct</th>\n",
              "      <th>clean_double_ws</th>\n",
              "      <th>filtered</th>\n",
              "      <th>stemmed</th>\n",
              "      <th>tokenized</th>\n",
              "      <th>filtered2</th>\n",
              "    </tr>\n",
              "  </thead>\n",
              "  <tbody>\n",
              "    <tr>\n",
              "      <th>0</th>\n",
              "      <td>Infrastruktur, Pembangunan dan Perumahan</td>\n",
              "      <td>Warga Yakin Pembangunan Infrastruktur di Jakar...</td>\n",
              "      <td>JAKARTA, KOMPAS.com - Warga Penjaringan, Jakar...</td>\n",
              "      <td>jakarta, kompas.com - warga penjaringan, jakar...</td>\n",
              "      <td>jakarta, kompas.com - warga penjaringan, jakar...</td>\n",
              "      <td>jakarta kompas com   warga penjaringan jakarta...</td>\n",
              "      <td>jakarta kompas com warga penjaringan jakarta u...</td>\n",
              "      <td>warga penjaringan utara bernama josua yakin pe...</td>\n",
              "      <td>warga jaring utara nama josua yakin bangun inf...</td>\n",
              "      <td>[warga, jaring, utara, nama, josua, yakin, ban...</td>\n",
              "      <td>[warga, jaring, utara, nama, josua, bangun, in...</td>\n",
              "    </tr>\n",
              "    <tr>\n",
              "      <th>1</th>\n",
              "      <td>Infrastruktur, Pembangunan dan Perumahan</td>\n",
              "      <td>Tahun Ini, Anjungan Pandang Tower Ulu Jembatan...</td>\n",
              "      <td>JAKARTA, KOMPAS.com - Pemeliharaan Jembatan Am...</td>\n",
              "      <td>jakarta, kompas.com - pemeliharaan jembatan am...</td>\n",
              "      <td>jakarta, kompas.com - pemeliharaan jembatan am...</td>\n",
              "      <td>jakarta kompas com   pemeliharaan jembatan amp...</td>\n",
              "      <td>jakarta kompas com pemeliharaan jembatan amper...</td>\n",
              "      <td>kompas pemeliharaan jembatan ampera program pr...</td>\n",
              "      <td>kompas pelihara jembatan ampera program priori...</td>\n",
              "      <td>[kompas, pelihara, jembatan, ampera, program, ...</td>\n",
              "      <td>[pelihara, jembatan, ampera, program, priorita...</td>\n",
              "    </tr>\n",
              "    <tr>\n",
              "      <th>2</th>\n",
              "      <td>Infrastruktur, Pembangunan dan Perumahan</td>\n",
              "      <td>Cara HK Percepat Konstruksi Tiga Gedung UPI Ba...</td>\n",
              "      <td>JAKARTA, KOMPAS.com - PT Hutama Karya (Persero...</td>\n",
              "      <td>jakarta, kompas.com - pt hutama karya (persero...</td>\n",
              "      <td>jakarta, kompas.com - pt hutama karya (persero...</td>\n",
              "      <td>jakarta kompas com   pt hutama karya persero m...</td>\n",
              "      <td>jakarta kompas com pt hutama karya persero men...</td>\n",
              "      <td>kompas pt hutama karya persero menerapkan tekn...</td>\n",
              "      <td>kompas pt hutama karya persero terap teknik up...</td>\n",
              "      <td>[kompas, pt, hutama, karya, persero, terap, te...</td>\n",
              "      <td>[pt, hutama, karya, persero, terap, teknik, up...</td>\n",
              "    </tr>\n",
              "    <tr>\n",
              "      <th>3</th>\n",
              "      <td>Infrastruktur, Pembangunan dan Perumahan</td>\n",
              "      <td>Tol Cimaci Segera Beroperasi, Harvest City Res...</td>\n",
              "      <td>JAKARTA, KOMPAS.com - Dengan tingginya angka k...</td>\n",
              "      <td>jakarta, kompas.com - dengan tingginya angka k...</td>\n",
              "      <td>jakarta, kompas.com - dengan tingginya angka k...</td>\n",
              "      <td>jakarta kompas com   dengan tingginya angka ke...</td>\n",
              "      <td>jakarta kompas com dengan tingginya angka kebu...</td>\n",
              "      <td>kompas tingginya angka kebutuhan hunian prospe...</td>\n",
              "      <td>kompas tinggi angka butuh huni prospek bisnis ...</td>\n",
              "      <td>[kompas, tinggi, angka, butuh, huni, prospek, ...</td>\n",
              "      <td>[angka, butuh, huni, prospek, bisnis, properti...</td>\n",
              "    </tr>\n",
              "    <tr>\n",
              "      <th>4</th>\n",
              "      <td>Infrastruktur, Pembangunan dan Perumahan</td>\n",
              "      <td>Pj Gubernur Banten Al Muktabar Raih Ekbispar A...</td>\n",
              "      <td>KOMPAS.com - Penjabat (Pj) Gubernur Banten Al ...</td>\n",
              "      <td>kompas.com - penjabat (pj) gubernur banten al ...</td>\n",
              "      <td>kompas.com - penjabat (pj) gubernur banten al ...</td>\n",
              "      <td>kompas com   penjabat pj gubernur banten al mu...</td>\n",
              "      <td>kompas com penjabat pj gubernur banten al mukt...</td>\n",
              "      <td>com penjabat pj gubernur banten al muktabar me...</td>\n",
              "      <td>com jabat pj gubernur banten al muktabar raih ...</td>\n",
              "      <td>[com, jabat, pj, gubernur, banten, al, muktaba...</td>\n",
              "      <td>[jabat, pj, gubernur, banten, al, muktabar, ra...</td>\n",
              "    </tr>\n",
              "  </tbody>\n",
              "</table>\n",
              "</div>\n",
              "    <div class=\"colab-df-buttons\">\n",
              "\n",
              "  <div class=\"colab-df-container\">\n",
              "    <button class=\"colab-df-convert\" onclick=\"convertToInteractive('df-068b0272-92d2-46d5-9a6e-149a277a2736')\"\n",
              "            title=\"Convert this dataframe to an interactive table.\"\n",
              "            style=\"display:none;\">\n",
              "\n",
              "  <svg xmlns=\"http://www.w3.org/2000/svg\" height=\"24px\" viewBox=\"0 -960 960 960\">\n",
              "    <path d=\"M120-120v-720h720v720H120Zm60-500h600v-160H180v160Zm220 220h160v-160H400v160Zm0 220h160v-160H400v160ZM180-400h160v-160H180v160Zm440 0h160v-160H620v160ZM180-180h160v-160H180v160Zm440 0h160v-160H620v160Z\"/>\n",
              "  </svg>\n",
              "    </button>\n",
              "\n",
              "  <style>\n",
              "    .colab-df-container {\n",
              "      display:flex;\n",
              "      gap: 12px;\n",
              "    }\n",
              "\n",
              "    .colab-df-convert {\n",
              "      background-color: #E8F0FE;\n",
              "      border: none;\n",
              "      border-radius: 50%;\n",
              "      cursor: pointer;\n",
              "      display: none;\n",
              "      fill: #1967D2;\n",
              "      height: 32px;\n",
              "      padding: 0 0 0 0;\n",
              "      width: 32px;\n",
              "    }\n",
              "\n",
              "    .colab-df-convert:hover {\n",
              "      background-color: #E2EBFA;\n",
              "      box-shadow: 0px 1px 2px rgba(60, 64, 67, 0.3), 0px 1px 3px 1px rgba(60, 64, 67, 0.15);\n",
              "      fill: #174EA6;\n",
              "    }\n",
              "\n",
              "    .colab-df-buttons div {\n",
              "      margin-bottom: 4px;\n",
              "    }\n",
              "\n",
              "    [theme=dark] .colab-df-convert {\n",
              "      background-color: #3B4455;\n",
              "      fill: #D2E3FC;\n",
              "    }\n",
              "\n",
              "    [theme=dark] .colab-df-convert:hover {\n",
              "      background-color: #434B5C;\n",
              "      box-shadow: 0px 1px 3px 1px rgba(0, 0, 0, 0.15);\n",
              "      filter: drop-shadow(0px 1px 2px rgba(0, 0, 0, 0.3));\n",
              "      fill: #FFFFFF;\n",
              "    }\n",
              "  </style>\n",
              "\n",
              "    <script>\n",
              "      const buttonEl =\n",
              "        document.querySelector('#df-068b0272-92d2-46d5-9a6e-149a277a2736 button.colab-df-convert');\n",
              "      buttonEl.style.display =\n",
              "        google.colab.kernel.accessAllowed ? 'block' : 'none';\n",
              "\n",
              "      async function convertToInteractive(key) {\n",
              "        const element = document.querySelector('#df-068b0272-92d2-46d5-9a6e-149a277a2736');\n",
              "        const dataTable =\n",
              "          await google.colab.kernel.invokeFunction('convertToInteractive',\n",
              "                                                    [key], {});\n",
              "        if (!dataTable) return;\n",
              "\n",
              "        const docLinkHtml = 'Like what you see? Visit the ' +\n",
              "          '<a target=\"_blank\" href=https://colab.research.google.com/notebooks/data_table.ipynb>data table notebook</a>'\n",
              "          + ' to learn more about interactive tables.';\n",
              "        element.innerHTML = '';\n",
              "        dataTable['output_type'] = 'display_data';\n",
              "        await google.colab.output.renderOutput(dataTable, element);\n",
              "        const docLink = document.createElement('div');\n",
              "        docLink.innerHTML = docLinkHtml;\n",
              "        element.appendChild(docLink);\n",
              "      }\n",
              "    </script>\n",
              "  </div>\n",
              "\n",
              "\n",
              "<div id=\"df-bfec5373-0def-482c-9fa5-6d97f6c8cd89\">\n",
              "  <button class=\"colab-df-quickchart\" onclick=\"quickchart('df-bfec5373-0def-482c-9fa5-6d97f6c8cd89')\"\n",
              "            title=\"Suggest charts\"\n",
              "            style=\"display:none;\">\n",
              "\n",
              "<svg xmlns=\"http://www.w3.org/2000/svg\" height=\"24px\"viewBox=\"0 0 24 24\"\n",
              "     width=\"24px\">\n",
              "    <g>\n",
              "        <path d=\"M19 3H5c-1.1 0-2 .9-2 2v14c0 1.1.9 2 2 2h14c1.1 0 2-.9 2-2V5c0-1.1-.9-2-2-2zM9 17H7v-7h2v7zm4 0h-2V7h2v10zm4 0h-2v-4h2v4z\"/>\n",
              "    </g>\n",
              "</svg>\n",
              "  </button>\n",
              "\n",
              "<style>\n",
              "  .colab-df-quickchart {\n",
              "      --bg-color: #E8F0FE;\n",
              "      --fill-color: #1967D2;\n",
              "      --hover-bg-color: #E2EBFA;\n",
              "      --hover-fill-color: #174EA6;\n",
              "      --disabled-fill-color: #AAA;\n",
              "      --disabled-bg-color: #DDD;\n",
              "  }\n",
              "\n",
              "  [theme=dark] .colab-df-quickchart {\n",
              "      --bg-color: #3B4455;\n",
              "      --fill-color: #D2E3FC;\n",
              "      --hover-bg-color: #434B5C;\n",
              "      --hover-fill-color: #FFFFFF;\n",
              "      --disabled-bg-color: #3B4455;\n",
              "      --disabled-fill-color: #666;\n",
              "  }\n",
              "\n",
              "  .colab-df-quickchart {\n",
              "    background-color: var(--bg-color);\n",
              "    border: none;\n",
              "    border-radius: 50%;\n",
              "    cursor: pointer;\n",
              "    display: none;\n",
              "    fill: var(--fill-color);\n",
              "    height: 32px;\n",
              "    padding: 0;\n",
              "    width: 32px;\n",
              "  }\n",
              "\n",
              "  .colab-df-quickchart:hover {\n",
              "    background-color: var(--hover-bg-color);\n",
              "    box-shadow: 0 1px 2px rgba(60, 64, 67, 0.3), 0 1px 3px 1px rgba(60, 64, 67, 0.15);\n",
              "    fill: var(--button-hover-fill-color);\n",
              "  }\n",
              "\n",
              "  .colab-df-quickchart-complete:disabled,\n",
              "  .colab-df-quickchart-complete:disabled:hover {\n",
              "    background-color: var(--disabled-bg-color);\n",
              "    fill: var(--disabled-fill-color);\n",
              "    box-shadow: none;\n",
              "  }\n",
              "\n",
              "  .colab-df-spinner {\n",
              "    border: 2px solid var(--fill-color);\n",
              "    border-color: transparent;\n",
              "    border-bottom-color: var(--fill-color);\n",
              "    animation:\n",
              "      spin 1s steps(1) infinite;\n",
              "  }\n",
              "\n",
              "  @keyframes spin {\n",
              "    0% {\n",
              "      border-color: transparent;\n",
              "      border-bottom-color: var(--fill-color);\n",
              "      border-left-color: var(--fill-color);\n",
              "    }\n",
              "    20% {\n",
              "      border-color: transparent;\n",
              "      border-left-color: var(--fill-color);\n",
              "      border-top-color: var(--fill-color);\n",
              "    }\n",
              "    30% {\n",
              "      border-color: transparent;\n",
              "      border-left-color: var(--fill-color);\n",
              "      border-top-color: var(--fill-color);\n",
              "      border-right-color: var(--fill-color);\n",
              "    }\n",
              "    40% {\n",
              "      border-color: transparent;\n",
              "      border-right-color: var(--fill-color);\n",
              "      border-top-color: var(--fill-color);\n",
              "    }\n",
              "    60% {\n",
              "      border-color: transparent;\n",
              "      border-right-color: var(--fill-color);\n",
              "    }\n",
              "    80% {\n",
              "      border-color: transparent;\n",
              "      border-right-color: var(--fill-color);\n",
              "      border-bottom-color: var(--fill-color);\n",
              "    }\n",
              "    90% {\n",
              "      border-color: transparent;\n",
              "      border-bottom-color: var(--fill-color);\n",
              "    }\n",
              "  }\n",
              "</style>\n",
              "\n",
              "  <script>\n",
              "    async function quickchart(key) {\n",
              "      const quickchartButtonEl =\n",
              "        document.querySelector('#' + key + ' button');\n",
              "      quickchartButtonEl.disabled = true;  // To prevent multiple clicks.\n",
              "      quickchartButtonEl.classList.add('colab-df-spinner');\n",
              "      try {\n",
              "        const charts = await google.colab.kernel.invokeFunction(\n",
              "            'suggestCharts', [key], {});\n",
              "      } catch (error) {\n",
              "        console.error('Error during call to suggestCharts:', error);\n",
              "      }\n",
              "      quickchartButtonEl.classList.remove('colab-df-spinner');\n",
              "      quickchartButtonEl.classList.add('colab-df-quickchart-complete');\n",
              "    }\n",
              "    (() => {\n",
              "      let quickchartButtonEl =\n",
              "        document.querySelector('#df-bfec5373-0def-482c-9fa5-6d97f6c8cd89 button');\n",
              "      quickchartButtonEl.style.display =\n",
              "        google.colab.kernel.accessAllowed ? 'block' : 'none';\n",
              "    })();\n",
              "  </script>\n",
              "</div>\n",
              "    </div>\n",
              "  </div>\n"
            ],
            "application/vnd.google.colaboratory.intrinsic+json": {
              "type": "dataframe",
              "variable_name": "df",
              "summary": "{\n  \"name\": \"df\",\n  \"rows\": 149,\n  \"fields\": [\n    {\n      \"column\": \"topic\",\n      \"properties\": {\n        \"dtype\": \"category\",\n        \"num_unique_values\": 8,\n        \"samples\": [\n          \"Pendidikan\",\n          \"Keamanan dan Layanan Publik\",\n          \"Infrastruktur, Pembangunan dan Perumahan\"\n        ],\n        \"semantic_type\": \"\",\n        \"description\": \"\"\n      }\n    },\n    {\n      \"column\": \"title\",\n      \"properties\": {\n        \"dtype\": \"string\",\n        \"num_unique_values\": 149,\n        \"samples\": [\n          \"Wartawan Banggai dan Kasat Intel Polres Banggai Bersatu dalam Aksi Jumat Berkah,Bagikan Nasi Kotak di Luwuk Selatan\",\n          \"Terapkan Prinsip Keberlanjutan, Dunlop Peduli Lingkungan\",\n          \"Film Horor \\u201cPiara Mayat\\u201d, \\u00a0Kreativitas Anak Muda Banggai Mengukir Jejak di Dunia Sinematografi\"\n        ],\n        \"semantic_type\": \"\",\n        \"description\": \"\"\n      }\n    },\n    {\n      \"column\": \"text\",\n      \"properties\": {\n        \"dtype\": \"string\",\n        \"num_unique_values\": 147,\n        \"samples\": [\n          \"KABAR LUWUK \\u2013Perekaman Biometrik WBPTanpa E-KTP di Banggai, Upaya Kalapas untukHak Pilih 2024.Kegiatan pengambilan data biometrik untuk narapidana tanpa E-KTP di Lapas Banggai menjadi langkah strategis hasil koordinasi antaraKalapasdan DisdukcapilKabupaten Banggai. Jum,at  8/12/2023.Kegiatan ini, yang melibatkanKasi Pelayanan Pendaftaran, Kasi Pendataan Penduduk, dan Kasi Pengelolaan Data dariDisdukcapil Banggai,dilaksanakan dengan tujuanpenerbitan E-KTPguna memenuhi syarat hak pilih wargabinaan pada Pemilu 2024.Perekaman biometrik dipimpin oleh Muzaimah G Tompe, S. sos (Kasi Pelayanan Pendaftaran), Tri Ningsih Hadiprawoto SE (Kasi Pendataan Penduduk), dan Jefri Kasim, SE (Kasi Pengelolaan Data) beserta staf.Mereka berfokus pada narapidana yang belum memiliki E-KTP, dengan harapan setiap wargabinaan dapat menggunakan hak pilihnya pada saat Pemilu tahun 2024.Kepala Lembaga Pemasyarakatan Kelas IIB Luwuk,  Efendi Wahyudi  mengatakan bahwa  kegiatan tersebut langsung diipantau, yang didampingi oleh Kasi Binapigiatja dan staf registrasi.Tujuan pemantauan ini tidak hanya untuk memastikan kelancaran pengambilan data dan perekaman biometrik, tetapi juga untuk memastikan bahwa setiap wargabinaan memiliki akses penuh untuk menggunakan hak pilihnya pada Pemilu mendatang.Ujarnyanya.Kata Kalapas Luwuk  kegiatan ini  sebagai tindak lanjut, sehingga kami akan  laporkan kegiatan ini kepada Kakanwil Kemenkumham Sulawesi Tengah melalui Kepala Divisi Pemasyarakatan.Apresiasi juga diberikan kepada seluruh petugas yang telah menjaga keamanan dan ketertiban selama pelaksanaan kegiatan ini.Dengan adanya kegiatan ini, diharapkan bahwa narapidana yang belum memiliki E-KTP dapat segera memenuhi syarat pemilu dan berpartisipasi aktif dalam demokrasi pada tahun 2024.**\",\n          \"BERITABANGGAI.COM, LUWUK \\u2013Ini adalah kabar gembira bagi masyarakat Kabupaten Banggai. Telah hadir di kota Luwuk, MODENA, merek penyedia peralatan rumah tangga yang telah dipercaya selama lebih dari empat dekade oleh masyarakat Indonesia.MODENA Secara resmi membuka Modena Home Center (MHC) pertama di kota Luwuk, pada Sabtu, (16/12/2023). Ini merupakan Modena Home Center pertama yang dibuka di kota Luwuk yang berlokasi di Jalan Samratulangi Kelurahan Soho, tepatnya di depan SDN 1 Luwuk.Pembukaan MHC ini merupakan langkah ekspansi bagi MODENA untuk konsumen di kawasan Indonesia Tengah dalam menyediakan produk-produk solusi rumah tangga pintar dan inovatif di seluruh Indonesia.MODENA secara resmi membuka Modena Home Center Pertama di LuwukYunanto Sirin, selaku Franchise Acquisition Manager MODENA, menjelaskan \\u201cMODENA Home Center Luwuk adalah MODENA Home Center pertama kami yang hadir di Luwuk.\\u201cAlasan kami untuk melakukan ekspansi melalui dibukanya MHC di kota Luwuk, tentunya kami melihat perkembangan dari sektor ekonomi dan pariwisata yang signifikan. Dengan pertumbuhan tersebut, tentunya kebutuhan akan produk-produk home appliances pun pasti meningkat,\\u201d katanya.Oleh karena itu, hari ini secara resmi hadir MHC hadir di kota Luwuk untuk menawarkan produk-produk solusi rumah tangga pintar dan inovatif sehingga dapat membantu memberikan kemudahan bagi masyarakat dalam menjalani aktivitas setiap hari.Dalam perjalanannya sepanjang tahun 2023, MODENA telah membuka lebih banyak Home Center di sejumlah kota besar di Indonesia. Hal ini merupayakan upaya MODENA untuk membawa solusi rumah tangga inovatifnya semakin dekat dengan masyarakat.Selain itu, hadirnya MODENA Home Center juga memberi kesempatan bagi pelanggan untuk merasakan pengalaman langsung menggunakan produk MODENA. Hingga Desember 2023, MODENA telah hadir di 51 titik yang tersebar di seluruh Indonesia, dan masih akan terus bertambah hingga akhir tahun 2023 ini.Khairul Fahmi Lubis selaku Regional Branches Business Development Senior Manager MODENA bagian Timur menambahkan, MHC bukan hanya sekedar showroom untuk menampilkan berbagai koleksi produk kami yang berkualitas.\\u201cDisini, kami juga menghadirkan pengalaman terbaik bagi para customer ketika mereka berkunjung mencari produk, dimulai dari proses memilih, mencoba, hingga akhirnya membeli produk,\\u201d katanya.Tak hanya itu pengalaman after sales yang kami berikan pun begitu mudah dan nyaman, hanya dengan menghubungi atau mengunjungi kami untuk bantuan lebih lanjut.MODENA Home Center memiliki moto 3S, Sales, Service Point, & Spare Part. Konsistensi MODENA dalam memberikan pengalaman terbaiknya bagi para costumer juga diperlihatkan dengan hadirnya MODENA Expert, sales representative dengan pengetahuan menyeluruh seputar produk di setiap MODENA Home Center untuk membantu pelanggan dengan segala kebutuhan dan pertanyaan terkait produk.Jika membutuhkan aksesoris atau spare parts produk, pelanggan bisa mendapatkannya disini. Begitu pun jika produk membutuhkan maintenance dari teknisi ahli, pelanggan dapat mengantarkan produknya ke MODENA Home Center untuk diteruskan ke service center terdekat.Pembukaan MODENA Home Center Luwuk juga diramaikan dengan sejumlah promo eksklusif yang berlaku selama periode Grand Opening berlangsung. Untuk informasi terkini seputar produk, penawaran menarik, serta tips dan trik sehari-hari dari MODENA bisa dilihat melalui akun Instagram @modenaindonesia dan website modena.com.Modena Home Center secara resmi telah hadir di Kota LuwukSekedar diketahui, MODENA adalah merek global consumer electronics ternama yang didirikan sejak tahun 1960-an di Italia Utara. Sejak tahun 1980-an, MODENA telah melakukan pergeseran strategis operasionalnya ke benua Asia.Jajaran produk MODENA meliputi Home, Professional, Tech, Health, Mobility, dan Energy didukung oleh studio desain yang inovatif di Italia dan pusat R&D yang terdapat di berbagai belahan dunia.Produk-produk MODENA diproduksi di berbagai negara antara lain Italia, China, Belarus, Mesir, Uzbekistan, Vietnam, dan Indonesia di bawah sertifikasi dan sistem manajemen kualitas bertaraf internasional.Visi MODENA saat ini adalah untuk menjadi penggerak menuju sebuah dunia yang terinterkoneksi. Lini produk MODENA yang terus berkembang diciptakan dengan semangat untuk mempertegas pengalaman manusia.Diciptakan dengan desain modern dan teknologi terkini seperti Internet of Things (IoT), merupakan bentuk komitmen MODENA untuk terus berjuang menghadirkan inovasi produk yang terinterkoneksi secara cerdas kepada para konsumen. (*)(bb/05)\",\n          \"KABAR LUWUK  \\u2013  Koramil 1308-01/Luwuk melaksanakan kegiatan patroli intensif menggunakan kendaraan motor dinas.Kegiatan ini dilakukan dalam rangka memonitor dan menjaga keamanan serta ketertiban di wilayah binaan Koramil tersebut.Danramil 1308-01/Luwuk, Letda Inf Romel Kamea, memimpin langsung kegiatan patroli ini yang melibatkan anggota Koramil 1308-01/Luwuk. Sabtu, 2 Desember 2023, pukul 21.00 WITA.Rangkaian kegiatan dimulai dengan apel pengecekan personil pada pukul 23.30 WITA, sebagai persiapan sebelum melaksanakan patroli. Pada pukul 21.50 WITA, anggota patroli melaksanakan kegiatan patroli dengan rute yang melibatkan sejumlah lokasi strategis di wilayah Luwuk.Beberapa tempat yang menjadi fokus patroli antara lain Tempat Hiburan Malam, D\\u2019Club, Bukit Halimun, Happy Pappy, Kelurahan Maahas, NAV Kelurahan Luwuk, Kelurahan Karaton, RTH, Lalong, Wisata KM 5, Jalan Rajawali, Jalan Garuda, Puncak Keles, dan Kecamatan Luwuk Timur.Kegiatan patroli ini dilakukan secara terus-menerus di wilayah teritorial Koramil 1308-01/Luwuk dengan tujuan untuk menjamin agar situasi tetap aman dan kondusif.Personil yang terlibat dalam kegiatan patroli melibatkan Danramil 1308-01/Luwuk, Letda Inf Romel Kamea, serta anggota Koramil 1308-01/Luwuk lainnya.Dengan adanya kegiatan patroli ini, diharapkan dapat memberikan rasa aman kepada masyarakat Luwuk serta mencegah potensi gangguan kamtibmas di wilayah tersebut.Koramil 1308-01/Luwuk terus berkomitmen untuk menjaga keamanan dan ketertiban demi kesejahteraan bersama. **\"\n        ],\n        \"semantic_type\": \"\",\n        \"description\": \"\"\n      }\n    },\n    {\n      \"column\": \"lwr\",\n      \"properties\": {\n        \"dtype\": \"string\",\n        \"num_unique_values\": 147,\n        \"samples\": [\n          \"kabar luwuk \\u2013perekaman biometrik wbptanpa e-ktp di banggai, upaya kalapas untukhak pilih 2024.kegiatan pengambilan data biometrik untuk narapidana tanpa e-ktp di lapas banggai menjadi langkah strategis hasil koordinasi antarakalapasdan disdukcapilkabupaten banggai. jum,at  8/12/2023.kegiatan ini, yang melibatkankasi pelayanan pendaftaran, kasi pendataan penduduk, dan kasi pengelolaan data daridisdukcapil banggai,dilaksanakan dengan tujuanpenerbitan e-ktpguna memenuhi syarat hak pilih wargabinaan pada pemilu 2024.perekaman biometrik dipimpin oleh muzaimah g tompe, s. sos (kasi pelayanan pendaftaran), tri ningsih hadiprawoto se (kasi pendataan penduduk), dan jefri kasim, se (kasi pengelolaan data) beserta staf.mereka berfokus pada narapidana yang belum memiliki e-ktp, dengan harapan setiap wargabinaan dapat menggunakan hak pilihnya pada saat pemilu tahun 2024.kepala lembaga pemasyarakatan kelas iib luwuk,  efendi wahyudi  mengatakan bahwa  kegiatan tersebut langsung diipantau, yang didampingi oleh kasi binapigiatja dan staf registrasi.tujuan pemantauan ini tidak hanya untuk memastikan kelancaran pengambilan data dan perekaman biometrik, tetapi juga untuk memastikan bahwa setiap wargabinaan memiliki akses penuh untuk menggunakan hak pilihnya pada pemilu mendatang.ujarnyanya.kata kalapas luwuk  kegiatan ini  sebagai tindak lanjut, sehingga kami akan  laporkan kegiatan ini kepada kakanwil kemenkumham sulawesi tengah melalui kepala divisi pemasyarakatan.apresiasi juga diberikan kepada seluruh petugas yang telah menjaga keamanan dan ketertiban selama pelaksanaan kegiatan ini.dengan adanya kegiatan ini, diharapkan bahwa narapidana yang belum memiliki e-ktp dapat segera memenuhi syarat pemilu dan berpartisipasi aktif dalam demokrasi pada tahun 2024.**\",\n          \"beritabanggai.com, luwuk \\u2013ini adalah kabar gembira bagi masyarakat kabupaten banggai. telah hadir di kota luwuk, modena, merek penyedia peralatan rumah tangga yang telah dipercaya selama lebih dari empat dekade oleh masyarakat indonesia.modena secara resmi membuka modena home center (mhc) pertama di kota luwuk, pada sabtu, (16/12/2023). ini merupakan modena home center pertama yang dibuka di kota luwuk yang berlokasi di jalan samratulangi kelurahan soho, tepatnya di depan sdn 1 luwuk.pembukaan mhc ini merupakan langkah ekspansi bagi modena untuk konsumen di kawasan indonesia tengah dalam menyediakan produk-produk solusi rumah tangga pintar dan inovatif di seluruh indonesia.modena secara resmi membuka modena home center pertama di luwukyunanto sirin, selaku franchise acquisition manager modena, menjelaskan \\u201cmodena home center luwuk adalah modena home center pertama kami yang hadir di luwuk.\\u201calasan kami untuk melakukan ekspansi melalui dibukanya mhc di kota luwuk, tentunya kami melihat perkembangan dari sektor ekonomi dan pariwisata yang signifikan. dengan pertumbuhan tersebut, tentunya kebutuhan akan produk-produk home appliances pun pasti meningkat,\\u201d katanya.oleh karena itu, hari ini secara resmi hadir mhc hadir di kota luwuk untuk menawarkan produk-produk solusi rumah tangga pintar dan inovatif sehingga dapat membantu memberikan kemudahan bagi masyarakat dalam menjalani aktivitas setiap hari.dalam perjalanannya sepanjang tahun 2023, modena telah membuka lebih banyak home center di sejumlah kota besar di indonesia. hal ini merupayakan upaya modena untuk membawa solusi rumah tangga inovatifnya semakin dekat dengan masyarakat.selain itu, hadirnya modena home center juga memberi kesempatan bagi pelanggan untuk merasakan pengalaman langsung menggunakan produk modena. hingga desember 2023, modena telah hadir di 51 titik yang tersebar di seluruh indonesia, dan masih akan terus bertambah hingga akhir tahun 2023 ini.khairul fahmi lubis selaku regional branches business development senior manager modena bagian timur menambahkan, mhc bukan hanya sekedar showroom untuk menampilkan berbagai koleksi produk kami yang berkualitas.\\u201cdisini, kami juga menghadirkan pengalaman terbaik bagi para customer ketika mereka berkunjung mencari produk, dimulai dari proses memilih, mencoba, hingga akhirnya membeli produk,\\u201d katanya.tak hanya itu pengalaman after sales yang kami berikan pun begitu mudah dan nyaman, hanya dengan menghubungi atau mengunjungi kami untuk bantuan lebih lanjut.modena home center memiliki moto 3s, sales, service point, & spare part. konsistensi modena dalam memberikan pengalaman terbaiknya bagi para costumer juga diperlihatkan dengan hadirnya modena expert, sales representative dengan pengetahuan menyeluruh seputar produk di setiap modena home center untuk membantu pelanggan dengan segala kebutuhan dan pertanyaan terkait produk.jika membutuhkan aksesoris atau spare parts produk, pelanggan bisa mendapatkannya disini. begitu pun jika produk membutuhkan maintenance dari teknisi ahli, pelanggan dapat mengantarkan produknya ke modena home center untuk diteruskan ke service center terdekat.pembukaan modena home center luwuk juga diramaikan dengan sejumlah promo eksklusif yang berlaku selama periode grand opening berlangsung. untuk informasi terkini seputar produk, penawaran menarik, serta tips dan trik sehari-hari dari modena bisa dilihat melalui akun instagram @modenaindonesia dan website modena.com.modena home center secara resmi telah hadir di kota luwuksekedar diketahui, modena adalah merek global consumer electronics ternama yang didirikan sejak tahun 1960-an di italia utara. sejak tahun 1980-an, modena telah melakukan pergeseran strategis operasionalnya ke benua asia.jajaran produk modena meliputi home, professional, tech, health, mobility, dan energy didukung oleh studio desain yang inovatif di italia dan pusat r&d yang terdapat di berbagai belahan dunia.produk-produk modena diproduksi di berbagai negara antara lain italia, china, belarus, mesir, uzbekistan, vietnam, dan indonesia di bawah sertifikasi dan sistem manajemen kualitas bertaraf internasional.visi modena saat ini adalah untuk menjadi penggerak menuju sebuah dunia yang terinterkoneksi. lini produk modena yang terus berkembang diciptakan dengan semangat untuk mempertegas pengalaman manusia.diciptakan dengan desain modern dan teknologi terkini seperti internet of things (iot), merupakan bentuk komitmen modena untuk terus berjuang menghadirkan inovasi produk yang terinterkoneksi secara cerdas kepada para konsumen. (*)(bb/05)\",\n          \"kabar luwuk  \\u2013  koramil 1308-01/luwuk melaksanakan kegiatan patroli intensif menggunakan kendaraan motor dinas.kegiatan ini dilakukan dalam rangka memonitor dan menjaga keamanan serta ketertiban di wilayah binaan koramil tersebut.danramil 1308-01/luwuk, letda inf romel kamea, memimpin langsung kegiatan patroli ini yang melibatkan anggota koramil 1308-01/luwuk. sabtu, 2 desember 2023, pukul 21.00 wita.rangkaian kegiatan dimulai dengan apel pengecekan personil pada pukul 23.30 wita, sebagai persiapan sebelum melaksanakan patroli. pada pukul 21.50 wita, anggota patroli melaksanakan kegiatan patroli dengan rute yang melibatkan sejumlah lokasi strategis di wilayah luwuk.beberapa tempat yang menjadi fokus patroli antara lain tempat hiburan malam, d\\u2019club, bukit halimun, happy pappy, kelurahan maahas, nav kelurahan luwuk, kelurahan karaton, rth, lalong, wisata km 5, jalan rajawali, jalan garuda, puncak keles, dan kecamatan luwuk timur.kegiatan patroli ini dilakukan secara terus-menerus di wilayah teritorial koramil 1308-01/luwuk dengan tujuan untuk menjamin agar situasi tetap aman dan kondusif.personil yang terlibat dalam kegiatan patroli melibatkan danramil 1308-01/luwuk, letda inf romel kamea, serta anggota koramil 1308-01/luwuk lainnya.dengan adanya kegiatan patroli ini, diharapkan dapat memberikan rasa aman kepada masyarakat luwuk serta mencegah potensi gangguan kamtibmas di wilayah tersebut.koramil 1308-01/luwuk terus berkomitmen untuk menjaga keamanan dan ketertiban demi kesejahteraan bersama. **\"\n        ],\n        \"semantic_type\": \"\",\n        \"description\": \"\"\n      }\n    },\n    {\n      \"column\": \"clean_number\",\n      \"properties\": {\n        \"dtype\": \"string\",\n        \"num_unique_values\": 147,\n        \"samples\": [\n          \"kabar luwuk \\u2013perekaman biometrik wbptanpa e-ktp di banggai, upaya kalapas untukhak pilih .kegiatan pengambilan data biometrik untuk narapidana tanpa e-ktp di lapas banggai menjadi langkah strategis hasil koordinasi antarakalapasdan disdukcapilkabupaten banggai. jum,at  //.kegiatan ini, yang melibatkankasi pelayanan pendaftaran, kasi pendataan penduduk, dan kasi pengelolaan data daridisdukcapil banggai,dilaksanakan dengan tujuanpenerbitan e-ktpguna memenuhi syarat hak pilih wargabinaan pada pemilu .perekaman biometrik dipimpin oleh muzaimah g tompe, s. sos (kasi pelayanan pendaftaran), tri ningsih hadiprawoto se (kasi pendataan penduduk), dan jefri kasim, se (kasi pengelolaan data) beserta staf.mereka berfokus pada narapidana yang belum memiliki e-ktp, dengan harapan setiap wargabinaan dapat menggunakan hak pilihnya pada saat pemilu tahun .kepala lembaga pemasyarakatan kelas iib luwuk,  efendi wahyudi  mengatakan bahwa  kegiatan tersebut langsung diipantau, yang didampingi oleh kasi binapigiatja dan staf registrasi.tujuan pemantauan ini tidak hanya untuk memastikan kelancaran pengambilan data dan perekaman biometrik, tetapi juga untuk memastikan bahwa setiap wargabinaan memiliki akses penuh untuk menggunakan hak pilihnya pada pemilu mendatang.ujarnyanya.kata kalapas luwuk  kegiatan ini  sebagai tindak lanjut, sehingga kami akan  laporkan kegiatan ini kepada kakanwil kemenkumham sulawesi tengah melalui kepala divisi pemasyarakatan.apresiasi juga diberikan kepada seluruh petugas yang telah menjaga keamanan dan ketertiban selama pelaksanaan kegiatan ini.dengan adanya kegiatan ini, diharapkan bahwa narapidana yang belum memiliki e-ktp dapat segera memenuhi syarat pemilu dan berpartisipasi aktif dalam demokrasi pada tahun .**\",\n          \"beritabanggai.com, luwuk \\u2013ini adalah kabar gembira bagi masyarakat kabupaten banggai. telah hadir di kota luwuk, modena, merek penyedia peralatan rumah tangga yang telah dipercaya selama lebih dari empat dekade oleh masyarakat indonesia.modena secara resmi membuka modena home center (mhc) pertama di kota luwuk, pada sabtu, (//). ini merupakan modena home center pertama yang dibuka di kota luwuk yang berlokasi di jalan samratulangi kelurahan soho, tepatnya di depan sdn  luwuk.pembukaan mhc ini merupakan langkah ekspansi bagi modena untuk konsumen di kawasan indonesia tengah dalam menyediakan produk-produk solusi rumah tangga pintar dan inovatif di seluruh indonesia.modena secara resmi membuka modena home center pertama di luwukyunanto sirin, selaku franchise acquisition manager modena, menjelaskan \\u201cmodena home center luwuk adalah modena home center pertama kami yang hadir di luwuk.\\u201calasan kami untuk melakukan ekspansi melalui dibukanya mhc di kota luwuk, tentunya kami melihat perkembangan dari sektor ekonomi dan pariwisata yang signifikan. dengan pertumbuhan tersebut, tentunya kebutuhan akan produk-produk home appliances pun pasti meningkat,\\u201d katanya.oleh karena itu, hari ini secara resmi hadir mhc hadir di kota luwuk untuk menawarkan produk-produk solusi rumah tangga pintar dan inovatif sehingga dapat membantu memberikan kemudahan bagi masyarakat dalam menjalani aktivitas setiap hari.dalam perjalanannya sepanjang tahun , modena telah membuka lebih banyak home center di sejumlah kota besar di indonesia. hal ini merupayakan upaya modena untuk membawa solusi rumah tangga inovatifnya semakin dekat dengan masyarakat.selain itu, hadirnya modena home center juga memberi kesempatan bagi pelanggan untuk merasakan pengalaman langsung menggunakan produk modena. hingga desember , modena telah hadir di  titik yang tersebar di seluruh indonesia, dan masih akan terus bertambah hingga akhir tahun  ini.khairul fahmi lubis selaku regional branches business development senior manager modena bagian timur menambahkan, mhc bukan hanya sekedar showroom untuk menampilkan berbagai koleksi produk kami yang berkualitas.\\u201cdisini, kami juga menghadirkan pengalaman terbaik bagi para customer ketika mereka berkunjung mencari produk, dimulai dari proses memilih, mencoba, hingga akhirnya membeli produk,\\u201d katanya.tak hanya itu pengalaman after sales yang kami berikan pun begitu mudah dan nyaman, hanya dengan menghubungi atau mengunjungi kami untuk bantuan lebih lanjut.modena home center memiliki moto s, sales, service point, & spare part. konsistensi modena dalam memberikan pengalaman terbaiknya bagi para costumer juga diperlihatkan dengan hadirnya modena expert, sales representative dengan pengetahuan menyeluruh seputar produk di setiap modena home center untuk membantu pelanggan dengan segala kebutuhan dan pertanyaan terkait produk.jika membutuhkan aksesoris atau spare parts produk, pelanggan bisa mendapatkannya disini. begitu pun jika produk membutuhkan maintenance dari teknisi ahli, pelanggan dapat mengantarkan produknya ke modena home center untuk diteruskan ke service center terdekat.pembukaan modena home center luwuk juga diramaikan dengan sejumlah promo eksklusif yang berlaku selama periode grand opening berlangsung. untuk informasi terkini seputar produk, penawaran menarik, serta tips dan trik sehari-hari dari modena bisa dilihat melalui akun instagram @modenaindonesia dan website modena.com.modena home center secara resmi telah hadir di kota luwuksekedar diketahui, modena adalah merek global consumer electronics ternama yang didirikan sejak tahun -an di italia utara. sejak tahun -an, modena telah melakukan pergeseran strategis operasionalnya ke benua asia.jajaran produk modena meliputi home, professional, tech, health, mobility, dan energy didukung oleh studio desain yang inovatif di italia dan pusat r&d yang terdapat di berbagai belahan dunia.produk-produk modena diproduksi di berbagai negara antara lain italia, china, belarus, mesir, uzbekistan, vietnam, dan indonesia di bawah sertifikasi dan sistem manajemen kualitas bertaraf internasional.visi modena saat ini adalah untuk menjadi penggerak menuju sebuah dunia yang terinterkoneksi. lini produk modena yang terus berkembang diciptakan dengan semangat untuk mempertegas pengalaman manusia.diciptakan dengan desain modern dan teknologi terkini seperti internet of things (iot), merupakan bentuk komitmen modena untuk terus berjuang menghadirkan inovasi produk yang terinterkoneksi secara cerdas kepada para konsumen. (*)(bb/)\",\n          \"kabar luwuk  \\u2013  koramil -/luwuk melaksanakan kegiatan patroli intensif menggunakan kendaraan motor dinas.kegiatan ini dilakukan dalam rangka memonitor dan menjaga keamanan serta ketertiban di wilayah binaan koramil tersebut.danramil -/luwuk, letda inf romel kamea, memimpin langsung kegiatan patroli ini yang melibatkan anggota koramil -/luwuk. sabtu,  desember , pukul . wita.rangkaian kegiatan dimulai dengan apel pengecekan personil pada pukul . wita, sebagai persiapan sebelum melaksanakan patroli. pada pukul . wita, anggota patroli melaksanakan kegiatan patroli dengan rute yang melibatkan sejumlah lokasi strategis di wilayah luwuk.beberapa tempat yang menjadi fokus patroli antara lain tempat hiburan malam, d\\u2019club, bukit halimun, happy pappy, kelurahan maahas, nav kelurahan luwuk, kelurahan karaton, rth, lalong, wisata km , jalan rajawali, jalan garuda, puncak keles, dan kecamatan luwuk timur.kegiatan patroli ini dilakukan secara terus-menerus di wilayah teritorial koramil -/luwuk dengan tujuan untuk menjamin agar situasi tetap aman dan kondusif.personil yang terlibat dalam kegiatan patroli melibatkan danramil -/luwuk, letda inf romel kamea, serta anggota koramil -/luwuk lainnya.dengan adanya kegiatan patroli ini, diharapkan dapat memberikan rasa aman kepada masyarakat luwuk serta mencegah potensi gangguan kamtibmas di wilayah tersebut.koramil -/luwuk terus berkomitmen untuk menjaga keamanan dan ketertiban demi kesejahteraan bersama. **\"\n        ],\n        \"semantic_type\": \"\",\n        \"description\": \"\"\n      }\n    },\n    {\n      \"column\": \"clean_punct\",\n      \"properties\": {\n        \"dtype\": \"string\",\n        \"num_unique_values\": 147,\n        \"samples\": [\n          \"kabar luwuk  perekaman biometrik wbptanpa e ktp di banggai upaya kalapas untukhak pilih  kegiatan pengambilan data biometrik untuk narapidana tanpa e ktp di lapas banggai menjadi langkah strategis hasil koordinasi antarakalapasdan disdukcapilkabupaten banggai  jumat   kegiatan ini yang melibatkankasi pelayanan pendaftaran kasi pendataan penduduk dan kasi pengelolaan data daridisdukcapil banggaidilaksanakan dengan tujuanpenerbitan e ktpguna memenuhi syarat hak pilih wargabinaan pada pemilu  perekaman biometrik dipimpin oleh muzaimah g tompe s  sos kasi pelayanan pendaftaran tri ningsih hadiprawoto se kasi pendataan penduduk dan jefri kasim se kasi pengelolaan data beserta staf mereka berfokus pada narapidana yang belum memiliki e ktp dengan harapan setiap wargabinaan dapat menggunakan hak pilihnya pada saat pemilu tahun  kepala lembaga pemasyarakatan kelas iib luwuk  efendi wahyudi  mengatakan bahwa  kegiatan tersebut langsung diipantau yang didampingi oleh kasi binapigiatja dan staf registrasi tujuan pemantauan ini tidak hanya untuk memastikan kelancaran pengambilan data dan perekaman biometrik tetapi juga untuk memastikan bahwa setiap wargabinaan memiliki akses penuh untuk menggunakan hak pilihnya pada pemilu mendatang ujarnyanya kata kalapas luwuk  kegiatan ini  sebagai tindak lanjut sehingga kami akan  laporkan kegiatan ini kepada kakanwil kemenkumham sulawesi tengah melalui kepala divisi pemasyarakatan apresiasi juga diberikan kepada seluruh petugas yang telah menjaga keamanan dan ketertiban selama pelaksanaan kegiatan ini dengan adanya kegiatan ini diharapkan bahwa narapidana yang belum memiliki e ktp dapat segera memenuhi syarat pemilu dan berpartisipasi aktif dalam demokrasi pada tahun    \",\n          \"beritabanggai com luwuk  ini adalah kabar gembira bagi masyarakat kabupaten banggai  telah hadir di kota luwuk modena merek penyedia peralatan rumah tangga yang telah dipercaya selama lebih dari empat dekade oleh masyarakat indonesia modena secara resmi membuka modena home center mhc pertama di kota luwuk pada sabtu   ini merupakan modena home center pertama yang dibuka di kota luwuk yang berlokasi di jalan samratulangi kelurahan soho tepatnya di depan sdn  luwuk pembukaan mhc ini merupakan langkah ekspansi bagi modena untuk konsumen di kawasan indonesia tengah dalam menyediakan produk produk solusi rumah tangga pintar dan inovatif di seluruh indonesia modena secara resmi membuka modena home center pertama di luwukyunanto sirin selaku franchise acquisition manager modena menjelaskan  modena home center luwuk adalah modena home center pertama kami yang hadir di luwuk  alasan kami untuk melakukan ekspansi melalui dibukanya mhc di kota luwuk tentunya kami melihat perkembangan dari sektor ekonomi dan pariwisata yang signifikan  dengan pertumbuhan tersebut tentunya kebutuhan akan produk produk home appliances pun pasti meningkat  katanya oleh karena itu hari ini secara resmi hadir mhc hadir di kota luwuk untuk menawarkan produk produk solusi rumah tangga pintar dan inovatif sehingga dapat membantu memberikan kemudahan bagi masyarakat dalam menjalani aktivitas setiap hari dalam perjalanannya sepanjang tahun  modena telah membuka lebih banyak home center di sejumlah kota besar di indonesia  hal ini merupayakan upaya modena untuk membawa solusi rumah tangga inovatifnya semakin dekat dengan masyarakat selain itu hadirnya modena home center juga memberi kesempatan bagi pelanggan untuk merasakan pengalaman langsung menggunakan produk modena  hingga desember  modena telah hadir di  titik yang tersebar di seluruh indonesia dan masih akan terus bertambah hingga akhir tahun  ini khairul fahmi lubis selaku regional branches business development senior manager modena bagian timur menambahkan mhc bukan hanya sekedar showroom untuk menampilkan berbagai koleksi produk kami yang berkualitas  disini kami juga menghadirkan pengalaman terbaik bagi para customer ketika mereka berkunjung mencari produk dimulai dari proses memilih mencoba hingga akhirnya membeli produk  katanya tak hanya itu pengalaman after sales yang kami berikan pun begitu mudah dan nyaman hanya dengan menghubungi atau mengunjungi kami untuk bantuan lebih lanjut modena home center memiliki moto s sales service point   spare part  konsistensi modena dalam memberikan pengalaman terbaiknya bagi para costumer juga diperlihatkan dengan hadirnya modena expert sales representative dengan pengetahuan menyeluruh seputar produk di setiap modena home center untuk membantu pelanggan dengan segala kebutuhan dan pertanyaan terkait produk jika membutuhkan aksesoris atau spare parts produk pelanggan bisa mendapatkannya disini  begitu pun jika produk membutuhkan maintenance dari teknisi ahli pelanggan dapat mengantarkan produknya ke modena home center untuk diteruskan ke service center terdekat pembukaan modena home center luwuk juga diramaikan dengan sejumlah promo eksklusif yang berlaku selama periode grand opening berlangsung  untuk informasi terkini seputar produk penawaran menarik serta tips dan trik sehari hari dari modena bisa dilihat melalui akun instagram modenaindonesia dan website modena com modena home center secara resmi telah hadir di kota luwuksekedar diketahui modena adalah merek global consumer electronics ternama yang didirikan sejak tahun  an di italia utara  sejak tahun  an modena telah melakukan pergeseran strategis operasionalnya ke benua asia jajaran produk modena meliputi home professional tech health mobility dan energy didukung oleh studio desain yang inovatif di italia dan pusat r d yang terdapat di berbagai belahan dunia produk produk modena diproduksi di berbagai negara antara lain italia china belarus mesir uzbekistan vietnam dan indonesia di bawah sertifikasi dan sistem manajemen kualitas bertaraf internasional visi modena saat ini adalah untuk menjadi penggerak menuju sebuah dunia yang terinterkoneksi  lini produk modena yang terus berkembang diciptakan dengan semangat untuk mempertegas pengalaman manusia diciptakan dengan desain modern dan teknologi terkini seperti internet of things iot merupakan bentuk komitmen modena untuk terus berjuang menghadirkan inovasi produk yang terinterkoneksi secara cerdas kepada para konsumen   bb\",\n          \"kabar luwuk     koramil  luwuk melaksanakan kegiatan patroli intensif menggunakan kendaraan motor dinas kegiatan ini dilakukan dalam rangka memonitor dan menjaga keamanan serta ketertiban di wilayah binaan koramil tersebut danramil  luwuk letda inf romel kamea memimpin langsung kegiatan patroli ini yang melibatkan anggota koramil  luwuk  sabtu  desember  pukul   wita rangkaian kegiatan dimulai dengan apel pengecekan personil pada pukul   wita sebagai persiapan sebelum melaksanakan patroli  pada pukul   wita anggota patroli melaksanakan kegiatan patroli dengan rute yang melibatkan sejumlah lokasi strategis di wilayah luwuk beberapa tempat yang menjadi fokus patroli antara lain tempat hiburan malam d club bukit halimun happy pappy kelurahan maahas nav kelurahan luwuk kelurahan karaton rth lalong wisata km  jalan rajawali jalan garuda puncak keles dan kecamatan luwuk timur kegiatan patroli ini dilakukan secara terus menerus di wilayah teritorial koramil  luwuk dengan tujuan untuk menjamin agar situasi tetap aman dan kondusif personil yang terlibat dalam kegiatan patroli melibatkan danramil  luwuk letda inf romel kamea serta anggota koramil  luwuk lainnya dengan adanya kegiatan patroli ini diharapkan dapat memberikan rasa aman kepada masyarakat luwuk serta mencegah potensi gangguan kamtibmas di wilayah tersebut koramil  luwuk terus berkomitmen untuk menjaga keamanan dan ketertiban demi kesejahteraan bersama    \"\n        ],\n        \"semantic_type\": \"\",\n        \"description\": \"\"\n      }\n    },\n    {\n      \"column\": \"clean_double_ws\",\n      \"properties\": {\n        \"dtype\": \"string\",\n        \"num_unique_values\": 146,\n        \"samples\": [\n          \"yogyakarta kompas com tingkat partisipasi pemilih pada pemilihan suara ulang psu di daerah istimewa yogyakarta turun persen koordinator divisi sosialisasi pendidikan pemilih partisipasi masyarakat dan sdm kpu diy sri surani mengatakan tingkat partisipasi pemilih pada psu di diy turun kendati demikian tidak ada perubahan signifikan dalam hasil psu yang digelar baca juga ada anak memaksa ingin mencoblos buat tps di serang gelar pemilihan ulang partisipasi psu turun sekitar persen tapi ya gimana itu bagian dari amanat uu yang harus kita lakukan dalam rangka menjaga hak masyarakat dan harus kita lakukan psu ujar sri saat ditemui di rekapitulasi suara tingkat kota yogyakarta rabu sri menjelaskan selama psu dan pemilihan suara lanjutan psl tidak ada kendala rekapituasi di tingkat kota maupun kabupaten sebab sebelum dilakukan psu dan psl sudah mendapatkan rekomendasi saran perbaikan dari bawaslu di kota ada tps yang melakukan psu dan dilakukan dengan baik artinya hanya menunda proses rekapitulasi dan finalisasi di tingkat kemantren ujar dia sri menuturkan pada hari ini rekapitulasi hasil perhitungan suara di tingkat kabupaten kota dimulai dia berharap tahapan ini dapat berjalan secara lancar dan semua masalah dapat diselesaikan di tingkat kabupaten dan kota alhamdulillah sampai hari ini berjalan dengan lancar ini tentu sangat kami harapkan kalau pun ada perbaikan hanya di data administrasi saja beber dia lanjut dia untuk rekapitulasi di tingkat provinsi masih menunggu hasil rekapitulasi suara di seluruh kabupaten dan kota yang ada di diy kami menunggu kabupaten dan kota selesai rekapitulasi nanti kalau rencananya awal bulan tanggal maret kita harus tetap menunggu kabar terbaru dari kabupaten dan kota harus semuanya selesai dulu kata dia baca juga demo di kantor kpu buton tengah sempat ricuh massa protes soal pembatalan psu sebelumnya ketua kpu kota yogyakarta noor harsya mengatakan walaupun sempat dilakukan pemungutan suara ulang psu tak mempengaruhi proses rekapitulasi pada hari ini hasil penghitungan psu sudah masuk dalam rekapitulasi di kematren wirobrajan dan pakualaman sehingga di hasil rekapitulasi di kemantren itu sudah aktual dan berdasarkan fakta ujar dia harsya menambahkan rekapitulasi di tingkat kota ini dilakukan selama hari dengan membaca dan mencermati rekapitulasi di kemantren di kota yogyakartyang sudah dilakukan finalisasi oleh pppk dan saksi serta penwascam ketika masih ada hal yang kurang kita mencermati bersama sama melakukan pencermatan datanya akurat atau tidak misalnya data dpt itu sesuai dengan yang sudah ditetapka juni atau tidak kalau tidak kita sesuaikan kemudian jumlah laki laki perempuannya juga akan kita cermati bersama sama ujar dia dalam rekapitulasi ini kpu kota yogyakarta melakukan pencermatan hasil reakpitulias di tingkat kemantren baik itu pemilu presiden dan wakil presiden dpr ri dpd dprd provnsi dan dprd kabupaten atau kota khususnya di kota yogyakarta\",\n          \"banggai raya badan kepegawaian sumber daya manusia bkpsdm kabupaten banggai di bawah pimpinan kaban soffian datu adam resmi mengumumkan hasil seleksi pppk guru tahun anggaran hasil seleksi itu telah diumumkan sabtu sore desember di website resmi milik bkpsdm banggai informasi telah diumumkan hasil seleksi pppk guru juga disampaikan instansi itu melalui akun facebook resminya bagi peserta yang ingin mengecek nama nama yang lulus bisa langsung mengakses link berikut https www bkpsdm banggai com disampaikan juga bkpsdm banggai di bagi peserta yang dinyatakan lulus seleksi dapat bergabung di grup telegram untuk informasi pemberkasan penetapan nomor induk https t me zgshpi ytg dikonfirmasi banggai raya ruli nasution staf di bkpsdm banggai mengatakan jumlah formasi guru tahun anggaran sebanyak posisi dari ribuan formasi itu hanya yang terisi dan tidak terisi atau kosong\",\n          \"borneonews palangka raya pj wali kota palangka raya hera nugrahayu telah menetapkan status tanggap darurat sebagai respons terhadap banjir yang melanda kelurahan dengan ribuan warga terdampak dalam menghadapi situasi ini hera menginstruksikan seluruh jajaran pemerintah kota untuk bergerak cepat dalam memberikan bantuan dan pelayanan kepada masyarakat yang terdampak sejumlah langkah penanganan telah dilaksanakan termasuk distribusi bantuan sembako yang sangat dibutuhkan oleh warga kemudian penyediaan layanan pengobatan bagi yang memerlukan serta penyiapan tempat pengungsian sementara bagi mereka yang tempat tinggalnya terendam akibat banjir hera menekankan pentingnya koordinasi yang baik antar lembaga dan instansi terkait untuk memastikan bahwa bantuan yang diberikan dapat mencapai warga yang membutuhkan secara efektif dan efisien kita harus bekerja bersama sebagai satu kesatuan untuk melewati masa sulit ini dan memberikan pelayanan yang optimal kepada warga kita katanya kamis maret pemerintah kota juga mengapresiasi dukungan dan solidaritas yang ditunjukkan oleh berbagai pihak termasuk relawan dan organisasi masyarakat dalam upaya penanganan bencana ini hendrir\"\n        ],\n        \"semantic_type\": \"\",\n        \"description\": \"\"\n      }\n    },\n    {\n      \"column\": \"filtered\",\n      \"properties\": {\n        \"dtype\": \"string\",\n        \"num_unique_values\": 146,\n        \"samples\": [\n          \"yogyakarta com tingkat partisipasi pemilih pemilihan suara ulang psu daerah istimewa yogyakarta turun persen koordinator divisi sosialisasi pendidikan pemilih partisipasi masyarakat sdm kpu diy sri surani tingkat partisipasi pemilih psu diy turun kendati perubahan signifikan hasil psu digelar baca anak memaksa mencoblos tps serang gelar pemilihan ulang partisipasi psu turun persen ya gimana bagian amanat uu lakukan rangka menjaga hak masyarakat harus lakukan psu sri ditemui rekapitulasi suara tingkat kota yogyakarta rabu sri psu pemilihan suara lanjutan psl tidak kendala rekapituasi tingkat kota sebelum psu psl mendapatkan rekomendasi saran perbaikan bawaslu kota tps psu dilakukan menunda proses rekapitulasi finalisasi tingkat kemantren sri rekapitulasi hasil perhitungan suara tingkat kota berharap tahapan dapat berjalan lancar semua dapat diselesaikan tingkat kota alhamdulillah hari berjalan lancar tentu harapkan pun ada perbaikan hanya data administrasi beber lanjut dia untuk rekapitulasi tingkat provinsi menunggu hasil rekapitulasi suara seluruh kota ada diy kami menunggu kota selesai rekapitulasi rencananya bulan tanggal maret harus menunggu terbaru kabupaten kota harus semuanya selesai kata dia baca demo kantor kpu buton ricuh massa protes pembatalan psu ketua kpu kota yogyakarta noor harsya walaupun sempat dilakukan pemungutan suara ulang psu mempengaruhi proses rekapitulasi pada hari hasil penghitungan psu masuk rekapitulasi kematren wirobrajan pakualaman hasil rekapitulasi kemantren aktual berdasarkan fakta dia harsya rekapitulasi tingkat kota dilakukan selama hari membaca mencermati rekapitulasi kemantren di kota yogyakartyang dilakukan finalisasi pppk dan saksi penwascam masih ada hal kurang mencermati sama pencermatan datanya akurat tidak data dpt sesuai yang sudah ditetapka juni tidak kalau tidak sesuaikan jumlah laki laki perempuannya akan cermati sama dia rekapitulasi ini kpu kota yogyakarta melakukan pencermatan hasil reakpitulias di tingkat kemantren baik itu pemilu presiden dan wakil presiden dpr ri dpd dprd provnsi dan dprd kabupaten atau kota di kota yogyakarta\",\n          \"raya badan kepegawaian sumber daya manusia bkpsdm bawah pimpinan kaban soffian datu adam resmi mengumumkan hasil seleksi pppk guru anggaran hasil seleksi diumumkan sabtu sore desember website resmi milik bkpsdm informasi telah diumumkan hasil seleksi pppk guru instansi melalui akun facebook resminya peserta ingin mengecek nama nama lulus langsung mengakses link https www bkpsdm com disampaikan juga bkpsdm peserta dinyatakan lulus seleksi bergabung grup telegram informasi pemberkasan penetapan nomor induk https t me zgshpi ytg dikonfirmasi raya ruli nasution staf di bkpsdm banggai mengatakan formasi guru anggaran posisi ribuan formasi hanya terisi tidak terisi kosong\",\n          \"borneonews palangka pj wali kota palangka hera nugrahayu menetapkan status tanggap darurat respons banjir melanda kelurahan ribuan warga terdampak menghadapi situasi hera menginstruksikan jajaran pemerintah kota bergerak cepat bantuan pelayanan masyarakat terdampak langkah penanganan dilaksanakan distribusi bantuan sembako sangat dibutuhkan warga penyediaan layanan pengobatan serta penyiapan pengungsian bagi tinggalnya terendam akibat banjir hera menekankan koordinasi baik lembaga instansi terkait memastikan bantuan diberikan mencapai warga membutuhkan efektif efisien harus bersama satu kesatuan melewati sulit memberikan pelayanan yang optimal warga katanya kamis maret pemerintah kota mengapresiasi dukungan solidaritas yang ditunjukkan berbagai termasuk relawan dan organisasi masyarakat upaya penanganan bencana hendrir\"\n        ],\n        \"semantic_type\": \"\",\n        \"description\": \"\"\n      }\n    },\n    {\n      \"column\": \"stemmed\",\n      \"properties\": {\n        \"dtype\": \"string\",\n        \"num_unique_values\": 146,\n        \"samples\": [\n          \"yogyakarta com tingkat partisipasi pilih pilih suara ulang psu daerah istimewa yogyakarta turun persen koordinator divisi sosialisasi didik pilih partisipasi masyarakat sdm kpu diy sri surani tingkat partisipasi pilih psu diy turun kendati ubah signifikan hasil psu gelar baca anak paksa coblos tps serang gelar pilih ulang partisipasi psu turun persen ya gimana bagi amanat uu laku rangka jaga hak masyarakat harus laku psu sri temu rekapitulasi suara tingkat kota yogyakarta rabu sri psu pilih suara lanjut psl tidak kendala rekapituasi tingkat kota belum psu psl dapat rekomendasi saran baik bawaslu kota tps psu laku tunda proses rekapitulasi final tingkat kemantren sri rekapitulasi hasil hitung suara tingkat kota harap tahap dapat jalan lancar semua dapat selesai tingkat kota alhamdulillah hari jalan lancar tentu harap pun ada baik hanya data administrasi beber lanjut dia untuk rekapitulasi tingkat provinsi tunggu hasil rekapitulasi suara seluruh kota ada diy kami tunggu kota selesai rekapitulasi rencana bulan tanggal maret harus tunggu baru kabupaten kota harus semua selesai kata dia baca demo kantor kpu buton ricuh massa protes batal psu ketua kpu kota yogyakarta noor harsya walaupun sempat laku mungut suara ulang psu pengaruh proses rekapitulasi pada hari hasil hitung psu masuk rekapitulasi kematren wirobrajan pakualaman hasil rekapitulasi kemantren aktual dasar fakta dia harsya rekapitulasi tingkat kota laku lama hari baca cermat rekapitulasi kemantren di kota yogyakartyang laku final pppk dan saksi penwascam masih ada hal kurang cermat sama cermat data akurat tidak data dpt sesuai yang sudah ditetapka juni tidak kalau tidak sesuai jumlah laki laki perempuan akan cermat sama dia rekapitulasi ini kpu kota yogyakarta laku cermat hasil reakpitulias di tingkat kemantren baik itu milu presiden dan wakil presiden dpr ri dpd dprd provnsi dan dprd kabupaten atau kota di kota yogyakarta\",\n          \"raya badan pegawai sumber daya manusia bkpsdm bawah pimpin kaban soffian datu adam resmi umum hasil seleksi pppk guru anggar hasil seleksi umum sabtu sore desember website resmi milik bkpsdm informasi telah umum hasil seleksi pppk guru instansi lalu akun facebook resmi serta ingin ecek nama nama lulus langsung akses link https www bkpsdm com sampai juga bkpsdm serta nyata lulus seleksi gabung grup telegram informasi berkas tetap nomor induk https t me zgshpi ytg konfirmasi raya ruli nasution staf di bkpsdm bangga kata formasi guru anggar posisi ribu formasi hanya isi tidak isi kosong\",\n          \"borneonews palangka pj wali kota palangka hera nugrahayu tetap status tanggap darurat respons banjir landa lurah ribu warga dampak hadap situasi hera instruksi jajar perintah kota gerak cepat bantu layan masyarakat dampak langkah tangan laksana distribusi bantu sembako sangat butuh warga sedia layan obat serta siap ungsi bagi tinggal rendam akibat banjir hera tekan koordinasi baik lembaga instansi kait pasti bantu beri capai warga butuh efektif efisien harus sama satu satu lewat sulit beri layan yang optimal warga kata kamis maret perintah kota apresiasi dukung solidaritas yang tunjuk bagai masuk rawan dan organisasi masyarakat upaya tangan bencana hendrir\"\n        ],\n        \"semantic_type\": \"\",\n        \"description\": \"\"\n      }\n    },\n    {\n      \"column\": \"tokenized\",\n      \"properties\": {\n        \"dtype\": \"object\",\n        \"semantic_type\": \"\",\n        \"description\": \"\"\n      }\n    },\n    {\n      \"column\": \"filtered2\",\n      \"properties\": {\n        \"dtype\": \"object\",\n        \"semantic_type\": \"\",\n        \"description\": \"\"\n      }\n    }\n  ]\n}"
            }
          },
          "metadata": {},
          "execution_count": 65
        }
      ]
    },
    {
      "cell_type": "code",
      "source": [
        "print(df['tokenized'][55])\n",
        "print(df['filtered2'][55])"
      ],
      "metadata": {
        "colab": {
          "base_uri": "https://localhost:8080/"
        },
        "id": "NiVe2d298O_r",
        "outputId": "c7b18485-225b-46b4-c516-0c55ba2591a0"
      },
      "execution_count": null,
      "outputs": [
        {
          "output_type": "stream",
          "name": "stdout",
          "text": [
            "['tim', 'inafis', 'polres', 'banggaiselidiki', 'curi', 'desa', 'bubung', 'rugi', 'rp', 'juta', 'tim', 'indonesianautomatic', 'fingerprints', 'identification', 'system', 'inafissatreskrimpolres', 'banggaitengah', 'intensif', 'lidi', 'kait', 'curi', 'jadi', 'desa', 'bubungkecamatan', 'luwuk', 'selatan', 'jadi', 'tahu', 'kamis', 'wita', 'lapor', 'nomor', 'polisi', 'lpbxiispktres', 'banggaipolda', 'sulteng', 'kamis', 'desember', 'keterangankasat', 'reskrim', 'polres', 'akp', 'tondytim', 'inafis', 'olah', 'jadi', 'perkara', 'tkp', 'kumpul', 'bukti', 'tunjuk', 'kait', 'jadi', 'korban', 'nama', 'arifin', 'morintoh', 'lapor', 'jadi', 'pada', 'pukul', 'wita', 'temu', 'rumah', 'telah', 'rusak', 'curi', 'saksi', 'saksi', 'libat', 'jadi', 'seperti', 'indah', 'permata', 'sari', 'morintoh', 'terang', 'saat', 'rumah', 'di', 'desa', 'bubung', 'temu', 'rumah', 'beranta', 'temu', 'jendela', 'rumah', 'samping', 'rusak', 'cara', 'cungkil', 'akp', 'anjas', 'suyono', 'jaga', 'rumah', 'jelas', 'pada', 'rabu', 'pukul', 'wita', 'tinggal', 'rumah', 'dalam', 'ada', 'kunci', 'ia', 'kejut', 'indah', 'memberitahu', 'rumah', 'telah', 'sasar', 'curi', 'akibat', 'jadi', 'hilang', 'unit', 'keyboard', 'merk', 'yamaha', 'kg', 'kemiri', 'total', 'rugi', 'lebih', 'rp', 'juta', 'kasat', 'pihak', 'polisi', 'terus', 'laku', 'lidi', 'identifikasi', 'laku', 'pulih', 'barang', 'barang', 'hilang', 'masyarakat', 'informasi', 'apa', 'dapat', 'bantu', 'selesai', 'pihak', 'wajib', 'curi', 'ini', 'jadi', 'perhati', 'serius', 'tim', 'inafis', 'untuk', 'ungkap', 'ada', 'laku', 'manfaat', 'teknologi', 'canggih', 'analisis', 'forensik']\n",
            "['tim', 'inafis', 'polres', 'banggaiselidiki', 'curi', 'desa', 'bubung', 'rugi', 'rp', 'juta', 'tim', 'indonesianautomatic', 'fingerprints', 'identification', 'system', 'inafissatreskrimpolres', 'banggaitengah', 'intensif', 'lidi', 'kait', 'curi', 'desa', 'bubungkecamatan', 'selatan', 'kamis', 'wita', 'lapor', 'nomor', 'polisi', 'lpbxiispktres', 'banggaipolda', 'sulteng', 'kamis', 'desember', 'keterangankasat', 'reskrim', 'polres', 'akp', 'tondytim', 'inafis', 'olah', 'perkara', 'tkp', 'kumpul', 'bukti', 'kait', 'korban', 'nama', 'arifin', 'morintoh', 'lapor', 'wita', 'temu', 'rumah', 'rusak', 'curi', 'saksi', 'saksi', 'libat', 'indah', 'permata', 'sari', 'morintoh', 'terang', 'rumah', 'desa', 'bubung', 'temu', 'rumah', 'beranta', 'temu', 'jendela', 'rumah', 'samping', 'rusak', 'cungkil', 'akp', 'anjas', 'suyono', 'jaga', 'rumah', 'rabu', 'wita', 'tinggal', 'rumah', 'kunci', 'kejut', 'indah', 'memberitahu', 'rumah', 'sasar', 'curi', 'akibat', 'hilang', 'unit', 'keyboard', 'merk', 'yamaha', 'kg', 'kemiri', 'total', 'rugi', 'rp', 'juta', 'kasat', 'polisi', 'laku', 'lidi', 'identifikasi', 'laku', 'pulih', 'barang', 'barang', 'hilang', 'masyarakat', 'informasi', 'bantu', 'selesai', 'wajib', 'curi', 'perhati', 'serius', 'tim', 'inafis', 'laku', 'manfaat', 'teknologi', 'canggih', 'analisis', 'forensik']\n"
          ]
        }
      ]
    },
    {
      "cell_type": "markdown",
      "source": [
        "# Text Classification"
      ],
      "metadata": {
        "id": "C1kdSoKuOwTU"
      }
    },
    {
      "cell_type": "code",
      "source": [
        "# For manual Review\n",
        "#import random\n",
        "\n",
        "# Set the number of random samples you want to select\n",
        "#num_samples = 100  # Adjust this number as needed\n",
        "\n",
        "# Select random samples from the DataFrame\n",
        "#random_indices = random.sample(range(len(df)), num_samples)\n",
        "#random_data = df.iloc[random_indices][[\"title\", \"text\"]]\n",
        "\n",
        "# Save random data to a CSV file\n",
        "#random_data.to_csv(\"random_data.csv\")\n"
      ],
      "metadata": {
        "id": "eGNyh7EV1b5f"
      },
      "execution_count": null,
      "outputs": []
    },
    {
      "cell_type": "code",
      "source": [
        "df.info()"
      ],
      "metadata": {
        "id": "CdinjW6N7dUR"
      },
      "execution_count": null,
      "outputs": []
    },
    {
      "cell_type": "markdown",
      "source": [
        "## Preprocessing (Text Classification)"
      ],
      "metadata": {
        "id": "noVBc6ad72p_"
      }
    },
    {
      "cell_type": "code",
      "source": [
        "df.head()"
      ],
      "metadata": {
        "id": "OJ9PEx6Orzlf"
      },
      "execution_count": null,
      "outputs": []
    },
    {
      "cell_type": "code",
      "source": [
        "# Spliting database to train_set and test_set\n",
        "from sklearn.model_selection import train_test_split\n",
        "\n",
        "X = df['filtered2']\n",
        "y = df['topic']\n",
        "\n",
        "X_train, X_test, y_train, y_test = train_test_split(X,y,test_size=0.33, random_state=42)"
      ],
      "metadata": {
        "id": "yK4iUNuC8Ce_"
      },
      "execution_count": null,
      "outputs": []
    },
    {
      "cell_type": "code",
      "source": [
        "X_train.head()"
      ],
      "metadata": {
        "colab": {
          "base_uri": "https://localhost:8080/"
        },
        "id": "t_yzs0h8uLT5",
        "outputId": "796805ed-1b66-4c32-93f9-296449187b3f"
      },
      "execution_count": null,
      "outputs": [
        {
          "output_type": "execute_result",
          "data": {
            "text/plain": [
              "95     [lembaga, jamin, mutu, kembang, didik, lpmpp, ...\n",
              "104    [program, studi, prodi, manajemen, fakultas, e...\n",
              "66     [juni, inflasi, year, on, year, yoy, kota, cat...\n",
              "0      [warga, jaring, utara, nama, josua, bangun, in...\n",
              "141    [anggota, satlantaspolres, banggaimelaksanakan...\n",
              "Name: filtered2, dtype: object"
            ]
          },
          "metadata": {},
          "execution_count": 72
        }
      ]
    },
    {
      "cell_type": "code",
      "source": [
        "print(y_test.unique())\n",
        "\n",
        "\n",
        "#df['Topic'].nunique()"
      ],
      "metadata": {
        "id": "7THnmOhCuQQO"
      },
      "execution_count": null,
      "outputs": []
    },
    {
      "cell_type": "code",
      "source": [
        "# CountVectorizer\n",
        "from sklearn.feature_extraction.text import CountVectorizer\n",
        "count_vect = CountVectorizer()\n",
        "\n",
        "# Fit Vectorizer to the data (build a vocab, count the number of words..)\n",
        "# and transfrom the original text message to ---> Vector\n",
        "\n",
        "from itertools import chain\n",
        "\n",
        "# Assuming X_train is a list of lists or a list of tokens\n",
        "flattened_X_train = list(chain.from_iterable(X_train))\n",
        "flattened_X_test = list(chain.from_iterable(X_test))\n",
        "\n",
        "# Assuming X_train is a list of tokens\n",
        "X_train = [' '.join(tokens) for tokens in X_train]\n",
        "X_test = [' '.join(tokens) for tokens in X_test]\n",
        "\n",
        "X_train_counts = count_vect.fit_transform(X_train)\n"
      ],
      "metadata": {
        "id": "D6nBa7pi810R"
      },
      "execution_count": null,
      "outputs": []
    },
    {
      "cell_type": "code",
      "source": [
        "X_train_counts"
      ],
      "metadata": {
        "colab": {
          "base_uri": "https://localhost:8080/"
        },
        "id": "XOBDrAK69uA1",
        "outputId": "6585a105-0454-44a5-f25c-e622b4b93ce3"
      },
      "execution_count": null,
      "outputs": [
        {
          "output_type": "execute_result",
          "data": {
            "text/plain": [
              "<99x3291 sparse matrix of type '<class 'numpy.int64'>'\n",
              "\twith 8942 stored elements in Compressed Sparse Row format>"
            ]
          },
          "metadata": {},
          "execution_count": 75
        }
      ]
    },
    {
      "cell_type": "code",
      "source": [
        "X_train.shape"
      ],
      "metadata": {
        "colab": {
          "base_uri": "https://localhost:8080/"
        },
        "id": "8LM0Ff5V9w-G",
        "outputId": "8db3621c-8eac-43c0-c442-e9d2b8fb7858"
      },
      "execution_count": null,
      "outputs": [
        {
          "output_type": "execute_result",
          "data": {
            "text/plain": [
              "(99,)"
            ]
          },
          "metadata": {},
          "execution_count": 81
        }
      ]
    },
    {
      "cell_type": "code",
      "source": [
        "X_train_counts.shape"
      ],
      "metadata": {
        "colab": {
          "base_uri": "https://localhost:8080/"
        },
        "id": "D0uBSd2O98zu",
        "outputId": "e4bf04c0-0356-4901-b372-9e6ecc9d0301"
      },
      "execution_count": null,
      "outputs": [
        {
          "output_type": "execute_result",
          "data": {
            "text/plain": [
              "(99, 3291)"
            ]
          },
          "metadata": {},
          "execution_count": 76
        }
      ]
    },
    {
      "cell_type": "code",
      "source": [
        "# TFIDFVectorizer and LinearSVC with pipeline\n",
        "from sklearn.feature_extraction.text import TfidfVectorizer\n",
        "from sklearn.svm import LinearSVC\n",
        "from sklearn.pipeline import Pipeline\n",
        "\n",
        "text_clf = Pipeline([('tfidf', TfidfVectorizer()),('clf',LinearSVC())])\n",
        "text_clf.fit(X_train, y_train)\n",
        "\n"
      ],
      "metadata": {
        "colab": {
          "base_uri": "https://localhost:8080/",
          "height": 126
        },
        "id": "n3AylBPk9_rA",
        "outputId": "50bbe9f4-1691-4c48-847e-90dca4fd0a34"
      },
      "execution_count": null,
      "outputs": [
        {
          "output_type": "execute_result",
          "data": {
            "text/plain": [
              "Pipeline(steps=[('tfidf', TfidfVectorizer()), ('clf', LinearSVC())])"
            ],
            "text/html": [
              "<style>#sk-container-id-1 {color: black;background-color: white;}#sk-container-id-1 pre{padding: 0;}#sk-container-id-1 div.sk-toggleable {background-color: white;}#sk-container-id-1 label.sk-toggleable__label {cursor: pointer;display: block;width: 100%;margin-bottom: 0;padding: 0.3em;box-sizing: border-box;text-align: center;}#sk-container-id-1 label.sk-toggleable__label-arrow:before {content: \"▸\";float: left;margin-right: 0.25em;color: #696969;}#sk-container-id-1 label.sk-toggleable__label-arrow:hover:before {color: black;}#sk-container-id-1 div.sk-estimator:hover label.sk-toggleable__label-arrow:before {color: black;}#sk-container-id-1 div.sk-toggleable__content {max-height: 0;max-width: 0;overflow: hidden;text-align: left;background-color: #f0f8ff;}#sk-container-id-1 div.sk-toggleable__content pre {margin: 0.2em;color: black;border-radius: 0.25em;background-color: #f0f8ff;}#sk-container-id-1 input.sk-toggleable__control:checked~div.sk-toggleable__content {max-height: 200px;max-width: 100%;overflow: auto;}#sk-container-id-1 input.sk-toggleable__control:checked~label.sk-toggleable__label-arrow:before {content: \"▾\";}#sk-container-id-1 div.sk-estimator input.sk-toggleable__control:checked~label.sk-toggleable__label {background-color: #d4ebff;}#sk-container-id-1 div.sk-label input.sk-toggleable__control:checked~label.sk-toggleable__label {background-color: #d4ebff;}#sk-container-id-1 input.sk-hidden--visually {border: 0;clip: rect(1px 1px 1px 1px);clip: rect(1px, 1px, 1px, 1px);height: 1px;margin: -1px;overflow: hidden;padding: 0;position: absolute;width: 1px;}#sk-container-id-1 div.sk-estimator {font-family: monospace;background-color: #f0f8ff;border: 1px dotted black;border-radius: 0.25em;box-sizing: border-box;margin-bottom: 0.5em;}#sk-container-id-1 div.sk-estimator:hover {background-color: #d4ebff;}#sk-container-id-1 div.sk-parallel-item::after {content: \"\";width: 100%;border-bottom: 1px solid gray;flex-grow: 1;}#sk-container-id-1 div.sk-label:hover label.sk-toggleable__label {background-color: #d4ebff;}#sk-container-id-1 div.sk-serial::before {content: \"\";position: absolute;border-left: 1px solid gray;box-sizing: border-box;top: 0;bottom: 0;left: 50%;z-index: 0;}#sk-container-id-1 div.sk-serial {display: flex;flex-direction: column;align-items: center;background-color: white;padding-right: 0.2em;padding-left: 0.2em;position: relative;}#sk-container-id-1 div.sk-item {position: relative;z-index: 1;}#sk-container-id-1 div.sk-parallel {display: flex;align-items: stretch;justify-content: center;background-color: white;position: relative;}#sk-container-id-1 div.sk-item::before, #sk-container-id-1 div.sk-parallel-item::before {content: \"\";position: absolute;border-left: 1px solid gray;box-sizing: border-box;top: 0;bottom: 0;left: 50%;z-index: -1;}#sk-container-id-1 div.sk-parallel-item {display: flex;flex-direction: column;z-index: 1;position: relative;background-color: white;}#sk-container-id-1 div.sk-parallel-item:first-child::after {align-self: flex-end;width: 50%;}#sk-container-id-1 div.sk-parallel-item:last-child::after {align-self: flex-start;width: 50%;}#sk-container-id-1 div.sk-parallel-item:only-child::after {width: 0;}#sk-container-id-1 div.sk-dashed-wrapped {border: 1px dashed gray;margin: 0 0.4em 0.5em 0.4em;box-sizing: border-box;padding-bottom: 0.4em;background-color: white;}#sk-container-id-1 div.sk-label label {font-family: monospace;font-weight: bold;display: inline-block;line-height: 1.2em;}#sk-container-id-1 div.sk-label-container {text-align: center;}#sk-container-id-1 div.sk-container {/* jupyter's `normalize.less` sets `[hidden] { display: none; }` but bootstrap.min.css set `[hidden] { display: none !important; }` so we also need the `!important` here to be able to override the default hidden behavior on the sphinx rendered scikit-learn.org. See: https://github.com/scikit-learn/scikit-learn/issues/21755 */display: inline-block !important;position: relative;}#sk-container-id-1 div.sk-text-repr-fallback {display: none;}</style><div id=\"sk-container-id-1\" class=\"sk-top-container\"><div class=\"sk-text-repr-fallback\"><pre>Pipeline(steps=[(&#x27;tfidf&#x27;, TfidfVectorizer()), (&#x27;clf&#x27;, LinearSVC())])</pre><b>In a Jupyter environment, please rerun this cell to show the HTML representation or trust the notebook. <br />On GitHub, the HTML representation is unable to render, please try loading this page with nbviewer.org.</b></div><div class=\"sk-container\" hidden><div class=\"sk-item sk-dashed-wrapped\"><div class=\"sk-label-container\"><div class=\"sk-label sk-toggleable\"><input class=\"sk-toggleable__control sk-hidden--visually\" id=\"sk-estimator-id-1\" type=\"checkbox\" ><label for=\"sk-estimator-id-1\" class=\"sk-toggleable__label sk-toggleable__label-arrow\">Pipeline</label><div class=\"sk-toggleable__content\"><pre>Pipeline(steps=[(&#x27;tfidf&#x27;, TfidfVectorizer()), (&#x27;clf&#x27;, LinearSVC())])</pre></div></div></div><div class=\"sk-serial\"><div class=\"sk-item\"><div class=\"sk-estimator sk-toggleable\"><input class=\"sk-toggleable__control sk-hidden--visually\" id=\"sk-estimator-id-2\" type=\"checkbox\" ><label for=\"sk-estimator-id-2\" class=\"sk-toggleable__label sk-toggleable__label-arrow\">TfidfVectorizer</label><div class=\"sk-toggleable__content\"><pre>TfidfVectorizer()</pre></div></div></div><div class=\"sk-item\"><div class=\"sk-estimator sk-toggleable\"><input class=\"sk-toggleable__control sk-hidden--visually\" id=\"sk-estimator-id-3\" type=\"checkbox\" ><label for=\"sk-estimator-id-3\" class=\"sk-toggleable__label sk-toggleable__label-arrow\">LinearSVC</label><div class=\"sk-toggleable__content\"><pre>LinearSVC()</pre></div></div></div></div></div></div></div>"
            ]
          },
          "metadata": {},
          "execution_count": 77
        }
      ]
    },
    {
      "cell_type": "code",
      "source": [
        "predictions = text_clf.predict(X_test)"
      ],
      "metadata": {
        "id": "_0uXjSqXAbPW"
      },
      "execution_count": null,
      "outputs": []
    },
    {
      "cell_type": "code",
      "source": [
        "# Checking performance using confusion matrix\n",
        "from sklearn.metrics import confusion_matrix, classification_report\n",
        "from sklearn import metrics\n",
        "print(confusion_matrix(y_test, predictions))\n",
        "print(classification_report(y_test, predictions))\n",
        "print(f\"Accuracy {metrics.accuracy_score(y_test, predictions)}\")"
      ],
      "metadata": {
        "colab": {
          "base_uri": "https://localhost:8080/"
        },
        "id": "YzxATtYOApNg",
        "outputId": "338f50c7-de0e-4209-ae59-6628d5003a5a"
      },
      "execution_count": null,
      "outputs": [
        {
          "output_type": "stream",
          "name": "stdout",
          "text": [
            "[[ 4  0  0  0  0  0  0  0]\n",
            " [ 0  3  0  0  0  0  0  0]\n",
            " [ 0  0 16  0  1  1  0  0]\n",
            " [ 1  0  0  4  0  0  0  0]\n",
            " [ 3  0  2  0  5  1  0  0]\n",
            " [ 0  0  0  0  0  4  0  0]\n",
            " [ 0  0  2  0  0  0  0  0]\n",
            " [ 0  2  1  0  0  0  0  0]]\n",
            "                                          precision    recall  f1-score   support\n",
            "\n",
            "                           Ekonomi Lokal       0.50      1.00      0.67         4\n",
            "Infrastruktur, Pembangunan dan Perumahan       0.60      1.00      0.75         3\n",
            "             Keamanan dan Layanan Publik       0.76      0.89      0.82        18\n",
            "                        Kesehatan Publik       1.00      0.80      0.89         5\n",
            "        Lingkungan dan Partisipasi Warga       0.83      0.45      0.59        11\n",
            "                              Pendidikan       0.67      1.00      0.80         4\n",
            "                                 Politik       0.00      0.00      0.00         2\n",
            "                            Transportasi       0.00      0.00      0.00         3\n",
            "\n",
            "                                accuracy                           0.72        50\n",
            "                               macro avg       0.55      0.64      0.56        50\n",
            "                            weighted avg       0.69      0.72      0.68        50\n",
            "\n",
            "Accuracy 0.72\n"
          ]
        },
        {
          "output_type": "stream",
          "name": "stderr",
          "text": [
            "/usr/local/lib/python3.10/dist-packages/sklearn/metrics/_classification.py:1344: UndefinedMetricWarning: Precision and F-score are ill-defined and being set to 0.0 in labels with no predicted samples. Use `zero_division` parameter to control this behavior.\n",
            "  _warn_prf(average, modifier, msg_start, len(result))\n",
            "/usr/local/lib/python3.10/dist-packages/sklearn/metrics/_classification.py:1344: UndefinedMetricWarning: Precision and F-score are ill-defined and being set to 0.0 in labels with no predicted samples. Use `zero_division` parameter to control this behavior.\n",
            "  _warn_prf(average, modifier, msg_start, len(result))\n",
            "/usr/local/lib/python3.10/dist-packages/sklearn/metrics/_classification.py:1344: UndefinedMetricWarning: Precision and F-score are ill-defined and being set to 0.0 in labels with no predicted samples. Use `zero_division` parameter to control this behavior.\n",
            "  _warn_prf(average, modifier, msg_start, len(result))\n"
          ]
        }
      ]
    },
    {
      "cell_type": "markdown",
      "source": [
        "# Input Data"
      ],
      "metadata": {
        "id": "Y7RB23lXm393"
      }
    },
    {
      "cell_type": "code",
      "source": [
        "# Input\n",
        "text_url = 'https://raw.githubusercontent.com/TaillessTanuki/Berita_Banggai/main/input_text.csv'\n",
        "\n",
        "# Read CSV file with 'latin-1' encoding\n",
        "input_df = pd.read_csv(text_url, encoding='utf-8')\n",
        "\n",
        "# Convert all columns to string\n",
        "input_df = input_df.astype(str)"
      ],
      "metadata": {
        "id": "ZmVoxpgYjK49"
      },
      "execution_count": null,
      "outputs": []
    },
    {
      "cell_type": "code",
      "source": [
        "input_df.head()"
      ],
      "metadata": {
        "id": "SEWU_WUDt98k"
      },
      "execution_count": null,
      "outputs": []
    },
    {
      "cell_type": "markdown",
      "source": [
        "## Preprocessing"
      ],
      "metadata": {
        "id": "ypMTFDakovXo"
      }
    },
    {
      "cell_type": "code",
      "source": [
        "# Delete Duplicates\n",
        "input_df.duplicated(subset='title').sum()\n",
        "input_df = input_df.drop_duplicates(subset='title')\n",
        "\n",
        "# Delete Blank text (Nan) Rows\n",
        "input_df = input_df[input_df['text'] != '']\n",
        "\n",
        "# Case Folding\n",
        "def clean_lower(lwr):\n",
        "    lwr = lwr.lower() # lowercase text\n",
        "    return lwr\n",
        "\n",
        "input_df['lwr'] = input_df['text'].apply(clean_lower)\n",
        "input_df['lwr']\n",
        "\n",
        "\n",
        "# Remove Numbers\n",
        "def remove_numbers(text):\n",
        "  text = re.sub('[0-9]+', '', text)\n",
        "  return text\n",
        "\n",
        "input_df['clean_number'] = input_df['lwr'].apply(remove_numbers)\n",
        "input_df['clean_number']\n",
        "\n",
        "\n",
        "# Remove Punctuation\n",
        "clean_spcl = re.compile('[/(){}\\[\\]\\|@,;]')\n",
        "clean_symbol = re.compile('[^0-9a-z]')\n",
        "def clean_punct(text):\n",
        "    text = clean_spcl.sub('', text)\n",
        "    text = clean_symbol.sub(' ', text)\n",
        "    return text\n",
        "\n",
        "input_df['clean_punct'] = input_df['clean_number'].apply(clean_punct)\n",
        "input_df['clean_punct']\n",
        "\n",
        "\n",
        "# Delete Whitespaces\n",
        "def normalize_whitespace(text):\n",
        "    corrected = str(text)\n",
        "    corrected = re.sub(r\"//t\",r\"\\t\", corrected)\n",
        "    corrected = re.sub(r\"( )\\1+\",r\"\\1\", corrected)\n",
        "    corrected = re.sub(r\"(\\n)\\1+\",r\"\\1\", corrected)\n",
        "    corrected = re.sub(r\"(\\r)\\1+\",r\"\\1\", corrected)\n",
        "    corrected = re.sub(r\"(\\t)\\1+\",r\"\\1\", corrected)\n",
        "    return corrected.strip(\" \")\n",
        "\n",
        "input_df['clean_double_ws'] = input_df['clean_punct'].apply(normalize_whitespace)\n",
        "input_df['clean_double_ws']\n"
      ],
      "metadata": {
        "id": "VbX305x1oywh"
      },
      "execution_count": null,
      "outputs": []
    },
    {
      "cell_type": "code",
      "source": [
        "len(input_df)"
      ],
      "metadata": {
        "id": "SWMa0q52qfy4"
      },
      "execution_count": null,
      "outputs": []
    },
    {
      "cell_type": "code",
      "source": [
        "input_df.head()"
      ],
      "metadata": {
        "id": "3WGgr4UyqaNX"
      },
      "execution_count": null,
      "outputs": []
    },
    {
      "cell_type": "code",
      "source": [
        "# Adding Stopwords\n",
        "url1 = 'https://raw.githubusercontent.com/TaillessTanuki/Berita_Banggai/main/ID-stopwords_banggai_addedwords.csv'\n",
        "df_stopword1 = pd.read_csv(url1, delimiter = \";\",encoding='cp1252')\n",
        "\n",
        "url2 = 'https://raw.githubusercontent.com/TaillessTanuki/Berita_Banggai/main/ID-Stopwords(MasDevid).csv'\n",
        "df_stopword2 = pd.read_csv(url2, delimiter = \";\",encoding='cp1252')\n",
        "\n",
        "custom_stopword1 = list(df_stopword1['stopword'])\n",
        "custom_stopword2 = list(df_stopword2['Stopwords'])\n",
        "\n",
        "factory = StopWordRemoverFactory()\n",
        "stopwords = factory.get_stop_words() + custom_stopword1 + custom_stopword2\n",
        "\n",
        "\n",
        "# 1st Stopwords Removal\n",
        "def filtering(text):\n",
        "  stop = stopword.remove(text)\n",
        "  return stop\n",
        "\n",
        "input_df['filtered'] = input_df['clean_double_ws'].apply(filtering)\n",
        "input_df['filtered']\n",
        "\n",
        "\n",
        "# Stemming\n",
        "from Sastrawi.Stemmer.StemmerFactory import StemmerFactory\n",
        "stem_factory = StemmerFactory()\n",
        "stemmer = stem_factory.create_stemmer()\n",
        "\n",
        "def stem(text):\n",
        "  return stemmer.stem(text)\n",
        "\n",
        "input_df['stemmed'] = input_df['filtered'].apply(stem)\n",
        "input_df['stemmed']\n",
        "\n",
        "\n",
        "# Tokenizing\n",
        "def tokenize(text):\n",
        "  tokens = nltk.tokenize.word_tokenize(text)\n",
        "  return tokens\n",
        "\n",
        "input_df['tokenized'] = input_df['stemmed'].apply(tokenize)\n",
        "input_df['tokenized']\n",
        "\n",
        "\n",
        "# 2nd Stopwords Removal\n",
        "# Define a function to remove stopwords from a list of tokens\n",
        "def remove_stopwords(tokens):\n",
        "    return [word for word in tokens if word not in stopwords]\n",
        "\n",
        "# Apply the remove_stopwords function to each row in the 'tokenized' column\n",
        "input_df['filtered2'] = input_df['tokenized'].apply(lambda tokens: remove_stopwords(tokens))"
      ],
      "metadata": {
        "id": "06iX4I5RkRQF"
      },
      "execution_count": null,
      "outputs": []
    },
    {
      "cell_type": "code",
      "source": [
        "input_df.head()"
      ],
      "metadata": {
        "id": "OUYdUqXHs83w"
      },
      "execution_count": null,
      "outputs": []
    },
    {
      "cell_type": "code",
      "source": [
        "#input_df.drop(columns=['predictions'], inplace=True)"
      ],
      "metadata": {
        "id": "ANhUfqmMzZtH"
      },
      "execution_count": null,
      "outputs": []
    },
    {
      "cell_type": "code",
      "source": [
        "# Convert tokenized text to string representation\n",
        "#text_strings = [' '.join(doc) for doc in df['tokenized']]\n",
        "input_df['text2'] = input_df['tokenized'].apply(lambda x: ' '.join(x))\n"
      ],
      "metadata": {
        "id": "snJSk_5ULzDL"
      },
      "execution_count": null,
      "outputs": []
    },
    {
      "cell_type": "code",
      "source": [
        "input_df.head()"
      ],
      "metadata": {
        "id": "pbEpcDfOzCw4"
      },
      "execution_count": null,
      "outputs": []
    },
    {
      "cell_type": "markdown",
      "source": [
        "# Predicting Input Data"
      ],
      "metadata": {
        "id": "RTE8VdSp0jM0"
      }
    },
    {
      "cell_type": "code",
      "source": [
        "\n",
        "# Assuming 'selected_features' is a list of feature names used during model training\n",
        "X_input = input_df['text2']\n",
        "\n",
        "# 3. Predict using the model\n",
        "predictions = text_clf.predict(X_input)\n",
        "\n",
        "# 4. Add predictions to a new column in the DataFrame\n",
        "input_df['topic'] = predictions"
      ],
      "metadata": {
        "id": "VMWEUJw60mtW"
      },
      "execution_count": null,
      "outputs": []
    },
    {
      "cell_type": "code",
      "source": [
        "input_df.head()"
      ],
      "metadata": {
        "id": "zicdjt5XL6AT"
      },
      "execution_count": null,
      "outputs": []
    },
    {
      "cell_type": "markdown",
      "source": [
        "\n",
        "\n",
        "```\n",
        "# This is formatted as code\n",
        "```\n",
        "\n",
        "## Convert input_df to csv"
      ],
      "metadata": {
        "id": "2opI8g0QULEZ"
      }
    },
    {
      "cell_type": "code",
      "source": [
        "# Assuming 'df' is your existing DataFrame and 'columns_to_keep' is a list of column names you want to keep\n",
        "columns_to_keep = ['title', 'text', 'topic']  # Adjust with your desired column names\n",
        "\n",
        "# Create a new DataFrame with only the selected columns\n",
        "final_text = input_df[columns_to_keep].copy()\n",
        "\n",
        "final_text.to_csv('final_text.csv', index=False)"
      ],
      "metadata": {
        "id": "XZdWBF5DMVUg"
      },
      "execution_count": null,
      "outputs": []
    },
    {
      "cell_type": "code",
      "source": [
        "import pickle\n",
        "#pickle.dump(model, open('model_name_you_want_to_save_as.sav', 'wb'))\n",
        "pickle.dump(text_clf, open('text_classifier.sav', 'wb'))"
      ],
      "metadata": {
        "id": "oLNqsi_i_hpT"
      },
      "execution_count": 114,
      "outputs": []
    }
  ]
}